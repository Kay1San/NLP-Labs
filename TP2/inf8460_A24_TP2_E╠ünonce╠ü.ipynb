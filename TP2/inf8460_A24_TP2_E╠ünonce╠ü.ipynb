{
  "cells": [
    {
      "cell_type": "markdown",
      "metadata": {
        "id": "u-zaPQu7c1Co"
      },
      "source": [
        "##### INF8460 – Traitement automatique de la langue naturelle - Automne 2024\n",
        "\n",
        "## TP2: Plongements de mots"
      ]
    },
    {
      "cell_type": "markdown",
      "metadata": {
        "id": "aK42LiJUc1Cp"
      },
      "source": [
        "## Identification de l'équipe:\n",
        "\n",
        "### Groupe de laboratoire:\n",
        "\n",
        "### Equipe numéro :\n",
        "\n",
        "### Membres:\n",
        "\n",
        "- membre 1 (% de contribution, nature de la contribution)\n",
        "- membre 2 (% de contribution, nature de la contribution)\n",
        "- membre 3 (% de contribution, nature de la contribution)\n",
        "\n",
        "* nature de la contribution: Décrivez brièvement ce qui a été fait par chaque membre de l’équipe. Tous les membres sont censés contribuer au développement. Bien que chaque membre puisse effectuer différentes tâches, vous devez vous efforcer d’obtenir une répartition égale du travail. Soyez précis ! N'indiquez pas seulement : travail réparti équitablement"
      ]
    },
    {
      "cell_type": "markdown",
      "metadata": {
        "id": "dvoEoS2Wc1Cp"
      },
      "source": [
        "### Objectif du TP\n",
        "\n",
        "L'objectif de ce TP est d'entraîner un modèle de plongements lexicaux qui intègre des notions de synonymie et d'antonymie en utilisant des réseaux de neurones.\n",
        "\n",
        "Contrairement aux plongements vus en cours comme GloVe ou Word2Vec, qui positionnent souvent les mots à proximité équivalente de leurs synonymes et antonymes, nous chercherons à faire distinguer à nos modèles les synonymes et antonymes, en rapprochant les mots de leurs synonymes et en les éloignant de leurs antonymes.\n",
        "\n",
        "### Jeux de données\n",
        "\n",
        "**Paires de synonymes et antonymes** (entraînement) : Les fichiers `train_synonyms.txt` et `train_antonymms.txt` contiennent les paires de synonymes et d'antonymes qui serviront à l'entraînement de nos modèles.\n",
        "- train_synonyms: ~640k paires de synonymes\n",
        "- train_antonyms: ~12k paires d'antonymes\n",
        "\n",
        "**SimLex-999** (test) : Le fichier `simlex_english.txt` contient 1000 paires de mots et leur similarité entre 0 et 10. Des antonymes auront une similarité de 0 et des mots proches auront une similarité plus élevée. Par exemples :\n",
        "\n",
        "- *nice* & *cruel* -> 0\n",
        "- *violent* & *angry* -> 5.9\n",
        "- *essential* & *necessary* -> 9.8\n",
        "\n",
        "### Développement du TP\n",
        "\n",
        "Le TP suivra les étapes suivantes:\n",
        "\n",
        "- Partie 1 : Familiarisation avec GloVe, modèle de plongements de mots pré-entraîné\n",
        "- Partie 2 : Évaluation de GloVe sur SimLex-999\n",
        "- Partie 3 : Mise en place de la méthode d'entraînement\n",
        "- Partie 4 : Entraînement de zéro (baseline)\n",
        "- Partie 5 : Entraînement utilisant GloVe pré-entraîné et conclusion\n",
        "\n",
        "Le TP est noté sur 89 points."
      ]
    },
    {
      "cell_type": "markdown",
      "metadata": {
        "id": "o93WnUCSc1Cq"
      },
      "source": [
        "### Librairies autorisées\n",
        "\n",
        "+ numpy\n",
        "+ pandas\n",
        "+ torch\n",
        "+ matplotlib\n",
        "\n",
        "Si vous voulez utiliser une autre librairie, veuillez demander à votre chargé de lab.\n",
        "\n",
        "### Imports\n",
        "\n",
        "Les imports effectués dans la cellule suivante devraient être suffisants pour faire tout ce TP."
      ]
    },
    {
      "cell_type": "code",
      "execution_count": 2,
      "metadata": {
        "id": "i9S2LACCc1Cq"
      },
      "outputs": [],
      "source": [
        "from tqdm import tqdm\n",
        "import gc\n",
        "\n",
        "import numpy as np\n",
        "import pandas as pd\n",
        "import matplotlib.pyplot as plt\n",
        "\n",
        "import torch\n",
        "import torch.nn as nn\n",
        "import torch.nn.functional as F\n",
        "import torch.optim as optim\n",
        "from torch.utils.data import DataLoader"
      ]
    },
    {
      "cell_type": "markdown",
      "metadata": {
        "id": "-3sb_6fac1Cr"
      },
      "source": [
        "### 1. GloVe (10 Points)"
      ]
    },
    {
      "cell_type": "markdown",
      "metadata": {
        "id": "ifx2mLGuc1Cr"
      },
      "source": [
        "Dans ce TP, nous allons utiliser le modèle pré-entraîné GloVe qui crée des plongements lexicaux de mots."
      ]
    },
    {
      "cell_type": "markdown",
      "metadata": {
        "id": "9n4gzhEWc1Cr"
      },
      "source": [
        "#### 1.1 Chargement du modèle\n",
        "\n",
        "La cellule suivante permet charger le modèle GloVe pré-entraîné. Le chargement du modèle peut prendre quelques minutes."
      ]
    },
    {
      "cell_type": "code",
      "execution_count": 4,
      "metadata": {
        "colab": {
          "base_uri": "https://localhost:8080/"
        },
        "id": "fKS9VqNqc1Cr",
        "outputId": "8ef40a13-1d33-4993-c3f7-7a03da8a7519"
      },
      "outputs": [
        {
          "output_type": "stream",
          "name": "stdout",
          "text": [
            "--2024-10-08 22:07:19--  http://nlp.stanford.edu/data/glove.42B.300d.zip\n",
            "Resolving nlp.stanford.edu (nlp.stanford.edu)... 171.64.67.140\n",
            "Connecting to nlp.stanford.edu (nlp.stanford.edu)|171.64.67.140|:80... connected.\n",
            "HTTP request sent, awaiting response... 302 Found\n",
            "Location: https://nlp.stanford.edu/data/glove.42B.300d.zip [following]\n",
            "--2024-10-08 22:07:19--  https://nlp.stanford.edu/data/glove.42B.300d.zip\n",
            "Connecting to nlp.stanford.edu (nlp.stanford.edu)|171.64.67.140|:443... connected.\n",
            "HTTP request sent, awaiting response... 301 Moved Permanently\n",
            "Location: https://downloads.cs.stanford.edu/nlp/data/glove.42B.300d.zip [following]\n",
            "--2024-10-08 22:07:20--  https://downloads.cs.stanford.edu/nlp/data/glove.42B.300d.zip\n",
            "Resolving downloads.cs.stanford.edu (downloads.cs.stanford.edu)... 171.64.64.22\n",
            "Connecting to downloads.cs.stanford.edu (downloads.cs.stanford.edu)|171.64.64.22|:443... connected.\n",
            "HTTP request sent, awaiting response... 200 OK\n",
            "Length: 1877800501 (1.7G) [application/zip]\n",
            "Saving to: ‘/content/glove.42B.300d.zip.1’\n",
            "\n",
            "glove.42B.300d.zip. 100%[===================>]   1.75G  5.16MB/s    in 8m 8s   \n",
            "\n",
            "2024-10-08 22:15:28 (3.67 MB/s) - ‘/content/glove.42B.300d.zip.1’ saved [1877800501/1877800501]\n",
            "\n",
            "Archive:  /content/glove.42B.300d.zip\n",
            "replace /content/glove.42B.300d.txt? [y]es, [n]o, [A]ll, [N]one, [r]ename: y\n",
            "  inflating: /content/glove.42B.300d.txt  \n"
          ]
        }
      ],
      "source": [
        "# # Décommenter pour télécharger les GloVe embeddings à partir de https://nlp.stanford.edu/projects/glove/\n",
        "!wget http://nlp.stanford.edu/data/glove.42B.300d.zip -P /content\n",
        "!unzip /content/glove.42B.300d.zip -d /content"
      ]
    },
    {
      "cell_type": "code",
      "execution_count": 3,
      "metadata": {
        "id": "06jSOIeSc1Cr"
      },
      "outputs": [],
      "source": [
        "pretrained_model_path = 'glove.42B.300d.txt'\n",
        "\n",
        "data_root = 'data'\n",
        "\n",
        "train_synonyms_path = f\"{data_root}/train_synonyms.txt\"\n",
        "train_antonyms_path = f\"{data_root}/train_antonyms.txt\"\n",
        "\n",
        "eval_simlex = f'{data_root}/simlex_english.txt'"
      ]
    },
    {
      "cell_type": "code",
      "execution_count": 4,
      "metadata": {
        "id": "mKPLG_gIc1Cr"
      },
      "outputs": [],
      "source": [
        "def load_word_vectors(filepath, vocab=None):\n",
        "    \"\"\"\n",
        "    Télécharge le modèle pré-entraîné de plongements de mots en pytorch\n",
        "    \"\"\"\n",
        "    word_to_index = {}\n",
        "    embeddings = []\n",
        "    index = 0\n",
        "\n",
        "    with open(filepath, 'r', encoding='utf-8') as f:\n",
        "        for line in f:\n",
        "            split_line = line.split()\n",
        "            word = split_line[0]\n",
        "            if vocab is None or word in vocab:\n",
        "                embedding = np.array(split_line[1:], dtype=np.float32)\n",
        "                word_to_index[word] = index\n",
        "                embeddings.append(embedding)\n",
        "                index += 1\n",
        "\n",
        "    embeddings = np.stack(embeddings)\n",
        "    embeddings = torch.from_numpy(embeddings)\n",
        "    return word_to_index, embeddings"
      ]
    },
    {
      "cell_type": "code",
      "execution_count": 5,
      "metadata": {
        "id": "W8k7lkpGc1Cs"
      },
      "outputs": [],
      "source": [
        "word_to_index, embeddings = load_word_vectors(pretrained_model_path)"
      ]
    },
    {
      "cell_type": "markdown",
      "metadata": {
        "id": "Yme-dz3wc1Cs"
      },
      "source": [
        "#### 1.2 Implémentez la fonction `cosine_similarity` avec pytorch et sans utiliser `torch.nn.CosineSimilarity` (2 points)"
      ]
    },
    {
      "cell_type": "code",
      "source": [
        "from google.colab import drive\n",
        "drive.mount('/content/drive')"
      ],
      "metadata": {
        "colab": {
          "base_uri": "https://localhost:8080/",
          "height": 304
        },
        "id": "OufaEmXYtD-V",
        "outputId": "7757aca9-a98a-482a-ef8e-80b3a66bac4e"
      },
      "execution_count": 9,
      "outputs": [
        {
          "output_type": "error",
          "ename": "MessageError",
          "evalue": "Error: credential propagation was unsuccessful",
          "traceback": [
            "\u001b[0;31m---------------------------------------------------------------------------\u001b[0m",
            "\u001b[0;31mMessageError\u001b[0m                              Traceback (most recent call last)",
            "\u001b[0;32m<ipython-input-9-d5df0069828e>\u001b[0m in \u001b[0;36m<cell line: 2>\u001b[0;34m()\u001b[0m\n\u001b[1;32m      1\u001b[0m \u001b[0;32mfrom\u001b[0m \u001b[0mgoogle\u001b[0m\u001b[0;34m.\u001b[0m\u001b[0mcolab\u001b[0m \u001b[0;32mimport\u001b[0m \u001b[0mdrive\u001b[0m\u001b[0;34m\u001b[0m\u001b[0;34m\u001b[0m\u001b[0m\n\u001b[0;32m----> 2\u001b[0;31m \u001b[0mdrive\u001b[0m\u001b[0;34m.\u001b[0m\u001b[0mmount\u001b[0m\u001b[0;34m(\u001b[0m\u001b[0;34m'/content/drive'\u001b[0m\u001b[0;34m)\u001b[0m\u001b[0;34m\u001b[0m\u001b[0;34m\u001b[0m\u001b[0m\n\u001b[0m",
            "\u001b[0;32m/usr/local/lib/python3.10/dist-packages/google/colab/drive.py\u001b[0m in \u001b[0;36mmount\u001b[0;34m(mountpoint, force_remount, timeout_ms, readonly)\u001b[0m\n\u001b[1;32m     98\u001b[0m \u001b[0;32mdef\u001b[0m \u001b[0mmount\u001b[0m\u001b[0;34m(\u001b[0m\u001b[0mmountpoint\u001b[0m\u001b[0;34m,\u001b[0m \u001b[0mforce_remount\u001b[0m\u001b[0;34m=\u001b[0m\u001b[0;32mFalse\u001b[0m\u001b[0;34m,\u001b[0m \u001b[0mtimeout_ms\u001b[0m\u001b[0;34m=\u001b[0m\u001b[0;36m120000\u001b[0m\u001b[0;34m,\u001b[0m \u001b[0mreadonly\u001b[0m\u001b[0;34m=\u001b[0m\u001b[0;32mFalse\u001b[0m\u001b[0;34m)\u001b[0m\u001b[0;34m:\u001b[0m\u001b[0;34m\u001b[0m\u001b[0;34m\u001b[0m\u001b[0m\n\u001b[1;32m     99\u001b[0m   \u001b[0;34m\"\"\"Mount your Google Drive at the specified mountpoint path.\"\"\"\u001b[0m\u001b[0;34m\u001b[0m\u001b[0;34m\u001b[0m\u001b[0m\n\u001b[0;32m--> 100\u001b[0;31m   return _mount(\n\u001b[0m\u001b[1;32m    101\u001b[0m       \u001b[0mmountpoint\u001b[0m\u001b[0;34m,\u001b[0m\u001b[0;34m\u001b[0m\u001b[0;34m\u001b[0m\u001b[0m\n\u001b[1;32m    102\u001b[0m       \u001b[0mforce_remount\u001b[0m\u001b[0;34m=\u001b[0m\u001b[0mforce_remount\u001b[0m\u001b[0;34m,\u001b[0m\u001b[0;34m\u001b[0m\u001b[0;34m\u001b[0m\u001b[0m\n",
            "\u001b[0;32m/usr/local/lib/python3.10/dist-packages/google/colab/drive.py\u001b[0m in \u001b[0;36m_mount\u001b[0;34m(mountpoint, force_remount, timeout_ms, ephemeral, readonly)\u001b[0m\n\u001b[1;32m    135\u001b[0m   )\n\u001b[1;32m    136\u001b[0m   \u001b[0;32mif\u001b[0m \u001b[0mephemeral\u001b[0m\u001b[0;34m:\u001b[0m\u001b[0;34m\u001b[0m\u001b[0;34m\u001b[0m\u001b[0m\n\u001b[0;32m--> 137\u001b[0;31m     _message.blocking_request(\n\u001b[0m\u001b[1;32m    138\u001b[0m         \u001b[0;34m'request_auth'\u001b[0m\u001b[0;34m,\u001b[0m\u001b[0;34m\u001b[0m\u001b[0;34m\u001b[0m\u001b[0m\n\u001b[1;32m    139\u001b[0m         \u001b[0mrequest\u001b[0m\u001b[0;34m=\u001b[0m\u001b[0;34m{\u001b[0m\u001b[0;34m'authType'\u001b[0m\u001b[0;34m:\u001b[0m \u001b[0;34m'dfs_ephemeral'\u001b[0m\u001b[0;34m}\u001b[0m\u001b[0;34m,\u001b[0m\u001b[0;34m\u001b[0m\u001b[0;34m\u001b[0m\u001b[0m\n",
            "\u001b[0;32m/usr/local/lib/python3.10/dist-packages/google/colab/_message.py\u001b[0m in \u001b[0;36mblocking_request\u001b[0;34m(request_type, request, timeout_sec, parent)\u001b[0m\n\u001b[1;32m    174\u001b[0m       \u001b[0mrequest_type\u001b[0m\u001b[0;34m,\u001b[0m \u001b[0mrequest\u001b[0m\u001b[0;34m,\u001b[0m \u001b[0mparent\u001b[0m\u001b[0;34m=\u001b[0m\u001b[0mparent\u001b[0m\u001b[0;34m,\u001b[0m \u001b[0mexpect_reply\u001b[0m\u001b[0;34m=\u001b[0m\u001b[0;32mTrue\u001b[0m\u001b[0;34m\u001b[0m\u001b[0;34m\u001b[0m\u001b[0m\n\u001b[1;32m    175\u001b[0m   )\n\u001b[0;32m--> 176\u001b[0;31m   \u001b[0;32mreturn\u001b[0m \u001b[0mread_reply_from_input\u001b[0m\u001b[0;34m(\u001b[0m\u001b[0mrequest_id\u001b[0m\u001b[0;34m,\u001b[0m \u001b[0mtimeout_sec\u001b[0m\u001b[0;34m)\u001b[0m\u001b[0;34m\u001b[0m\u001b[0;34m\u001b[0m\u001b[0m\n\u001b[0m",
            "\u001b[0;32m/usr/local/lib/python3.10/dist-packages/google/colab/_message.py\u001b[0m in \u001b[0;36mread_reply_from_input\u001b[0;34m(message_id, timeout_sec)\u001b[0m\n\u001b[1;32m    101\u001b[0m     ):\n\u001b[1;32m    102\u001b[0m       \u001b[0;32mif\u001b[0m \u001b[0;34m'error'\u001b[0m \u001b[0;32min\u001b[0m \u001b[0mreply\u001b[0m\u001b[0;34m:\u001b[0m\u001b[0;34m\u001b[0m\u001b[0;34m\u001b[0m\u001b[0m\n\u001b[0;32m--> 103\u001b[0;31m         \u001b[0;32mraise\u001b[0m \u001b[0mMessageError\u001b[0m\u001b[0;34m(\u001b[0m\u001b[0mreply\u001b[0m\u001b[0;34m[\u001b[0m\u001b[0;34m'error'\u001b[0m\u001b[0;34m]\u001b[0m\u001b[0;34m)\u001b[0m\u001b[0;34m\u001b[0m\u001b[0;34m\u001b[0m\u001b[0m\n\u001b[0m\u001b[1;32m    104\u001b[0m       \u001b[0;32mreturn\u001b[0m \u001b[0mreply\u001b[0m\u001b[0;34m.\u001b[0m\u001b[0mget\u001b[0m\u001b[0;34m(\u001b[0m\u001b[0;34m'data'\u001b[0m\u001b[0;34m,\u001b[0m \u001b[0;32mNone\u001b[0m\u001b[0;34m)\u001b[0m\u001b[0;34m\u001b[0m\u001b[0;34m\u001b[0m\u001b[0m\n\u001b[1;32m    105\u001b[0m \u001b[0;34m\u001b[0m\u001b[0m\n",
            "\u001b[0;31mMessageError\u001b[0m: Error: credential propagation was unsuccessful"
          ]
        }
      ]
    },
    {
      "cell_type": "code",
      "source": [],
      "metadata": {
        "id": "twChlWHzlXCe"
      },
      "execution_count": null,
      "outputs": []
    },
    {
      "cell_type": "code",
      "execution_count": 6,
      "metadata": {
        "colab": {
          "base_uri": "https://localhost:8080/"
        },
        "id": "88kjqwD_c1Cs",
        "outputId": "33f0add3-e726-4fcb-96fa-71882d5eec4c"
      },
      "outputs": [
        {
          "output_type": "stream",
          "name": "stdout",
          "text": [
            "tensor([[ 0.0000,  0.4977,  0.8440],\n",
            "        [-0.6276,  0.6150,  0.7335]])\n"
          ]
        }
      ],
      "source": [
        "def cosine_similarity(a, b):\n",
        "    \"\"\"\n",
        "    Calcule la matrice de similarité cosinus entre deux matrices\n",
        "\n",
        "    Args :\n",
        "        a   : torch.Tensor, shape=(n, d)\n",
        "        b   : torch.Tensor, shape=(m, d)\n",
        "\n",
        "    Returns:\n",
        "    torch.Tensor, shape=(n, m)\n",
        "    \"\"\"\n",
        "    # TODO\n",
        "    dot_product = torch.tensordot(a, b, dims=([1], [1]))\n",
        "    A_norm = torch.norm(a, dim=1).unsqueeze(1)\n",
        "    B_norm = torch.norm(b, dim=1).unsqueeze(0)\n",
        "    cosine = dot_product/(A_norm * B_norm)\n",
        "    return cosine\n",
        "    # END TODO\n",
        "A = torch.Tensor([[0,1,0,5],\n",
        "                  [1,2,5,6]]).float()\n",
        "B = torch.Tensor([[-1,0,-5,0],\n",
        "                  [9,7,2,5],\n",
        "                  [4,7,0,9]]).float()\n",
        "cosine_results = cosine_similarity(A, B)\n",
        "print(cosine_results)\n"
      ]
    },
    {
      "cell_type": "markdown",
      "metadata": {
        "id": "7sLWrbH4c1Cs"
      },
      "source": [
        "#### 1.3 Complétez la fonction `n_closest_vect` qui retourne les n mots les plus proches d'un mot donné. (5 points)\n",
        "\n",
        "`n_closest_vect` prendra en entrée la matrice des plongements `embeddings`, le dictionnaire de correspondance entre les mots et les indices `word_to_index`, le plongement d'un mot `word` et le nombre `n` de mots attendus. La fonction devra retourner la liste des mots dont les plongements sont les plus proches du vecteur de référence et leur similarité cosinus.\n",
        "\n",
        "C'est-à-dire les n mots avec lesquels le mot a la plus grande similarité cosinus. Utilisez la fonction `cosine_similarity` que vous venez d'implémenter."
      ]
    },
    {
      "cell_type": "code",
      "execution_count": 7,
      "metadata": {
        "id": "chQMY9ljc1Cs"
      },
      "outputs": [],
      "source": [
        "def n_closest_vect(embeddings, word_to_index, word, n=5):\n",
        "    \"\"\"\n",
        "    Trouve les n mots les plus proches du vecteur donné et leur similarité\n",
        "\n",
        "    Args :\n",
        "        embeddings      : torch.Tensor, shape=(vocab_size, embedding_dim)\n",
        "        Matrice de plongement de tous les mots\n",
        "\n",
        "        word_to_index   : dict\n",
        "        Dictionnaire qui relie un mot à son index dans le vocabulaire\n",
        "\n",
        "        word            : torch.Tensor, shape=(embedding_dim,)\n",
        "        Plongement du mot dont on cherche les n mots les plus proches\n",
        "\n",
        "        n               : int, number of closest words to return\n",
        "        Nombre de mots à retourner\n",
        "\n",
        "    Returns:\n",
        "    Liste de tuple contenant les n mots les plus similaires avec leur coefficient\n",
        "    de similarité\n",
        "    \"\"\"\n",
        "    # TODO\n",
        "    word_embedding = word.unsqueeze(0)\n",
        "\n",
        "    similarities = cosine_similarity(word_embedding, embeddings)  # shape=(1, vocab_size)\n",
        "    print(similarities.shape)\n",
        "\n",
        "    similarities = similarities.squeeze(0)\n",
        "    print(similarities.shape)\n",
        "\n",
        "    top_n_indices = similarities.topk(n).indices.tolist()\n",
        "    index_to_word = {index: word for word, index in word_to_index.items()}\n",
        "    closest_words = [(index_to_word[i], similarities[i].item()) for i in top_n_indices]\n",
        "    return closest_words\n",
        "    # END TODO"
      ]
    },
    {
      "cell_type": "code",
      "execution_count": 8,
      "metadata": {
        "id": "2Zs9KrWKc1Cs",
        "colab": {
          "base_uri": "https://localhost:8080/"
        },
        "outputId": "4e5c86e5-e59a-4184-8526-dd647eebbf1a"
      },
      "outputs": [
        {
          "output_type": "stream",
          "name": "stdout",
          "text": [
            "torch.Size([1, 1917494])\n",
            "torch.Size([1917494])\n",
            "[('morning', 0.9999999403953552), ('afternoon', 0.8665473461151123), ('evening', 0.7880070805549622), ('yesterday', 0.7614548206329346), ('sunday', 0.7548925876617432)]\n"
          ]
        }
      ],
      "source": [
        "# Exemple\n",
        "\n",
        "print(n_closest_vect(embeddings, word_to_index, embeddings[word_to_index['morning']]))"
      ]
    },
    {
      "cell_type": "markdown",
      "metadata": {
        "id": "8cxqLsjjc1Cs"
      },
      "source": [
        "Sortie attendue :\n",
        "```\n",
        "[('morning', 1.0), ('afternoon', 0.8665473461151123), ('evening', 0.7880070209503174), ('yesterday', 0.7614548206329346), ('sunday', 0.7548925876617432)]\n",
        "```"
      ]
    },
    {
      "cell_type": "markdown",
      "metadata": {
        "id": "SUvKzkkQc1Cs"
      },
      "source": [
        "#### 1.4 Quelle est la similarité cosinus entre 'fast' et 'slow' ? Entre 'fast' et 'rapid' ? Commentez les résultats et expliquez leur origine. (3 points)"
      ]
    },
    {
      "cell_type": "code",
      "execution_count": 9,
      "metadata": {
        "id": "NpSJq34tc1Ct",
        "colab": {
          "base_uri": "https://localhost:8080/"
        },
        "outputId": "b006ba79-ab27-4587-fc5c-bd4cd25db9d5"
      },
      "outputs": [
        {
          "output_type": "stream",
          "name": "stdout",
          "text": [
            "tensor([[0.7114]])\n",
            "tensor([[0.6445]])\n"
          ]
        }
      ],
      "source": [
        "# TODO\n",
        "fast_embedding = embeddings[word_to_index['fast']].unsqueeze(0)\n",
        "slow_embedding = embeddings[word_to_index['slow']].unsqueeze(0)\n",
        "rapid_embedding = embeddings[word_to_index['rapid']].unsqueeze(0)\n",
        "\n",
        "similarity_fast_slow = cosine_similarity(fast_embedding, slow_embedding)\n",
        "similarity_fast_rapid = cosine_similarity(fast_embedding, rapid_embedding)\n",
        "\n",
        "print(similarity_fast_slow)\n",
        "print(similarity_fast_rapid)\n",
        "# END TODO\n",
        "# Similarity fast slow = 0.7114\n",
        "# Une valeur assez élevée pour 2 antonymes qui peut être dû à des contextes d'utilisation similaires dans l'entraînement\n",
        "# Similarity fast rapid = 0.6445\n",
        "# Indique que les plongements identifie les 2 mots comme étant similaires"
      ]
    },
    {
      "cell_type": "markdown",
      "metadata": {
        "id": "yIiEt5Pqc1Ct"
      },
      "source": [
        "### 2. Évaluation (12 Points)\n",
        "\n",
        "#### Données\n",
        "\n",
        "Les cellules qui suivent permettent de télécharger les données et de se restreindre au vocabulaire qui nous sera utile, pour éviter de charger des plongements inutiles.\n",
        "\n",
        "Comme décrit dans l'introduction, nous avons 3 fichiers de données:\n",
        "- Des paires de synonymes pour l'entraînement (`train_synonyms.txt`)\n",
        "- Des paires d'antonymes pour l'entraînement (`train_antonymms.txt`)\n",
        "- Des paires de mots avec leur similarité pour l'évaluation (`simlex_english.txt`)"
      ]
    },
    {
      "cell_type": "code",
      "execution_count": 10,
      "metadata": {
        "id": "Ar-4iRCoc1Ct"
      },
      "outputs": [],
      "source": [
        "def load_data(filepath):\n",
        "    \"\"\"\n",
        "    Télécharge les paires de synonymes et antonymes\n",
        "    \"\"\"\n",
        "    data = []\n",
        "    with open(filepath, 'r', encoding='utf-8') as f:\n",
        "        for line in f:\n",
        "            pair = line.strip().split()\n",
        "            assert pair[0].startswith('en_') and pair[0].startswith('en_')\n",
        "            data.append((pair[0][3:], pair[1][3:]))\n",
        "    return data\n",
        "\n",
        "def data_to_tensor(data, word_to_index):\n",
        "    indices = [word_to_index[word] for pair in data for word in pair if word in word_to_index]\n",
        "    return torch.tensor(indices).view(-1, 2)"
      ]
    },
    {
      "cell_type": "code",
      "execution_count": 11,
      "metadata": {
        "id": "OsmHNqMmc1Ct"
      },
      "outputs": [],
      "source": [
        "# Données d'entraînement\n",
        "train_synonyms = load_data(train_synonyms_path)\n",
        "train_antonyms = load_data(train_antonyms_path)\n",
        "\n",
        "# Données d'évaluation\n",
        "evaluation_simlex = pd.read_csv(eval_simlex, sep='\\t') # pd dataframe with columns 'word 1', 'word 2', 'score'\n",
        "\n",
        "# On se restreint au vocabulaire qu'on va utiliser pour éviter de charger des embeddings inutiles\n",
        "vocab = set([word for pair in train_synonyms + train_antonyms for word in pair])\n",
        "eval_vocab = set(evaluation_simlex['word 1']).union(set(evaluation_simlex['word 2']))\n",
        "vocab.update(eval_vocab)\n",
        "\n",
        "glove_word_to_index, glove_embeddings = load_word_vectors(pretrained_model_path, vocab)"
      ]
    },
    {
      "cell_type": "markdown",
      "metadata": {
        "id": "CL_dzeSlc1Ct"
      },
      "source": [
        "#### 2.1 Observation du jeu de données SimLex-999. (2 points)\n",
        "\n",
        "Affichez l'histogramme de fréquence des scores de similarité dans le jeu de données SimLex-999. Utilisez `bins=40`. Votre axe des x doit représenter le score de similarité et votre axe des y doit représenter la fréquence. Comment interpréter un score de 0?"
      ]
    },
    {
      "cell_type": "code",
      "execution_count": 12,
      "metadata": {
        "id": "2E5CPqnCc1Ct",
        "colab": {
          "base_uri": "https://localhost:8080/",
          "height": 565
        },
        "outputId": "f562e39f-334f-4799-e749-34ceba35c3d8"
      },
      "outputs": [
        {
          "output_type": "display_data",
          "data": {
            "text/plain": [
              "<Figure size 1000x600 with 1 Axes>"
            ],
            "image/png": "[encoded data removed]"
          },
          "metadata": {}
        }
      ],
      "source": [
        "# TODO\n",
        "plt.figure(figsize=(10, 6))\n",
        "plt.hist(evaluation_simlex['score'], bins=40, color='blue')\n",
        "plt.title('Histogramme des Scores de Similarité')\n",
        "plt.xlabel('Score de Similarité')\n",
        "plt.ylabel('Fréquence')\n",
        "plt.show()\n",
        "# END TODO"
      ]
    },
    {
      "cell_type": "markdown",
      "metadata": {
        "id": "5Iqr1Capc1Ct"
      },
      "source": [
        "#### 2.2 Corrélation de Spearman\n",
        "\n",
        "\n",
        "La corrélation de Spearman est une mesure de la relation monotone entre deux variables $x$ et $y$. Elle est comprise entre -1 et 1. Plutôt que de comparer les valeurs brutes des variables, elle compare leurs rangs. Elle est calculée comme suit :\n",
        "$$\\rho (x, y) = 1 - \\frac{6 \\sum_{i=1}^n (r_{x_i} - r_{y_i})^2}{n(n^2 - 1)}$$\n",
        "où $r_{x_i}$ est le rang de la i-ème valeur de la variable x, $r_{y_i}$ est le rang de la i-ème valeur de la variable y, $n$ est le nombre total de paires d'observations $(x, y)$.\n",
        "\n",
        "Les rangs sont attribués en ordonnant les valeurs de chaque variable du plus petit au plus grand. La plus petite valeur reçoit le rang 1, la suivante le rang 2, et ainsi de suite.\n",
        "\n",
        "##### Expliquez pourquoi on utilise la corrélation de Spearman plutôt que la corrélation entre les valeurs des variables. (3 points)\n"
      ]
    },
    {
      "cell_type": "markdown",
      "metadata": {
        "id": "fZV4bVeOc1Ct"
      },
      "source": [
        "#### 2.3 Implémentation de la corrélation de Spearman (2 points)\n",
        "\n",
        "Complétez la fonction suivante pour calculer la corrélation de Spearman entre deux listes de valeurs."
      ]
    },
    {
      "cell_type": "code",
      "execution_count": 13,
      "metadata": {
        "id": "gkrE4Q6Ec1Ct",
        "colab": {
          "base_uri": "https://localhost:8080/"
        },
        "outputId": "f3226c8f-8c99-4a2b-91a6-6d9c70b14b7c"
      },
      "outputs": [
        {
          "output_type": "execute_result",
          "data": {
            "text/plain": [
              "0.4"
            ]
          },
          "metadata": {},
          "execution_count": 13
        }
      ],
      "source": [
        "def spearman_rank_correlation(x, y):\n",
        "    \"\"\"\n",
        "    Calcule la corrélation de Spearman entre deux listes de valeurs.\n",
        "\n",
        "    Args:\n",
        "        x   : list of float\n",
        "        y   : list of float\n",
        "\n",
        "    Returns:\n",
        "    La corrélation de Spearman entre les deux listes (float).\n",
        "    \"\"\"\n",
        "    # TODO\n",
        "    n = len(x)\n",
        "    x_ranks = [sorted(x).index(value) + 1 for value in x]\n",
        "    y_ranks = [sorted(y).index(value) + 1 for value in y]\n",
        "    numerator = 6 * sum([(x_ranks[i] - y_ranks[i]) ** 2 for i in range(n)])\n",
        "    denominator = n * (n ** 2 - 1)\n",
        "    correlation = 1 - numerator / denominator\n",
        "    return correlation\n",
        "    # END TODO\n",
        "spearman_rank_correlation([1,3,4,2],[2,1,4,3])"
      ]
    },
    {
      "cell_type": "markdown",
      "metadata": {
        "id": "reRkC4EEc1Ct"
      },
      "source": [
        "#### 2.4 Évaluation du modèle GloVe (2 points)\n",
        "\n",
        "\n",
        "Retrouvez les plongements du modèle GloVe de tous les mots du jeu de données SimLex-999, puis calculez la similarité cosinus entre les paires.\n",
        "\n",
        "Calculez ensuite la corrélation de Spearman entre les scores de simlex et les similarités cosinus obtenues et affichez-la."
      ]
    },
    {
      "cell_type": "code",
      "execution_count": 14,
      "metadata": {
        "id": "bbz-rf2xc1Cu",
        "colab": {
          "base_uri": "https://localhost:8080/"
        },
        "outputId": "e03435a7-f7a3-4ab2-de0b-defcd369ae55"
      },
      "outputs": [
        {
          "output_type": "stream",
          "name": "stdout",
          "text": [
            "Corrélation de Spearman:  0.2923146713848117\n"
          ]
        }
      ],
      "source": [
        "# TODO\n",
        "similarities = []\n",
        "for id, row in evaluation_simlex.iterrows():\n",
        "  word1 = row['word 1']\n",
        "  word2 = row['word 2']\n",
        "  if word1 in glove_word_to_index and word2 in glove_word_to_index:\n",
        "    embedding1 = glove_embeddings[glove_word_to_index[word1]]\n",
        "    embedding2 = glove_embeddings[glove_word_to_index[word2]]\n",
        "    similarity = cosine_similarity(embedding1.unsqueeze(0), embedding2.unsqueeze(0))\n",
        "    similarities.append(similarity.item())\n",
        "\n",
        "evaluation_simlex['rank'] = evaluation_simlex['score'].argsort().argsort()\n",
        "spearman = spearman_rank_correlation(similarities, evaluation_simlex['rank'])\n",
        "print(\"Corrélation de Spearman: \", spearman)\n",
        "# END TODO"
      ]
    },
    {
      "cell_type": "markdown",
      "metadata": {
        "id": "7eO6f6d7c1Cu"
      },
      "source": [
        "Résultat attendu: 0.29"
      ]
    },
    {
      "cell_type": "markdown",
      "metadata": {
        "id": "EL54gurbc1Cu"
      },
      "source": [
        "#### 2.5 Interprétation du résultat (3 points)\n",
        "\n",
        "Qu'est ce que ce nombre représente et que peut-on en conclure sur la qualité des plongements GloVe (2 conclusions) ?"
      ]
    },
    {
      "cell_type": "markdown",
      "metadata": {
        "id": "lJD4BDhwc1Cu"
      },
      "source": [
        "### 3. Description de la méthode contrastive (33 Points)\n",
        "\n",
        "Nous allons maintenant implémenter une méthode contrastive de plongements de mots. Elle vise à améliorer les plongements lexicaux de mots en tenant compte des synonymes et antonymes.\n",
        "\n",
        "Notre modèle se basera simplement sur une matrice de plongements de mots, qui associe à chaque mot un vecteur de plongement.\n",
        "\n",
        "L'idée est d'entraîner ce modèle à rapprocher les plongements de synonymes et d'éloigner ceux d'antonymes.\n",
        "\n",
        "La cellule suivante définit le modèle et ses attributs."
      ]
    },
    {
      "cell_type": "code",
      "execution_count": 15,
      "metadata": {
        "id": "KCYlKzvyc1Cu"
      },
      "outputs": [],
      "source": [
        "class ContrastiveWordEmbeddingModel(nn.Module):\n",
        "    def __init__(self, embeddings, device='cpu', margin_plus=0.6, margin_minus=0., regularization=1e-9):\n",
        "        super(ContrastiveWordEmbeddingModel, self).__init__()\n",
        "\n",
        "        self.device = device\n",
        "\n",
        "        # Hyperparamètres pour les fonctions de coût\n",
        "        self.margin_plus = margin_plus\n",
        "        self.margin_minus = margin_minus\n",
        "        self.regularization = regularization\n",
        "\n",
        "        # Initialisation des plongements de mots\n",
        "        self.embeddings = nn.Embedding.from_pretrained(embeddings.detach().clone(), freeze=False).to(self.device)\n",
        "        self.original_embeddings = nn.Embedding.from_pretrained(embeddings.detach().clone(), freeze=True).to(self.device)\n"
      ]
    },
    {
      "cell_type": "markdown",
      "metadata": {
        "id": "_adVL_hQc1Cu"
      },
      "source": [
        "#### 3.1 Création des négatifs\n",
        "\n",
        "Pendant l'entraînement, au lieu de traiter tout le jeu d'entraînement d'un coup, nous allons avoir des lots (batchs) de paires de synonymes $B_S$ et d'antonymes $B_A$.\n",
        "\n",
        "Dans un lot de synonymes, on définit le négatif d'un mot comme le mot du lot le plus proche qui n'est pas dans la même paire. Intuitivement, c'est le mot que le modèle devrait confondre le plus avec le synonyme. Similairement, dans un lot d'antonymes, on définit le négatif d'un mot comme le mot du lot le plus éloigné qui n'est pas dans la même paire.\n",
        "\n",
        "On répète ce processus pour chaque mot de chaque paire de synonymes et d'antonymes.\n",
        "\n",
        "*Attention, un mot peut apparaître plusieurs fois dans un lot avec des synonymes ou antonymes différents, et il ne peut être le négatif d'aucun de ses synonymes, ou antonymes.*\n",
        "\n",
        "##### 3.1.1 Exemple pour illustrer l'implémentation\n",
        "\n",
        "Prenons un exemple avec un lot $B_S$ de synonymes de taille 3. On veut construire le lot de négatifs $T_S$\n",
        "\n",
        "$B_S$:\n",
        "- (arbre, plante)\n",
        "- (voiture, véhicule)\n",
        "- (arbre, buisson)\n",
        "\n",
        "On a 5 mots uniques dans le lot: arbre, plante, voiture, véhicule, buisson. Supposons que la matrice de similarité cosinus soit la suivante :\n",
        "\n",
        "|       | arbre | plante | voiture | véhicule | buisson |\n",
        "|-------|-------|--------|--------|----------|---------|\n",
        "| arbre | 1     | 0.8    | 0.1    | 0.2      | 0.9     |\n",
        "| plante| 0.8   | 1      | 0.3    | 0.4      | 0.7     |\n",
        "| voiture| 0.1  | 0.3    | 1      | 0.9      | 0.2     |\n",
        "| véhicule| 0.2 | 0.4    | 0.9    | 1        | 0.3     |\n",
        "| buisson| 0.9  | 0.7    | 0.2    | 0.3      | 1       |\n",
        "\n",
        "\n",
        "On commence par calculer les voisins de chaque mot du lot $B_S$. Le voisin d'un mot $m$ est défini comme tout mot qui apparait dans au moins une paire avec $m$ dans $B_S$. Un mot est aussi considéré comme son propre voisin.\n",
        "\n",
        "- voisins de arbre : arbre, plante, buisson\n",
        "- voisins de plante : plante, arbre\n",
        "- voisins de voiture : voiture, véhicule\n",
        "- voisins de véhicule : véhicule, voiture\n",
        "- voisins de buisson : buisson, arbre\n",
        "\n",
        "Après avoir masqué les voisins, la matrice est :\n",
        "\n",
        "|       | arbre | plante | voiture | véhicule | buisson |\n",
        "|-------|-------|--------|--------|----------|---------|\n",
        "| arbre | -inf  | -inf   | 0.1    | 0.2      | -inf    |\n",
        "| plante| -inf  | -inf   | 0.3    | 0.4      | 0.7     |\n",
        "| voiture| 0.1  | 0.3    | -inf   | -inf     | 0.2     |\n",
        "| véhicule| 0.2 | 0.4    | -inf   | -inf     | 0.3     |\n",
        "| buisson| -inf | 0.7    | 0.2    | 0.3      | -inf    |\n",
        "\n",
        "Pour calculer les négatifs, on prend le maximum de chaque ligne (donc le mot le plus similaire qui n'est pas un voisin) :\n",
        "\n",
        "Ici,\n",
        "- le négatif d'arbre est véhicule\n",
        "- le négatif de plante est buisson\n",
        "- le négatif de voiture est plante\n",
        "- le négatif de véhicule est plante\n",
        "- le négatif de buisson est plante\n",
        "\n",
        "En reprenant le batch $B_S$:\n",
        "- (arbre, plante)\n",
        "- (voiture, véhicule)\n",
        "- (arbre, buisson)\n",
        "\n",
        "$T_S$ sera composé de paires composées du négatif de chaque élément de $B_S$ :\n",
        "\n",
        "$B_S$ -> $T_S$\n",
        "- (arbre, plante) $\\rightarrow$ (véhicule, buisson), car le négatif d'arbre est véhicule et le négatif de plante est buisson\n",
        "- (voiture, véhicule) $\\rightarrow$ (plante, plante), car le négatif de voiture est plante et le négatif de véhicule est plante\n",
        "- (arbre, buisson) $\\rightarrow$ (véhicule, plante), car le négatif d'arbre est véhicule et le négatif de buisson est plante\n",
        "\n",
        "$T_S$ sera donc :\n",
        "- (véhicule, buisson)\n",
        "- (plante, plante)\n",
        "- (véhicule, plante)"
      ]
    },
    {
      "cell_type": "markdown",
      "metadata": {
        "id": "pFc8hhdbc1Cu"
      },
      "source": [
        "##### 3.1.2 Implémentez la fonction `prepare_neighbors` qui renvoit la liste des voisins de chaque mot dans le lot. (4 points)\n",
        "\n",
        "Les voisins d'un mot $m$ sont tous les mots du lot qui apparaissent dans au moins une paire avec $m$. Utilisez les bons indices (indice dans la matrice d'embeddings et indice dans le lot). Le résultat est une liste de liste de voisins, où `neighbors[i]` est la liste des voisins du mot `i` dans le lot."
      ]
    },
    {
      "cell_type": "code",
      "execution_count": 16,
      "metadata": {
        "id": "OjkwwBpNc1Cv"
      },
      "outputs": [],
      "source": [
        "def prepare_neighbors(index_pairs, unique_idx, index_to_idx):\n",
        "    \"\"\"\n",
        "    Prépare les voisins pour chaque mot dans les paires de mots.\n",
        "\n",
        "    Args :\n",
        "        index_pairs     : torch.Tensor de seconde dimension 2\n",
        "        Tensor contenant les indices des embeddings des mots dans le vocabulaire.\n",
        "        Des indices qui sont reliés ensemble par une ligne dans ce tenseur ont\n",
        "        une relation sémantique entre eux (synonymes ou antonymes).\n",
        "\n",
        "        unique_idx      : set\n",
        "        Ensemble de tous les indices qui sont mentionnés dans la liste `index_pairs`.\n",
        "\n",
        "        index_to_idx    : dict\n",
        "        Dictionnaire associant un indice mentionné dans `index_pairs` à son indice dans\n",
        "        la liste qui sera retournée. Par exemple, si dans ce dictionnaire, la clé 4 est\n",
        "        associée à la valeur 12, cela veut dire que les voisins du mot 4 dans le vocabulaire\n",
        "        seront retournés à l'indice 12 dans la liste de retour.\n",
        "\n",
        "    Returns:\n",
        "    Une liste où chaque élément est une liste des indices des voisins pour chaque mot (l'indice dans la liste correspond à l'indice unique).\n",
        "    \"\"\"\n",
        "    # TODO\n",
        "    neighbors = [[] for idx in range(len(unique_idx))]\n",
        "\n",
        "    for index_pair in index_pairs:\n",
        "        idx1, idx2 = index_pair[0].item(), index_pair[1].item()\n",
        "        unique_idx1 = index_to_idx[idx1]\n",
        "        unique_idx2 = index_to_idx[idx2]\n",
        "\n",
        "        #lui-même\n",
        "        neighbors[unique_idx1].append(unique_idx1)\n",
        "        neighbors[unique_idx2].append(unique_idx2)\n",
        "\n",
        "        #voisin de l'autre\n",
        "        neighbors[unique_idx1].append(unique_idx2)\n",
        "        neighbors[unique_idx2].append(unique_idx1)\n",
        "\n",
        "    return neighbors\n",
        "    # END TODO"
      ]
    },
    {
      "cell_type": "code",
      "execution_count": 17,
      "metadata": {
        "id": "W--8U9Bac1Cv",
        "colab": {
          "base_uri": "https://localhost:8080/"
        },
        "outputId": "cdcce405-a857-422a-8aeb-4fe4be885da6"
      },
      "outputs": [
        {
          "output_type": "stream",
          "name": "stdout",
          "text": [
            "[[0, 2], [1, 4], [2, 0, 2, 3], [3, 2], [4, 1]]\n"
          ]
        }
      ],
      "source": [
        "# Exemple\n",
        "\n",
        "index_pairs = torch.tensor([[0, 12], [12, 31], [53, 4]])\n",
        "unique_idx = {0, 4, 12, 31, 53}\n",
        "index_to_idx = {0: 0, 4: 1, 12: 2, 31: 3, 53: 4}\n",
        "print(prepare_neighbors(index_pairs, unique_idx, index_to_idx))\n"
      ]
    },
    {
      "cell_type": "markdown",
      "metadata": {
        "id": "dzDDxl7Ec1Cv"
      },
      "source": [
        "Réponse attendue\n",
        "\n",
        "`[[0, 2], [1, 4], [2, 0, 2, 3], [3, 2], [4, 1]]`"
      ]
    },
    {
      "cell_type": "markdown",
      "metadata": {
        "id": "Sgkm2-XNc1Cz"
      },
      "source": [
        "##### 3.1.3 Implémentez la fonction `select_negatives` qui renvoit un dictionnaire qui associe à chaque élément son négatif. (4 points)\n",
        "\n",
        "Pour chaque élément du lot, on cherche le voisin le plus proche qui n'est pas le voisin de l'autre élément de la paire.\n",
        "\n",
        "Utilisez un masque pour cacher, dans la matrice de similarité, les voisins.\n",
        "\n",
        "La fonction utilise un paramètre `synonym` qui indique si on travaille sur un lot de synonymes ou d'antonymes. En cas de synonymes, on cherche le voisin le plus proche qui n'est pas un voisin de l'autre élément de la paire. En cas d'antonymes, on cherche le voisin le plus éloigné qui n'est pas un voisin de l'autre élément de la paire."
      ]
    },
    {
      "cell_type": "code",
      "execution_count": 18,
      "metadata": {
        "id": "F7PbX2EFc1Cz"
      },
      "outputs": [],
      "source": [
        "def select_negatives(indices, similarity_matrix, neighbors, synonym=True):\n",
        "    \"\"\"\n",
        "    Sélectionne les exemples négatifs à partir de la matrice de similarité et des voisins.\n",
        "\n",
        "    Args :\n",
        "        indices             : torch.Tensor (vocab_size)\n",
        "        Indices des mots présents dans le vocabulaires\n",
        "\n",
        "        similarity_matrix   : torch.Tensor (vocab_size, vocab_size)\n",
        "        Matrice de similarité entre tous les mots présents dans le vocabulaire.\n",
        "\n",
        "        neighbors           : list of lists\n",
        "        Liste des voisins de chaque mot. Par exemple, le premier élément de la liste\n",
        "        contiendra tous les voisins du mot 0 dans le vocabulaire.\n",
        "\n",
        "        synonym             : bool, optional (default=True)\n",
        "        Indique si l'on cherche des négatifs pour les synonymes (True) ou pour les antonymes (False).\n",
        "\n",
        "    Returns:\n",
        "    Dictionnaire mappant les mots avec leurs indices de négatifs {mot_index: négatif_index}.\n",
        "    \"\"\"\n",
        "    # TODO HINT: Utilisez un mask pour ignorer les voisins\n",
        "    negatives = {}\n",
        "\n",
        "    #For each word\n",
        "    for i, idx in enumerate(indices):\n",
        "        # Mask\n",
        "        mask = torch.zeros(similarity_matrix.size(1), dtype=torch.bool)\n",
        "        mask[neighbors[i]] = True  # Mask neighbors\n",
        "\n",
        "\n",
        "        masked_similarities = similarity_matrix[idx].clone()\n",
        "        masked_similarities[mask] = float('-inf') if synonym else float('inf')\n",
        "\n",
        "        if synonym:\n",
        "            negative_idx = torch.argmax(masked_similarities).item()  # Max\n",
        "        else:\n",
        "            negative_idx = torch.argmin(masked_similarities).item()  # Min\n",
        "        negatives[idx.item()] = negative_idx\n",
        "\n",
        "    return negatives\n",
        "    # END TODO"
      ]
    },
    {
      "cell_type": "code",
      "execution_count": 23,
      "metadata": {
        "id": "iIM-2mbxc1Cz",
        "colab": {
          "base_uri": "https://localhost:8080/"
        },
        "outputId": "eba6ca02-01ef-4965-b743-f50b1b8552b5"
      },
      "outputs": [
        {
          "output_type": "stream",
          "name": "stdout",
          "text": [
            "{0: 1, 1: 3, 2: 4, 3: 1, 4: 2}\n"
          ]
        }
      ],
      "source": [
        "# Exemple\n",
        "\n",
        "indices = torch.tensor([0, 1, 2, 3, 4])\n",
        "neighbors = [[0, 2], [1, 4], [2, 0, 2, 3], [3, 2], [4, 1]]\n",
        "\n",
        "similarity_matrix = torch.tensor([\n",
        "    [ 1.0000, -0.4263, -0.7167, -0.9838, -0.5823],\n",
        "    [-0.4263,  1.0000, -0.1600,  0.5088, -0.3708],\n",
        "    [-0.7167, -0.1600,  1.0000,  0.7247,  0.5631],\n",
        "    [-0.9838,  0.5088,  0.7247,  1.0000,  0.4394],\n",
        "    [-0.5823, -0.3708,  0.5631,  0.4394,  1.0000]\n",
        "    ])\n",
        "\n",
        "print(select_negatives(indices, similarity_matrix, neighbors, synonym=True))"
      ]
    },
    {
      "cell_type": "markdown",
      "metadata": {
        "id": "1wREehMjc1C0"
      },
      "source": [
        "Réponse attendue\n",
        "\n",
        "`{0: 1, 1: 3, 2: 4, 3: 1, 4: 2}`"
      ]
    },
    {
      "cell_type": "markdown",
      "metadata": {
        "id": "ibZ7EzlEc1C0"
      },
      "source": [
        "##### 3.1.4 Implémentez la fonction `run_negative_extraction` qui prépare les paires de synonymes et d'antonymes et appelle `prepare_neighbors` et `select_negatives`. (4 points)\n",
        "\n",
        "Préparez les indices uniques des mots du batch, calculez la similarité des mots, et appelez `prepare_neighbors` et `select_negatives`."
      ]
    },
    {
      "cell_type": "code",
      "execution_count": 19,
      "metadata": {
        "id": "zLUxBKulc1C0"
      },
      "outputs": [],
      "source": [
        "def run_negative_extraction(model, index_pairs, synonym=True):\n",
        "    \"\"\"\n",
        "    Extrait les exemples négatifs pour un ensemble de paires de mots.\n",
        "\n",
        "    Args :\n",
        "        index_pairs : torch.Tensor de seconde dimension 2\n",
        "        Contient les indices des mots.\n",
        "\n",
        "        synonym     : bool, optional (default=True)\n",
        "        Indique si l'on cherche des négatifs pour les synonymes (True) ou pour les antonymes (False).\n",
        "\n",
        "    Returns:\n",
        "    Dictionnaire mappant les indices des mots avec leurs indices de négatifs {mot_index: négatif_index}.\n",
        "    \"\"\"\n",
        "    # TODO\n",
        "    unique_idx = torch.unique(index_pairs)\n",
        "    similarity_matrix = cosine_similarity(model.original_embeddings.weight, model.original_embeddings.weight)\n",
        "\n",
        "    index_to_idx = {unique_idx[i].item(): i for i in range(len(unique_idx))}\n",
        "    neighbors = prepare_neighbors(index_pairs, unique_idx, index_to_idx)\n",
        "    negatives = select_negatives(unique_idx, similarity_matrix, neighbors, synonym=synonym)\n",
        "\n",
        "    return negatives\n",
        "    # END TODO"
      ]
    },
    {
      "cell_type": "markdown",
      "metadata": {
        "id": "P-PvpDaTc1C0"
      },
      "source": [
        "#### 3.2 Fonctions de coût\n",
        "\n",
        "Pour chaque paire de synonymes $(x^l, x^r)$ *pour x left et x right* dans le lot $B_S$, nous trouvons un négatif $(t^l, t^r)$ ce qui constitue le lot $T_S$:\n",
        "- $ t^l $ est le mot dans le lot le plus proche de $ x^l $ mais qui n'est pas $ x^r $.\n",
        "- $ t^r $ est le mot dans le lot le plus proche de $ x^r $ mais qui n'est pas $ x^l $.\n",
        "\n",
        "De même, pour chaque paire d'antonymes $(x^l, x^r)$ dans le lot $B_A$, nous trouvons un négatif $(t^l, t^r)$ ce qui constitue le lot $T_A$:\n",
        "- $ t^l $ est le mot dans le lot le plus éloigné de $ x^l $ mais qui n'est pas $ x^r $.\n",
        "- $ t^r $ est le mot dans le lot le plus éloigné de $ x^r $ mais qui n'est pas $ x^l $.\n",
        "\n",
        "\n",
        "Comparer un mot à son synonyme (ou antonyme) et à son négatif permet d'entraîner le modèle sur des exemples difficiles qui forcent le modèle à apprendre des représentations plus robustes.\n",
        "\n",
        "Il y aura trois fonctions de coût :\n",
        "1. **Attraction** : Attire les synonymes plus proches les uns des autres.\n",
        "2. **Répulsion** : Repousse les antonymes plus loin les uns des autres.\n",
        "3. **Régularisation** : Évite que les plongements ne s'éloignent trop de ceux du modèle pré-entraîné.\n",
        "\n",
        "Les fonctions de coût sont définies comme suit, en sommant sur `i`, les paires de synonymes et d'antonymes dans les lots $B_S$ et $B_A$ :\n",
        "\n",
        "1. **Attraction** :\n",
        "$$ S(B_S, T_S) = \\sum_{i=1}^{|B_S|} \\left[ \\max \\left(0, \\delta_{syn} + x_i^l t_i^l - x_i^l x_i^r \\right) + \\max \\left( 0, \\delta_{syn} + x_i^r t_i^r - x_i^l x_i^r \\right) \\right] $$\n",
        "\n",
        "1. **Répulsion** :\n",
        "$$ A(B_A, T_A) = \\sum_{i=1}^{|B_A|} \\left[ \\max \\left(0, \\delta_{ant} + x_i^l x_i^r - x_i^l t_i^l \\right) + \\max \\left( 0, \\delta_{ant} + x_i^r x_i^l - x_i^r t_i^r \\right) \\right] $$\n",
        "\n",
        "1. **Régularisation** :\n",
        "$$ R(B_S, B_A) = \\sum_{x_i \\in V(B_S \\cup B_A)} \\lambda_{reg} \\| \\hat{x}_i - x_i \\|^2 $$\n",
        "\n",
        "La fonction de coût totale est la somme de ces trois termes :\n",
        "$$ C(B_S, T_S, B_A, T_A) = S(B_S, T_S) + A(B_A, T_A) + R(B_S, B_A) $$\n",
        "\n",
        "$\\delta_{syn}$, $\\delta_{ant}$ et $\\lambda_{reg}$ sont des hyperparamètres."
      ]
    },
    {
      "cell_type": "markdown",
      "metadata": {
        "id": "TrRsVRsDc1C0"
      },
      "source": [
        "Avec l'exemple précédent, prenons\n",
        "> + $x_i^l$ : voiture\n",
        "> + $x_i^r$: véhicule\n",
        "> + $t_i^l$: plante\n",
        ">\n",
        "> On veut que voiture et véhicule aient un plus grand produit scalaire que voiture et plante, donc que $\\delta_{syn} + x_i^l t_i^l - x_i^l x_i^r <0$, et donc que $S$ soit minimisé. De même pour la deuxième partie de l'équation, symmétrique, avec le 2nd élément du couple."
      ]
    },
    {
      "cell_type": "markdown",
      "metadata": {
        "id": "7QAwArZFc1C0"
      },
      "source": [
        "##### 3.2.1 Implémentez la fonction `synonym_cost` qui calcule la fonction de coût d'attraction (sur les paires de synonymes). (5 points)\n",
        "\n",
        "$$ S(B_S, T_S) = \\sum_{i=1}^{|B_S|} \\left[ \\max \\left(0, \\delta_{syn} + x_i^l t_i^l - x_i^l x_i^r \\right) + \\max \\left( 0, \\delta_{syn} + x_i^r t_i^r - x_i^l x_i^r \\right) \\right] $$\n",
        "\n",
        "Le membre de gauche pénalise si le mot de gauche est plus éloigné de son négatif que de son synonyme. De même, le membre de droite pénalise si le mot de gauche est plus éloigné de son négatif que de son synonyme.\n"
      ]
    },
    {
      "cell_type": "code",
      "execution_count": 22,
      "metadata": {
        "id": "bddUFLOac1C0"
      },
      "outputs": [],
      "source": [
        "def synonym_cost(model, synonym_pairs, synonym_negatives):\n",
        "    \"\"\"\n",
        "    Calcule le coût d'attraction pour les paires de synonymes.\n",
        "\n",
        "    synonym_pairs: liste de tuples d'indices de paires de synonymes\n",
        "    synonym_negatives: dictionnaire de mots avec leurs négatifs {mot_index: négatif_index}\n",
        "\n",
        "    Returns:\n",
        "    torch.Tensor, coût total pour les paires de synonymes\n",
        "    \"\"\"\n",
        "    # HINT: Utiliser torch.relu pour max(0, x)\n",
        "    # TODO\n",
        "    # END TODO\n",
        "    delta_syn = model.margin_plus\n",
        "\n",
        "    left_indices = torch.tensor([left_idx for left_idx, _ in synonym_pairs], device=model.device)\n",
        "    right_indices = torch.tensor([right_idx for _, right_idx in synonym_pairs], device=model.device)\n",
        "\n",
        "    left_embeddings = model.embeddings(left_indices)\n",
        "    right_embeddings = model.embeddings(right_indices)\n",
        "\n",
        "    left_neg_indices = torch.tensor([synonym_negatives[left_idx] for left_idx in left_indices], device=model.device)\n",
        "    right_neg_indices = torch.tensor([synonym_negatives[right_idx] for right_idx in right_indices], device=model.device)\n",
        "\n",
        "    left_negative_embeddings = model.embeddings(left_neg_indices)\n",
        "    right_negative_embeddings = model.embeddings(right_neg_indices)\n",
        "\n",
        "    xli_xri = cosine_similarity(left_embeddings, right_embeddings)\n",
        "    xli_tli = cosine_similarity(left_embeddings, left_negative_embeddings)\n",
        "    xri_tri = cosine_similarity(right_embeddings, right_negative_embeddings)\n",
        "\n",
        "    cost_left = torch.relu(delta_syn + xli_tli - xli_xri)\n",
        "    cost_right = torch.relu(delta_syn + xri_tri - xli_xri)\n",
        "\n",
        "    total_cost = cost_left + cost_right\n",
        "\n",
        "    return total_cost.sum()"
      ]
    },
    {
      "cell_type": "markdown",
      "metadata": {
        "id": "fMcNI-57c1C0"
      },
      "source": [
        "##### 3.2.2 Implémentez la fonction `antonym_cost` qui calcule la fonction de coût de répulsion (sur les paires d'antonymes). (5 points)\n",
        "\n",
        "$$ A(B_A, T_A) = \\sum_{i=1}^{|B_A|} \\left[ \\max \\left(0, \\delta_{ant} + x_i^l x_i^r - x_i^l t_i^l \\right) + \\max \\left( 0, \\delta_{ant} + x_i^r x_i^l - x_i^r t_i^r \\right) \\right] $$\n",
        "\n",
        "Le membre de gauche pénalise si le mot de gauche est plus éloigné de son antonyme que de son négatif. De même, le membre de droite pénalise si le mot de gauche est plus éloigné de son antonyme que de son négatif."
      ]
    },
    {
      "cell_type": "code",
      "execution_count": 23,
      "metadata": {
        "id": "H54cb3F5c1C0"
      },
      "outputs": [],
      "source": [
        "def antonym_cost(model, antonym_pairs, antonym_negatives):\n",
        "    \"\"\"\n",
        "    Calcule le coût de répulsion pour les paires d'antonymes.\n",
        "\n",
        "    antonym_pairs: liste de tuples d'indices de paires d'antonymes\n",
        "    antonym_negatives: dictionnaire de mots avec leurs négatifs {mot_index: négatif_index}\n",
        "\n",
        "    Returns:\n",
        "    torch.Tensor, coût total pour les paires d'antonymes\n",
        "    \"\"\"\n",
        "    # HINT: Utiliser torch.relu pour max(0, x)\n",
        "    # TODO\n",
        "    # END TODO\n",
        "    delta_ant = model.margin_minus\n",
        "\n",
        "    left_indices = torch.tensor([left_idx for left_idx, _ in antonym_pairs], device=model.device)\n",
        "    right_indices = torch.tensor([right_idx for _, right_idx in antonym_pairs], device=model.device)\n",
        "    left_embeddings = model.embeddings(left_indices)\n",
        "    right_embeddings = model.embeddings(right_indices)\n",
        "\n",
        "    left_neg_indices = torch.tensor([antonym_negatives[left_idx] for left_idx in left_indices], device=model.device)\n",
        "    right_neg_indices = torch.tensor([antonym_negatives[right_idx] for right_idx in right_indices], device=model.device)\n",
        "\n",
        "    left_negative_embeddings = model.embeddings(left_neg_indices)\n",
        "    right_negative_embeddings = model.embeddings(right_neg_indices)\n",
        "\n",
        "    xli_xri = cosine_similarity(left_embeddings, right_embeddings)\n",
        "    xli_tli = cosine_similarity(left_embeddings, left_negative_embeddings)\n",
        "    xri_tri = cosine_similarity(right_embeddings, right_negative_embeddings)\n",
        "    cost_left = torch.relu(delta_ant + xli_xri - xli_tli)\n",
        "    cost_right = torch.relu(delta_ant + xli_xri - xri_tri)\n",
        "\n",
        "    total_cost = cost_left + cost_right\n",
        "\n",
        "    return total_cost.sum()\n"
      ]
    },
    {
      "cell_type": "markdown",
      "metadata": {
        "id": "X-1zu-QKc1C1"
      },
      "source": [
        "##### 3.2.3 Implémentez la fonction `regularization_cost` qui calcule la fonction de coût de régularisation. (4 points)\n",
        "\n",
        "$$ R(B_S, B_A) = \\sum_{x_i \\in V(B_S \\cup B_A)} \\lambda_{reg} \\| \\hat{x}_i - x_i \\|^2 $$"
      ]
    },
    {
      "cell_type": "code",
      "execution_count": 24,
      "metadata": {
        "id": "8T6Tc3W0c1C1"
      },
      "outputs": [],
      "source": [
        "def regularization_cost(model, synonym_pairs, antonym_pairs):\n",
        "    \"\"\"\n",
        "    Calcule le coût de régularisation pour les paires de synonymes et antonymes.\n",
        "\n",
        "    synonym_pairs: liste de tuples d'indices de paires de synonymes\n",
        "    antonym_pairs: liste de tuples d'indices de paires d'antonymes\n",
        "\n",
        "    Returns:\n",
        "    torch.Tensor, coût total de régularisation\n",
        "    \"\"\"\n",
        "    # TODO\n",
        "    # END TODO\n",
        "    all_pairs = set([idx for pair in synonym_pairs + antonym_pairs for idx in pair])\n",
        "    all_indices = torch.tensor(list(all_pairs), device=model.device)\n",
        "\n",
        "    original_embeddings = model.original_embeddings(all_indices)\n",
        "    current_embeddings = model.embeddings(all_indices)\n",
        "    diff = current_embeddings - original_embeddings\n",
        "\n",
        "    regularization_term = torch.norm(diff, p=2, dim=1) ** 2\n",
        "    lambda_reg = model.regularization\n",
        "    total_cost = lambda_reg * regularization_term.sum()\n",
        "\n",
        "    return total_cost"
      ]
    },
    {
      "cell_type": "markdown",
      "metadata": {
        "id": "iRBvVdhrc1C1"
      },
      "source": [
        "#### 3.3 Mise en place\n",
        "##### 3.3.1 Implémentez la fonction `forward` qui utilise les fonctions définies plus tôt pour calculer le coût total. (4 points)\n",
        "\n",
        "La fonction prend en entrée un lot de synonymes et un lot d'antonymes, c'est-à-dire des paires de synonymes et des paires d'antonymes.\n",
        "\n",
        "Vous devez trouver les négatifs de tous les mots des lots au moyen de votre fonction  run_negative_extraction puis calculer la fonction de coût totale."
      ]
    },
    {
      "cell_type": "code",
      "execution_count": 25,
      "metadata": {
        "id": "iPmR3E9Dc1C1"
      },
      "outputs": [],
      "source": [
        "def forward(model, synonym_pairs, antonym_pairs):\n",
        "    \"\"\"\n",
        "    Fonction forward pour calculer le coût total.\n",
        "\n",
        "    Args :\n",
        "        synonym_pairs   :\n",
        "        Liste de tuples d'indices de paires de synonymes\n",
        "\n",
        "        antonym_pairs   :\n",
        "        Liste de tuples d'indices de paires d'antonymes\n",
        "\n",
        "    Returns:\n",
        "    Tenseur contenant le coût total (attraction, répulsion et régularisation)\n",
        "    \"\"\"\n",
        "    # TODO\n",
        "    synonym_negatives = run_negative_extraction(model, synonym_pairs, synonym=True)\n",
        "    antonym_negatives = run_negative_extraction(model, antonym_pairs, synonym=False)\n",
        "\n",
        "    attraction_cost = synonym_cost(model, synonym_pairs, synonym_negatives)\n",
        "    repulsion_cost = antonym_cost(model, antonym_pairs, antonym_negatives)\n",
        "    reg_cost = regularization_cost(model, synonym_pairs, antonym_pairs)\n",
        "\n",
        "    total_cost = attraction_cost + repulsion_cost + reg_cost\n",
        "    return total_cost\n",
        "    # END TODO"
      ]
    },
    {
      "cell_type": "markdown",
      "metadata": {
        "id": "UH-qxqeTc1C1"
      },
      "source": [
        "#### 3.3.2 Évaluation (3 points)\n",
        "\n",
        "Utilisez la fonction `spearman_rank_correlation` pour compléter la fonction d'évaluation `evaluate` qui exécute le modèle sur le jeu d'évaluation et calcule la corrélation de Spearman entre les scores prédits et réels.\n",
        "\n",
        "Utilisez `torch.no_grad()` pour éviter de stocker les gradients."
      ]
    },
    {
      "cell_type": "code",
      "execution_count": 26,
      "metadata": {
        "id": "ruT69oAvc1C1"
      },
      "outputs": [],
      "source": [
        "def evaluate(model, eval_data, word_to_index):\n",
        "    \"\"\"\n",
        "    Calclue les prédictions du modèle sur le jeu d'évaluation puis la corrélation de Spearman entre les scores prédits et réels.\n",
        "\n",
        "    model: modèle de plongements de mots\n",
        "    eval_data: pd.DataFrame\n",
        "    word_to_index: dict\n",
        "\n",
        "    Returns:\n",
        "    float, la corrélation de Spearman entre les scores prédits par le modèle et réels.\n",
        "    \"\"\"\n",
        "    model.eval()\n",
        "    device = model.device\n",
        "    word_pairs = list(zip(eval_data['word 1'], eval_data['word 2']))\n",
        "    eval_indices = [(word_to_index[w1], word_to_index[w2]) for w1, w2 in word_pairs if w1 in word_to_index and w2 in word_to_index]\n",
        "    # TODO\n",
        "    embeddings = model.embeddings.weight\n",
        "    predicted_scores = []\n",
        "    real_scores = eval_data['rank']\n",
        "\n",
        "    with torch.no_grad():\n",
        "        for (idx1, idx2) in eval_indices:\n",
        "            embedding1 = embeddings[idx1].unsqueeze(0)\n",
        "            embedding2 = embeddings[idx2].unsqueeze(0)\n",
        "            cosine_sim = cosine_similarity(embedding1, embedding2).item()\n",
        "            predicted_scores.append(cosine_sim)\n",
        "\n",
        "    real_scores = real_scores[:len(predicted_scores)]\n",
        "    spearman_corr = spearman_rank_correlation(predicted_scores, real_scores)\n",
        "    return spearman_corr\n",
        "    # END TODO\n"
      ]
    },
    {
      "cell_type": "markdown",
      "metadata": {
        "id": "KM44lCbcc1C1"
      },
      "source": [
        "### 4. Entraînement de zéro (16 Points)\n",
        "\n",
        "Nous allons maintenant entraîner le modèle de zéro, sans utiliser les plongements GloVe pré-entraînés. Ensuite, dans la partie 5, nous entraînerons le modèle en l'initialisant avec les plongements GloVe pré-entraînés."
      ]
    },
    {
      "cell_type": "code",
      "execution_count": 27,
      "metadata": {
        "id": "vmWizBJbc1C1"
      },
      "outputs": [],
      "source": [
        "# Hyperparamètres, optimiseur et DataLoader\n",
        "\n",
        "BATCH_SIZE = 64\n",
        "NUM_EPOCHS = 20\n",
        "LEARNING_RATE = 5e-3\n",
        "\n",
        "device = 'cuda' if torch.cuda.is_available() else 'cpu'\n",
        "\n",
        "torch.cuda.empty_cache()\n",
        "gc.collect()\n",
        "\n",
        "train_syn_tensor = data_to_tensor(train_synonyms, glove_word_to_index)\n",
        "train_ant_tensor = data_to_tensor(train_antonyms, glove_word_to_index)\n",
        "\n",
        "syn_data_loader = DataLoader(train_syn_tensor, batch_size=BATCH_SIZE, shuffle=True, drop_last=True)\n",
        "ant_data_loader = DataLoader(train_ant_tensor, batch_size=BATCH_SIZE, shuffle=True, drop_last=True)"
      ]
    },
    {
      "cell_type": "markdown",
      "metadata": {
        "id": "qT9oUZ2zc1C1"
      },
      "source": [
        "#### 4.1 Complétez la cellule suivante pour créer le modèle de zéro `model_zero`, à partir d'une matrice de plongements aléatoire. (1 point)"
      ]
    },
    {
      "cell_type": "code",
      "execution_count": 28,
      "metadata": {
        "id": "Bky1_YJQc1C2"
      },
      "outputs": [],
      "source": [
        "\n",
        "model_zero = None\n",
        "random_seed = 0\n",
        "random_generator = torch.Generator(device=device).manual_seed(random_seed)\n",
        "\n",
        "embeddings_size = glove_embeddings.size()\n",
        "random_init_embeddings = torch.randn(embeddings_size, generator=random_generator, device=device)\n",
        "\n",
        "# TODO\n",
        "model_zero = ContrastiveWordEmbeddingModel(random_init_embeddings, device=device)\n",
        "# END TODO\n",
        "\n",
        "optimizer = optim.Adam(model_zero.parameters(), lr=LEARNING_RATE)"
      ]
    },
    {
      "cell_type": "markdown",
      "metadata": {
        "id": "B3QcZHmTc1C2"
      },
      "source": [
        "#### 4.2 Entraînez le modèle sur le jeu des paires de synonymes et d'antonymes. (6 points)\n",
        "\n",
        "N'oubliez pas que l'entraînement se fait sur les synonymes et antonymes et que l'évaluation se fait sur SimLex-999.\n",
        "\n",
        "À défaut d'avoir un jeu de validation, on observe les résultats sur le corpus de test : SimLex-999. Ceci n’est fait qu’à titre illustratif pour voir l'évolution de l'apprentissage. Il ne faut pas faire de choix pour l’entrainement à partir des résultats sur le corpus de test.\n",
        "\n",
        "*Note : Les jeux de synonymes et d'antonymes n'ont pas la même taille. Une époque (epoch) correspond à une itération sur le jeu de données le plus petit.*"
      ]
    },
    {
      "cell_type": "code",
      "execution_count": null,
      "metadata": {
        "id": "HjhBATIDc1C2",
        "colab": {
          "base_uri": "https://localhost:8080/"
        },
        "outputId": "bf85aeb0-874c-4e7d-a7d8-f62ea6a6f914"
      },
      "outputs": [
        {
          "output_type": "stream",
          "name": "stdout",
          "text": [
            "Before training, Spearman Correlation: -0.0272\n"
          ]
        }
      ],
      "source": [
        "spearman_corr = evaluate(model_zero, evaluation_simlex, glove_word_to_index)\n",
        "print(f'Before training, Spearman Correlation: {spearman_corr:.4f}')\n",
        "\n",
        "# TODO\n",
        "NUM_EPOCHS = 1\n",
        "for epoch in range(NUM_EPOCHS):\n",
        "    model_zero.train()\n",
        "    total_loss = 0\n",
        "\n",
        "    #Iterate through smallest\n",
        "    for syn_batch, ant_batch in zip(syn_data_loader, ant_data_loader):\n",
        "        optimizer.zero_grad()\n",
        "\n",
        "        synonym_pairs = syn_batch\n",
        "        antonym_pairs = ant_batch\n",
        "\n",
        "        # forward\n",
        "        total_cost = forward(model_zero, synonym_pairs, antonym_pairs)\n",
        "        # Backward pass\n",
        "        total_cost.backward()\n",
        "        optimizer.step()\n",
        "\n",
        "        total_loss += total_cost.item()\n",
        "\n",
        "    print(f'Epoch [{epoch + 1}/{NUM_EPOCHS}], Loss: {total_loss:.4f}')\n",
        "\n",
        "spearman_corr = evaluate(model_zero, evaluation_simlex, glove_word_to_index)\n",
        "print(f'After training, Spearman Correlation: {spearman_corr:.4f}')\n",
        "# END TODO"
      ]
    },
    {
      "cell_type": "markdown",
      "metadata": {
        "id": "X160h29yc1C2"
      },
      "source": [
        "#### 4.3 Courbes d'entraînement du modèle de zéro (4 points)\n",
        "\n",
        "Affichez la perte moyenne sur le jeu d'entraînement et la corrélation de Spearman sur le jeu de validation à chaque époque."
      ]
    },
    {
      "cell_type": "code",
      "execution_count": null,
      "metadata": {
        "id": "MWPEGFK0c1C2"
      },
      "outputs": [],
      "source": [
        "# TODO\n",
        "# END TODO\n"
      ]
    },
    {
      "cell_type": "markdown",
      "metadata": {
        "id": "7TI-yzZOc1C2"
      },
      "source": [
        "#### 4.4 Évaluation du modèle de zéro et comparaison avec GloVe (5 points)\n",
        "\n",
        "Comparez le modèle de zéro après l'entraînement à GloVe (résultat de la partie 2.4) en termes de corrélation de Spearman sur le jeu de validation. Quelle méthode est la plus performante ? Pourquoi ?\n"
      ]
    },
    {
      "cell_type": "markdown",
      "metadata": {
        "id": "Xps2Ixusc1C2"
      },
      "source": [
        "### 5. Intérêt de GloVe (18 Points)\n",
        "\n",
        "Dans la section précédente, nous avons entraîné un modèle de zéro.\n",
        "\n",
        "Nous allons maintenant évaluer si initialiser le modèle avec les plongements de GloVe permet d'améliorer les performances."
      ]
    },
    {
      "cell_type": "markdown",
      "metadata": {
        "id": "EZlUCkGZc1C2"
      },
      "source": [
        "#### 5.1 Initialisation avec GloVe (6 points)\n",
        "\n",
        "Entraînez le modèle `model_fine_tuned`, mais cette fois en ititialisant directement avec les plongements du modèle pré-entraîné GloVe.\n",
        "\n",
        "On utilisera Adam comme optimiseur."
      ]
    },
    {
      "cell_type": "code",
      "execution_count": null,
      "metadata": {
        "id": "W_nLp0Zfc1C2"
      },
      "outputs": [],
      "source": [
        "# TODO\n",
        "model_fine_tuned = None\n",
        "# END TODO"
      ]
    },
    {
      "cell_type": "code",
      "execution_count": null,
      "metadata": {
        "id": "z3eAVPAjc1C3"
      },
      "outputs": [],
      "source": [
        "spearman_corr = evaluate(model_fine_tuned, evaluation_simlex, glove_word_to_index)\n",
        "print(f'Before training, Spearman Correlation: {spearman_corr:.4f}')\n",
        "\n",
        "# TODO\n",
        "# END TODO"
      ]
    },
    {
      "cell_type": "markdown",
      "metadata": {
        "id": "i228lhIjc1C3"
      },
      "source": [
        "#### 5.2 Courbes d'entraînement (4 points)\n",
        "\n",
        "Affichez la perte moyenne sur le jeu d'entraînement et la corrélation de Spearman sur le jeu de validation à chaque époque."
      ]
    },
    {
      "cell_type": "code",
      "execution_count": null,
      "metadata": {
        "id": "ZpmzaExsc1C3"
      },
      "outputs": [],
      "source": [
        "# TODO\n",
        "# END TODO\n"
      ]
    },
    {
      "cell_type": "markdown",
      "metadata": {
        "id": "cDFuiuRVc1C3"
      },
      "source": [
        "#### 5.3 Vérification sur un exemple (3 points)\n",
        "\n",
        "Avec le modèle `model_fine_tuned`, calculez la similarité cosinus entre 'fast' et 'slow' et entre 'fast' et 'rapid'. Commentez les résultats en les comparant avec ceux de la partie 1.4."
      ]
    },
    {
      "cell_type": "code",
      "execution_count": null,
      "metadata": {
        "id": "Iuhj79qrc1C3"
      },
      "outputs": [],
      "source": [
        "# TODO\n",
        "# END TODO"
      ]
    },
    {
      "cell_type": "markdown",
      "metadata": {
        "id": "qjk6e3Quc1C3"
      },
      "source": [
        "#### 5.4 Analyse, comparaison, conclusion (5 points)\n",
        "\n",
        "Comparez les performances des trois modèles (GloVe, zéro, fine-tuned). Quelle méthode est la plus performante ? Pourquoi ?\n"
      ]
    },
    {
      "cell_type": "markdown",
      "metadata": {
        "id": "V-zzTaY4c1C3"
      },
      "source": [
        "## Livrables\n",
        "Vous devez remettre votre notebook sur Moodle et Gradescope en ipynb et pdf. Pour Gradescope vous devez associer les numéros de questions avec vos réponses dans le pdf grâce à l'outil que fournit Gradescope.\n",
        "\n",
        "\n",
        "## Évaluation\n",
        "Votre TP sera évalué selon les critères suivants :\n",
        "1. Exécution correcte du code et obtention des sorties attendues\n",
        "2. Réponses correctes aux questions d'analyse\n",
        "3. Qualité du code (noms significatifs, structure, performance, gestion d’exception, etc.)\n",
        "4. Commentaires clairs et informatifs"
      ]
    }
  ],
  "metadata": {
    "kernelspec": {
      "display_name": "Python 3",
      "name": "python3"
    },
    "language_info": {
      "codemirror_mode": {
        "name": "ipython",
        "version": 3
      },
      "file_extension": ".py",
      "mimetype": "text/x-python",
      "name": "python",
      "nbconvert_exporter": "python",
      "pygments_lexer": "ipython3",
      "version": "3.11.9"
    },
    "colab": {
      "provenance": []
    }
  },
  "nbformat": 4,
  "nbformat_minor": 0
}