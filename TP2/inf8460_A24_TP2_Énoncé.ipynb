{
 "cells": [
  {
   "cell_type": "markdown",
   "metadata": {},
   "source": [
    "##### INF8460 – Traitement automatique de la langue naturelle - Automne 2024\n",
    "\n",
    "## TP2: Plongements de mots"
   ]
  },
  {
   "cell_type": "markdown",
   "metadata": {},
   "source": [
    "## Identification de l'équipe:\n",
    "\n",
    "### Groupe de laboratoire:\n",
    "\n",
    "### Equipe numéro :\n",
    "\n",
    "### Membres:\n",
    "\n",
    "- membre 1 (% de contribution, nature de la contribution)\n",
    "- membre 2 (% de contribution, nature de la contribution)\n",
    "- membre 3 (% de contribution, nature de la contribution)\n",
    "\n",
    "* nature de la contribution: Décrivez brièvement ce qui a été fait par chaque membre de l’équipe. Tous les membres sont censés contribuer au développement. Bien que chaque membre puisse effectuer différentes tâches, vous devez vous efforcer d’obtenir une répartition égale du travail. Soyez précis ! N'indiquez pas seulement : travail réparti équitablement"
   ]
  },
  {
   "cell_type": "markdown",
   "metadata": {},
   "source": [
    "### Objectif du TP\n",
    "\n",
    "L'objectif de ce TP est d'entraîner un modèle de plongements lexicaux qui intègre des notions de synonymie et d'antonymie en utilisant des réseaux de neurones. \n",
    "\n",
    "Contrairement aux plongements vus en cours comme GloVe ou Word2Vec, qui positionnent souvent les mots à proximité équivalente de leurs synonymes et antonymes, nous chercherons à faire distinguer à nos modèles les synonymes et antonymes, en rapprochant les mots de leurs synonymes et en les éloignant de leurs antonymes.\n",
    "\n",
    "### Jeux de données\n",
    "\n",
    "**Paires de synonymes et antonymes** (entraînement) : Les fichiers `train_synonyms.txt` et `train_antonymms.txt` contiennent les paires de synonymes et d'antonymes qui serviront à l'entraînement de nos modèles.\n",
    "- train_synonyms: ~640k paires de synonymes\n",
    "- train_antonyms: ~12k paires d'antonymes\n",
    "\n",
    "**SimLex-999** (test) : Le fichier `simlex_english.txt` contient 1000 paires de mots et leur similarité entre 0 et 10. Des antonymes auront une similarité de 0 et des mots proches auront une similarité plus élevée. Par exemples :\n",
    "\n",
    "- *nice* & *cruel* -> 0\n",
    "- *violent* & *angry* -> 5.9\n",
    "- *essential* & *necessary* -> 9.8\n",
    "\n",
    "### Développement du TP\n",
    "\n",
    "Le TP suivra les étapes suivantes:\n",
    "\n",
    "- Partie 1 : Familiarisation avec GloVe, modèle de plongements de mots pré-entraîné\n",
    "- Partie 2 : Évaluation de GloVe sur SimLex-999\n",
    "- Partie 3 : Mise en place de la méthode d'entraînement\n",
    "- Partie 4 : Entraînement de zéro (baseline)\n",
    "- Partie 5 : Entraînement utilisant GloVe pré-entraîné et conclusion\n",
    "\n",
    "Le TP est noté sur 89 points."
   ]
  },
  {
   "cell_type": "markdown",
   "metadata": {},
   "source": [
    "### Librairies autorisées\n",
    "\n",
    "+ numpy\n",
    "+ pandas\n",
    "+ torch\n",
    "+ matplotlib\n",
    "\n",
    "Si vous voulez utiliser une autre librairie, veuillez demander à votre chargé de lab.\n",
    "\n",
    "### Imports\n",
    "\n",
    "Les imports effectués dans la cellule suivante devraient être suffisants pour faire tout ce TP."
   ]
  },
  {
   "cell_type": "code",
   "execution_count": 1,
   "metadata": {},
   "outputs": [],
   "source": [
    "from tqdm import tqdm\n",
    "import gc\n",
    "\n",
    "import numpy as np\n",
    "import pandas as pd\n",
    "import matplotlib.pyplot as plt\n",
    "\n",
    "import torch\n",
    "import torch.nn as nn\n",
    "import torch.nn.functional as F\n",
    "import torch.optim as optim\n",
    "from torch.utils.data import DataLoader"
   ]
  },
  {
   "cell_type": "markdown",
   "metadata": {},
   "source": [
    "### 1. GloVe (10 Points)"
   ]
  },
  {
   "cell_type": "markdown",
   "metadata": {},
   "source": [
    "Dans ce TP, nous allons utiliser le modèle pré-entraîné GloVe qui crée des plongements lexicaux de mots."
   ]
  },
  {
   "cell_type": "markdown",
   "metadata": {},
   "source": [
    "#### 1.1 Chargement du modèle\n",
    "\n",
    "La cellule suivante permet charger le modèle GloVe pré-entraîné. Le chargement du modèle peut prendre quelques minutes."
   ]
  },
  {
   "cell_type": "code",
   "execution_count": 2,
   "metadata": {},
   "outputs": [],
   "source": [
    "# # Décommenter pour télécharger les GloVe embeddings à partir de https://nlp.stanford.edu/projects/glove/\n",
    "# !wget http://nlp.stanford.edu/data/glove.42B.300d.zip -P /content\n",
    "# !unzip /content/glove.42B.300d.zip -d /content"
   ]
  },
  {
   "cell_type": "code",
   "execution_count": 3,
   "metadata": {},
   "outputs": [],
   "source": [
    "pretrained_model_path = 'glove.42B.300d.txt'\n",
    "\n",
    "data_root = 'data'\n",
    "\n",
    "train_synonyms_path = f\"{data_root}/train_synonyms.txt\"\n",
    "train_antonyms_path = f\"{data_root}/train_antonyms.txt\"\n",
    "\n",
    "eval_simlex = f'{data_root}/simlex_english.txt'"
   ]
  },
  {
   "cell_type": "code",
   "execution_count": 4,
   "metadata": {},
   "outputs": [],
   "source": [
    "def load_word_vectors(filepath, vocab=None):\n",
    "    \"\"\"\n",
    "    Télécharge le modèle pré-entraîné de plongements de mots en pytorch\n",
    "    \"\"\"\n",
    "    word_to_index = {}\n",
    "    embeddings = []\n",
    "    index = 0\n",
    "\n",
    "    with open(filepath, 'r', encoding='utf-8') as f:\n",
    "        for line in f:\n",
    "            split_line = line.split()\n",
    "            word = split_line[0]\n",
    "            if vocab is None or word in vocab:\n",
    "                embedding = np.array(split_line[1:], dtype=np.float32)\n",
    "                word_to_index[word] = index\n",
    "                embeddings.append(embedding)\n",
    "                index += 1\n",
    "    \n",
    "    embeddings = np.stack(embeddings)\n",
    "    embeddings = torch.from_numpy(embeddings)\n",
    "    return word_to_index, embeddings"
   ]
  },
  {
   "cell_type": "code",
   "execution_count": 5,
   "metadata": {},
   "outputs": [],
   "source": [
    "word_to_index, embeddings = load_word_vectors(pretrained_model_path)"
   ]
  },
  {
   "cell_type": "markdown",
   "metadata": {},
   "source": [
    "#### 1.2 Implémentez la fonction `cosine_similarity` avec pytorch et sans utiliser `torch.nn.CosineSimilarity` (2 points)"
   ]
  },
  {
   "cell_type": "code",
   "execution_count": 6,
   "metadata": {},
   "outputs": [],
   "source": [
    "def cosine_similarity(a, b,normalise = True):\n",
    "    \"\"\"\n",
    "    Calcule la matrice de similarité cosinus entre deux matrices\n",
    "\n",
    "    Args : \n",
    "        a   : torch.Tensor, shape=(n, d)\n",
    "        b   : torch.Tensor, shape=(m, d)\n",
    "\n",
    "    Returns:\n",
    "    torch.Tensor, shape=(n, m)\n",
    "    \"\"\"\n",
    "    n = tuple(a.shape)[0]\n",
    "    m = tuple(b.shape)[0]\n",
    "    outTensor = torch.zeros((n,m))\n",
    "    for iA in range(n):\n",
    "        for iB in range(m):\n",
    "            if normalise : normalisationFactor = torch.linalg.vector_norm(a[iA,:]) * torch.linalg.vector_norm(b[iB,:])\n",
    "            else : normalisationFactor = 1\n",
    "\n",
    "            outTensor[iA,iB] = torch.dot(a[iA,:],b[iB]) / normalisationFactor\n",
    "    return outTensor"
   ]
  },
  {
   "cell_type": "code",
   "execution_count": 7,
   "metadata": {},
   "outputs": [],
   "source": [
    "#A = torch.Tensor([[0,1,0,5],\n",
    "#                  [1,2,5,6]])\n",
    "#B = torch.Tensor([[-1,0,-5,0],\n",
    "#                  [9,7,2,5],\n",
    "#                  [4,7,0,9]])\n",
    "#cosine_similarity(A,B)\n",
    "#tensor([[ 0.0000,  0.4977,  0.8440],\n",
    "#        [-0.6276,  0.6150,  0.7335]])"
   ]
  },
  {
   "cell_type": "markdown",
   "metadata": {},
   "source": [
    "#### 1.3 Complétez la fonction `n_closest_vect` qui retourne les n mots les plus proches d'un mot donné. (5 points)\n",
    "\n",
    "`n_closest_vect` prendra en entrée la matrice des plongements `embeddings`, le dictionnaire de correspondance entre les mots et les indices `word_to_index`, le plongement d'un mot `word` et le nombre `n` de mots attendus. La fonction devra retourner la liste des mots dont les plongements sont les plus proches du vecteur de référence et leur similarité cosinus.\n",
    "\n",
    "C'est-à-dire les n mots avec lesquels le mot a la plus grande similarité cosinus. Utilisez la fonction `cosine_similarity` que vous venez d'implémenter."
   ]
  },
  {
   "cell_type": "code",
   "execution_count": 8,
   "metadata": {},
   "outputs": [],
   "source": [
    "def n_closest_vect(embeddings, word_to_index, wordEmbedding, n=5):\n",
    "    \"\"\"\n",
    "    Trouve les n mots les plus proches du vecteur donné et leur similarité\n",
    "\n",
    "    Args : \n",
    "        embeddings      : torch.Tensor, shape=(vocab_size, embedding_dim)\n",
    "        Matrice de plongement de tous les mots\n",
    "\n",
    "        word_to_index   : dict\n",
    "        Dictionnaire qui relie un mot à son index dans le vocabulaire\n",
    "\n",
    "        wordEmbedding   : torch.Tensor, shape=(embedding_dim,)\n",
    "        Plongement du mot dont on cherche les n mots les plus proches\n",
    "\n",
    "        n               : int, number of closest words to return\n",
    "        Nombre de mots à retourner\n",
    "\n",
    "    Returns:\n",
    "    Liste de tuple contenant les n mots les plus similaires avec leur coefficient\n",
    "    de similarité\n",
    "    \"\"\" \n",
    "\n",
    "    cosine_matrix = cosine_similarity(embeddings, wordEmbedding.unsqueeze(0))\n",
    "    cosine_matrix.squeeze_()\n",
    "\n",
    "    top_n_values = torch.topk(cosine_matrix, 5)\n",
    "\n",
    "    top_n_words = {}\n",
    "\n",
    "    i = 0\n",
    "    word_keys = list(word_to_index.keys())\n",
    "    for indice in top_n_values.indices:\n",
    "      word_value = word_keys[indice]\n",
    "      top_n_words[word_value] = top_n_values.values[i].item()\n",
    "      i += 1\n",
    "    \n",
    "    return top_n_words\n"
   ]
  },
  {
   "cell_type": "code",
   "execution_count": 9,
   "metadata": {},
   "outputs": [
    {
     "data": {
      "text/plain": [
       "'     wordEmbedding = torch.reshape(wordEmbedding, (1,-1))\\n    # Evaluate the matrix \\n    similarityVector = cosine_similarity(wordEmbedding,embeddings) # (1,len(word_to_index))\\n    similarityVector = torch.reshape(similarityVector,(len(word_to_index),))\\n \\n    idxSorted = np.argsort(similarityVector)\\n    \\n    \\n    # Only keep the first N\\n    outWords = []\\n    for i in range(n):\\n        outWords += [(list(word_to_index.keys())[idxSorted[-1-i]],\\n                      float(similarityVector[idxSorted[-1-i]]))]\\n    return outWords '"
      ]
     },
     "execution_count": 9,
     "metadata": {},
     "output_type": "execute_result"
    }
   ],
   "source": [
    "\"\"\"     wordEmbedding = torch.reshape(wordEmbedding, (1,-1))\n",
    "    # Evaluate the matrix \n",
    "    similarityVector = cosine_similarity(wordEmbedding,embeddings) # (1,len(word_to_index))\n",
    "    similarityVector = torch.reshape(similarityVector,(len(word_to_index),))\n",
    " \n",
    "    idxSorted = np.argsort(similarityVector)\n",
    "    \n",
    "    \n",
    "    # Only keep the first N\n",
    "    outWords = []\n",
    "    for i in range(n):\n",
    "        outWords += [(list(word_to_index.keys())[idxSorted[-1-i]],\n",
    "                      float(similarityVector[idxSorted[-1-i]]))]\n",
    "    return outWords \"\"\""
   ]
  },
  {
   "cell_type": "code",
   "execution_count": 10,
   "metadata": {},
   "outputs": [
    {
     "name": "stdout",
     "output_type": "stream",
     "text": [
      "{'morning': 1.0, 'afternoon': 0.8665473461151123, 'evening': 0.7880070805549622, 'yesterday': 0.7614549398422241, 'sunday': 0.7548925280570984}\n"
     ]
    }
   ],
   "source": [
    "# Exemple\n",
    "\n",
    "print(n_closest_vect(embeddings, word_to_index, embeddings[word_to_index['morning']]))"
   ]
  },
  {
   "cell_type": "markdown",
   "metadata": {},
   "source": [
    "Sortie attendue :\n",
    "```\n",
    "[('morning', 1.0), ('afternoon', 0.8665473461151123), ('evening', 0.7880070209503174), ('yesterday', 0.7614548206329346), ('sunday', 0.7548925876617432)]\n",
    "```"
   ]
  },
  {
   "cell_type": "markdown",
   "metadata": {},
   "source": [
    "#### 1.4 Quelle est la similarité cosinus entre 'fast' et 'slow' ? Entre 'fast' et 'rapid' ? Commentez les résultats et expliquez leur origine. (3 points)"
   ]
  },
  {
   "cell_type": "code",
   "execution_count": 11,
   "metadata": {},
   "outputs": [
    {
     "name": "stdout",
     "output_type": "stream",
     "text": [
      "           |   slow    |  rapid   \n",
      "   fast    | 0.71137   | 0.64453  \n"
     ]
    }
   ],
   "source": [
    "nDim = 300\n",
    "fastEmbedding = torch.reshape(embeddings[word_to_index['fast']],(1,nDim))\n",
    "slowEmbedding = torch.reshape(embeddings[word_to_index['slow']],(1,nDim))\n",
    "rapidEmbedding = torch.reshape(embeddings[word_to_index['rapid']],(1,nDim))\n",
    "\n",
    "fastSlowRapidSimilarity = cosine_similarity(fastEmbedding, torch.cat((slowEmbedding,rapidEmbedding),0))\n",
    "\n",
    "print(f'{\"\":^10} |{\"slow\":^10} |{\"rapid\":^10}')\n",
    "fastSlowStr = f'{float(fastSlowRapidSimilarity[0,0]):.5f}'\n",
    "fastRapidStr = f'{float(fastSlowRapidSimilarity[0,1]):.5f}'\n",
    "print(f'{\"fast\":^10} |{fastSlowStr:^10} |{fastRapidStr:^10}')"
   ]
  },
  {
   "cell_type": "markdown",
   "metadata": {},
   "source": [
    "### 2. Évaluation (12 Points)\n",
    "\n",
    "#### Données\n",
    "\n",
    "Les cellules qui suivent permettent de télécharger les données et de se restreindre au vocabulaire qui nous sera utile, pour éviter de charger des plongements inutiles.\n",
    "\n",
    "Comme décrit dans l'introduction, nous avons 3 fichiers de données:\n",
    "- Des paires de synonymes pour l'entraînement (`train_synonyms.txt`) \n",
    "- Des paires d'antonymes pour l'entraînement (`train_antonymms.txt`)\n",
    "- Des paires de mots avec leur similarité pour l'évaluation (`simlex_english.txt`)"
   ]
  },
  {
   "cell_type": "code",
   "execution_count": 12,
   "metadata": {},
   "outputs": [],
   "source": [
    "def load_data(filepath):\n",
    "    \"\"\"\n",
    "    Télécharge les paires de synonymes et antonymes\n",
    "    \"\"\"\n",
    "    data = []\n",
    "    with open(filepath, 'r', encoding='utf-8') as f:\n",
    "        for line in f:\n",
    "            pair = line.strip().split()\n",
    "            assert pair[0].startswith('en_') and pair[0].startswith('en_')\n",
    "            data.append((pair[0][3:], pair[1][3:]))\n",
    "    return data\n",
    "\n",
    "def data_to_tensor(data, word_to_index):\n",
    "    indices = [word_to_index[word] for pair in data for word in pair if word in word_to_index]\n",
    "    return torch.tensor(indices).view(-1, 2)"
   ]
  },
  {
   "cell_type": "code",
   "execution_count": 14,
   "metadata": {},
   "outputs": [],
   "source": [
    "# Données d'entraînement\n",
    "train_synonyms = load_data(train_synonyms_path)\n",
    "train_antonyms = load_data(train_antonyms_path)\n",
    "\n",
    "# Données d'évaluation\n",
    "evaluation_simlex = pd.read_csv(eval_simlex, sep='\\t') # pd dataframe with columns 'word 1', 'word 2', 'score'\n",
    "\n",
    "# On se restreint au vocabulaire qu'on va utiliser pour éviter de charger des embeddings inutiles\n",
    "vocab = set([word for pair in train_synonyms + train_antonyms for word in pair])\n",
    "eval_vocab = set(evaluation_simlex['word 1']).union(set(evaluation_simlex['word 2']))\n",
    "vocab.update(eval_vocab)\n",
    "\n",
    "glove_word_to_index, glove_embeddings = load_word_vectors(pretrained_model_path, vocab)"
   ]
  },
  {
   "cell_type": "markdown",
   "metadata": {},
   "source": [
    "#### 2.1 Observation du jeu de données SimLex-999. (2 points)\n",
    "\n",
    "Affichez l'histogramme de fréquence des scores de similarité dans le jeu de données SimLex-999. Utilisez `bins=40`. Votre axe des x doit représenter le score de similarité et votre axe des y doit représenter la fréquence. Comment interpréter un score de 0?"
   ]
  },
  {
   "cell_type": "code",
   "execution_count": 15,
   "metadata": {},
   "outputs": [
    {
     "data": {
      "text/plain": [
       "Text(0.5, 0, 'Score')"
      ]
     },
     "execution_count": 15,
     "metadata": {},
     "output_type": "execute_result"
    },
    {
     "data": {
      "text/plain": [
       "<Figure size 640x480 with 0 Axes>"
      ]
     },
     "metadata": {},
     "output_type": "display_data"
    },
    {
     "data": {
      "image/png": "[encoded data removed]",
      "text/plain": [
       "<Figure size 640x480 with 1 Axes>"
      ]
     },
     "metadata": {},
     "output_type": "display_data"
    }
   ],
   "source": [
    "plt.figure()\n",
    "evaluation_simlex.hist('score',bins = 40,density = True)\n",
    "plt.title(\"Histogramme des scores dans Simlex-999\")\n",
    "plt.ylabel(\"taux d'apparition en %\")\n",
    "plt.xlabel(\"Score\")"
   ]
  },
  {
   "cell_type": "markdown",
   "metadata": {},
   "source": [
    "#### 2.2 Corrélation de Spearman\n",
    "\n",
    "\n",
    "La corrélation de Spearman est une mesure de la relation monotone entre deux variables $x$ et $y$. Elle est comprise entre -1 et 1. Plutôt que de comparer les valeurs brutes des variables, elle compare leurs rangs. Elle est calculée comme suit :\n",
    "$$\\rho (x, y) = 1 - \\frac{6 \\sum_{i=1}^n (r_{x_i} - r_{y_i})^2}{n(n^2 - 1)}$$\n",
    "où $r_{x_i}$ est le rang de la i-ème valeur de la variable x, $r_{y_i}$ est le rang de la i-ème valeur de la variable y, $n$ est le nombre total de paires d'observations $(x, y)$.\n",
    "\n",
    "Les rangs sont attribués en ordonnant les valeurs de chaque variable du plus petit au plus grand. La plus petite valeur reçoit le rang 1, la suivante le rang 2, et ainsi de suite.\n",
    "\n",
    "##### Expliquez pourquoi on utilise la corrélation de Spearman plutôt que la corrélation entre les valeurs des variables. (3 points)\n"
   ]
  },
  {
   "cell_type": "markdown",
   "metadata": {},
   "source": [
    "#### 2.3 Implémentation de la corrélation de Spearman (2 points)\n",
    "\n",
    "Complétez la fonction suivante pour calculer la corrélation de Spearman entre deux listes de valeurs."
   ]
  },
  {
   "cell_type": "code",
   "execution_count": 16,
   "metadata": {},
   "outputs": [],
   "source": [
    "def spearman_rank_correlation(x, y):\n",
    "    \"\"\"\n",
    "    Calcule la corrélation de Spearman entre deux listes de valeurs.\n",
    "\n",
    "    Args:\n",
    "        x   : list of float\n",
    "        y   : list of float\n",
    "\n",
    "    Returns:\n",
    "    La corrélation de Spearman entre les deux listes (float). \n",
    "    \"\"\"\n",
    "    N = len(x)\n",
    "    x = np.array(x)\n",
    "    y = np.array(y)\n",
    "    x_y = x-y\n",
    "    factor = 6 / (N * ( (N ** 2) - 1))\n",
    "    return 1 - factor * np.dot(x_y,x_y)\n"
   ]
  },
  {
   "cell_type": "code",
   "execution_count": 17,
   "metadata": {},
   "outputs": [],
   "source": [
    "# spearman_rank_correlation([1,3,4,2],[2,1,4,3]) = 0.4"
   ]
  },
  {
   "cell_type": "markdown",
   "metadata": {},
   "source": [
    "#### 2.4 Évaluation du modèle GloVe (2 points)\n",
    "\n",
    "\n",
    "Retrouvez les plongements du modèle GloVe de tous les mots du jeu de données SimLex-999, puis calculez la similarité cosinus entre les paires.\n",
    "\n",
    "Calculez ensuite la corrélation de Spearman entre les scores de simlex et les similarités cosinus obtenues et affichez-la."
   ]
  },
  {
   "cell_type": "code",
   "execution_count": 18,
   "metadata": {},
   "outputs": [],
   "source": [
    "similarityBetweenPairs = pd.DataFrame({\"word 1\" : list(evaluation_simlex[\"word 1\"]),\n",
    "                                       \"word 2\" : list(evaluation_simlex[\"word 2\"])})"
   ]
  },
  {
   "cell_type": "code",
   "execution_count": 19,
   "metadata": {},
   "outputs": [],
   "source": [
    "def getRank(array):\n",
    "    order = array.argsort()\n",
    "    return order.argsort()"
   ]
  },
  {
   "cell_type": "code",
   "execution_count": 20,
   "metadata": {},
   "outputs": [],
   "source": [
    "# Calculate similarity between pairs\n",
    "score = []\n",
    "for i in range(len(similarityBetweenPairs)):\n",
    "    score.append(float(cosine_similarity(\n",
    "        torch.reshape(glove_embeddings[glove_word_to_index[similarityBetweenPairs['word 1'][i]]],(1,-1)),\n",
    "        torch.reshape(glove_embeddings[glove_word_to_index[similarityBetweenPairs['word 2'][i]]],(1,-1))\n",
    "    )))\n",
    "similarityBetweenPairs['score'] = pd.Series(score)\n",
    "\n",
    "# Evaluate the rank (1 = lowest score, N = highest score)\n",
    "similarityBetweenPairs['rank'] = getRank(similarityBetweenPairs['score'])\n",
    "evaluation_simlex['rank'] = getRank(evaluation_simlex['score'])"
   ]
  },
  {
   "cell_type": "code",
   "execution_count": 21,
   "metadata": {},
   "outputs": [
    {
     "data": {
      "text/plain": [
       "0.29230790710550225"
      ]
     },
     "execution_count": 21,
     "metadata": {},
     "output_type": "execute_result"
    }
   ],
   "source": [
    "# Evaluate Spearman correlation\n",
    "spearman_rank_correlation(similarityBetweenPairs['rank'],\n",
    "                          evaluation_simlex['rank'])"
   ]
  },
  {
   "cell_type": "markdown",
   "metadata": {},
   "source": [
    "Résultat attendu: 0.29"
   ]
  },
  {
   "cell_type": "markdown",
   "metadata": {},
   "source": [
    "#### 2.5 Interprétation du résultat (3 points)\n",
    "\n",
    "Qu'est ce que ce nombre représente et que peut-on en conclure sur la qualité des plongements GloVe (2 conclusions) ?"
   ]
  },
  {
   "cell_type": "markdown",
   "metadata": {},
   "source": [
    "### 3. Description de la méthode contrastive (33 Points)\n",
    "\n",
    "Nous allons maintenant implémenter une méthode contrastive de plongements de mots. Elle vise à améliorer les plongements lexicaux de mots en tenant compte des synonymes et antonymes. \n",
    "\n",
    "Notre modèle se basera simplement sur une matrice de plongements de mots, qui associe à chaque mot un vecteur de plongement.\n",
    "\n",
    "L'idée est d'entraîner ce modèle à rapprocher les plongements de synonymes et d'éloigner ceux d'antonymes.\n",
    "\n",
    "La cellule suivante définit le modèle et ses attributs."
   ]
  },
  {
   "cell_type": "code",
   "execution_count": 22,
   "metadata": {},
   "outputs": [],
   "source": [
    "class ContrastiveWordEmbeddingModel(nn.Module):\n",
    "    def __init__(self, embeddings, device='cpu', margin_plus=0.6, margin_minus=0., regularization=1e-9):\n",
    "        super(ContrastiveWordEmbeddingModel, self).__init__()\n",
    "        \n",
    "        self.device = device\n",
    "\n",
    "        # Hyperparamètres pour les fonctions de coût\n",
    "        self.margin_plus = margin_plus\n",
    "        self.margin_minus = margin_minus\n",
    "        self.regularization = regularization\n",
    "        \n",
    "        # Initialisation des plongements de mots\n",
    "        self.embeddings = nn.Embedding.from_pretrained(embeddings.detach().clone(), freeze=False).to(self.device)\n",
    "        self.original_embeddings = nn.Embedding.from_pretrained(embeddings.detach().clone(), freeze=True).to(self.device)\n"
   ]
  },
  {
   "cell_type": "markdown",
   "metadata": {},
   "source": [
    "#### 3.1 Création des négatifs\n",
    "\n",
    "Pendant l'entraînement, au lieu de traiter tout le jeu d'entraînement d'un coup, nous allons avoir des lots (batchs) de paires de synonymes $B_S$ et d'antonymes $B_A$.\n",
    "\n",
    "Dans un lot de synonymes, on définit le négatif d'un mot comme le mot du lot le plus proche qui n'est pas dans la même paire. Intuitivement, c'est le mot que le modèle devrait confondre le plus avec le synonyme. Similairement, dans un lot d'antonymes, on définit le négatif d'un mot comme le mot du lot le plus éloigné qui n'est pas dans la même paire.\n",
    "\n",
    "On répète ce processus pour chaque mot de chaque paire de synonymes et d'antonymes.\n",
    "\n",
    "*Attention, un mot peut apparaître plusieurs fois dans un lot avec des synonymes ou antonymes différents, et il ne peut être le négatif d'aucun de ses synonymes, ou antonymes.*\n",
    "\n",
    "##### 3.1.1 Exemple pour illustrer l'implémentation\n",
    "\n",
    "Prenons un exemple avec un lot $B_S$ de synonymes de taille 3. On veut construire le lot de négatifs $T_S$\n",
    "\n",
    "$B_S$:\n",
    "- (arbre, plante)\n",
    "- (voiture, véhicule)\n",
    "- (arbre, buisson)\n",
    "\n",
    "On a 5 mots uniques dans le lot: arbre, plante, voiture, véhicule, buisson. Supposons que la matrice de similarité cosinus soit la suivante :\n",
    "\n",
    "|       | arbre | plante | voiture | véhicule | buisson |\n",
    "|-------|-------|--------|--------|----------|---------|\n",
    "| arbre | 1     | 0.8    | 0.1    | 0.2      | 0.9     |\n",
    "| plante| 0.8   | 1      | 0.3    | 0.4      | 0.7     |\n",
    "| voiture| 0.1  | 0.3    | 1      | 0.9      | 0.2     |\n",
    "| véhicule| 0.2 | 0.4    | 0.9    | 1        | 0.3     |\n",
    "| buisson| 0.9  | 0.7    | 0.2    | 0.3      | 1       |\n",
    "\n",
    "\n",
    "On commence par calculer les voisins de chaque mot du lot $B_S$. Le voisin d'un mot $m$ est défini comme tout mot qui apparait dans au moins une paire avec $m$ dans $B_S$. Un mot est aussi considéré comme son propre voisin.\n",
    "\n",
    "- voisins de arbre : arbre, plante, buisson\n",
    "- voisins de plante : plante, arbre\n",
    "- voisins de voiture : voiture, véhicule\n",
    "- voisins de véhicule : véhicule, voiture\n",
    "- voisins de buisson : buisson, arbre\n",
    "\n",
    "Après avoir masqué les voisins, la matrice est :\n",
    "\n",
    "|       | arbre | plante | voiture | véhicule | buisson |\n",
    "|-------|-------|--------|--------|----------|---------|\n",
    "| arbre | -inf  | -inf   | 0.1    | 0.2      | -inf    |\n",
    "| plante| -inf  | -inf   | 0.3    | 0.4      | 0.7     |\n",
    "| voiture| 0.1  | 0.3    | -inf   | -inf     | 0.2     |\n",
    "| véhicule| 0.2 | 0.4    | -inf   | -inf     | 0.3     |\n",
    "| buisson| -inf | 0.7    | 0.2    | 0.3      | -inf    |\n",
    "\n",
    "Pour calculer les négatifs, on prend le maximum de chaque ligne (donc le mot le plus similaire qui n'est pas un voisin) :\n",
    "\n",
    "Ici,\n",
    "- le négatif d'arbre est véhicule\n",
    "- le négatif de plante est buisson\n",
    "- le négatif de voiture est plante\n",
    "- le négatif de véhicule est plante\n",
    "- le négatif de buisson est plante\n",
    "\n",
    "En reprenant le batch $B_S$:\n",
    "- (arbre, plante)\n",
    "- (voiture, véhicule)\n",
    "- (arbre, buisson)\n",
    "\n",
    "$T_S$ sera composé de paires composées du négatif de chaque élément de $B_S$ :\n",
    "\n",
    "$B_S$ -> $T_S$\n",
    "- (arbre, plante) $\\rightarrow$ (véhicule, buisson), car le négatif d'arbre est véhicule et le négatif de plante est buisson\n",
    "- (voiture, véhicule) $\\rightarrow$ (plante, plante), car le négatif de voiture est plante et le négatif de véhicule est plante\n",
    "- (arbre, buisson) $\\rightarrow$ (véhicule, plante), car le négatif d'arbre est véhicule et le négatif de buisson est plante\n",
    "\n",
    "$T_S$ sera donc : \n",
    "- (véhicule, buisson)\n",
    "- (plante, plante)\n",
    "- (véhicule, plante)"
   ]
  },
  {
   "cell_type": "markdown",
   "metadata": {},
   "source": [
    "##### 3.1.2 Implémentez la fonction `prepare_neighbors` qui renvoit la liste des voisins de chaque mot dans le lot. (4 points)\n",
    "\n",
    "Les voisins d'un mot $m$ sont tous les mots du lot qui apparaissent dans au moins une paire avec $m$. Utilisez les bons indices (indice dans la matrice d'embeddings et indice dans le lot). Le résultat est une liste de liste de voisins, où `neighbors[i]` est la liste des voisins du mot `i` dans le lot."
   ]
  },
  {
   "cell_type": "code",
   "execution_count": 23,
   "metadata": {},
   "outputs": [],
   "source": [
    "def prepare_neighbors(index_pairs, unique_idx, index_to_idx):\n",
    "    \"\"\"\n",
    "    Prépare les voisins pour chaque mot dans les paires de mots.\n",
    "    \n",
    "    Args : \n",
    "        index_pairs     : torch.Tensor de seconde dimension 2\n",
    "        Tensor contenant les indices des embeddings des mots dans le vocabulaire. \n",
    "        Des indices qui sont reliés ensemble par une ligne dans ce tenseur ont \n",
    "        une relation sémantique entre eux (synonymes ou antonymes).\n",
    "\n",
    "        unique_idx      : set\n",
    "        Ensemble de tous les indices qui sont mentionnés dans la liste `index_pairs`.\n",
    "        \n",
    "        index_to_idx    : dict\n",
    "        Dictionnaire associant un indice mentionné dans `index_pairs` à son indice dans\n",
    "        la liste qui sera retournée. Par exemple, si dans ce dictionnaire, la clé 4 est\n",
    "        associée à la valeur 12, cela veut dire que les voisins du mot 4 dans le vocabulaire\n",
    "        seront retournés à l'indice 12 dans la liste de retour.\n",
    "\n",
    "    Returns:\n",
    "    Une liste où chaque élément est une liste des indices des voisins pour chaque mot (l'indice dans la liste correspond à l'indice unique).\n",
    "    \"\"\"\n",
    "    tempDict = {}\n",
    "    # The strategy here is to first loop through all the pairs and create a dictionnary where the keys are the index\n",
    "    # of the words (eventually out.keys() = unique_idx) and the values are the indexes of the words in the pair\n",
    "    \n",
    "    # Looping through the pairs\n",
    "    for pair in index_pairs:\n",
    "        \"\"\"\n",
    "        # Right solution to me be doesn't match the solution\n",
    "        pair0,pair1 = int(pair[0]),int(pair[1])\n",
    "        # checkinng if the word has already been seen\n",
    "        if pair0 not in tempDict.keys():\n",
    "            # if not, create an empty list with itself in it\n",
    "            tempDict[pair0] = [pair0]\n",
    "        # checking if the second word has already be seen next to the first word\n",
    "        if pair1 not in tempDict[pair0]:\n",
    "            # if not, add it to the list\n",
    "            tempDict[pair0] += [pair1]\n",
    "\n",
    "        # Do the same for the other word\n",
    "        if pair1 not in tempDict.keys():\n",
    "            tempDict[pair1] = [pair1]\n",
    "        if pair0 not in tempDict[pair1]:\n",
    "            tempDict[pair1] += [pair0]\n",
    "        \"\"\"\n",
    "        # wrong solution to me be does match the solution\n",
    "        pair0,pair1 = int(pair[0]),int(pair[1])\n",
    "        # checkinng if the word has already been seen\n",
    "        if pair0 not in tempDict.keys():\n",
    "            # if not, create an empty list with itself in it\n",
    "            tempDict[pair0] = []\n",
    "        tempDict[pair0] += [pair0,pair1]\n",
    "\n",
    "        # Do the same for the other word\n",
    "        if pair1 not in tempDict.keys():\n",
    "            tempDict[pair1] = []\n",
    "        tempDict[pair1] += [pair1,pair0]\n",
    "\n",
    "        \n",
    "    # right now we have a dictionnary linking a word's index to all the other words' index it shared a pair with\n",
    "    lenOut = max(index_to_idx.values()) + 1\n",
    "    listOut = [[] for i in range(lenOut)]\n",
    "\n",
    "    for word_idx in unique_idx:\n",
    "        listOut[index_to_idx[int(word_idx)]] += [index_to_idx[el] for el in tempDict[int(word_idx)]]\n",
    "    \n",
    "    return listOut"
   ]
  },
  {
   "cell_type": "code",
   "execution_count": 24,
   "metadata": {},
   "outputs": [
    {
     "name": "stdout",
     "output_type": "stream",
     "text": [
      "[[0, 2], [1, 4], [2, 0, 2, 3], [3, 2], [4, 1]]\n"
     ]
    }
   ],
   "source": [
    "# Exemple\n",
    "\n",
    "index_pairsTEST = torch.tensor([[0, 12], [12, 31], [53, 4]])\n",
    "unique_idxTEST = {0, 4, 12, 31, 53}\n",
    "index_to_idxTEST = {0: 0, 4: 1, 12: 2, 31: 3, 53: 4}\n",
    "print(prepare_neighbors(index_pairsTEST, unique_idxTEST, index_to_idxTEST))\n"
   ]
  },
  {
   "cell_type": "markdown",
   "metadata": {},
   "source": [
    "Réponse attendue\n",
    "\n",
    "`[[0, 2], [1, 4], [2, 0, 2, 3], [3, 2], [4, 1]]`"
   ]
  },
  {
   "cell_type": "markdown",
   "metadata": {},
   "source": [
    "##### 3.1.3 Implémentez la fonction `select_negatives` qui renvoit un dictionnaire qui associe à chaque élément son négatif. (4 points)\n",
    "\n",
    "Pour chaque élément du lot, on cherche le voisin le plus proche qui n'est pas le voisin de l'autre élément de la paire.\n",
    "\n",
    "Utilisez un masque pour cacher, dans la matrice de similarité, les voisins.\n",
    "\n",
    "La fonction utilise un paramètre `synonym` qui indique si on travaille sur un lot de synonymes ou d'antonymes. En cas de synonymes, on cherche le voisin le plus proche qui n'est pas un voisin de l'autre élément de la paire. En cas d'antonymes, on cherche le voisin le plus éloigné qui n'est pas un voisin de l'autre élément de la paire."
   ]
  },
  {
   "cell_type": "code",
   "execution_count": 25,
   "metadata": {},
   "outputs": [],
   "source": [
    "def select_negatives(indices, similarity_matrix, neighbors, synonym=True):\n",
    "    \"\"\"\n",
    "    Sélectionne les exemples négatifs à partir de la matrice de similarité et des voisins.\n",
    "\n",
    "    Args : \n",
    "        indices             : torch.Tensor (vocab_size)\n",
    "        Indices des mots présents dans le vocabulaire\n",
    "        \n",
    "        similarity_matrix   : torch.Tensor (vocab_size, vocab_size)\n",
    "        Matrice de similarité entre tous les mots présents dans le vocabulaire.\n",
    "        \n",
    "        neighbors           : list of lists\n",
    "        Liste des voisins de chaque mot. Par exemple, le premier élément de la liste\n",
    "        contiendra tous les voisins du mot 0 dans le vocabulaire.\n",
    "\n",
    "        synonym             : bool, optional (default=True)\n",
    "        Indique si l'on cherche des négatifs pour les synonymes (True) ou pour les antonymes (False).\n",
    "\n",
    "    Returns:\n",
    "    Dictionnaire mappant les mots avec leurs indices de négatifs {mot_index: négatif_index}.\n",
    "    \"\"\"\n",
    "    vocabSize = len(indices)\n",
    "    outDict = {}\n",
    "    for row in range(vocabSize):\n",
    "        similarity_matrix[row,neighbors[row]] = (-2 * synonym + 1) * np.inf # if synonym == True, mask it with -inf, else mask it with +inf\n",
    "        indexSorted = np.argsort(similarity_matrix[row,:].detach().numpy())\n",
    "        outDict[int(indices[row])] = int(indices[indexSorted[-1 * synonym]]) # if synonym, take the last one, else, take the first one\n",
    "\n",
    "    return outDict"
   ]
  },
  {
   "cell_type": "code",
   "execution_count": 26,
   "metadata": {},
   "outputs": [
    {
     "name": "stdout",
     "output_type": "stream",
     "text": [
      "{0: 1, 1: 3, 2: 4, 3: 1, 4: 2}\n"
     ]
    }
   ],
   "source": [
    "# Exemple\n",
    "indices = torch.tensor([0, 1, 2, 3, 4])\n",
    "neighbors = [[0, 2], [1, 4], [2, 0, 2, 3], [3, 2], [4, 1]]\n",
    "\n",
    "similarity_matrix = torch.tensor([\n",
    "    [ 1.0000, -0.4263, -0.7167, -0.9838, -0.5823],\n",
    "    [-0.4263,  1.0000, -0.1600,  0.5088, -0.3708],\n",
    "    [-0.7167, -0.1600,  1.0000,  0.7247,  0.5631],\n",
    "    [-0.9838,  0.5088,  0.7247,  1.0000,  0.4394],\n",
    "    [-0.5823, -0.3708,  0.5631,  0.4394,  1.0000]\n",
    "    ])\n",
    "\n",
    "print(select_negatives(indices, similarity_matrix, neighbors, synonym=True))"
   ]
  },
  {
   "cell_type": "markdown",
   "metadata": {},
   "source": [
    "Réponse attendue\n",
    "\n",
    "`{0: 1, 1: 3, 2: 4, 3: 1, 4: 2}`"
   ]
  },
  {
   "cell_type": "markdown",
   "metadata": {},
   "source": [
    "##### 3.1.4 Implémentez la fonction `run_negative_extraction` qui prépare les paires de synonymes et d'antonymes et appelle `prepare_neighbors` et `select_negatives`. (4 points)\n",
    "\n",
    "Préparez les indices uniques des mots du batch, calculez la similarité des mots, et appelez `prepare_neighbors` et `select_negatives`."
   ]
  },
  {
   "cell_type": "code",
   "execution_count": 28,
   "metadata": {},
   "outputs": [],
   "source": [
    "def run_negative_extraction(model, index_pairs, synonym=True):\n",
    "    \"\"\"\n",
    "    Extrait les exemples négatifs pour un ensemble de paires de mots.\n",
    "\n",
    "    Args :\n",
    "        index_pairs : torch.Tensor de seconde dimension 2\n",
    "        Contient les indices des mots.\n",
    "\n",
    "        synonym     : bool, optional (default=True)\n",
    "        Indique si l'on cherche des négatifs pour les synonymes (True) ou pour les antonymes (False).\n",
    "\n",
    "    Returns:\n",
    "    Dictionnaire mappant les indices des mots avec leurs indices de négatifs {mot_index: négatif_index}.\n",
    "    \"\"\"\n",
    "    # create unix_id\n",
    "    unix_id = torch.unique(index_pairs)\n",
    "\n",
    "    #create index_to_idx\n",
    "    index_to_idx = {}\n",
    "    for i,word_idx in enumerate(unix_id):\n",
    "        index_to_idx[int(word_idx)] = i\n",
    "\n",
    "\n",
    "    # Get the neighbors\n",
    "    neighbors = prepare_neighbors(index_pairs,unix_id,index_to_idx)\n",
    "\n",
    "\n",
    "    # Calculate the similarity matrix\n",
    "    wordEmbeddings = model.embeddings.weight[unix_id,:]\n",
    "    similarity_matrix = cosine_similarity(wordEmbeddings,wordEmbeddings)\n",
    "\n",
    "    return select_negatives(unix_id,similarity_matrix,neighbors)\n",
    "    "
   ]
  },
  {
   "cell_type": "markdown",
   "metadata": {},
   "source": [
    "#### 3.2 Fonctions de coût\n",
    "\n",
    "Pour chaque paire de synonymes $(x^l, x^r)$ *pour x left et x right* dans le lot $B_S$, nous trouvons un négatif $(t^l, t^r)$ ce qui constitue le lot $T_S$:\n",
    "- $ t^l $ est le mot dans le lot le plus proche de $ x^l $ mais qui n'est pas $ x^r $.\n",
    "- $ t^r $ est le mot dans le lot le plus proche de $ x^r $ mais qui n'est pas $ x^l $.\n",
    "\n",
    "De même, pour chaque paire d'antonymes $(x^l, x^r)$ dans le lot $B_A$, nous trouvons un négatif $(t^l, t^r)$ ce qui constitue le lot $T_A$:\n",
    "- $ t^l $ est le mot dans le lot le plus éloigné de $ x^l $ mais qui n'est pas $ x^r $.\n",
    "- $ t^r $ est le mot dans le lot le plus éloigné de $ x^r $ mais qui n'est pas $ x^l $.\n",
    "\n",
    "\n",
    "Comparer un mot à son synonyme (ou antonyme) et à son négatif permet d'entraîner le modèle sur des exemples difficiles qui forcent le modèle à apprendre des représentations plus robustes.\n",
    "\n",
    "Il y aura trois fonctions de coût :\n",
    "1. **Attraction** : Attire les synonymes plus proches les uns des autres.\n",
    "2. **Répulsion** : Repousse les antonymes plus loin les uns des autres.\n",
    "3. **Régularisation** : Évite que les plongements ne s'éloignent trop de ceux du modèle pré-entraîné.\n",
    "\n",
    "Les fonctions de coût sont définies comme suit, en sommant sur `i`, les paires de synonymes et d'antonymes dans les lots $B_S$ et $B_A$ :\n",
    "\n",
    "1. **Attraction** :\n",
    "$$ S(B_S, T_S) = \\sum_{i=1}^{|B_S|} \\left[ \\max \\left(0, \\delta_{syn} + x_i^l t_i^l - x_i^l x_i^r \\right) + \\max \\left( 0, \\delta_{syn} + x_i^r t_i^r - x_i^l x_i^r \\right) \\right] $$\n",
    "\n",
    "1. **Répulsion** :\n",
    "$$ A(B_A, T_A) = \\sum_{i=1}^{|B_A|} \\left[ \\max \\left(0, \\delta_{ant} + x_i^l x_i^r - x_i^l t_i^l \\right) + \\max \\left( 0, \\delta_{ant} + x_i^r x_i^l - x_i^r t_i^r \\right) \\right] $$\n",
    "\n",
    "1. **Régularisation** :\n",
    "$$ R(B_S, B_A) = \\sum_{x_i \\in V(B_S \\cup B_A)} \\lambda_{reg} \\| \\hat{x}_i - x_i \\|^2 $$\n",
    "\n",
    "La fonction de coût totale est la somme de ces trois termes :\n",
    "$$ C(B_S, T_S, B_A, T_A) = S(B_S, T_S) + A(B_A, T_A) + R(B_S, B_A) $$\n",
    "\n",
    "$\\delta_{syn}$, $\\delta_{ant}$ et $\\lambda_{reg}$ sont des hyperparamètres."
   ]
  },
  {
   "cell_type": "markdown",
   "metadata": {},
   "source": [
    "Avec l'exemple précédent, prenons\n",
    "> + $x_i^l$ : voiture\n",
    "> + $x_i^r$: véhicule\n",
    "> + $t_i^l$: plante\n",
    "> \n",
    "> On veut que voiture et véhicule aient un plus grand produit scalaire que voiture et plante, donc que $\\delta_{syn} + x_i^l t_i^l - x_i^l x_i^r <0$, et donc que $S$ soit minimisé. De même pour la deuxième partie de l'équation, symmétrique, avec le 2nd élément du couple."
   ]
  },
  {
   "cell_type": "markdown",
   "metadata": {},
   "source": [
    "##### 3.2.1 Implémentez la fonction `synonym_cost` qui calcule la fonction de coût d'attraction (sur les paires de synonymes). (5 points)\n",
    "\n",
    "$$ S(B_S, T_S) = \\sum_{i=1}^{|B_S|} \\left[ \\max \\left(0, \\delta_{syn} + x_i^l t_i^l - x_i^l x_i^r \\right) + \\max \\left( 0, \\delta_{syn} + x_i^r t_i^r - x_i^l x_i^r \\right) \\right] $$\n",
    "\n",
    "Le membre de gauche pénalise si le mot de gauche est plus éloigné de son négatif que de son synonyme. De même, le membre de droite pénalise si le mot de gauche est plus éloigné de son négatif que de son synonyme.\n"
   ]
  },
  {
   "cell_type": "code",
   "execution_count": 40,
   "metadata": {},
   "outputs": [],
   "source": [
    "def synonym_cost(model, synonym_pairs, synonym_negatives):\n",
    "    \"\"\"\n",
    "    Calcule le coût d'attraction pour les paires de synonymes.\n",
    "\n",
    "    synonym_pairs: liste de tuples d'indices de paires de synonymes\n",
    "    synonym_negatives: dictionnaire de mots avec leurs négatifs {mot_index: négatif_index}\n",
    "\n",
    "    Returns:\n",
    "    torch.Tensor, coût total pour les paires de synonymes\n",
    "    \"\"\"\n",
    "    \n",
    "    S = 0\n",
    "    BSLenght = len(synonym_pairs)\n",
    "    for i in range(BSLenght):\n",
    "        # Get the embeddings and calculate the scalar product\n",
    "        xLtL = torch.dot(model.embeddings.weight[synonym_pairs[i][0],:],\n",
    "                         model.embeddings.weight[synonym_negatives[int(synonym_pairs[i][0])],:])\n",
    "        \n",
    "        xLxR = torch.dot(model.embeddings.weight[synonym_pairs[i][0],:],\n",
    "                         model.embeddings.weight[synonym_pairs[i][1],:])\n",
    "        \n",
    "        xRtR = torch.dot(model.embeddings.weight[synonym_pairs[i][1],:],\n",
    "                         model.embeddings.weight[synonym_negatives[int(synonym_pairs[i][1])],:])\n",
    "        \n",
    "        S += torch.relu(model.margin_plus + xLtL - xLxR) +\\\n",
    "             torch.relu(model.margin_plus + xRtR - xLxR)\n",
    "    return S"
   ]
  },
  {
   "cell_type": "markdown",
   "metadata": {},
   "source": [
    "##### 3.2.2 Implémentez la fonction `antonym_cost` qui calcule la fonction de coût de répulsion (sur les paires d'antonymes). (5 points)\n",
    "\n",
    "$$ A(B_A, T_A) = \\sum_{i=1}^{|B_A|} \\left[ \\max \\left(0, \\delta_{ant} + x_i^l x_i^r - x_i^l t_i^l \\right) + \\max \\left( 0, \\delta_{ant} + x_i^r x_i^l - x_i^r t_i^r \\right) \\right] $$\n",
    "\n",
    "Le membre de gauche pénalise si le mot de gauche est plus éloigné de son antonyme que de son négatif. De même, le membre de droite pénalise si le mot de gauche est plus éloigné de son antonyme que de son négatif."
   ]
  },
  {
   "cell_type": "code",
   "execution_count": 41,
   "metadata": {},
   "outputs": [],
   "source": [
    "def antonym_cost(model, antonym_pairs, antonym_negatives):\n",
    "    \"\"\"\n",
    "    Calcule le coût de répulsion pour les paires d'antonymes.\n",
    "\n",
    "    antonym_pairs: liste de tuples d'indices de paires d'antonymes\n",
    "    antonym_negatives: dictionnaire de mots avec leurs négatifs {mot_index: négatif_index}\n",
    "\n",
    "    Returns:\n",
    "    torch.Tensor, coût total pour les paires d'antonymes\n",
    "    \"\"\"\n",
    "    A = 0\n",
    "    BSLenght = len(antonym_pairs)\n",
    "    for i in range(BSLenght):\n",
    "        # Get the embeddings and calculate the scalar product\n",
    "        xLtL = torch.dot(model.embeddings.weight[antonym_pairs[i][0],:],\n",
    "                         model.embeddings.weight[antonym_negatives[int(antonym_pairs[i][0])],:])\n",
    "        \n",
    "        xLxR = torch.dot(model.embeddings.weight[antonym_pairs[i][0],:],\n",
    "                         model.embeddings.weight[antonym_pairs[i][1],:])\n",
    "        \n",
    "        xRtR = torch.dot(model.embeddings.weight[antonym_pairs[i][1],:],\n",
    "                         model.embeddings.weight[antonym_negatives[int(antonym_pairs[i][1])],:])\n",
    "        \n",
    "        A += torch.relu(model.margin_minus + xLxR - xLtL) +\\\n",
    "             torch.relu(model.margin_minus + xLxR - xRtR)\n",
    "    \n",
    "    return A"
   ]
  },
  {
   "cell_type": "markdown",
   "metadata": {},
   "source": [
    "##### 3.2.3 Implémentez la fonction `regularization_cost` qui calcule la fonction de coût de régularisation. (4 points)\n",
    "\n",
    "$$ R(B_S, B_A) = \\sum_{x_i \\in V(B_S \\cup B_A)} \\lambda_{reg} \\| \\hat{x}_i - x_i \\|^2 $$"
   ]
  },
  {
   "cell_type": "code",
   "execution_count": 42,
   "metadata": {},
   "outputs": [],
   "source": [
    "def regularization_cost(model, synonym_pairs, antonym_pairs):\n",
    "    \"\"\"\n",
    "    Calcule le coût de régularisation pour les paires de synonymes et antonymes.\n",
    "\n",
    "    synonym_pairs: liste de tuples d'indices de paires de synonymes\n",
    "    antonym_pairs: liste de tuples d'indices de paires d'antonymes\n",
    "\n",
    "    Returns:\n",
    "    torch.Tensor, coût total de régularisation\n",
    "    \"\"\"\n",
    "\n",
    "    # join the indexes\n",
    "    synonym_pairsList = list(synonym_pairs.detach().numpy().reshape((-1,)))\n",
    "    antonym_pairsList = list(antonym_pairs.detach().numpy().reshape((-1,)))\n",
    "    indexes = list(set(synonym_pairsList + antonym_pairsList))\n",
    "\n",
    "    R = 0\n",
    "    for index in indexes:\n",
    "        R += model.regularization * torch.norm(\n",
    "            model.embeddings.weight[index,:] -\\\n",
    "            model.original_embeddings.weight[index,:]\n",
    "        )\n",
    "    return R\n",
    "    "
   ]
  },
  {
   "cell_type": "markdown",
   "metadata": {},
   "source": [
    "#### 3.3 Mise en place\n",
    "##### 3.3.1 Implémentez la fonction `forward` qui utilise les fonctions définies plus tôt pour calculer le coût total. (4 points)\n",
    "\n",
    "La fonction prend en entrée un lot de synonymes et un lot d'antonymes, c'est-à-dire des paires de synonymes et des paires d'antonymes.\n",
    "\n",
    "Vous devez trouver les négatifs de tous les mots des lots au moyen de votre fonction  run_negative_extraction puis calculer la fonction de coût totale."
   ]
  },
  {
   "cell_type": "code",
   "execution_count": 43,
   "metadata": {},
   "outputs": [],
   "source": [
    "def forward(model, synonym_pairs, antonym_pairs):\n",
    "    \"\"\"\n",
    "    Fonction forward pour calculer le coût total.\n",
    "\n",
    "    Args : \n",
    "        synonym_pairs   : \n",
    "        Liste de tuples d'indices de paires de synonymes\n",
    "\n",
    "        antonym_pairs   : \n",
    "        Liste de tuples d'indices de paires d'antonymes\n",
    "\n",
    "    Returns:\n",
    "    Tenseur contenant le coût total (attraction, répulsion et régularisation)\n",
    "    \"\"\"\n",
    "    # Get the synonym negatives\n",
    "    with torch.no_grad():\n",
    "        synonym_negatives = run_negative_extraction(model,synonym_pairs,synonym = True)\n",
    "\n",
    "    # We can now evaluate S\n",
    "    S = synonym_cost(model,synonym_pairs,synonym_negatives)\n",
    "    \n",
    "    # Doing the same for antonym_negatives\n",
    "    with torch.no_grad():\n",
    "        antonym_negatives = run_negative_extraction(model,antonym_pairs,synonym = False)\n",
    "\n",
    "    # We can now evaluate A\n",
    "    A = antonym_cost(model,antonym_pairs,antonym_negatives)\n",
    "\n",
    "    # We evaluate the regularization cost\n",
    "    R = regularization_cost(model, synonym_pairs, antonym_pairs)\n",
    "\n",
    "    return S + A + R \n",
    "\n"
   ]
  },
  {
   "cell_type": "markdown",
   "metadata": {},
   "source": [
    "#### 3.3.2 Évaluation (3 points)\n",
    "\n",
    "Utilisez la fonction `spearman_rank_correlation` pour compléter la fonction d'évaluation `evaluate` qui exécute le modèle sur le jeu d'évaluation et calcule la corrélation de Spearman entre les scores prédits et réels.\n",
    "\n",
    "Utilisez `torch.no_grad()` pour éviter de stocker les gradients."
   ]
  },
  {
   "cell_type": "code",
   "execution_count": 44,
   "metadata": {},
   "outputs": [],
   "source": [
    "def evaluate(model, eval_data, word_to_index):\n",
    "    \"\"\"\n",
    "    Calcule les prédictions du modèle sur le jeu d'évaluation puis la corrélation de Spearman entre les scores prédits et réels.\n",
    "\n",
    "    model: modèle de plongements de mots\n",
    "    eval_data: pd.DataFrame\n",
    "    word_to_index: dict\n",
    "\n",
    "    Returns:\n",
    "    float, la corrélation de Spearman entre les scores prédits par le modèle et réels.\n",
    "    \"\"\"\n",
    "\n",
    "    model.eval()\n",
    "    device = model.device\n",
    "    word_pairs = list(zip(eval_data['word 1'], eval_data['word 2']))\n",
    "    eval_indices = [(word_to_index[w1], word_to_index[w2]) for w1, w2 in word_pairs if w1 in word_to_index and w2 in word_to_index]\n",
    "    \n",
    "    # Estimate the score of the embeddings of the words in eval_data\n",
    "    score = []\n",
    "    for pairOfIndexes in eval_indices:\n",
    "        score.append(float(cosine_similarity(\n",
    "            torch.reshape(model.embeddings.weight[pairOfIndexes[0],:],(1,-1)),\n",
    "            torch.reshape(model.embeddings.weight[pairOfIndexes[1],:],(1,-1))\n",
    "        )))\n",
    "    # Estimate the ranks of words in eval_data\n",
    "    rank = getRank(np.array(score))\n",
    "    with torch.no_grad():\n",
    "        sCorrelation = spearman_rank_correlation(\n",
    "            rank,\n",
    "            evaluation_simlex['rank']\n",
    "        )\n",
    "    return sCorrelation\n"
   ]
  },
  {
   "cell_type": "markdown",
   "metadata": {},
   "source": [
    "### 4. Entraînement de zéro (16 Points)\n",
    "\n",
    "Nous allons maintenant entraîner le modèle de zéro, sans utiliser les plongements GloVe pré-entraînés. Ensuite, dans la partie 5, nous entraînerons le modèle en l'initialisant avec les plongements GloVe pré-entraînés."
   ]
  },
  {
   "cell_type": "code",
   "execution_count": 56,
   "metadata": {},
   "outputs": [],
   "source": [
    "# Hyperparamètres, optimiseur et DataLoader\n",
    "\n",
    "BATCH_SIZE = 64\n",
    "NUM_EPOCHS = 20\n",
    "LEARNING_RATE = 5e-2\n",
    "\n",
    "device = 'cuda' if torch.cuda.is_available() else 'cpu'\n",
    "\n",
    "torch.cuda.empty_cache()\n",
    "gc.collect()\n",
    "\n",
    "train_syn_tensor = data_to_tensor(train_synonyms, glove_word_to_index)\n",
    "train_ant_tensor = data_to_tensor(train_antonyms, glove_word_to_index)\n",
    "\n",
    "syn_data_loader = DataLoader(train_syn_tensor, batch_size=BATCH_SIZE, shuffle=True, drop_last=True)\n",
    "ant_data_loader = DataLoader(train_ant_tensor, batch_size=BATCH_SIZE, shuffle=True, drop_last=True)"
   ]
  },
  {
   "cell_type": "markdown",
   "metadata": {},
   "source": [
    "#### 4.1 Complétez la cellule suivante pour créer le modèle de zéro `model_zero`, à partir d'une matrice de plongements aléatoire. (1 point)"
   ]
  },
  {
   "cell_type": "code",
   "execution_count": 57,
   "metadata": {},
   "outputs": [],
   "source": [
    "model_zero = None\n",
    "random_seed = 0\n",
    "random_generator = torch.Generator(device=device).manual_seed(random_seed)\n",
    "\n",
    "embeddings_size = glove_embeddings.size()\n",
    "random_init_embeddings = torch.randn(embeddings_size, generator=random_generator, device=device)\n",
    "\n",
    "\n",
    "model_zero = ContrastiveWordEmbeddingModel(random_init_embeddings,device)\n",
    "\n",
    "optimizer = optim.Adam(model_zero.parameters(), lr=LEARNING_RATE)"
   ]
  },
  {
   "cell_type": "markdown",
   "metadata": {},
   "source": [
    "#### 4.2 Entraînez le modèle sur le jeu des paires de synonymes et d'antonymes. (6 points)\n",
    "\n",
    "N'oubliez pas que l'entraînement se fait sur les synonymes et antonymes et que l'évaluation se fait sur SimLex-999.\n",
    "\n",
    "À défaut d'avoir un jeu de validation, on observe les résultats sur le corpus de test : SimLex-999. Ceci n’est fait qu’à titre illustratif pour voir l'évolution de l'apprentissage. Il ne faut pas faire de choix pour l’entrainement à partir des résultats sur le corpus de test.\n",
    "\n",
    "*Note : Les jeux de synonymes et d'antonymes n'ont pas la même taille. Une époque (epoch) correspond à une itération sur le jeu de données le plus petit.*"
   ]
  },
  {
   "cell_type": "code",
   "execution_count": 58,
   "metadata": {},
   "outputs": [],
   "source": [
    "synIter = iter(syn_data_loader)\n",
    "antIter = iter(ant_data_loader)"
   ]
  },
  {
   "cell_type": "code",
   "execution_count": 59,
   "metadata": {},
   "outputs": [
    {
     "name": "stdout",
     "output_type": "stream",
     "text": [
      "Before training, Spearman Correlation: -0.0272\n",
      "After training, Spearman Correlation: -0.0272\n"
     ]
    }
   ],
   "source": [
    "spearman_corr = evaluate(model_zero, evaluation_simlex, glove_word_to_index)\n",
    "print(f'Before training, Spearman Correlation: {spearman_corr:.4f}')\n",
    "\n",
    "losses = []\n",
    "\n",
    "for epoch in range(NUM_EPOCHS):\n",
    "    \n",
    "    synEpoch = next(synIter)\n",
    "    antEpoch = next(antIter)\n",
    "    \n",
    "\n",
    "    loss = forward(model_zero,synEpoch,antEpoch)\n",
    "    losses += [loss]\n",
    "    loss.backward()\n",
    "    optimizer.step()\n",
    "    optimizer.zero_grad()\n",
    "    i+= 1 \n",
    "\n",
    "spearman_corr = evaluate(model_zero, evaluation_simlex, glove_word_to_index)\n",
    "print(f'After training, Spearman Correlation: {spearman_corr:.4f}')"
   ]
  },
  {
   "cell_type": "code",
   "execution_count": 60,
   "metadata": {},
   "outputs": [
    {
     "data": {
      "text/plain": [
       "[6200.44873046875,\n",
       " 6114.87939453125,\n",
       " 6358.13818359375,\n",
       " 6777.5322265625,\n",
       " 5726.81494140625,\n",
       " 5769.15625,\n",
       " 5663.6005859375,\n",
       " 5728.93505859375,\n",
       " 6219.07177734375,\n",
       " 6974.505859375,\n",
       " 7120.26513671875,\n",
       " 5193.8642578125,\n",
       " 6038.3505859375,\n",
       " 5366.57470703125,\n",
       " 6037.13037109375,\n",
       " 6350.68017578125,\n",
       " 6095.1455078125,\n",
       " 5967.42822265625,\n",
       " 6577.3359375,\n",
       " 5988.23583984375]"
      ]
     },
     "execution_count": 60,
     "metadata": {},
     "output_type": "execute_result"
    }
   ],
   "source": [
    "losses = [float(l) for l in losses]\n",
    "losses"
   ]
  },
  {
   "cell_type": "markdown",
   "metadata": {},
   "source": [
    "#### 4.3 Courbes d'entraînement du modèle de zéro (4 points)\n",
    "\n",
    "Affichez la perte moyenne sur le jeu d'entraînement et la corrélation de Spearman sur le jeu de validation à chaque époque."
   ]
  },
  {
   "cell_type": "code",
   "execution_count": null,
   "metadata": {},
   "outputs": [],
   "source": [
    "# TODO\n",
    "# END TODO\n"
   ]
  },
  {
   "cell_type": "markdown",
   "metadata": {},
   "source": [
    "#### 4.4 Évaluation du modèle de zéro et comparaison avec GloVe (5 points)\n",
    "\n",
    "Comparez le modèle de zéro après l'entraînement à GloVe (résultat de la partie 2.4) en termes de corrélation de Spearman sur le jeu de validation. Quelle méthode est la plus performante ? Pourquoi ?\n"
   ]
  },
  {
   "cell_type": "markdown",
   "metadata": {},
   "source": [
    "### 5. Intérêt de GloVe (18 Points)\n",
    "\n",
    "Dans la section précédente, nous avons entraîné un modèle de zéro.\n",
    "\n",
    "Nous allons maintenant évaluer si initialiser le modèle avec les plongements de GloVe permet d'améliorer les performances."
   ]
  },
  {
   "cell_type": "markdown",
   "metadata": {},
   "source": [
    "#### 5.1 Initialisation avec GloVe (6 points)\n",
    "\n",
    "Entraînez le modèle `model_fine_tuned`, mais cette fois en ititialisant directement avec les plongements du modèle pré-entraîné GloVe.\n",
    "\n",
    "On utilisera Adam comme optimiseur."
   ]
  },
  {
   "cell_type": "code",
   "execution_count": null,
   "metadata": {},
   "outputs": [],
   "source": [
    "# TODO\n",
    "model_fine_tuned = None\n",
    "# END TODO"
   ]
  },
  {
   "cell_type": "code",
   "execution_count": null,
   "metadata": {},
   "outputs": [],
   "source": [
    "spearman_corr = evaluate(model_fine_tuned, evaluation_simlex, glove_word_to_index)\n",
    "print(f'Before training, Spearman Correlation: {spearman_corr:.4f}')\n",
    "\n",
    "# TODO\n",
    "# END TODO"
   ]
  },
  {
   "cell_type": "markdown",
   "metadata": {},
   "source": [
    "#### 5.2 Courbes d'entraînement (4 points)\n",
    "\n",
    "Affichez la perte moyenne sur le jeu d'entraînement et la corrélation de Spearman sur le jeu de validation à chaque époque."
   ]
  },
  {
   "cell_type": "code",
   "execution_count": null,
   "metadata": {},
   "outputs": [],
   "source": [
    "# TODO\n",
    "# END TODO\n"
   ]
  },
  {
   "cell_type": "markdown",
   "metadata": {},
   "source": [
    "#### 5.3 Vérification sur un exemple (3 points)\n",
    "\n",
    "Avec le modèle `model_fine_tuned`, calculez la similarité cosinus entre 'fast' et 'slow' et entre 'fast' et 'rapid'. Commentez les résultats en les comparant avec ceux de la partie 1.4."
   ]
  },
  {
   "cell_type": "code",
   "execution_count": null,
   "metadata": {},
   "outputs": [],
   "source": [
    "# TODO\n",
    "# END TODO"
   ]
  },
  {
   "cell_type": "markdown",
   "metadata": {},
   "source": [
    "#### 5.4 Analyse, comparaison, conclusion (5 points)\n",
    "\n",
    "Comparez les performances des trois modèles (GloVe, zéro, fine-tuned). Quelle méthode est la plus performante ? Pourquoi ?\n"
   ]
  },
  {
   "cell_type": "markdown",
   "metadata": {},
   "source": [
    "## Livrables\n",
    "Vous devez remettre votre notebook sur Moodle et Gradescope en ipynb et pdf. Pour Gradescope vous devez associer les numéros de questions avec vos réponses dans le pdf grâce à l'outil que fournit Gradescope.\n",
    "\n",
    "\n",
    "## Évaluation \n",
    "Votre TP sera évalué selon les critères suivants :\n",
    "1. Exécution correcte du code et obtention des sorties attendues\n",
    "2. Réponses correctes aux questions d'analyse\n",
    "3. Qualité du code (noms significatifs, structure, performance, gestion d’exception, etc.)\n",
    "4. Commentaires clairs et informatifs"
   ]
  }
 ],
 "metadata": {
  "kernelspec": {
   "display_name": "Python 3 (ipykernel)",
   "language": "python",
   "name": "python3"
  },
  "language_info": {
   "codemirror_mode": {
    "name": "ipython",
    "version": 3
   },
   "file_extension": ".py",
   "mimetype": "text/x-python",
   "name": "python",
   "nbconvert_exporter": "python",
   "pygments_lexer": "ipython3",
   "version": "3.12.4"
  }
 },
 "nbformat": 4,
 "nbformat_minor": 4
}
