{
 "cells": [
  {
   "cell_type": "markdown",
   "metadata": {
    "id": "znlt8jyJKg-5"
   },
   "source": [
    "##### INF8460 – Traitement automatique de la langue naturelle - Automne 2024\n",
    "### TP1 - Recherche de documents avec une métrique de similarité\n"
   ]
  },
  {
   "cell_type": "markdown",
   "metadata": {},
   "source": [
    "blabliblou"
   ]
  },
  {
   "cell_type": "markdown",
   "metadata": {},
   "source": [
    "## Identification de l'équipe:\n",
    "\n",
    "### Groupe de laboratoire:\n",
    "\n",
    "### Equipe numéro :\n",
    "\n",
    "### Membres:\n",
    "\n",
    "- membre 1 (% de contribution, nature de la contribution)\n",
    "- membre 2 (% de contribution, nature de la contribution)\n",
    "- membre 3 (% de contribution, nature de la contribution)\n",
    "\n",
    "* nature de la contribution: Décrivez brièvement ce qui a été fait par chaque membre de l’équipe. Tous les membres sont censés contribuer au développement. Bien que chaque membre puisse effectuer différentes tâches, vous devez vous efforcer d’obtenir une répartition égale du travail. Soyez précis ! N'indiquez pas seulement : travail réparti équitablement"
   ]
  },
  {
   "cell_type": "markdown",
   "metadata": {},
   "source": [
    "## Mise en place"
   ]
  },
  {
   "cell_type": "markdown",
   "metadata": {},
   "source": [
    "### Objectif du TP\n",
    "\n",
    "La recherche d'information est le processus d'accès aux données, généralement des documents ou d'autres données non structurées, à partir d'une requête. Dans ce TP, vous aurez en entrée une requête textuelle sous forme d'affirmation. Il faudra retrouver dans un corpus de littérature scientifique les documents pertinents qui justifient ou infirment la véracité de cette affirmation. Vous utiliserez des modèles vectoriels et des métriques de similarité pour cette tâche."
   ]
  },
  {
   "cell_type": "markdown",
   "metadata": {},
   "source": [
    "### Jeux de données\n",
    "\n",
    "Dans ce TP, vous utiliserez le jeu de données dans le répertoire _data_. Il s'agit d'un ensemble de données comprenant 809 affirmations rédigées par des experts et 5183 documents de références pour ces affirmations. Ces documents contiennent des phrases qui confirment ou infirment (contredisent) les affirmations. L'objectif est donc de trouver un document pertinent, c'est-à-dire contenant la ou les phrases qui permettent d'évaluer une affirmation donnée en entrée en utilisant une similarité sémantique. \n",
    "\n",
    "Le jeu de données comprend :\n",
    "\n",
    "1. Un corpus (_corpus.jsonl_) qui contient des documents décrits avec les informations suivantes :\n",
    "    - 'doc_id' : permet d'identifier le document en entrée\n",
    "    - 'title' : donne le titre du document\n",
    "    - 'abstract': est le résumé du document\n",
    "    - 'structured': indique si le document est structuré ou pas\n",
    "\n",
    "2. Un ensemble d'affirmations (_claims.jsonl_) qui contient des documents décrits avec les informations suivantes :\n",
    "    - 'id' : identifie l'affirmation.\n",
    "    - 'claim' : est l'affirmation en tant que telle.\n",
    "    - 'evidence' : précise quelles phrases du document sont pertinentes pour l'affirmation. Chaque phrase est accompagnée d'une étiquette de véracité (confirm/contradict) pour indiquer si la phrase confirme ou contredit l'affirmation.  \n",
    "    - 'cited_doc_ids' : indique les identifiants des documents cités.\n",
    "\n",
    "\n",
    "\n",
    "Dans _claims.jsonl_, seuls les identifiants des documents sont renseignés. Pour avoir les détails d'un document tel que le titre (\"title\") et le résumé (\"abstract\"), il faudra consulter le fichier _corpus.jsonl_. \n",
    "\n",
    "Voici un exemple :\n",
    "\n",
    "- **Affirmation (claim)** : Consumption of whole fruits increases the risk of type 2 diabetes.\n",
    "- **Cited document(s) ID(s)** : 1974176\n",
    "- **Evidence (sentence in the document containing the proof)** : [{'sentences': [11], 'label': 'CONTRADICT'}]\n",
    "\n",
    "  Ici [11] constitue le numéro de la phrase qui contredit l'affirmation.\n",
    "\n",
    "- **Cited document(s) title(s)** : Fruit consumption and risk of type 2 diabetes: results from three prospective longitudinal cohort studies\n",
    "- **Cited document(s) abstract(s) (list of sentences)** : \n",
    "    - [0] 'OBJECTIVE To determine whether individual fruits are differentially associated with risk of type 2 diabetes.\\n'\n",
    "    - [1] 'DESIGN Prospective longitudinal cohort study.'\n",
    "    - ...\n",
    "    - [10] 'CONCLUSION Our findings suggest the presence of heterogeneity in the associations between individual fruit consumption and risk of type 2 diabetes.'\n",
    "    - [11] 'Greater consumption of specific whole fruits, particularly blueberries, grapes, and apples, is significantly associated with a lower risk of type 2 diabetes, whereas greater consumption of fruit juice is associated with a higher risk.'\n",
    "\n",
    "Le champ \"evidence\" indique la phrase au niveau du résumé du document qui confirme ou infirme l'affirmation, d'où le numéro de la phrase et le label qui y sont renseignés. Dans le cas particulier de l'exemple ci-dessus, on voit bien que la onzième phrase du résumé du document est la plus pertinente pour l'affirmation et qu'elle la contredit, ce qui explique le label \"CONTRADICT\" dans \"evidence\". Cependant, dans le cadre de ce TP, on ne s'intéresse qu'à la présence de cette phrase pertinente dans le document, donc on ne considérera pas cette colonne \"evidence\" dans la suite du TP."
   ]
  },
  {
   "cell_type": "markdown",
   "metadata": {
    "id": "26Qe_-7z25EE"
   },
   "source": [
    "### Librairies permises\n",
    "- Jupyter notebook\n",
    "- NLTK\n",
    "- Numpy \n",
    "- Pandas\n",
    "- Sklearn\n",
    "- PowerLaw\n",
    "- Matplotlib\n",
    "- TQDM\n",
    "- BM25\n",
    "- Pour toute autre librairie, demandez à votre chargé de laboratoire"
   ]
  },
  {
   "cell_type": "markdown",
   "metadata": {
    "id": "zupXN9tr3oEa"
   },
   "source": [
    "## Étapes du TP\n",
    "A partir du notebook _INF8460_A24_TP1_ qui est distribué, vous devez réaliser les étapes suivantes. (Notez que les cellules dans le squelette sont là à titre informatif - il est fort probable que vous rajoutiez des sections au fur et à mesure de votre TP)."
   ]
  },
  {
   "cell_type": "code",
   "execution_count": 1,
   "metadata": {},
   "outputs": [],
   "source": [
    "# Lien vers les fichiers à utiliser\n",
    "# Ne pas modifier\n",
    "\n",
    "PATH = 'data/ai2_data/'"
   ]
  },
  {
   "cell_type": "code",
   "execution_count": 2,
   "metadata": {},
   "outputs": [],
   "source": [
    "# !pip install rank_bm25 \n",
    "# !pip install powerlaw"
   ]
  },
  {
   "cell_type": "code",
   "execution_count": 3,
   "metadata": {},
   "outputs": [],
   "source": [
    "# Import des librairies\n",
    "\n",
    "import numpy as np\n",
    "import pandas as pd\n",
    "import powerlaw\n",
    "from collections import defaultdict, Counter\n",
    "from tqdm import tqdm\n",
    "import matplotlib.pyplot as plt\n",
    "from typing import List, Dict\n",
    "\n",
    "import nltk\n",
    "from nltk.tokenize import word_tokenize\n",
    "from nltk.stem.porter import PorterStemmer\n",
    "from nltk.corpus import stopwords\n",
    "from string import punctuation\n",
    "\n",
    "import sklearn\n",
    "from sklearn.feature_extraction.text import TfidfVectorizer\n",
    "from sklearn.metrics.pairwise import cosine_similarity\n",
    "\n",
    "from rank_bm25 import BM25Okapi"
   ]
  },
  {
   "cell_type": "code",
   "execution_count": 4,
   "metadata": {},
   "outputs": [
    {
     "name": "stderr",
     "output_type": "stream",
     "text": [
      "[nltk_data] Downloading package punkt to /Users/axelmorin/nltk_data...\n",
      "[nltk_data]   Package punkt is already up-to-date!\n",
      "[nltk_data] Downloading package punkt_tab to\n",
      "[nltk_data]     /Users/axelmorin/nltk_data...\n",
      "[nltk_data]   Package punkt_tab is already up-to-date!\n",
      "[nltk_data] Downloading package stopwords to\n",
      "[nltk_data]     /Users/axelmorin/nltk_data...\n",
      "[nltk_data]   Package stopwords is already up-to-date!\n"
     ]
    }
   ],
   "source": [
    "nltk.download('punkt')\n",
    "nltk.download('punkt_tab')\n",
    "nltk.download('stopwords')\n",
    "stop_words = stopwords.words('english')"
   ]
  },
  {
   "cell_type": "markdown",
   "metadata": {},
   "source": [
    "### 1. Traitement des données (15 points)\n",
    "Vous allez effectuer une analyse afin d'avoir une idée claire des données que vous aurez à manipuler."
   ]
  },
  {
   "cell_type": "markdown",
   "metadata": {},
   "source": [
    "#### 1.1 Chargement des données (2 points)"
   ]
  },
  {
   "cell_type": "markdown",
   "metadata": {},
   "source": [
    "##### 1.1.1 Chargement et affichage des données (1 point)\n",
    "\n",
    "Chargez les données '_claims.jsonl_' et '_corpus.jsonl_' puis affichez-les dans des dataframes en utilisant panda."
   ]
  },
  {
   "cell_type": "code",
   "execution_count": 5,
   "metadata": {},
   "outputs": [
    {
     "name": "stdout",
     "output_type": "stream",
     "text": [
      "N corpus : 5183 lines\n"
     ]
    },
    {
     "data": {
      "text/html": [
       "<div>\n",
       "<style scoped>\n",
       "    .dataframe tbody tr th:only-of-type {\n",
       "        vertical-align: middle;\n",
       "    }\n",
       "\n",
       "    .dataframe tbody tr th {\n",
       "        vertical-align: top;\n",
       "    }\n",
       "\n",
       "    .dataframe thead th {\n",
       "        text-align: right;\n",
       "    }\n",
       "</style>\n",
       "<table border=\"1\" class=\"dataframe\">\n",
       "  <thead>\n",
       "    <tr style=\"text-align: right;\">\n",
       "      <th></th>\n",
       "      <th>doc_id</th>\n",
       "      <th>title</th>\n",
       "      <th>abstract</th>\n",
       "      <th>structured</th>\n",
       "    </tr>\n",
       "  </thead>\n",
       "  <tbody>\n",
       "    <tr>\n",
       "      <th>0</th>\n",
       "      <td>4983</td>\n",
       "      <td>Microstructural development of human newborn c...</td>\n",
       "      <td>[Alterations of the architecture of cerebral w...</td>\n",
       "      <td>False</td>\n",
       "    </tr>\n",
       "    <tr>\n",
       "      <th>1</th>\n",
       "      <td>5836</td>\n",
       "      <td>Induction of myelodysplasia by myeloid-derived...</td>\n",
       "      <td>[Myelodysplastic syndromes (MDS) are age-depen...</td>\n",
       "      <td>False</td>\n",
       "    </tr>\n",
       "    <tr>\n",
       "      <th>2</th>\n",
       "      <td>7912</td>\n",
       "      <td>BC1 RNA, the transcript from a master gene for...</td>\n",
       "      <td>[ID elements are short interspersed elements (...</td>\n",
       "      <td>False</td>\n",
       "    </tr>\n",
       "    <tr>\n",
       "      <th>3</th>\n",
       "      <td>18670</td>\n",
       "      <td>The DNA Methylome of Human Peripheral Blood Mo...</td>\n",
       "      <td>[DNA methylation plays an important role in bi...</td>\n",
       "      <td>False</td>\n",
       "    </tr>\n",
       "    <tr>\n",
       "      <th>4</th>\n",
       "      <td>19238</td>\n",
       "      <td>The human myelin basic protein gene is include...</td>\n",
       "      <td>[Two human Golli (for gene expressed in the ol...</td>\n",
       "      <td>False</td>\n",
       "    </tr>\n",
       "  </tbody>\n",
       "</table>\n",
       "</div>"
      ],
      "text/plain": [
       "   doc_id                                              title  \\\n",
       "0    4983  Microstructural development of human newborn c...   \n",
       "1    5836  Induction of myelodysplasia by myeloid-derived...   \n",
       "2    7912  BC1 RNA, the transcript from a master gene for...   \n",
       "3   18670  The DNA Methylome of Human Peripheral Blood Mo...   \n",
       "4   19238  The human myelin basic protein gene is include...   \n",
       "\n",
       "                                            abstract  structured  \n",
       "0  [Alterations of the architecture of cerebral w...       False  \n",
       "1  [Myelodysplastic syndromes (MDS) are age-depen...       False  \n",
       "2  [ID elements are short interspersed elements (...       False  \n",
       "3  [DNA methylation plays an important role in bi...       False  \n",
       "4  [Two human Golli (for gene expressed in the ol...       False  "
      ]
     },
     "execution_count": 5,
     "metadata": {},
     "output_type": "execute_result"
    }
   ],
   "source": [
    "# Read JSON File\n",
    "df_corpus = pd.read_json(PATH + \"corpus.jsonl\", lines = True)\n",
    "print(f'N corpus : {len(df_corpus)} lines')\n",
    "df_corpus.head()"
   ]
  },
  {
   "cell_type": "code",
   "execution_count": 6,
   "metadata": {},
   "outputs": [
    {
     "name": "stdout",
     "output_type": "stream",
     "text": [
      "N claims : 809 lines\n"
     ]
    },
    {
     "data": {
      "text/html": [
       "<div>\n",
       "<style scoped>\n",
       "    .dataframe tbody tr th:only-of-type {\n",
       "        vertical-align: middle;\n",
       "    }\n",
       "\n",
       "    .dataframe tbody tr th {\n",
       "        vertical-align: top;\n",
       "    }\n",
       "\n",
       "    .dataframe thead th {\n",
       "        text-align: right;\n",
       "    }\n",
       "</style>\n",
       "<table border=\"1\" class=\"dataframe\">\n",
       "  <thead>\n",
       "    <tr style=\"text-align: right;\">\n",
       "      <th></th>\n",
       "      <th>id</th>\n",
       "      <th>claim</th>\n",
       "      <th>evidence</th>\n",
       "      <th>cited_doc_ids</th>\n",
       "    </tr>\n",
       "  </thead>\n",
       "  <tbody>\n",
       "    <tr>\n",
       "      <th>0</th>\n",
       "      <td>0</td>\n",
       "      <td>0-dimensional biomaterials lack inductive prop...</td>\n",
       "      <td>{}</td>\n",
       "      <td>[31715818]</td>\n",
       "    </tr>\n",
       "    <tr>\n",
       "      <th>1</th>\n",
       "      <td>2</td>\n",
       "      <td>1 in 5 million in UK have abnormal PrP positiv...</td>\n",
       "      <td>{'13734012': [{'sentences': [4], 'label': 'CON...</td>\n",
       "      <td>[13734012]</td>\n",
       "    </tr>\n",
       "    <tr>\n",
       "      <th>2</th>\n",
       "      <td>4</td>\n",
       "      <td>1-1% of colorectal cancer patients are diagnos...</td>\n",
       "      <td>{}</td>\n",
       "      <td>[22942787]</td>\n",
       "    </tr>\n",
       "    <tr>\n",
       "      <th>3</th>\n",
       "      <td>6</td>\n",
       "      <td>10% of sudden infant death syndrome (SIDS) dea...</td>\n",
       "      <td>{}</td>\n",
       "      <td>[2613775]</td>\n",
       "    </tr>\n",
       "    <tr>\n",
       "      <th>4</th>\n",
       "      <td>9</td>\n",
       "      <td>32% of liver transplantation programs required...</td>\n",
       "      <td>{'44265107': [{'sentences': [15], 'label': 'SU...</td>\n",
       "      <td>[44265107]</td>\n",
       "    </tr>\n",
       "  </tbody>\n",
       "</table>\n",
       "</div>"
      ],
      "text/plain": [
       "   id                                              claim  \\\n",
       "0   0  0-dimensional biomaterials lack inductive prop...   \n",
       "1   2  1 in 5 million in UK have abnormal PrP positiv...   \n",
       "2   4  1-1% of colorectal cancer patients are diagnos...   \n",
       "3   6  10% of sudden infant death syndrome (SIDS) dea...   \n",
       "4   9  32% of liver transplantation programs required...   \n",
       "\n",
       "                                            evidence cited_doc_ids  \n",
       "0                                                 {}    [31715818]  \n",
       "1  {'13734012': [{'sentences': [4], 'label': 'CON...    [13734012]  \n",
       "2                                                 {}    [22942787]  \n",
       "3                                                 {}     [2613775]  \n",
       "4  {'44265107': [{'sentences': [15], 'label': 'SU...    [44265107]  "
      ]
     },
     "execution_count": 6,
     "metadata": {},
     "output_type": "execute_result"
    }
   ],
   "source": [
    "df_claims = pd.read_json(PATH + \"claims.jsonl\", lines = True)\n",
    "print(f'N claims : {len(df_claims)} lines')\n",
    "df_claims.head()"
   ]
  },
  {
   "cell_type": "markdown",
   "metadata": {},
   "source": [
    "##### 1.1.2 Statistique sur les évidences (1 point)\n",
    "\n",
    "Calculez les pourcentages d'apparition de chaque label des évidences dans \"_df_claims_\" (CONTRADICT ou SUPPORT). Pour rappel les évidences sont les extraits pertinents des résumés qui supportent ou contredisent les affirmations. "
   ]
  },
  {
   "cell_type": "code",
   "execution_count": 7,
   "metadata": {},
   "outputs": [
    {
     "name": "stdout",
     "output_type": "stream",
     "text": [
      "the support rate in the claims dataframe is : 64.36% whereas the contradict rate is 35.63%\n"
     ]
    }
   ],
   "source": [
    "# Loop through df_claims lines\n",
    "# extract the evidences and count it as SUPPORT or CONTRADICT\n",
    "\n",
    "def appearanceRate(df_claims):\n",
    "    supportCount = 0\n",
    "    contradictCount = 0\n",
    "    for evidence in df_claims[\"evidence\"]:\n",
    "        #The evidence is a dictionnary containing lists so we're gonna loop through the dictionnary and then the lists\n",
    "        for key in evidence:\n",
    "            for element in evidence[key]:\n",
    "                # the elements of the lists are dictionnaries with the given keys: \n",
    "                # sentences : id of the sentence in the corpus\n",
    "                # label : CONTRADICT or SUPPORT\n",
    "                try : \n",
    "                    if element[\"label\"] == 'SUPPORT':\n",
    "                        supportCount+=1\n",
    "                    elif element[\"label\"] == 'CONTRADICT':\n",
    "                        contradictCount += 1\n",
    "                    else:\n",
    "                        print(element[\"label\"])\n",
    "                except:\n",
    "                    print(f'element {element} doesn\"t contain a label key, instead\\nkeys : {element.keys()}')\n",
    "                    pass\n",
    "    supportRate = supportCount / (supportCount + contradictCount)\n",
    "    contradictRate = contradictCount / (supportCount + contradictCount)\n",
    "    \n",
    "    return supportRate,contradictRate\n",
    "\n",
    "sRate,cRate = appearanceRate(df_claims)\n",
    "print(f'the support rate in the claims dataframe is : {int(sRate * 1e4)/1e2}% whereas the contradict rate is {int(cRate * 1e4)/1e2}%')"
   ]
  },
  {
   "cell_type": "markdown",
   "metadata": {},
   "source": [
    "> Réponse attendue:\n",
    "> \n",
    "> CONTRADICT: 35.63%\n",
    "> \n",
    "> SUPPORT: 64.37%"
   ]
  },
  {
   "cell_type": "markdown",
   "metadata": {},
   "source": [
    "#### 1.2 Analyse statistique des données (7 points)\n",
    "\n",
    "Nous allons faire une suite de transformations sur les données pour les rendre plus faciles à manipuler."
   ]
  },
  {
   "cell_type": "markdown",
   "metadata": {},
   "source": [
    "##### 1.2.1 Implémentation de la fonction \"_list_to_string_\" \n",
    "\n",
    "Nous mettons à votre disposition la fonction \"_list_to_string_\" qui transforme une liste de phrases en un texte en les concaténant et enlèvant tous les caractères de nouvelle ligne (`\\n`) pour s'assurer que nous avons un texte complet. "
   ]
  },
  {
   "cell_type": "code",
   "execution_count": 8,
   "metadata": {},
   "outputs": [],
   "source": [
    "# On transforme la liste de phrases en un texte\n",
    "def list_to_string(x):\n",
    "    if isinstance(x, list):\n",
    "        # Enlève les caractère de retour à la ligne et convertit les éléments de la liste en chaînes et les joint\n",
    "        return ' '.join(str(i).replace(\"\\n\",\"\").replace(\"  \",\" \") for i in x)  \n",
    "    return str(x)"
   ]
  },
  {
   "cell_type": "markdown",
   "metadata": {},
   "source": [
    "##### 1.2.2 Utilisation de la fonction \"_list_to_string_\" \n",
    "\n",
    "Appliquons cette fonction \"_list_to_string_\" aux colonnes \"_title_\" et \"abstract\" du dataframe \"_df_corpus_\"."
   ]
  },
  {
   "cell_type": "code",
   "execution_count": 9,
   "metadata": {},
   "outputs": [],
   "source": [
    "# On applique la fonction aux colonnes \"title\" et \"abstract\"\n",
    "df_corpus['title']    = df_corpus['title'].apply(list_to_string)\n",
    "df_corpus['abstract'] = df_corpus['abstract'].apply(list_to_string)"
   ]
  },
  {
   "cell_type": "markdown",
   "metadata": {},
   "source": [
    "##### 1.2.3 Ajout de la colonne \"_text_\" dans \"df_corpus\"\n",
    "\n",
    "\n",
    "Ajoutons maintenant une colonne \"_text_\" qui est la concaténation du titre (\"_title_\") et du résumé (\"_abstract_\") au niveau du dataframe \"df_corpus\"."
   ]
  },
  {
   "cell_type": "code",
   "execution_count": 10,
   "metadata": {},
   "outputs": [],
   "source": [
    "# On concatene les textes dans \"title\" et \"abstract\"\n",
    "df_corpus['text'] = df_corpus['title'] + \" \" + df_corpus['abstract']"
   ]
  },
  {
   "cell_type": "markdown",
   "metadata": {},
   "source": [
    "##### 1.2.4 Ajout de colonnes dans \"_df_claims_\" (1 point)\n",
    "\n",
    "Ajoutez les colonnes \"_claim_length_\" et \"_num_cited_doc_\" qui donnent, pour chaque affirmation, le nombre de mots dans la colonne \"_claim_\" et le nombre de documents cités au niveau de la colonne \"_cited_doc_ids_\" pour le dataframe \"_df_claims_\". Vous pouvez considérer que des mots sont simplement une séquence de caractères séparés par un espace."
   ]
  },
  {
   "cell_type": "code",
   "execution_count": 11,
   "metadata": {},
   "outputs": [],
   "source": [
    "# We assume we do not need any tokenization procedure to count the number instead we are going to count \n",
    "# how many groups of strings are split by a blank\n",
    "def nWordsByHand(input):\n",
    "    # the input is a string \n",
    "    # We split the given string with a blank sep into a list and return the length of the list \n",
    "    l = input.split(sep = \" \")\n",
    "    return len(l)\n",
    "\n",
    "def nCitedDocumentsByHand(input):\n",
    "    # the input is a dictionnary \n",
    "    # the keys of the dictionnary refers to the id of the cited document\n",
    "    # we simply return the length of the dictionnary\n",
    "    return len(input)\n",
    "\n",
    "df_claims['claim_length'] = df_claims['claim'].apply(nWordsByHand)\n",
    "df_claims['num_cited_doc'] = df_claims['cited_doc_ids'].apply(nCitedDocumentsByHand)"
   ]
  },
  {
   "cell_type": "markdown",
   "metadata": {},
   "source": [
    "##### 1.2.5 Ajout des colonnes de mesures de longeurs de textes (documents) (1 point)\n",
    "\n",
    "Ajoutez les colonnes \"_title_length_\", \"_abstract_length_\" et \"_text_length_\" qui donnent le nombre de mots dans les colonnes \"_title_\", \"_abstract_\" et \"_text_\" du dataframe \"_df_corpus_\". Pour le reste du TP, nous définirons la longueur du \"_title_\", \"_abstract_\" et du \"_text_\" comme étant le nombre de mots dans les chaînes de caractères respectives. Encore une fois, vous pouvez considérer que des mots sont simplement une séquence de caractères séparés par un espace."
   ]
  },
  {
   "cell_type": "code",
   "execution_count": 13,
   "metadata": {},
   "outputs": [],
   "source": [
    "# Following the same procedure as the cell above\n",
    "df_corpus['title_length'] = df_corpus['title'].apply(nWordsByHand)\n",
    "df_corpus['abstract_length'] = df_corpus['abstract'].apply(nWordsByHand)\n",
    "df_corpus['text_length'] = df_corpus['text'].apply(nWordsByHand)"
   ]
  },
  {
   "cell_type": "markdown",
   "metadata": {},
   "source": [
    "##### 1.2.6 Analyse statistique (1.5 point)\n",
    "\n",
    "Faites l'analyse statistique des données en affichant le \"_min_\", le \"_max_\" et la \"_moyenne_\" pour les deux colonnes \"_claim_length_\" et \"_num_cited_doc_\" que vous venez de créer."
   ]
  },
  {
   "cell_type": "code",
   "execution_count": 15,
   "metadata": {},
   "outputs": [
    {
     "name": "stdout",
     "output_type": "stream",
     "text": [
      "Claim Length\n",
      "----------\n",
      "Min :        3.0\n",
      "Max :       39.0\n",
      "Mean :    12.3362\n",
      "Var :    21.7781\n",
      "----------\n",
      "\n",
      "\n",
      "\n",
      "Num cited Docs\n",
      "----------\n",
      "Min :        1.0\n",
      "Max :        5.0\n",
      "Mean :     1.1359\n",
      "Var :     0.2237\n",
      "----------\n",
      "\n",
      "\n",
      "\n"
     ]
    }
   ],
   "source": [
    "def basicStats(input,printResult = False):\n",
    "    # the input is a panda.Series object\n",
    "    # We return the min, max, mean and var of the input\n",
    "    input = np.array(input)\n",
    "    min,max,mean,variance = np.min(input), np.max(input), np.mean(input), np.var(input)\n",
    "    \n",
    "    if printResult:\n",
    "        print('-'*10)\n",
    "        print(f'Min : {int(min*1e4)/1e4:>10}\\nMax : {int(max*1e4)/1e4:>10}\\nMean : {int(mean*1e4)/1e4:>10}\\nVar : {int(variance*1e4)/1e4:>10}')\n",
    "        print('-'*10)\n",
    "        print('\\n\\n')\n",
    "print(\"Claim Length\")\n",
    "basicStats(df_claims['claim_length'],True)\n",
    "print(\"Num cited Docs\")\n",
    "basicStats(df_claims['num_cited_doc'],True)"
   ]
  },
  {
   "cell_type": "markdown",
   "metadata": {},
   "source": [
    "##### 1.2.7 Histogrammes (2 points)\n",
    "\n",
    "En considérant le dataframe du corpus de résumés (\"_df_corpus_\"), affichez dans 3 histogrammes les distributions suivantes:\n",
    "\n",
    "- Fréquence des titres ('_title_') en fonction de leur longueur\n",
    "- Fréquence des résumés ('_abstract_') en fonction de leur longueur\n",
    "- Fréquence des textes ('_text_') en fonction de leur longueur\n",
    "\n",
    "Utilisez la valeur de 30 pour le paramètre \"_bins_\""
   ]
  },
  {
   "cell_type": "code",
   "execution_count": 16,
   "metadata": {},
   "outputs": [
    {
     "data": {
      "image/png": "[encoded data removed]",
      "text/plain": [
       "<Figure size 640x480 with 1 Axes>"
      ]
     },
     "metadata": {},
     "output_type": "display_data"
    },
    {
     "data": {
      "image/png": "[encoded data removed]",
      "text/plain": [
       "<Figure size 640x480 with 1 Axes>"
      ]
     },
     "metadata": {},
     "output_type": "display_data"
    },
    {
     "data": {
      "image/png": "[encoded data removed]",
      "text/plain": [
       "<Figure size 640x480 with 1 Axes>"
      ]
     },
     "metadata": {},
     "output_type": "display_data"
    }
   ],
   "source": [
    "def createHist(df,key):\n",
    "    # the input is a dataframe and the key being the column to display\n",
    "    # the output is a histogram\n",
    "    df.hist(column = key,bins=30)\n",
    "\n",
    "createHist(df_corpus,'title_length')\n",
    "createHist(df_corpus,'abstract_length')\n",
    "createHist(df_corpus,'text_length')"
   ]
  },
  {
   "cell_type": "markdown",
   "metadata": {},
   "source": [
    "##### 1.2.8 Quelles remarques faites-vous sur les affirmations (claims) et les documents ? (1.5 points) \n",
    "\n",
    "En observant les maximums, les minimums et les moyennes, que remarquez-vous à propos des affirmations ('_claims_') ? À l'aide des graphiques générés, comparez également les documents."
   ]
  },
  {
   "cell_type": "markdown",
   "metadata": {},
   "source": [
    "**Réponse :**\n",
    "Les claims ont une longueur moyenne 12 mots, ce qui se rapproche de la moyenne des longueur des titres. Cependant la longueur des abstract est en moyenne bien plus grande. "
   ]
  },
  {
   "cell_type": "code",
   "execution_count": 17,
   "metadata": {},
   "outputs": [],
   "source": [
    "# TODO\n",
    "# end TODO"
   ]
  },
  {
   "cell_type": "markdown",
   "metadata": {},
   "source": [
    "#### 1.3 Pré-traitement (6 points)\n",
    "Les affirmations et résumés de texte de votre ensemble de données doivent d’abord être représentés et indexés pour ensuite pouvoir effectuer une recherche de document (pouvant être \"_title_\", \"_abstract_\" ou la fusion des deux représentée par \"_text_\") qui justifie/contredit une affirmation. Vous devez donc implémenter une étape de pré-traitement des données."
   ]
  },
  {
   "cell_type": "markdown",
   "metadata": {},
   "source": [
    "##### 1.3.1 Implémentation de la fonction \"_tokenize_sentence_\" (1 point)\n",
    "\n",
    "Implémentez la fonction \"_tokenize_sentence_\" pour la segmentation d'une phrase en une liste de jetons. Utilisez la librarie `nltk`."
   ]
  },
  {
   "cell_type": "code",
   "execution_count": 18,
   "metadata": {},
   "outputs": [],
   "source": [
    "def tokenize_sentence(sentence):\n",
    "    #nltk.tokenize\n",
    "    return word_tokenize(sentence)"
   ]
  },
  {
   "cell_type": "markdown",
   "metadata": {},
   "source": [
    "##### 1.3.2 Implémentation de la fonction \"_tokenize_text_\" (1 point)\n",
    "Implémentez la fonction \"_tokenize_text_\" qui utilise \"_tokenize_sentence_\" pour faire la segmentation d'un texte (liste de phrases)."
   ]
  },
  {
   "cell_type": "code",
   "execution_count": 19,
   "metadata": {},
   "outputs": [],
   "source": [
    "def tokenize_text(text):\n",
    "    # takes in a string representing a text (multiple sentences)\n",
    "    # break it into sentences :\n",
    "    sentences = nltk.sent_tokenize(text)\n",
    "    tokenizedText = [tokenize_sentence(sentence) for sentence in sentences]\n",
    "    return tokenizedText"
   ]
  },
  {
   "cell_type": "markdown",
   "metadata": {},
   "source": [
    "##### 1.3.3 Implémentation de la fonction \"_stem_tokens_\" (1 point)\n",
    "\n",
    "Implémentez la fonction \"_stem_tokens_\" qui prend une liste de jetons (tokens) en entrée et retourne une liste contenant leur forme racinisée (stems) en utilisant l'algorithme de racinisation PorterStemmer de la bibliothèque nltk."
   ]
  },
  {
   "cell_type": "code",
   "execution_count": 20,
   "metadata": {},
   "outputs": [],
   "source": [
    "def stem_tokens(tokenList):\n",
    "    ps = PorterStemmer()\n",
    "    return [ps.stem(w) for w in tokenList]"
   ]
  },
  {
   "cell_type": "markdown",
   "metadata": {},
   "source": [
    "##### 1.3.4 Pré-traitement (2 points)\n",
    "\n",
    "En utilisant vos précédentes fonctions, faites maintenant le pré-traitement des champs \"_text_\", \"_title_\" et \"_abstract_\" du dataframe \"_df_corpus_\" et \"_claim_\" du dataframe \"_df_claims_\" en suivant les étapes suivantes:\n",
    "- conversion en minuscules\n",
    "- segmentation (tokenization) des passages\n",
    "- suppression des stop-words et ponctuation\n",
    "- racinisation (stemming) des jetons\n",
    "\n",
    "Nommez la liste des affirmations pré-traitées par \"_claims_preprocessed_\". Pour le corpus de documents considérez les ensembles de titres \"_title_\", de résumés \"abstract\" et la fusion des deux \"_text_\" et nommez les listes correspondantes par \"_titles_preprocessed_\", \"_abstracts_preprocessed_\" et \"_texts_preprocessed_\" respectivement."
   ]
  },
  {
   "cell_type": "code",
   "execution_count": 22,
   "metadata": {},
   "outputs": [],
   "source": [
    "\n",
    "def preprocess(text):\n",
    "    # takes in a text to pre-process\n",
    "    # Convert text to lower case caracters\n",
    "    text = text.lower()\n",
    "    # tokenize the text\n",
    "    text = tokenize_text(text)  # text is now a list of sentences, each sentence is a list of tokens\n",
    "    # Looping through sentences :\n",
    "    for i in range(len(text)):\n",
    "        # Remove stop workds and Stem\n",
    "        text[i] = [w for w in text[i] if w not in stop_words]\n",
    "        # Stem\n",
    "        text[i] = stem_tokens(text[i])\n",
    "        # Remove punctuation\n",
    "        text[i] = [w for w in text[i] if w not in punctuation]\n",
    "    return text"
   ]
  },
  {
   "cell_type": "code",
   "execution_count": 23,
   "metadata": {},
   "outputs": [],
   "source": [
    "df_claims['claims_preprocessed'] = df_claims['claim'].apply(preprocess)\n",
    "\n",
    "df_corpus['title_preprocessed'] = df_corpus['title'].apply(preprocess)\n",
    "df_corpus['abstract_preprocessed'] = df_corpus['abstract'].apply(preprocess)\n",
    "df_corpus['texts_preprocessed'] = df_corpus['text'].apply(preprocess)"
   ]
  },
  {
   "cell_type": "markdown",
   "metadata": {},
   "source": [
    "##### 1.3.5 Jetons uniques (types) (1 point)\n",
    "\n",
    "Affichez maintenant le nombre total de jetons dans tous les textes (_text_) et affirmations (_claim_) (en les considérant comme un seul corpus) après le pré-traitement. Puis, affichez le nombre de jetons uniques (types) dans les textes (_text_) et les affirmations (_claim_). "
   ]
  },
  {
   "cell_type": "code",
   "execution_count": 26,
   "metadata": {},
   "outputs": [
    {
     "name": "stdout",
     "output_type": "stream",
     "text": [
      "Taille du vocabulaire : 44971 types\n"
     ]
    }
   ],
   "source": [
    "whole_text = []\n",
    "for key in ['title_preprocessed','abstract_preprocessed','texts_preprocessed']:\n",
    "    for text in df_corpus[key]:\n",
    "        for sentence in text:\n",
    "            # add the list of tokens in the vocabulary\n",
    "            whole_text += sentence\n",
    "\n",
    "vocabulary = set(whole_text)\n",
    "print(f'Taille du vocabulaire : {len(vocabulary)} types')"
   ]
  },
  {
   "cell_type": "markdown",
   "metadata": {
    "id": "3qH8-QAw8BEV"
   },
   "source": [
    "### 2. Représentation des affirmations et des documents  (45 points)"
   ]
  },
  {
   "cell_type": "markdown",
   "metadata": {},
   "source": [
    "#### 2.1  Vocabulaire (15 points)"
   ]
  },
  {
   "cell_type": "markdown",
   "metadata": {},
   "source": [
    "##### 2.1.1 Implémentation de la fonction \"_get_vocab_\" (3 points)\n",
    "\n",
    "Implémentez la fonction \"_get_vocab_\" qui prend une liste de textes composés chacun d'une liste de jetons et retourne un dictionnaire dont les clés sont les jetons uniques et les valeurs sont leur fréquence dans l'ensemble des textes."
   ]
  },
  {
   "cell_type": "code",
   "execution_count": 27,
   "metadata": {},
   "outputs": [],
   "source": [
    "def get_vocab(text,printResult = False):\n",
    "    # create a dictionnary\n",
    "    d = {}\n",
    "    # looping through tokens\n",
    "    for el in text:\n",
    "        if el not in d.keys():\n",
    "            d[el] = 0\n",
    "        # count elements\n",
    "        d[el] += 1\n",
    "\n",
    "    if printResult:\n",
    "        for key in d.keys():\n",
    "            print(f'{key:<20} : {d[key]:>5}')\n",
    "    return d\n"
   ]
  },
  {
   "cell_type": "markdown",
   "metadata": {},
   "source": [
    "##### 2.1.2 Implémentez la fonction \"_show_top_N_types_\" (3 points)\n",
    "\n",
    "Implémentez la fonction \"show_top_N_types\" qui affiche les N jetons les plus fréquents à partir d'un dictionnaire comme celui retourné par la fonction \"_get_vocab_\".\n",
    "\n",
    "La fonction prend deux arguments: le dictionnaire \"_dictionary_\" et le paramètre \"_N_\". "
   ]
  },
  {
   "cell_type": "code",
   "execution_count": 28,
   "metadata": {},
   "outputs": [],
   "source": [
    "def sortDictionary(d):\n",
    "    return dict(sorted(d.items(), key=lambda item: -item[1]))\n",
    "\n",
    "def isSorted(d):\n",
    "    values = list(d.values())\n",
    "    lenD = len(values)\n",
    "    i = 0\n",
    "    while i+1 < lenD:\n",
    "        # check if the next item is larger than the current one\n",
    "        if values[i+1]>= values[i]:\n",
    "            # if so, it is not sorted\n",
    "            return False\n",
    "        i += 1\n",
    "    return True\n",
    "\n",
    "def show_top_N_types(d,N = 10, printResult = False):\n",
    "    # takes in a dictionary binding each token with its frequency in the corpus\n",
    "    if not isSorted(d):\n",
    "        d = sortDictionary(d)\n",
    "\n",
    "    dOut = {}\n",
    "\n",
    "    dKeys = d.keys()\n",
    "    NKeys = len(d.keys())\n",
    "    for key in list(dKeys)[:min(N,NKeys)]:\n",
    "        dOut[key] = d[key]\n",
    "        \n",
    "    if printResult:\n",
    "        for key in dOut.keys():\n",
    "             print(f'{key:<20} : {d[key]:>5}')\n",
    "    return dOut\n"
   ]
  },
  {
   "cell_type": "markdown",
   "metadata": {},
   "source": [
    "##### 2.1.3 Construction du vocabulaire (1 point)\n",
    "\n",
    "Construisez maintenant le vocabulaire pour les affirmations et le corpus de documents à partir des listes \"texts_preprocessed\" et \"claims_preprocessed\". \n",
    "\n",
    "Ensuite affichez les 15 jetons les plus fréquents ainsi que leur fréquence."
   ]
  },
  {
   "cell_type": "code",
   "execution_count": 33,
   "metadata": {},
   "outputs": [
    {
     "name": "stdout",
     "output_type": "stream",
     "text": [
      "cell                 : 10464\n",
      "patient              :  4175\n",
      "activ                :  4145\n",
      "studi                :  4014\n",
      "use                  :  3799\n",
      "express              :  3626\n",
      "result               :  3213\n",
      "protein              :  3083\n",
      "gene                 :  3004\n",
      "cancer               :  2945\n",
      "increas              :  2794\n",
      "associ               :  2659\n",
      "effect               :  2567\n",
      "function             :  2515\n",
      "human                :  2464\n",
      "45194\n"
     ]
    }
   ],
   "source": [
    "corpus = []\n",
    "for text in df_corpus[\"texts_preprocessed\"]:\n",
    "    for sentence in text:\n",
    "        # add the list of tokens in the vocabulary\n",
    "        corpus += sentence\n",
    "\n",
    "for text in df_claims[\"claims_preprocessed\"]:\n",
    "    for sentence in text:\n",
    "        # add the list of tokens in the vocabulary\n",
    "        corpus += sentence\n",
    "        \n",
    "vocabularyFrequencies = sortDictionary(get_vocab(corpus))\n",
    "topNTypes = show_top_N_types(vocabularyFrequencies,15,True)\n",
    "print(len(vocabularyFrequencies.keys()))"
   ]
  },
  {
   "cell_type": "markdown",
   "metadata": {},
   "source": [
    "Sortie attendue:\n",
    "\n",
    "```Nombre de types composant le vocabulaire: 45195\n",
    "Les 15 types les plus fréquents:\n",
    "('cell', 10464)\n",
    "('patient', 4175)\n",
    "('activ', 4145)\n",
    "('studi', 4014)\n",
    "('use', 3799)\n",
    "('express', 3626)\n",
    "('result', 3213)\n",
    "('protein', 3083)\n",
    "('gene', 3004)\n",
    "('cancer', 2945)\n",
    "('increas', 2794)\n",
    "('associ', 2659)\n",
    "('effect', 2567)\n",
    "('function', 2515)\n",
    "('human', 2464)"
   ]
  },
  {
   "cell_type": "markdown",
   "metadata": {},
   "source": [
    "##### 2.1.4 Implémentation de la fonction \"_show_distribution_\" (4 points)\n",
    "\n",
    "Implémentez la fonction \"__show_distribution__\" qui permet de visualiser la distribution des fréquences des jetons à partir d'un dictionnaire comme celui retourné par la fonction \"_get_vocab_\", en utilisant un graphique où l'axe des abscisses représente le rang d'un type (après un tri par ordre de fréquence décroissante) et l'axe des ordonnées représente sa fréquence sur une échelle logarithmique.  \n",
    "\n",
    "Par exemple, le point (10000, 10) voudrait dire que le 10000ème mot le plus fréquent a une fréquence à peu prés egale à 10 dans le vocabulaire."
   ]
  },
  {
   "cell_type": "code",
   "execution_count": 32,
   "metadata": {},
   "outputs": [
    {
     "name": "stderr",
     "output_type": "stream",
     "text": [
      "<>:19: SyntaxWarning: invalid escape sequence '\\l'\n",
      "<>:19: SyntaxWarning: invalid escape sequence '\\l'\n",
      "/var/folders/xs/d90v1vkn16db_7z493h6kwt40000gn/T/ipykernel_18143/3889390545.py:19: SyntaxWarning: invalid escape sequence '\\l'\n",
      "  plt.ylabel(\"$\\log(frequency)$\")\n"
     ]
    }
   ],
   "source": [
    "def showDistribution(d,N = 10,wordAsTicks = True):\n",
    "    if not isSorted(d):\n",
    "        d = sortDictionary(d) # d is now sorted\n",
    "    \n",
    "    plt.figure()\n",
    "    labels = list(d.keys())\n",
    "    values = [np.log(el) for el in d.values()]\n",
    "\n",
    "    lenD = len(labels)\n",
    "    indexes = np.arange(lenD)\n",
    "    \n",
    "    plt.figure()\n",
    "    plt.bar(indexes[:min(lenD,N)], values[:min(lenD,N)])\n",
    "\n",
    "    # add labels\n",
    "    if wordAsTicks :\n",
    "        plt.xticks(indexes[:min(lenD,N)], labels[:min(lenD,N)],rotation = 90)\n",
    "    plt.xlabel(\"Vocabulary\")\n",
    "    plt.ylabel(\"$\\log(frequency)$\")\n",
    "    plt.title(f'Log frequencies for the {N} first words in vocab')\n",
    "    plt.show()\n",
    "\n"
   ]
  },
  {
   "cell_type": "code",
   "execution_count": 36,
   "metadata": {},
   "outputs": [
    {
     "data": {
      "text/plain": [
       "<Figure size 640x480 with 0 Axes>"
      ]
     },
     "metadata": {},
     "output_type": "display_data"
    },
    {
     "data": {
      "image/png": "[encoded data removed]",
      "text/plain": [
       "<Figure size 640x480 with 1 Axes>"
      ]
     },
     "metadata": {},
     "output_type": "display_data"
    }
   ],
   "source": [
    "showDistribution(vocabularyFrequencies,45000,False)"
   ]
  },
  {
   "cell_type": "markdown",
   "metadata": {},
   "source": [
    "##### 2.1.5 Vérification de la loi de Zipf (4 points)\n",
    "\n",
    "Afin de vérifier la loi de Zipf, donnez une estimation de la valeur de la constante k de cette loi définie comme suit: \n",
    "\n",
    "$$ f \\approx \\frac{k}{r^\\alpha} $$ \n",
    "\n",
    "où $ f $ est la fréquence d'un mot, $ r $ est le rang de ce mot dans la liste triée par fréquence décroissante, et $ k $ est une constante. Etant données les fluctuations sur les valeurs de fréquence, vous pouvez utiliser la librairie ['powerlaw'](https://pypi.org/project/powerlaw/) conçue pour analyser et ajuster des distributions de loi de puissance aux données et qui peut être utile dans l'estimation de $ \\alpha $.\n",
    "\n",
    "Affichez la constante $ k $ trouvée, les fréquences réelles des mots avec celles qui sont prédites par la loi de Zipf."
   ]
  },
  {
   "cell_type": "code",
   "execution_count": 50,
   "metadata": {},
   "outputs": [
    {
     "name": "stdout",
     "output_type": "stream",
     "text": [
      "estimated powerlaw : f = 64.48191612965252 / rank ^1.7678309516427535\n"
     ]
    },
    {
     "name": "stderr",
     "output_type": "stream",
     "text": [
      "Calculating best minimal value for power law fit\n"
     ]
    },
    {
     "data": {
      "image/png": "[encoded data removed]",
      "text/plain": [
       "<Figure size 640x480 with 1 Axes>"
      ]
     },
     "metadata": {},
     "output_type": "display_data"
    },
    {
     "data": {
      "text/plain": [
       "64.48191612965252"
      ]
     },
     "execution_count": 50,
     "metadata": {},
     "output_type": "execute_result"
    }
   ],
   "source": [
    "# TODO Make sure were talking about frequency as nomber of appearances and not appearances / N_tot\n",
    "\n",
    "def getZpifK(d,N=20,printResult = False):\n",
    "    \"\"\"\n",
    "    get the dictionnary binding the words to their frequency\n",
    "    returns the k constant (freq = k / rank) averaged on N words\n",
    "    \"\"\"\n",
    "    k = []\n",
    "    \n",
    "    freq = list(d.values())\n",
    "    freqTot = sum(freq)\n",
    "    freq = [f / freqTot for f in freq]\n",
    "\n",
    "    lenD = len(freq)\n",
    "\n",
    "    alpha = powerlaw.Fit(freq[:min(lenD,N)]).power_law.alpha\n",
    "\n",
    "    for i in range(min(lenD,N)):\n",
    "        k.append(freq[i] * (i**alpha))\n",
    "\n",
    "    kMean = np.mean(k)\n",
    "\n",
    "    if printResult:\n",
    "        print(f'estimated powerlaw : f = {kMean} / rank ^{alpha}')\n",
    "\n",
    "        fig = plt.figure()\n",
    "        ax = fig.add_subplot(2, 1, 1)\n",
    "        ax.plot(freq[:min(lenD,N)],label = \"Effective Frequencies\")\n",
    "        ax.plot(range(1,min(lenD,N)+1),[kMean / (i**alpha) for i in range(1,min(lenD,N)+1)],\n",
    "                 label = \"Estimated frequencies\")\n",
    "        ax.set_yscale('log')\n",
    "        ax.set_xscale('log')\n",
    "        plt.legend()\n",
    "        plt.show()\n",
    "\n",
    "    return kMean\n",
    "\n",
    "getZpifK(vocabularyFrequencies,N = 10000,printResult = True)"
   ]
  },
  {
   "cell_type": "markdown",
   "metadata": {
    "id": "pdxcQdRJ818T"
   },
   "source": [
    "#### 2.2  Création d’un modèle sac de mots (10 points)"
   ]
  },
  {
   "cell_type": "markdown",
   "metadata": {},
   "source": [
    "##### 2.2.1 Répresentation de texte (5 points)\n",
    "\n",
    "En utilisant sklearn et à partir de vos données pré-traitées (\"_claims_preprocessed_\", \"_titles_preprocessed_\", \"_abstracts_preprocessed_\" et \"_texts_preprocessed_\"), représentez chaque affirmation (_claim_) et document avec le vocabulaire créé 'précédemment dans la variables \"_claims_preprocessed_joined\", \"_titles_preprocessed_joined_\", \"_abstract_preprocessed_joined_\" et \"_texts_preprocessed_joined_\". Cela veut dire que tout jeton qui n'est pas dans le vocabulaire doit être enlevé dans le document et l'affirmation. Faites cela pour les trois possibilités de représentation de document: \"_title_\", \"_abstract_\" et \"_text_\"."
   ]
  },
  {
   "cell_type": "code",
   "execution_count": 64,
   "metadata": {
    "id": "NKJxoJSwBovJ"
   },
   "outputs": [],
   "source": [
    "# This cell is useless and slow, do not need to be run\n",
    "def clearOOV(text,vocab):\n",
    "    newText = []\n",
    "    for sentence in text:\n",
    "        newSentence = []\n",
    "        for word in sentence : \n",
    "            if word in vocab:\n",
    "                newSentence += [word]\n",
    "        newText += [newSentence]\n",
    "    return newText\n",
    "\n",
    "#df_corpus['titles_preprocessed_joined'] = df_corpus['titles_preprocessed'].apply(clearOOV)\n",
    "#df_corpus['texts_preprocessed_joined'] = df_corpus['texts_preprocessed'].apply(clearOOV)\n",
    "#df_claims['claims_preprocessed_joined'] = df_claims['claims_preprocessed'].apply(clearOOV)\n",
    "\n",
    "def join(text):\n",
    "    text = str(text).replace(\"[\",\"\").replace(\"]\",\"\").replace(\",\",\"\").replace(\"'\",\"\")\n",
    "    return text\n",
    "\n",
    "# As no token is to be removed\n",
    "df_corpus['title_preprocessed_joined'] = df_corpus['title_preprocessed'].apply(join)\n",
    "df_corpus['abstract_preprocessed_joined'] = df_corpus['abstract_preprocessed'].apply(join)\n",
    "df_corpus['texts_preprocessed_joined'] = df_corpus['texts_preprocessed'].apply(join)\n",
    "df_claims['claims_preprocessed_joined'] = df_claims['claims_preprocessed'].apply(join)"
   ]
  },
  {
   "cell_type": "markdown",
   "metadata": {},
   "source": [
    "##### 2.2.2 Pondération (4 points)\n",
    "\n",
    "En utilisant un modèle sac de mots basé sur des unigrammes et des bigrammes, créez une représentation vectorielle de vos documents (titles, abstracts, texts) et de vos affirmations (claims) avec TF-IDF en utilisant le TfidfVectorizer de sklearn. "
   ]
  },
  {
   "cell_type": "code",
   "execution_count": 69,
   "metadata": {},
   "outputs": [
    {
     "data": {
      "text/plain": [
       "['0-dimension biomateri lack induct properti',\n",
       " '1 5 million uk abnorm prp posit',\n",
       " '1-1 colorect cancer patient diagnos region distant metastas',\n",
       " '10 sudden infant death syndrom sid death happen newborn age less 6 month',\n",
       " '32 liver transplant program requir patient discontinu methadon treatment 2001',\n",
       " '4-pba treatment decreas endoplasm reticulum stress respons gener endoplasm reticulum stress marker',\n",
       " '4-pba treatment rais endoplasm reticulum stress respons gener endoplasm reticulum stress marker',\n",
       " '40mg/day dosag folic acid 2mg/day dosag vitamin b12 affect chronic kidney diseas ckd progress',\n",
       " '\"5-nucleotidas\" metabol 6mp',\n",
       " '50 patient expos radiat activ marker mesenchym stem cell',\n",
       " '53 perinat mortal due low birth weight',\n",
       " '61 colorect cancer patient diagnos region distant metastas',\n",
       " '7-day-old adult caenorhabd elegan exhibit approxim 5 learn capac seen 1-day old adult',\n",
       " '7-day-old adult caenorhabd elegan exhibit approxim 75 learn capac seen 1-day old adult',\n",
       " '70 burn patient admit hospit treatment appear hospit emerg ward outpati clinic',\n",
       " '76-85 peopl sever mental disord receiv treatment low middl incom countri',\n",
       " '90 patient melanoma object respons pd-1 blockad experi progress melanoma',\n",
       " '90 sudden infant death syndrom sid death happen newborn age less 6 month',\n",
       " '100g dose chloroquin chemoprophylact regimen result retin toxic 1 year weekli intak',\n",
       " '100g dose chloroquin chemoprophylact regimen result retin toxic 5-6 year weekli intak',\n",
       " 'helper 2 cell th2 environ imped diseas develop patient system lupu erythematosu sle',\n",
       " 'breast cancer patient \"s\" capac metabol tamoxifen influenc treatment outcom',\n",
       " 'countri \"s\" vaccin allianc gavi elig indictiv acceler adopt hub vaccin',\n",
       " 'defici folat increas blood level homocystein',\n",
       " 'defici vitamin b12 decreas blood level homocystein',\n",
       " 'defici vitamin b6 decreas blood level homocystein',\n",
       " 'diminish ovarian reserv sole indic infertil priori non-infertil popul',\n",
       " 'diminish ovarian reserv strong indic infertil even priori non-infertil popul',\n",
       " 'high microerythrocyt count protect sever anemia homozyg alpha thalassemia trait subject',\n",
       " 'low percentag hematopoiet progenitor cell suscept hiv-1 infect ex vivo',\n",
       " 'mutat hnf4a lead increas risk develop diabet age 14 year',\n",
       " 'mutat hnf4a lead increas risk diabet age 14 year',\n",
       " 'singl nucleotid variant gene dgkk strongli associ increas risk hypospadia',\n",
       " 'strong bia phage genom locat spacer deriv observ mani crispr subtyp confer immun phage',\n",
       " 'aldh1 express associ poorer prognosi breast cancer primari tumor',\n",
       " 'amp-activ protein kinas ampk activ reduc inflammation-rel fibrosi lung',\n",
       " 'apoe4 express ipsc-deriv neuron result decreas tau phosphoryl',\n",
       " 'art effect infect hiv-posit peopl',\n",
       " 'art substanti reduc infect hiv-posit peopl',\n",
       " 'atf4 gener endoplasm reticulum stress marker',\n",
       " 'atm rad3 relat protein critic sens dna damag',\n",
       " 'atm rad3 relat protein role sens dna damag',\n",
       " 'azt given ribavirin increas anemia',\n",
       " 'activ cdk5 phosphoryl atm protein respons dna damag',\n",
       " 'activ cdk5 regul dna damage-induc neuron death',\n",
       " 'activ ppm1d enhanc p53 function',\n",
       " 'activ rac1 homolog ced-10 kill viabl cell srgp-1 mutant caenorhabd elegan',\n",
       " 'activator-inhibitor pair provid ventral xrl-sizzl',\n",
       " 'activ h. pylori ureas polymer structur consist five distinct subunit',\n",
       " 'activ ly49q induc neutrophil polar',\n",
       " 'activ ly49q prevent neutrophil polar',\n",
       " 'activ caspase-11 particip regul phagosome-lysosom fusion',\n",
       " 'activ caspase-11 protein promot pyroptosi',\n",
       " 'acut ablat kra caus sever growth impair',\n",
       " 'acut ablat snail embryon cortex affect prolifer number embryon cortic precursor',\n",
       " 'addit bmp4 activin chir99021 su504 reprogram fibroblast gener expand maintain cardiovascular progenitor cell cpc',\n",
       " 'adult tissue-resid macrophag seed birth',\n",
       " 'adult tissue-resid macrophag seed birth',\n",
       " 'adult tissue-resid macrophag possess self-renew capac',\n",
       " 'adult tissue-resid macrophag stem embryon yolk sac fetal liver',\n",
       " 'adult tissue-resid macrophag stem embryon yolk sac fetal liver',\n",
       " 'age patient less suscept ischaemia/reperfus injuri',\n",
       " 'age patient suscept ischaemia/reperfus injuri',\n",
       " 'aggrav inflamm depend nlrp3 inflammasom activ',\n",
       " 'albendazol use treat soil-transmit helminth',\n",
       " 'algerian physician constitu largest compon sub-saharan africa-train physician unit state',\n",
       " 'alirocumab treatment reduc apo fraction clearanc rate',\n",
       " 'allogen mechan circulatori support effect autolog mechan circulatori support treat acut myocardi infarct',\n",
       " 'alter origin fire caus chang termin zone okazaki fragment',\n",
       " 'ambulatori blood pressur monitor inaccur diagnos hypertens',\n",
       " 'amitriptylin effect treatment chronic tension-typ headach',\n",
       " 'm2-like phenotyp brown adipos tissu macrophag quickli induc cold exposur',\n",
       " 'androgenet haploid mous embryon stem cell esc deriv genet manipul vitro',\n",
       " 'angiotensin convert enzym inhibitor associ decreas risk function renal insuffici',\n",
       " 'anthrax spore difficult dispos dispers',\n",
       " 'anthrax spore remain deadli affect area decontamin',\n",
       " 'antidepress increas sever migrain',\n",
       " 'antidepress reduc sever migrain',\n",
       " 'antimicrobi agent less effect due pressur antimicrobi usag',\n",
       " 'antimicrobi agent effect due pressur antimicrobi usag',\n",
       " 'antiretrovir therapi increas rate tuberculosi across broad rang cd4 strata',\n",
       " 'approxim 250000 peopl infect human t-cell lymphotrop viru type 1 unit kingdom',\n",
       " 'assess treatment adher benefici clinic practic measur routin outcom',\n",
       " 'asymptomat visual impair screen elderli popul lead improv vision',\n",
       " 'least 85 patient expos radiat activ marker myofibroblast',\n",
       " 'autolog transplant mesenchym stem cell better graft function induct therapi anti-interleukin-2 receptor antibodi',\n",
       " 'autophagi defici liver increas vulner insulin resist',\n",
       " 'b cell go though plasmablast differenti antibodi product continu express ebi2',\n",
       " 'b3-galectin decreas cell resist tyrosin kinas inhibitor tki engag altern kras-ralb signal complex downstream egfr',\n",
       " 'b3-galectin increas cell resist tyrosin kinas inhibitor tki engag altern kras-ralb signal complex downstream egfr',\n",
       " 'bcl-2 activ antagon apoptot effect c-myc',\n",
       " 'bcl-2 promot apoptot effect c-myc',\n",
       " 'blm gene encod recq-class dna helicas',\n",
       " 'brca 1 mutat carrier risk breast ovarian cancer depend mutat locat',\n",
       " 'bacteri mening diagnos basi posit cerebrospin fluid csf cultur',\n",
       " 'bacteriophaga ms2 qβ member levivirida',\n",
       " 'bariatr surgeri increas rate colorect cancer',\n",
       " 'bariatr surgeri increas rate postmenopaus breast cancer',\n",
       " 'bariatr surgeri lead neg outcom mental health',\n",
       " 'bariatr surgeri lead posit outcom mental health',\n",
       " 'bariatr surgeri reduc colorect cancer',\n",
       " 'bariatr surgeri reduc postmenopaus breast cancer',\n",
       " 'basophil promot diseas develop patient system lupu erythematosu sle',\n",
       " 'bcp1 chaperon rpl23',\n",
       " 'beta-band coher diminish visibl stimuli invis stimuli',\n",
       " 'beta-band coher enhanc visibl stimuli invis stimuli',\n",
       " 'bip gener endoplasm reticulum stress marker',\n",
       " 'bind p53 enhanc region p53ber regul activ p53 transcript cell cycl arrest product p53-depend erna',\n",
       " 'birth-weight neg associ breast cancer',\n",
       " 'block interact tdp-43 respiratori complex protein nd3 nd6 prevent tdp-43-induc neuron loss',\n",
       " 'bone marrow bm transplant use treat acut myeloid leukemia aml',\n",
       " 'bone marrow cell \"nt\" contribut adult macrophag compart',\n",
       " 'british femal student bulli british male student',\n",
       " 'british male student bulli british femal student',\n",
       " 'broadli hiv-1 neutral antibodi bnab 10eb affin phospholipid',\n",
       " 'c2 work synergist a-769662 activ dephosphoryl ampk',\n",
       " 'ccl19 ligand ccr7',\n",
       " 'ccl19 predominantli present within dln',\n",
       " 'cd28 initi tonic signal convent cell caus exhaust phenotyp limit effici',\n",
       " 'cd28 signal regul traffick murin auto-react cell target tissu',\n",
       " 'cd44v6 associ constitut reprogram cancer stem cell drive cancer metastasi',\n",
       " 'cdk6 show impair bind loss-of-funct variant p18 ink4c',\n",
       " 'cdk6 show improv bind loss-of-funct variant p18 ink4c',\n",
       " 'chop gener endoplasm reticulum stress marker',\n",
       " 'copi coatmer involv lipid homeostasi',\n",
       " 'copi coatmer involv viral replic',\n",
       " 'crp posit correl postop mortal follow coronari arteri bypass graft cabg surgeri',\n",
       " 'ca2+ cycl control whole-bodi energi homeostasi beig fat',\n",
       " 'ca2+ cycl ucp1-depend thermogen mechan',\n",
       " 'ca2+ cycl ucp1-independ thermogen mechan',\n",
       " 'cancer cell stimul accumul intra-tumour myeloid-deriv suppressor cell promot granulocyt coloni stimul factor product',\n",
       " 'cancer-associ fibroblast caf constitu tumor microenviron',\n",
       " 'cancer-associ fibroblast caf known interact cancer cell format activ caf',\n",
       " 'cancer-associ fibroblast caf interact cancer cell mediat format activ caf',\n",
       " 'cancer initi benefit epiderm growth factor receptor target therapi later becom refractori sever mechan',\n",
       " 'cardiac tissue-resid macrophag directli contribut electr activ',\n",
       " 'carrier hnf4a mutat reduc risk diabet',\n",
       " 'cell autonom sex determin somat cell occur galliform',\n",
       " 'cellular clock associ mitosi time nih 3t3 cell',\n",
       " 'cellular clock predict mitosi time nih 3t3 cell',\n",
       " 'cellular differenti embryon stem cell accompani chang replic time transcript nuclear local',\n",
       " 'certain immunomodulator-human dialyz leukocyt extract hdle peptid recogn toll-lik receptor tlr macrophag dendrit cell',\n",
       " 'charcoal effect treatment acut paraquat poison',\n",
       " 'charcoal show benefit acut paraquat poison',\n",
       " 'chemic injuri repress transglutaminas 2 activ',\n",
       " 'chenodeoxychol acid treatment decreas brown adipos tissu activ',\n",
       " 'chenodeoxychol acid treatment increas brown adipos tissu activ',\n",
       " 'chines individu tt homozygos mthfr gene less vulner stroke caus low level folat intak',\n",
       " 'chines individu tt homozygos mthfr gene vulner stroke caus low level folat intak',\n",
       " 'chlamydia trachomati preval uk among individu 50 60',\n",
       " 'chlamydia trachomati preval uk among sexually-experienc individu age 16 24',\n",
       " 'cholesterol load induc klf4 express vsmc result express pro-inflammatori cytokin',\n",
       " 'chronic hiv stimul b cell lead prematur exhaust b cell',\n",
       " 'cis-act lncrna control express gene posit vicin transcript site',\n",
       " 'citrullin protein extern neutrophil extracellular trap act indirectli disrupt inflammatori cycl',\n",
       " 'citrullin protein extern neutrophil extracellular trap act indirectli perpetu inflammatori cycl via induct autoantibodi',\n",
       " 'clathrin stabil spindl fiber apparatu mitosi',\n",
       " 'cnn1 recruit vari cell cycl time',\n",
       " 'cognit behavior therapi ineffect treatment insomnia',\n",
       " 'combin nicotin replac therapi vareniclin bupropion effect 12 week reatment compar vareniclin monotherapi',\n",
       " 'commelina yellow mottl viru comymv three typic badnaviru orf capabl encod protein 23 15 216 kd',\n",
       " 'commelina yellow mottl viru comymv genom consist 2140 bais pair',\n",
       " 'compar transcriptom analysi identifi new platelet protein structur featur suggest role platelet function',\n",
       " 'concentr snv cnv stem-cel regulatori element bind site transcript factor ipsc-lin distinct found cell',\n",
       " 'consumpt whole fruit increas risk type 2 diabet',\n",
       " 'continu hhv-8 transmiss among msm san francisco may explain urogenit contact',\n",
       " 'convert apoe4 apoe3 gene edit prevent patholog associ apoe4 human ipscderiv neuron',\n",
       " 'convert apoe4 apoe3 gene edit worsen patholog associ apoe4 human ipscderiv neuron',\n",
       " 'cost effect evalu base crct data accur reflect price patient actual clinic practic',\n",
       " 'cost effect evalu base crct data lack extern valid',\n",
       " 'crossov hot spot found within gene promot saccharomyc cerevisia',\n",
       " 'cyclin a2 destruct necessari switch unstabl stabl kt-mt attach mitosi',\n",
       " 'cytochrom c transfer cytosol mitochondri intermembran space apoptosi',\n",
       " 'cytosol protein bind iron-respons element mrna code tfrc1',\n",
       " 'dms3 protein enabl pol v transcript vivo',\n",
       " 'drd1 protein enabl pol v transcript vivo',\n",
       " 'dusp4 decreas apoptosi',\n",
       " 'dusp4 downregul deactiv ras-erk pathway',\n",
       " 'dusp4 increas apoptosi',\n",
       " 'de novo assembl sequenc data fewer specif contig unassembl sequenc data',\n",
       " 'de novo assembl sequenc data shorter contig unassembl sequenc data',\n",
       " 'decreas p62 prostat tumor stroma result defect autophagi',\n",
       " 'decreas convers pge 2 ppari ligand 15-ket-pg 2 caus accumul pge',\n",
       " 'decreas diastol blood pressur dbp associ abdomin aortic aneurysm',\n",
       " 'delet raptor increas g-csf level',\n",
       " 'delet atm rad3 relat protein predict acut tissu loss',\n",
       " 'delet atm rad3 relat protein lead acut tissu loss',\n",
       " 'deltex known interact eif3f',\n",
       " 'deltex interact eif3 known interact deltex elf3',\n",
       " 'deplet t-helper 17 th17 cell simian immunodefici viru siv infect decreas dissemin salmonella typhimurium gut',\n",
       " 'deplet t-helper 17 th17 cell simian immunodefici viru siv infect increas dissemin salmonella typhimurium gut',\n",
       " 'deplet nitric oxid respons vasospasm',\n",
       " 'deregul hand2 crucial step endometri carcinogenesi mice',\n",
       " 'destin contain port throughput cpt neg relat dengu viru denv-1 diffus air traffic shipment',\n",
       " 'destin contain port throughput cpt posit relat dengu viru denv-1 diffus air traffic shipment',\n",
       " 'dexamethason increas risk postop bleed',\n",
       " 'diabet remiss occur less peopl treat convent therapi peopl treat laparoscop adjust gastric band surgeri',\n",
       " 'diabet remiss occur peopl treat convent therapi peopl treat laparoscop adjust gastric band surgeri',\n",
       " 'diabet patient acut coronari syndrom experi decreas short-term long-term risk bleed event',\n",
       " 'differenti e2f-1 -2 -3 tko cell intestin exhibit apoptosi',\n",
       " 'differenti progenitor cell myeloid cell skew upon activ insulin signal',\n",
       " 'differenti progenitor cell myeloid cell skew insulin signal suppress',\n",
       " 'diminish ovarian reserv reliabl indic infertil non-infertil popul',\n",
       " 'distant cre import transcript regul',\n",
       " 'distant cre less conserv among speci',\n",
       " 'drosophila supracellular actomyosin structur found boundari wing imagin disc',\n",
       " 'dscam1 act hypervari pattern-recognit receptor immun system',\n",
       " 'non-homolog end join ligat step toler disrepair distort join 3 strand break compar 5 strand break',\n",
       " 'non-homolog end join ligat step toler disrepair distort join 5 strand break compar 3 strand break',\n",
       " 'primari earli antibodi respons activ b cell migrat toward inner-and outer follicular area oxysterol accumul gener stromal cell',\n",
       " 'eg7 tumor kill system oxaliplatin prime cd8+ cell tumor-drain lymph node cell',\n",
       " 'egr2 import myelin peripher nervou system',\n",
       " 'er-loc phosphatas sac1 process pi4p coordin osbp endosome-loc protein sort nexin 2',\n",
       " 'erap1 snp epistat hla allel ankylos spondyl',\n",
       " 'earli patent ductu ateriosu pda screen decreas in-hospit mortal',\n",
       " 'earli patent ductu ateriosu pda screen increas in-hospit mortal',\n",
       " 'ectop express sall4 nanog esrrb lin28 gener induc pluripot stem cell mous embryon fibroblast effici factor combin',\n",
       " 'egr2 regul homeostasi b cell',\n",
       " 'egr3 regul homeostasi b cell',\n",
       " 'eilat viru eilv produc mosquito elicit rapid long-last neutral antibodi nonhuman primat',\n",
       " 'elev cell-fre mitochondri dna level associ mortal',\n",
       " 'elimin last sporad case malaria requir consider fund',\n",
       " 'emodin form hydrogen bond residu involv pgam1 substrat bind',\n",
       " 'energi balanc requir hypothalam glutam neurotransmiss',\n",
       " 'enhanc earli product inflammatori chemokin damag viral control lung',\n",
       " 'environment factor influenc develop breast cancer',\n",
       " 'environmentally-induc senesc mimick diseas model ad specif molecul cultur system',\n",
       " 'epidemiolog diseas burden noncommunic diseas preval high econom set',\n",
       " 'ethanol stress increas express ibp bacteria',\n",
       " 'ethanol stress increas express psp bacteria',\n",
       " 'ethanol stress increas express srl bacteria',\n",
       " 'ethanol stress lower express psp bacteria',\n",
       " 'ethanol stress reduc express srl bacteria',\n",
       " 'excess gestat weight gain associ obesity-rel pregnanc outcom',\n",
       " 'exercis increas cancer mortal rate among chines citizen',\n",
       " 'exercis reduc cancer mortal rate among chines citizen',\n",
       " 'exhaust b cell contribut poor ab respons hiv-infect individu',\n",
       " 'exposur fine particul air pollut unrel anxieti preval',\n",
       " 'express msx2 induc 3 hour addit bmp4 earlier cdx2',\n",
       " 'express oncolyt viru antigen peptid make relaps like',\n",
       " 'express oncolyt viru antigen peptid permit addit protect relaps',\n",
       " 'f4/80+ macrophag regul matur osteoblast mainten',\n",
       " 'fact histon chaperon compens histon 2a h2a -histon 2b h2b dimer evict histon exchang process',\n",
       " 'femal carrier apolipoprotein e4 apoe4 allel decreas risk dementia',\n",
       " 'femal carrier apolipoprotein e4 apoe4 allel increas risk alzheim \"s\" diseas',\n",
       " 'femal carrier apolipoprotein e4 apoe4 allel longer lifetim exposur estrogen due increas reproduct period',\n",
       " 'femal carrier apolipoprotein e4 apoe4 allel shorter lifetim exposur estrogen due decreas reproduct period',\n",
       " 'fibroblast growth factor ligand signal receptor tyrosin kinas',\n",
       " 'fibroblast growth factor 21 protect atherosclerosi modul adiponectin srebp2 level',\n",
       " 'flexibl molecul experi less steric hindranc tumor microenviro rigid molecul',\n",
       " 'folat vitamin b12 level influenc associ homocystein preeclampsia',\n",
       " 'everi 1000 children cerebr palsi 300 prematur underweight birth',\n",
       " 'forkhead 0 fox0 transcript factor involv apoptosi',\n",
       " 'forkhead 0 fox0 transcript factor involv cellular differenti',\n",
       " 'format n-termin pyroglutam glutamin cyclas gc compet ntaq1 nt-gln substrat',\n",
       " 'foxo3a activ neuron death inhibit reactiv oxygen speci ro',\n",
       " 'foxk2 regul autophagi gene muscl cell fibroblast cell',\n",
       " 'foxp3 enabl express transcript regul implic memori cell develop',\n",
       " 'foxp3 repress express transcript regul implic memori cell develop',\n",
       " 'g-csf increas expans infiltr mdsc tumor',\n",
       " 'gata3 regul cell cycl progress bone marrow hematopoiet stem cell',\n",
       " 'gata3 regul self-renew capac bone marrow hematopoiet stem cell',\n",
       " 'gastric infect helicobact pylori decreas risk gastric cancer human',\n",
       " 'gastric infect helicobact pylori increas risk gastric cancer human',\n",
       " 'gastric lavag effect treatment acut paraquat poison',\n",
       " 'gener exercis therapi effect rotat cuff exercis reduc pain improv function shoulder',\n",
       " 'gener exercis therapi effect scapular stabil exercis reduc pain improv function shoulder',\n",
       " 'gene involv pre-mrna splice signific impact genom stabil',\n",
       " 'gene regul esrrb transcript factor sensit mbd3 function',\n",
       " 'genet defici mast cell lead decreas weight gain mous model diet-induc obes',\n",
       " 'genet delet jam-a increas gut permeabl',\n",
       " 'genom aberr metastas provid inform target therapi',\n",
       " 'genom sequenc involv altern splice respons hutchinson-gilford progeria syndrom hgp abund `` progerinonli \"\" allel lmna knock-in model',\n",
       " 'glial calcium wave influenc seizur',\n",
       " 'glioblastoma multiform gbm character extens invas rapid growth necrosi angiogenesi',\n",
       " 'glucos restrict 0.05 reduc rl replic life span 20-40 s. cerevisia',\n",
       " 'glycan adapt involv insertion-delet event',\n",
       " 'glycan adapt rare observ b-cell repertoir',\n",
       " 'gpr124 increas bbb breakdown mous model ischem stroke',\n",
       " 'gpr124 suppress bbb breakdown mous model ischem stroke',\n",
       " 'guanin nucleotid dissoci inhibitor rho-gdi interact p75 ntr death domain',\n",
       " 'guanin nucleotid exchang factor gef mediat rhoa activ respons tension forc fibronectin-bind integrin',\n",
       " 'h.pylori-medi gastric cancer occur due accumul mutat host epitheli cell',\n",
       " 'h4 g94p protein induc chromatin assembl increas free histon',\n",
       " 'h4 g94p protein induc degrad free histon via rad53-depend mechan',\n",
       " 'h4 g94p protein inhibit chromatin assembl decreas free histon',\n",
       " 'h4 g94p protein suppress degrad free histon via rad53-depend mechan',\n",
       " 'hand2 methyl key step earli endometri carcinogenesi',\n",
       " 'hiv trans-activ protein tat effect transport larg small molecul across cellular membran larger popul neuron',\n",
       " 'hnf4a mutat associ macrosomia infanc',\n",
       " 'hoxb4 facilit hsc expans co-cultur hsc',\n",
       " 'hoxb4 highli express compon cellular secretom fetal liver cell popul',\n",
       " 'hsct-t dosag may diagnost onset symptom occur less 3 hour ami',\n",
       " 'main partner improv hiv outcom',\n",
       " 'main partner worsen hiv outcom',\n",
       " 'hba1c consist overestim glycem control black individu sickl cell trait sct',\n",
       " 'headach correl cognit impair',\n",
       " 'healthi volunt exhibit rapid transient increas cellular atp bolus-inject fructos',\n",
       " 'helicobact pylori-induc aberr nf-kb-depend express activation-induc cytidin deaminas contribut mutagenesi host dna',\n",
       " 'helminth interfer immun system control coinfect microbi pathogen 16',\n",
       " 'hematopoiet stem cell purif reach puriti rate 90',\n",
       " 'high level crp lead higher risk exacerb chronic obstruct pulmonari diseas copd',\n",
       " 'higher plasma level i-carnitin associ trimethylamin n-oxid neg correl cardiovascular event human',\n",
       " 'higher plasma level i-carnitin associ trimethylamin n-oxid posit correl cardiovascular event human',\n",
       " 'homozyg delet murin sbd gene osterix-express mesenchym stem progenitor cell mpc induc oxid stress',\n",
       " 'human embryon stem cell give rise cell type three embryon germ layer',\n",
       " 'human embryon stem cell give rise cell type outer embryon germ layer two layer',\n",
       " 'human embryon stem cell capac give rise differenti progeni repres three embryon germ layer',\n",
       " 'hypocretin neuron suppress panicpron state rat',\n",
       " 'hypothalam glutam neurotransmiss unrel energi balanc',\n",
       " 'ifi16 imped sting phosphoryl transloc result reduc activ sting',\n",
       " 'ifit1 speed viral replic allow prolifer mis-cap viral rna',\n",
       " 'il-10 product monocyt inhibit cd4 cell respons',\n",
       " 'il-6 signal play major role atherosclerot cardiovascular diseas',\n",
       " 'itam phosphoryl allow transfer cell receptor tcr signal echo-domain cytoplasm tail cell receptor tcr',\n",
       " 'iga plasma cell specif transglutaminas 2 scarc duoden mucosa celiac diseas patient diseas activ',\n",
       " 'immun complex trigger cell death lead extracellular releas nuclear dna',\n",
       " 'immun complex trigger cell death lead sequestr oxid mitochondri dna',\n",
       " 'immun respons immun cell geograph segreg',\n",
       " 'improv oer catalyst show stabl activ sever hundr hour',\n",
       " 'british men haplogroup decreas risk cardiovascular diseas',\n",
       " 'british men haplogroup increas risk cardiovascular diseas 50',\n",
       " 's. cerevisia absenc rna surveil pathway caus sensit high iron condit',\n",
       " 's. cerevisia absenc rna surveil pathway reduc sensit high iron condit',\n",
       " 'naiv state block wingless-int-1 secret mous embryon stem cell inhibit self-renew mous embryon stem cell',\n",
       " 'breast cancer loss myoepitheli cell promot transit ductal carcinoma situ invas carcinoma',\n",
       " 'breast cancer loss myoepitheli cell slow transit ductal carcinoma situ invas carcinoma',\n",
       " 'chronic viral infect tumor peptid select inhibit ptpr util boost insuffici activ pdc',\n",
       " 'domest popul saccharomyc cerevisia segment aneuploidi common',\n",
       " 'domest popul saccharomyc cerevisia segment aneuploidi occur infrequ',\n",
       " 'melanoma anti-ctla-4 treatment reinvigor exhaust pd-1+eomes+cd8 cell',\n",
       " 'patient congenit heart defect β-blocker significantli improv clinic heart failur outcom',\n",
       " 'pediatr tissu cell naiv cell emigr thymu',\n",
       " 'rhesu macaqu daili subcutan inject emtricitabin ineffect protect rectal transmit simian-human immunodefici viru',\n",
       " 'rhesu macaqu daili subcutan inject tenofovir protect rectal transmit simian-human immunodefici viru',\n",
       " 'uk drown affect boy girl equal',\n",
       " 'transgen mice harbor green floresc protein control sox2 promot 50 percent cell green floresc coloc cell prolifer marker',\n",
       " 'young middle-ag adult current remot use adhd medic increas risk seriou cardiovascular event',\n",
       " 'incid 10/66 dementia higher incid dsm-iv dementia',\n",
       " 'incid 10/66 dementia lower incid dsm-iv dementia',\n",
       " 'incid heart failur increas 10 women sinc 1979',\n",
       " 'incid sepsi fallen substanti 2009 2014',\n",
       " 'includ pharmacist round team alter incid advers drug event ade',\n",
       " 'includ pharmacist round team reduc incid advers drug event ade',\n",
       " 'increas p62 prostat tumor stroma result defect autophagi',\n",
       " 'increas ldl receptor play role reduct plasma lp',\n",
       " 'increas convers pge 2 ppari ligand 15-ket-pg 2 caus accumul pge',\n",
       " 'increas diastol blood pressur dbp associ abdomin aortic aneurysm',\n",
       " 'increas flux microbi product provok immun respons',\n",
       " 'increas flux microbi product suppress immun respons',\n",
       " 'increas lipolysi lead higher p38 phosphoryl adipos tissu',\n",
       " 'increas microtubul acetyl exacerb lrrk2 roc-cor domain mutat induc locomotor deficit',\n",
       " 'increas microtubul acetyl repair interfer axon transport caus lrrk2 roc-cor domain mutat',\n",
       " 'increas microtubul acetyl worsen interfer axon transport caus lrrk2 roc-cor domain mutat',\n",
       " 'increas mobil retrotransposon lead mutat higher tumorigenesi rate',\n",
       " 'increas mobil retrotransposon assosci mutat higher tumorigenesi rate',\n",
       " 'increas puriti cytoplasm membran isol overexpressor indic stronger spot ompf 2d bn-page gel',\n",
       " 'increas vessel densiti along reduct fibrosi improv efficaci chemotherapi treatment',\n",
       " 'individu alzheim particip six month physic activ improv cognit function 18 month',\n",
       " 'individu low serum vitamin concentr decreas risk multipl sclerosi',\n",
       " 'induc hepat stem cell possess potenti differenti cholangiocyt cell',\n",
       " 'induc hepat stem cell possess potenti differenti hepatocyt cell',\n",
       " 'induct urokinas receptor signal podocyt caus foot process effac proteinuria',\n",
       " 'inhibit hdac6 increas surviv mice arid1a mutat tumor',\n",
       " 'inhibit focal adhes format enabl cell convert mechan strain eventu scar',\n",
       " 'inhibit focal adhes format increas rate cell convert mechan strain inflamm fibrosi',\n",
       " 'inhibit glucose-6-phosp dehydrogenas improv lipogenesi deactiv lkb1-ampk signal',\n",
       " 'input mental physic health care profession effect decreas homeless',\n",
       " 'insid bodi falciparum parasit reproduc asexu',\n",
       " 'insulin decreas risk sever kidney failur',\n",
       " 'insulin effect appetit via ventral tegment neuron',\n",
       " 'intak folic acid fa vitamin b6 vb6 increas level homocystein',\n",
       " 'intak folic acid fa vitamin b6 vb6 reduc level homocystein',\n",
       " 'integr care ineffect tackl multipl comorbid',\n",
       " 'integr care success tackl multipl comorbid',\n",
       " 'integr classroom-bas collabor learn web-bas collabor learn offer best class perform',\n",
       " 'interferon stimul gene isg irf1 irg1 ifi27 rsad2 encourag west nile viru replic cortic neuron',\n",
       " 'interferon stimul gene isg irf1 irg1 ifi27 rsad2 inhibit west nile viru replic cortic neuron',\n",
       " 'interleukin-18 play import role pathogenesi atherosclerosi',\n",
       " 'intra-cerebroventricular infus amyloid-β oligom increas express fibronectin type-iii domain-contain protein 5 mrna mice hippocampi',\n",
       " 'intra-cerebroventricular infus amyloid-β oligom reduc express fibronectin type-iii domain-contain protein 5 mrna mice hippocampi',\n",
       " 'intramembran cleavag signal peptid peptidas aid degrad protein complex membran orient',\n",
       " 'proven moder consumpt candi chocol reduc risk cardiovascular diseas cvd specif',\n",
       " 'jmjd6 catalyz hydroxyl c-termin lysin supress transcript activ',\n",
       " 'jmjd6 slow hydroxyl c-termin lysin',\n",
       " 'klf4 necessari vsmc gain genet characterist cell type within atherosclerot lesion',\n",
       " 'krt17 modul express transcript regul air diseas epithelia',\n",
       " 'kir7.1 modul channel activ g protein-coupl melanocortin-4 receptor mc4r paraventricular nucleu hypothalamu',\n",
       " 'klf2 import proper myeloid cell function',\n",
       " 'klf4 import proper myeloid cell differenti',\n",
       " 'klf4 requir proper myeloid cell differenti',\n",
       " 'knockout proxim tubule-specif delet bmp receptor alk3 caus epitheli damag',\n",
       " 'knockout proxim tubule-specif delet bmp receptor alk3 caus fibrosi',\n",
       " 'l3mbtl2 bind h2ak119ub mark chromatin form prc1 complex',\n",
       " 'ldl cholesterol causal role develop cardiovascular diseas',\n",
       " 'lrba prevent ctla 4 recycl',\n",
       " 'lrba promot ctla 4 recycl',\n",
       " 'lsd1-posit promot associ rna polymeras ii',\n",
       " 'lack fgf21 mice increas life expect',\n",
       " 'lack fgf21 mice lead atherosclerot plaqu format',\n",
       " 'lack fgf21 mice lead reduc lifespan',\n",
       " 'lack fgf21 mice slow rate atherosclerot plaqu format',\n",
       " 'lamin associ nuclear membran structur mainten',\n",
       " 'lamin found within inner layer mitochondri membran cell',\n",
       " 'lamin found within inner layer nuclear membran cell',\n",
       " 'lamin effect nuclear membran structur mainten',\n",
       " 'less 10 patient expos radiat activ marker mesenchym stem cell',\n",
       " 'lice attenu siv vaccin induc stronger antigen-specif cell respons lymph node cell',\n",
       " 'lipopolysaccharid inflamm independ effect kidney barrier function',\n",
       " 'lmna knock-in model appropri test therapeut approach hutchinson-gilford progeria syndrom hgp',\n",
       " 'local pin1 root arabidopsi requir vps9a',\n",
       " 'long rang chromatin interact regul transcript',\n",
       " 'long chain polyunsatur fatti acid supplement signific effect wheez asthma 3 6 year',\n",
       " 'long chain polyunsatur fatti acid supplement associ lower rate atop eczema 1 year',\n",
       " 'long chain polyunsatur fatti acid supplement reduc wheez asthma',\n",
       " 'low express mir7a repress target gene exert biolog function ovari',\n",
       " 'low express mir7a repress target gene exert biolog function testi',\n",
       " 'low nucleosom occup correl high methyl level across speci',\n",
       " 'ly49q direct organ neutrophil polar regul membran raft function',\n",
       " 'ly6c hi monocyt higher inflammatori capac ly6c lo monocyt',\n",
       " 'lysin histon demethylas inhibitor jib 04 inact kdm5a',\n",
       " 'm. stadtmana induc asc speck format blaer1 monocyt',\n",
       " 'm. stadtmana induc asc speck format blaer1 monocyt',\n",
       " 'mek inhibitor effect treatment ras-driven mous model cancer',\n",
       " 'mfge8 regul fat absorpt bind av-beta3 av-beta5 integrin',\n",
       " 'mical redox enzym regul actin dynam mani cell type',\n",
       " 'mical redox enzym regul actin dynam',\n",
       " 'mt bind domain drive amyloid structur format',\n",
       " 'muc1-c activ nf-κb p65 signal pathway interact iκb kinas ß',\n",
       " 'mafa phosphoryl decreas ubiquitin',\n",
       " 'mafa phosphoryl enhanc ubiquitin',\n",
       " 'mafa ubiquitin decreas recruit coavtiv p/caf mafa',\n",
       " 'mafa ubiquitin increas recruit coavtiv p/caf mafa',\n",
       " 'major antigen-induc signal cell receptor secondari signal costimulatori receptor requir cell activ',\n",
       " 'major vault protein mvp lead aggress tumor regul sort tumor suppress mir-193a extracellular vesicl ev',\n",
       " 'major vault protein regul sort tumor suppress mir-193a ev',\n",
       " 'malaria high vectori capac',\n",
       " 'mani cytokin produc cancer cell also contribut carcinogenesi',\n",
       " 'mani transmembran receptor transmit signal long-rang conform chang associ alpha-helic across plasma membran',\n",
       " 'marmoset brain region homolog broca \"s\" area',\n",
       " 'mathemat model predict use artemisinin-bas combin therapi nongametocytocid drug modest impact reduc malaria transmiss',\n",
       " 'mecp2 influenc synapt matur neuron',\n",
       " 'measur routin outcom benefici clinic practic assess treatment adher',\n",
       " 'medic treat obes highli effect',\n",
       " 'medic treat obes side effect',\n",
       " 'medic treat obes unwant side effect',\n",
       " 'men suscept death due pneumonia compar women',\n",
       " 'metastat colorect cancer treat singl agent fluoropyrimidin result similar efficaci better qualiti life compar oxaliplatin-bas chemotherapi elderli patient',\n",
       " 'mice incap produc neutral antibodi repons chikungunya viru chikv produc mosquito',\n",
       " 'mice defect deoxyribonucl acid dna polymeras poli fail reveal increas sensit ioniz radiat ir',\n",
       " 'mice defect deoxyribonucl acid dna polymeras polm fail reveal increas sensit ioniz radiat ir',\n",
       " 'mice defect deoxyribonucl acid dna polymeras polm reveal increas sensit ioniz radiat ir',\n",
       " 'mice lack sirt1 sf1-express neuron immun diet-induc obes insulin resist',\n",
       " 'mice lack sirt1 sf1-express neuron increas suscept diet-induc obes insulin resist',\n",
       " 'mice lack interferon-γ receptor highli suscept experiment autoimmun myocard',\n",
       " 'mice without ifn-γ receptor highli suscept eam induc α-myhc/cfa',\n",
       " 'microcin j25 encourag nucleosid triphosph ntp bind',\n",
       " 'microcin j25 inhibit nucleosid triphosph ntp bind',\n",
       " 'microglia innat immun cell type central nervou system',\n",
       " 'microglia innat immun cell type peripher nervou system',\n",
       " 'migrain aura associ ischem stroke',\n",
       " 'misunderstand doctor patient lead non-adher',\n",
       " 'mitochondria play major role apoptosi',\n",
       " 'mitochondria play major role energi product',\n",
       " 'mitochondria play trivial role calcium homeostasi',\n",
       " 'moder consumpt candi chocol reduc risk cardiovascular diseas cvd',\n",
       " 'monoclon antibodi target n-cadherin encourag castrat resist',\n",
       " 'monoclon antibodi target n-cadherin encourag metastasi',\n",
       " 'monoclon antibodi target n-cadherin inhibit castrat resist',\n",
       " 'monoclon antibodi target n-cadherin inhibit growth',\n",
       " 'termin event okazaki fragment dictat initi pattern',\n",
       " 'mous model gener use `` artifici spermatid \"\"',\n",
       " 'mutant mice lack svct2 sever reduc ascorb acid level brain adren',\n",
       " 'mutat g-beta protein gnb1 present mani cancer result loss interact g-alpha subunit concomit activ akt pathway',\n",
       " 'mutat rim1 decreas level ime1 rna',\n",
       " 'mutat rim1 rais level ime1 rna',\n",
       " 'myelin sheath lipid-rich cellular structur',\n",
       " 'myelin sheath play role action potenti propag',\n",
       " 'n348i mutat caus resist nevirapin',\n",
       " 'n348i mutat reduc resist nevirapin',\n",
       " 'nac destabil increas effect contrast agent renal function',\n",
       " 'nac inhibit gener angiotensin-convert enzym',\n",
       " 'nr5a2 play role develop endometri tissu',\n",
       " 'nr5a2 import revers cholesterol transport human',\n",
       " 'natriuret peptid increas suscept diabet',\n",
       " 'natriuret peptid protect diabet',\n",
       " 'neutrophil extracellular trap net antigen may contain target autoantigen pr3 mpo',\n",
       " 'neutrophil produc il-1β respons larg particl',\n",
       " 'nigerian physician constitu largest compon sub-saharan africa-train physician unit state',\n",
       " 'nonhuman primat incap produc neutral antibodi repons eilat viru eilv produc mosquito',\n",
       " 'nonhypertens peopl 55 year old 90 chanc develop hypertens lifetim',\n",
       " 'noninvas posit pressur ventil predict acut respiratori failur solid organ transplant',\n",
       " 'nonsteroid antinflammatori drug ineffect cancer treatment',\n",
       " 'nonsteroid antinflammatori drug show potenti anticanc indic',\n",
       " 'normal express runx1 caus tumorsupress effect',\n",
       " 'normal granuloma form absenc tnf zebrafish',\n",
       " 'normal granuloma form presenc tnf zebrafish',\n",
       " 'notch signal occur tumor cell stromal cell',\n",
       " 'nuclear transfer adult human fibroblast human oocyt give rise blastocyst contain expand pluripot cell',\n",
       " 'oat toler coeliac patient may oat specif inflammatori cell small bowel mucosa',\n",
       " 'obes decreas life qualiti',\n",
       " 'obes rais life qualiti',\n",
       " 'occipit activ level associ auditori spatial perform pariet region brain',\n",
       " 'omnivor produc less trimethylamin n-oxid dietari i-carnitin vegan',\n",
       " 'omnivor produc trimethylamin n-oxid dietari i-carnitin vegan',\n",
       " 'omnivor produc trimethylamin n-oxid dietari i-carnitin vegetarian',\n",
       " 'one five surgic random control trial discontinu earli',\n",
       " 'one two surgic random control trial discontinu earli',\n",
       " 'origin gross domest product gdp neg relat dengu viru denv-1 diffus air traffic shipment',\n",
       " 'origin gross domest product gdp posit relat dengu viru denv-1 diffus air traffic shipment',\n",
       " 'osteocyt essenti role g-csf induc hspc mobil',\n",
       " 'osteoparthr oa character degener articular cartilag joint edg subchondr bone hyperplasia',\n",
       " 'half gabones children schimmelpenning-feuerstein-mim syndrom sfm plasma lactat 5mmol/l',\n",
       " 'overexpress cnp1 n-tail variant exacerb temperature-sensit growth defect scm3-139',\n",
       " 'overexpress cnp1 n-tail variant rescu temperature-sensit growth defect scm3-139',\n",
       " 'oxid dna damag activ sting signal',\n",
       " 'oxid dna damag inhibit sting signal',\n",
       " 'oxid phosphoryl one primari glycometabol pathway cell',\n",
       " 'pcsk9 inhibitor decreas plasma lp level',\n",
       " 'pd-1 trigger monocyt enhanc il-10 product monocyt',\n",
       " 'pge 2 suppresss intestin tumor growth alter express tumor suppress dna repair gene',\n",
       " 'pkg-la larg impact express pain hypersensit pgk-la knockout mice',\n",
       " 'pkg-la larg impact express spinal long term potenti pgk-la knockout mice',\n",
       " 'pkg-la play essenti role express spinal long term potenti pgk-la knockout mice',\n",
       " 'prc1-bound plasmid sediment slower rate unbound plasmid sucros gradient',\n",
       " 'pten regul transcript activ srf',\n",
       " 'particip quit smoke reduc lung cancer risk approxim 50',\n",
       " 'patient stabl partnership slower progress hiv aid',\n",
       " 'patient stabl partnership progress hiv death rate patient partnership',\n",
       " 'patient common epitheli cancer like emerg event first hospit admiss live resource-depriv area',\n",
       " 'patient common epitheli cancer less like emerg event first hospit admiss live resource-depriv area',\n",
       " 'patient microcytosi higher erythrocyt count vulner sever malari anaemia infect plasmodium falciparum',\n",
       " 'patient microcytosi higher erythrocyt count resist sever malari anaemia infect plasmodium falciparum',\n",
       " 'patient panic anxieti show decreas csf level hypocretin',\n",
       " 'pediatr scd patient vaso-occlus crisi show increas morphin use breath 80 ppm ino 4 hour',\n",
       " 'perigenit skin primari site hiv acquisit',\n",
       " 'peroxynitrit requir induct cell toler',\n",
       " 'persist cell provid relaps resist cancer patient',\n",
       " 'persistor cell one reason incomplet respons tyrosin kinas inhibitor tki therapi cancer patient',\n",
       " 'pharmacist attend ward round increas advers event ward',\n",
       " 'pharmacist attend ward round reduc advers event ward',\n",
       " 'phase inform use predict donor-recipi match organ transplant',\n",
       " 'physic activ improv cognit function individu alzheim',\n",
       " 'physic activ level associ differ maxim oxygen consumpt black white youth',\n",
       " 'physic activ level associ differ maxim oxygen consumpt black white youth',\n",
       " 'physic injuri repress transgultaminas activ',\n",
       " 'piezo1 channel sensor cell migrat epitheli cell',\n",
       " 'pioglitazon use associ increas risk prostat cancer',\n",
       " 'pioglitazon use significantli associ increas risk pancreat cancer',\n",
       " 'pioglitazon use significantli associ increas risk prostat cancer',\n",
       " 'pioneer factor oct3/4 interact major chromatin remodel factor',\n",
       " 'polym nutrit increas cardiovascular mortal',\n",
       " 'post-transcript handl mitochondri transcript occur mitochondri rna granul',\n",
       " 'pre-mrna associ spliceosom compon less stabl unassoci splice substrat',\n",
       " 'pre-mrna associ spliceosom compon stabl unassoci splice substrat',\n",
       " 'prescrib exercis train improv qualiti life',\n",
       " 'primpol degrad short dna replic intermedi lead strand dna replic',\n",
       " 'primpol gener short dna replic intermedi lead strand dna replic',\n",
       " 'primari cervic cancer screen hpv detect lower longitudin sensit convent cytolog detect cervic intraepitheli neoplasia grade 2',\n",
       " 'primari cervic cytolog screen hpv detect higher longitudin sensit detect sever cervic intraepitheli neoplasia convent cytolog',\n",
       " 'primari pro-inflammatori cytokin suppress secondari pro- anti-inflammatori mediat',\n",
       " 'pro-inflammatori cytokin regul tumor develop',\n",
       " 'pro-inflammatori cytokin repress tumor develop',\n",
       " 'progerin induc prematur age stem cell',\n",
       " 'propriospin interneuron play role plastic reorgan spinal circuit integr recoveri spinal cord injuri',\n",
       " 'pseudogen ptenp1 encod transcript regul pten express',\n",
       " 'pseudoknot evolutionarili conserv eukaryot',\n",
       " 'pure neural progenitor cell npc popul obtain cell cultur undergo passag filtrat isol cell sort method',\n",
       " 'pyridostatin decreas telomer fragil brca2-defici cell',\n",
       " 'pyridostatin deregul g2/m progress',\n",
       " 'pyridostatin encourag prolifer homolog recombin defect cell',\n",
       " 'pyridostatin induc checkpoint activ',\n",
       " 'pyridostatin induc double-strand break accumul',\n",
       " 'pyridostatin prevent double-strand break accumul',\n",
       " 'pyridostatin reduc prolifer homolog recombin defect cell',\n",
       " 'pyridostatin stabil g quadruplex telomer region',\n",
       " 'r2d2 stop mirna product increas select dcr2 long dsrna',\n",
       " 'ra activ dif2 nb4 cell induc hallmark transcript activ promot',\n",
       " 'rad52 involv break-induc dna replic bir',\n",
       " 'rank-rankl pathway signal known associ develop aire-express medullari thymic epitheli cell',\n",
       " 'rank-rankl pathway signal link develop aire-express medullari thymic epitheli cell',\n",
       " 'rtel1 interact trf2 c4c4 motif',\n",
       " 'runx express skin tissu',\n",
       " 'runx1 downregul mutat tlx1 t-all',\n",
       " 'radioiodin treatment non-tox multinodular goitr increas thyroid volum',\n",
       " 'rapamycin delay age fruit fli',\n",
       " 'rapamycin increas concentr triacylglycerol fruit fli',\n",
       " 'rapid phosphotransf rate correl histidin kinas regul specif',\n",
       " 'recognit start codon depend translat initi factor if3',\n",
       " 'reduc level lipolysi lead higher p38 phosphoryl adipos tissu',\n",
       " 'reduc phosphoryl pp2a increas hdac4 dephosphoryl enhanc pp2a-hdac4 interact',\n",
       " 'reduc phosphoryl pp2a suppress hdac4 dephosphoryl',\n",
       " 'reduc respons interleukin-2 regulatori cell associ autoimmun diseas type 1 diabet',\n",
       " 'reduc h3k4me3 methyl induc mous epiblast stem cell naiv pluripot effici',\n",
       " 'reduct rpl38 alter composit hox gene mrna translat mice without lower overal protein synthesi',\n",
       " 'reduct puriti cytoplasm membran isol overexpressor indic stronger spot ompa 2d bn-page gel',\n",
       " 'reduct puriti cytoplasm membran isol overexpressor indic stronger spot ompf 2d bn-page gel',\n",
       " 'remov h3k9me3 ectop express h3k9 demethylas decreas reprogram effici scnt experi',\n",
       " 'remov h3k9me3 ectop express h3k9 demethylas improv reprogram effici scnt experi',\n",
       " 'remov h3k9me3 improv reprogram effici human somat cell nuclear transfer experi',\n",
       " 'replac oct4 sox2 gene gata3 abil reprogram human cell',\n",
       " 'replac oct4 sox2 gene gata3 capabl reprogram human cell',\n",
       " 'replac histon h2a h2a.z acceler gene activ yeast destabil +1 nucleosom',\n",
       " 'repress il-18 neg effect atherosclerot lesion composit progress',\n",
       " 'retino acid receptor-rel orphan receptor gamma rorγ therapeut target castration-resist prostat cancer crpc',\n",
       " 'rhythmic express cry1 translat directli circadian regul camp signal gluconeogenesi',\n",
       " 'rhythmic express cry1 translat directli circadian regul camp signal hepat glucos metabol',\n",
       " 'ribosom protein rp express control part stress-activ regul',\n",
       " 'ribosome-inactiv protein-2 rip-2 interact p75 ntr death domain',\n",
       " 'ribosomopathi high degre cell tissu specif patholog',\n",
       " 'risedron increas risk vertebr non-vertebr fractur',\n",
       " 'rise temperatur caus global warm increas risk dengu fever transmiss',\n",
       " 'rise temperatur caus global warm lower risk dengu fever transmiss',\n",
       " 'risk cardiovascular event cut third use antihypertens drug therapi among hemodialysi patient',\n",
       " 'risk-adjust mortal rate similar teach non-teach hospit',\n",
       " 'rotat cuff exercis effect gener exercis therapi reduc pain improv function shoulder',\n",
       " 'roughli 55 women chronic pelvic pain underli patholog',\n",
       " 'satellit cell dysfunct key factor sarcopenia develop',\n",
       " 'scpif1p higher bind abil g-rich ssdna non-g-rich ssdna',\n",
       " 'scpif1p reduc bind abil g-rich ssdna compar non-g-rich ssdna',\n",
       " 'scapular stabil exercis effect gener exercis therapi reduc pain improv function shoulder',\n",
       " 'self-advocaci train effect decreas homeless',\n",
       " 'sepsi relat mortal remain stabl 2009-2014',\n",
       " 'sepsi relat mortal risen 2009 2014',\n",
       " 'sequenc conserv gene regulatori region speci high-accuraci predictor conserv function',\n",
       " 'sequenc conserv gene regulatori region speci poor predictor conserv function',\n",
       " 'side effect associ antidepress repres mortal risk postmenopaus women',\n",
       " 'side effect associ antidepress increas risk stroke',\n",
       " 'side effect associ antidepress lower risk myocardi infarct',\n",
       " 'sildenafil worsen erectil function men experi sexual dysfunct result use ssri antidepress',\n",
       " 'smc5/6 engag halt activ sumo e3 ligas mms21 atp-depend remold',\n",
       " 'sn present matur dc inflamm vivo',\n",
       " 'special function cell type deriv human pluripot stem cell',\n",
       " 'splenomegali observ knockin mous lack shp-2 mapk pathway',\n",
       " 'stack stabl purin present +5 posit c1698',\n",
       " 'stiff substrat encourag mesoderm differenti degrad beta-catenin integrin-depend manner',\n",
       " 'stiff substrat inhibit mesoderm differenti degrad beta-catenin integrin-depend manner',\n",
       " 'stroke patient prior use direct oral anticoagul higher risk in-hospit mortal stroke patient prior use warfarin',\n",
       " 'student perform poorli earli year medic school increas risk profession misconduct later career',\n",
       " 'student perform poorli earli year medic school less like commit profession misconduct later career',\n",
       " 'suboptim nutrit lead caus prematur death',\n",
       " 'sudden death occur patient complex ventricular arrhythmia',\n",
       " 'sudden death occur patient orthostat hypertens without cardiac conduct abnorm',\n",
       " 'surfactin produc cell exopolym produc cell cooper gener `` van gogh \"\" bundl slide abil special media',\n",
       " 'surgic treatment superior non-surg treat adult displac fractur proxim humeru',\n",
       " 'sweet tast receptor tongu deactiv 1 10 mm glucos',\n",
       " 'sympathet nerv activ elev throughout normal pregnanc',\n",
       " 'sympathet nerv activ reduc throughout normal pregnanc',\n",
       " 'system immunosuppress therapi enhanc chanc cancer mortal patient inflammatori eye diseas i',\n",
       " 'system immunosuppress therapi increas chanc cancer mortal patient inflammatori eye diseas i',\n",
       " 'system lupu erythematosu risk factor cardiovascular diseas',\n",
       " 'cell receptor /cd3 microdomain requir induc immunolog synaps',\n",
       " 'tmem27 marker beta cell',\n",
       " 'tnfaip3 glioblastoma tumor enhanc',\n",
       " 'tnfaip3 glioblastoma tumor suppressor',\n",
       " 'tnfaip3 tumor enhanc glioblastoma',\n",
       " 'trap+ osteoclast regul matur osteoblast mainten',\n",
       " 'take 400mg α-tocopheryl acet prevent prostat cancer',\n",
       " 'take 400mg α-tocopheryl acet combin vitamin c reduc risk prostat cancer',\n",
       " 'take anti-depres associ decreas aβ level brain experiment anim',\n",
       " 'taxat sugar-sweeten beverag reduc incid rate type ii diabet india',\n",
       " 'ten percent 10 kidney cancer uk attribut excess weight',\n",
       " 'c-type lectin receptor clec-2 rearrang actin cytoskeleton dendrit cell promot effici motil along stromal surfac',\n",
       " 'desmond program caus substanti weight loss particip',\n",
       " 'desmond program demonstr signific impact biochem outcom',\n",
       " 'desmond program demonstr signific impact lifestyl outcom',\n",
       " 'desmond program demonstr signific impact weight loss',\n",
       " 'dexi promot region bound multipl transcript factor murin haematopoiet progenitor cell line',\n",
       " 'ddrb protein deinococcu radioduran function pentam',\n",
       " 'g34r/v mutat creat hypomethyl phenotyp h3k36 histon',\n",
       " 'g34r/v mutat creat hypomethyl phenotyp h3k36 histon',\n",
       " 'h2a-h2b evict defect compens histon chaperon',\n",
       " 'hsv-2 infect typic asymptomat',\n",
       " 'm2-phenotyp brown adipos tissu macrophag increas brown adipos tissu thermogen activ',\n",
       " 'nf-κb essenti modul gene induc intestin inflamm promot receptor-interact protein rip kinas 1 kinas activity-medi epitheli cell death',\n",
       " 'nf-κb essenti modul gene prevent intestin inflamm inhibit receptor-interact protein rip kinas 1 kinas activity-medi epitheli cell death',\n",
       " 'pdpn gene deactiv c-type lectin receptor clec-2',\n",
       " 'ppr mda5 twenti n-termin card domain',\n",
       " 'prdm1 gene key determin primordi germ cell',\n",
       " 'prdm1 gene combin prdm14 gene play import role primordi germ cell specif',\n",
       " 'prr mda5 c-termin domain',\n",
       " 'rank-rank-ligand rankl pathway involv develop aire-express medullari thymic epitheli cell mtec',\n",
       " 'snf1 complex regul carbon energi metabol baker \"s\" yeast saccharomyc cerevisia',\n",
       " 'traf1/c5 rs10818488 allel polymorph regul neighbor c5 gene',\n",
       " 'us health care system save 5 billion 7 patient wait kidney transplant particip optim nation kidney pair donat program',\n",
       " 'world health organ \"s\" data collect process bias downward unequ select larger outbreak',\n",
       " 'abil activ e2f prevent cell death limit termin differenti cell',\n",
       " 'amount publicli avail dna data doubl everi 10 month',\n",
       " 'appear brown-lik beig cell primarili occur viscer fat subcutan fat',\n",
       " 'artifactu c-termin helix swap start domain observ ups1-mdm35 heterodim starkin superfamili',\n",
       " 'combin physic examin c-reactiv protein valu improv accuraci radiograph verifi pneumonia predict',\n",
       " 'composit myosin-ii isoform switch isoform b isoform hematopoiet differenti',\n",
       " 'cytokin receptor regul chemotaxi format lymph node involv product myeloperoxidas left atrium',\n",
       " 'deamin cytidin uridin minu strand viral dna inactiv viral genom induc g-to-a mutat',\n",
       " 'densiti cytokin receptor bear cell affect distanc cytokin act',\n",
       " 'densiti cytokin receptor bear cell effect distanc cytokin act',\n",
       " 'deregul prolong activ monocyt deleteri effect chronic infecti condit',\n",
       " 'deregul prolong activ monocyt improv inflammatori diseas outcom',\n",
       " 'effect lipopolysaccharid kidney barrier function depend inflamm level',\n",
       " 'first mbt repeat four malign brain tumor 4mbt domain drosophila \"s\" sfmbt ortholog mammalian l3mbtl2 requir interact spacer region drosophila \"s\" pleiohomeot pho human ortholog yy1',\n",
       " 'gene daf-16 encod forkhead box foxo requir phenotyp associ reduc insulin/insulin-lik growth factor igf signal',\n",
       " 'gener reactiv oxygen speci activ oncogen contribut increas genom instabl leukaemia cell',\n",
       " 'innat immun respons struggl remov small number parasit',\n",
       " 'latent infect myeloid cell human cytomegaloviru induc number chang gene express',\n",
       " 'mean suicid rate women higher miscarriag live birth',\n",
       " 'mean suicid rate women lower miscarriag live birth',\n",
       " 'microtubule-depend deliveri secret matrix metalloproteas mmp partial respons disassembl adhes site',\n",
       " 'minor g allel foxo3 downregul pro-inflammatori cytokin',\n",
       " 'minor g allel foxo3 relat less sever symptom crohn \"s\" diseas',\n",
       " 'minor g allel foxo3 up-regul il-10',\n",
       " 'morpholog chang larg white adipocyt small brown adipocyt sign decreas energi expenditur potenti white adipos tissu',\n",
       " 'morpholog chang larg white adipocyt small brown adipocyt sign increas energi expenditur potenti white adipos tissu',\n",
       " 'preval advers event semaglutid cardiovascular',\n",
       " 'preval advers event semaglutid gastrointestin',\n",
       " 'myocardi cell lineag origin develop cardiac progenitor exclus endoderm origin',\n",
       " 'number unfertil oocyt mate hermaphrodit increas age',\n",
       " 'one-child polici creat hospit environ femal infant',\n",
       " 'origin crf01_1b2k protein occur 1923 1956',\n",
       " 'peak incid fractur occur pubert growth spurt earli adolesc',\n",
       " 'peak incid fractur occur toddler',\n",
       " 'predomin local linc00173 mononuclear macrophag nuclei',\n",
       " 'prolif capac neural progenitor differ across speci',\n",
       " 'prolif capac progenitor regul cell-autonom',\n",
       " 'proport peopl visual difficulti two time higher low-incom countri high-incom countri',\n",
       " 'recruit wdr5 target loci depend kat8',\n",
       " 'relationship breast cancer patient \"s\" capac metabol tamoxifen treatment outcom independ patient \"s\" genet make-up',\n",
       " 'remov reactiv oxygen speci activ oncogen contribut increas genom instabl leukaemia cell',\n",
       " 'repeat-vari diresidu rvd loop transcription-activ like tal effector specifi nucleotides-amino acid contact target promot element',\n",
       " 'risk breast cancer among parou women decreas placent weight pregnanc',\n",
       " 'risk cancer rise level alcohol consumpt',\n",
       " 'risk femal prison harm ten time male prison',\n",
       " 'tip inner tube toxic type vi secret system t6ss antibacteri effector escherichia coli e. coli decor vgrg paar protein',\n",
       " 'tissu surround granuloma immun cell induc anti-inflammatori immun respons',\n",
       " 'therapeut receiv acceler approv encount lower frequenc post-market safeti event',\n",
       " 'posit correl hip fractur statin use',\n",
       " 'relat erythromycin use hypertroph pylor stenosi',\n",
       " 'associ hnf4a mutat diabet risk',\n",
       " 'increas risk hypospadia clomiphen',\n",
       " 'known interact pioneer factor oct3/4 major chromatin remodel factor',\n",
       " 'relat erythromycin use hypertroph pylor stenosi',\n",
       " 'estim 30 million case pneumonia young children worldwid 2010',\n",
       " 'thiopurin activ metabolit catabol dephosphoryl thioguanin nucleotid',\n",
       " 'tirasemtiv effect cardiac muscl',\n",
       " 'tirasemtiv target cardiac muscl',\n",
       " 'tirasemtiv target fast-twitch muscl',\n",
       " 'toll-lik receptor tlr signal involv pathogenesi human md',\n",
       " 'tonic signal scfv induc constitut stimul',\n",
       " 'tonic signal scfv amplifi myd88/cd40',\n",
       " 'tonic signal scfv prevent constitut stimul',\n",
       " 'tradit review bias interpret',\n",
       " 'trans-act factor lncrna influenc mrna translat',\n",
       " 'transcript factor eb induc transcript pro-inflammatori cytokin macrophag infect staphylococcu aureu',\n",
       " 'transcript rate s. cerevisia rang 0.7 2 kb/min',\n",
       " 'transcript rate s. cerevisia rang 7 12 kb/min',\n",
       " 'transplant human glial progenitor cell matur host anim',\n",
       " 'treatment protein name fn impair regen abil age muscl',\n",
       " 'treatment protein name fn restor regen abil age muscl',\n",
       " 'treatment ec uptak inhibitor am404 result dose-depend decreas express immobl',\n",
       " 'tuberculosi incid occur higher rate spars popul area uk',\n",
       " 'tuberculosis-induc granuloma express differ immun system protein signatur surround tissu',\n",
       " 'tumor develop occur conjunct suppress pro-inflammatori cytokin',\n",
       " 'tumor develop occur conjunct upregul pro-inflammatori cytokin',\n",
       " 'two variant chromosom 6q21 associ radiat therapy-induc second malign pediatr hodgkin lymphoma patient',\n",
       " 'type 1 diabet associ subtl perturb reg develop',\n",
       " 'ultrasound guidanc significantli reduc number needl insert attempt necessari given procedur',\n",
       " 'ultrasound guidanc significantli reduc number traumat procedur attempt needl insert',\n",
       " 'understand epigenet regul replic essenti reation design episom replic vector',\n",
       " 'up-regul p53 pathway relat molecular event speed cancer progress',\n",
       " 'upon develop tyrosine-kinas inhibitor resist new mutat epiderm growth factor receptor emerg caus treatment failur',\n",
       " 'upon viral challeng influenza-specif memori cd4+ cell greatli diminish earli product inflammatori chemokin lung',\n",
       " 'upon viral challeng influenza-specif memori cd4+ cell greatli enhanc earli product inflammatori chemokin lung',\n",
       " 'upregul pd1 caus downmodul satb1',\n",
       " 'upregul pd1 caus upregul satb1',\n",
       " 'upregul dynein drosophila neuron increas number microtubul plus-end grow toward cell bodi neuron',\n",
       " 'urban import risk factor relat transmiss dengu fever',\n",
       " 'v-9302 inhibit antitumor respons decreas cell death oxid stress',\n",
       " 'vaccin gastrointestin tract induc protect rectal vagin mucosa',\n",
       " 'vareniclin monotherapi effect 26 week treatment compar combin nicotin replac therapi vareniclin bupropion',\n",
       " 'vari express level ebi2 affect posit migrat b cell',\n",
       " 'venul less signific tunica adventitia arteriol',\n",
       " 'vgrg tssl protein punctur membran form spike tip tube apparatu',\n",
       " 'vitamin defici effect birth weight',\n",
       " 'vitamin import factor relationship calcium parathyroid hormon',\n",
       " 'walk traffic area london improv lung function elderli adult',\n",
       " 'walk traffic area london improv lung function elderli adult',\n",
       " 'weigh food record wfr result high complet sinc \"re\" cheap run impos low particip burden',\n",
       " 'weigh food record wfr result poor complet sinc \"re\" costli run impos high particip burden',\n",
       " 'whole brain radiotherapi increas occurr new brain metastas',\n",
       " 'women suscept death due pneumonia compar men',\n",
       " 'women lower birth weight like develop breast cancer later life',\n",
       " 'yap/taz requir intestin regener mous model ulcer coliti',\n",
       " 'apkcz caus tumour suppress affect glutamin metabol',\n",
       " 'csmac format repress weak ligand signal',\n",
       " 'erna influenc link senesc age carcinogenesi',\n",
       " 'mcm 5 2 u requir proper decod nnr codon eukaryot',\n",
       " 'mir-142-5p known regul rais bodi temperatur',\n",
       " 'mir-142-5p temperature-sensit microrna mirna',\n",
       " 'mirna enforc homeostasi suppress low-level `` leaki \"\" transcript',\n",
       " 'mirna regul uniqu suit mrna maintain homeostasi cell',\n",
       " 'p16ink4a degrad link abnorm wound respons caus microinvas step advanc oral potenti malign lesion opml',\n",
       " 'p16ink4a degrad encod cdkn2a',\n",
       " 'p75 ntr associ cell death executor nade interact p75 ntr death domain',\n",
       " 'qsofa score associ length stay emerg depart patient',\n",
       " 'r-protein chaperon found complex r-protein bind partner',\n",
       " 'sirna knockdown a20 acceler tumor progress vivo murin xenograft model',\n",
       " 'sirna knockdown a20 slow tumor progress vivo murin xenograft model',\n",
       " 'taa1 tar1 tar2 tripl mutant arabidopsi make root meristem embryogenesi',\n",
       " 'β-sheet open occur pleurotolysin pore format',\n",
       " 'β1/ketel abl bind microtubul']"
      ]
     },
     "execution_count": 69,
     "metadata": {},
     "output_type": "execute_result"
    }
   ],
   "source": [
    "list(df_claims['claims_preprocessed_joined'])"
   ]
  },
  {
   "cell_type": "code",
   "execution_count": 72,
   "metadata": {},
   "outputs": [],
   "source": [
    "# This shit doesn't make much sense\n",
    "VECTORIZER = TfidfVectorizer(ngram_range = (1,2))\n",
    "# Fit on claims and texts\n",
    "tfidf = VECTORIZER.fit(list(df_claims['claims_preprocessed_joined']) +\n",
    "                     list(df_corpus['texts_preprocessed_joined'])   )\n",
    "\n",
    "claimMatrix = tfidf.transform(df_claims['claims_preprocessed_joined'])\n",
    "titleMatrix = tfidf.transform(df_corpus['title_preprocessed_joined'])\n",
    "abstractMatrix = tfidf.transform(df_corpus['abstract_preprocessed_joined'])\n",
    "textMatrix = tfidf.transform(df_corpus['texts_preprocessed_joined'])\n"
   ]
  },
  {
   "cell_type": "markdown",
   "metadata": {},
   "source": [
    "##### 2.2.3 Affichage (1 point)\n",
    "\n",
    "Affichez les dimensions (shape) de vos corpus (claims, text, title, abstract) après vectorisation"
   ]
  },
  {
   "cell_type": "code",
   "execution_count": 73,
   "metadata": {},
   "outputs": [
    {
     "name": "stdout",
     "output_type": "stream",
     "text": [
      "                    , Dimensions          \n",
      "claimMatrix         , (809, 474016)       \n",
      "titleMatrix         , (5183, 474016)      \n",
      "abstractMatrix      , (5183, 474016)      \n",
      "textMatrix          , (5183, 474016)      \n"
     ]
    }
   ],
   "source": [
    "print(f'{'':^20}, {'Dimensions':<20}')\n",
    "print(f'{'claimMatrix':<20}, {str(claimMatrix.shape):<20}')\n",
    "print(f'{'titleMatrix':<20}, {str(titleMatrix.shape):<20}')\n",
    "print(f'{'abstractMatrix':<20}, {str(abstractMatrix.shape):<20}')\n",
    "print(f'{'textMatrix':<20}, {str(textMatrix.shape):<20}')"
   ]
  },
  {
   "cell_type": "markdown",
   "metadata": {},
   "source": [
    "Sortie attendue pour \"_claims_\"\n",
    "```\n",
    "(809, 473643)\n",
    "```"
   ]
  },
  {
   "cell_type": "markdown",
   "metadata": {},
   "source": [
    "Sortie attendue pour \"_texts_\"\n",
    "```\n",
    "(5183, 473643)\n",
    "```"
   ]
  },
  {
   "cell_type": "markdown",
   "metadata": {},
   "source": [
    "Sortie attendue pour \"_titles_\"\n",
    "```\n",
    "(5183, 473643)\n",
    "```"
   ]
  },
  {
   "cell_type": "markdown",
   "metadata": {},
   "source": [
    "Sortie attendue pour abstracts\n",
    "```\n",
    "(5183, 473643)"
   ]
  },
  {
   "cell_type": "markdown",
   "metadata": {
    "id": "sMrNWcxL9QNF"
   },
   "source": [
    "#### 2.3 Pertinence d'un document (20 points)"
   ]
  },
  {
   "cell_type": "markdown",
   "metadata": {},
   "source": [
    "Maintenant que vous avez une représentation de vos affirmations \"_claims_\" et documents (\"_texts_\", \"_titles_\", \"_abstracts_\"), il faut être capable de déterminer quel document sera le plus pertinent pour une affirmation donnée."
   ]
  },
  {
   "cell_type": "markdown",
   "metadata": {
    "id": "3AsiWH2O9XKD"
   },
   "source": [
    "##### 2.3.1 Implémentation de \"_eval_similarity_\" (3 points)\n",
    "\n",
    "Implémentez la fonction \"_eval_similarity_\" pour évaluer la similarité cosinus entre la représentation de l'affirmation et celle de chaque document. La fonction prend une liste d'affirmations et une liste de documents et retourne une matrice où chaque ligne représente une affirmation et chaque colonne représente un document (\"title\", \"abstract\" ou \"text\") et les valeurs sont les similarités cosinus entre une affirmation et un document."
   ]
  },
  {
   "cell_type": "code",
   "execution_count": 74,
   "metadata": {},
   "outputs": [
    {
     "data": {
      "text/plain": [
       "array([[0.00617671, 0.00537929, 0.        , ..., 0.        , 0.        ,\n",
       "        0.        ],\n",
       "       [0.        , 0.        , 0.        , ..., 0.        , 0.        ,\n",
       "        0.01116709],\n",
       "       [0.        , 0.0048805 , 0.00319313, ..., 0.        , 0.        ,\n",
       "        0.        ],\n",
       "       ...,\n",
       "       [0.        , 0.        , 0.00337391, ..., 0.        , 0.        ,\n",
       "        0.        ],\n",
       "       [0.        , 0.        , 0.        , ..., 0.        , 0.        ,\n",
       "        0.        ],\n",
       "       [0.        , 0.        , 0.01176279, ..., 0.        , 0.        ,\n",
       "        0.        ]])"
      ]
     },
     "execution_count": 74,
     "metadata": {},
     "output_type": "execute_result"
    }
   ],
   "source": [
    "def eval_similarity(claimList,docList):\n",
    "    return cosine_similarity(claimList,docList)\n",
    "\n",
    "eval_similarity(claimMatrix,textMatrix)"
   ]
  },
  {
   "cell_type": "markdown",
   "metadata": {
    "id": "5_gDSgTv9fCu"
   },
   "source": [
    "##### 2.3.2 Implémentation de la fonction \"_rank_texts_\" (2 points)\n",
    "\n",
    "Implémentez la fonction \"_rank_texts_\", qui, au moyen de la précédente (_eval_similarity_), retourne le top-N (N=1,3,5) des documents pertinents pour une affirmation donnée (N est un paramètre). Ces documents devront être ordonnés du plus pertinent au moins pertinent. Idéalement, le document à la position 1 sera celui qui contient la preuve (ou justification) de l'affirmation. Il faudra retourner non pas les indices des documents dans le dataframe mais plutôt leur identifiants au niveau de la colonne \"_doc_id_\"."
   ]
  },
  {
   "cell_type": "code",
   "execution_count": 71,
   "metadata": {},
   "outputs": [],
   "source": [
    "def rank_texts(claim,docs,N = 10):\n",
    "    \"\"\"\n",
    "    claim is dictionary with one element, the key is the claim id and the value is the embedded vector\n",
    "    docList is a dictionary, each element consist of a key being its id and the value is the embedded vector \n",
    "    \n",
    "    returns a list of id being the most similar to the claim\n",
    "    \"\"\"\n",
    "    mOut = eval_similarity(list(claim.values()),list(docs.values()))\n",
    "    ids = np.array(list[docs.keys()])\n",
    "    # np.shape(mOut) = (1,m)\n",
    "    indexes = np.argsort(mOut)\n",
    "    \n",
    "    return ids[indexes[:N]]"
   ]
  },
  {
   "cell_type": "markdown",
   "metadata": {},
   "source": [
    "##### 2.3.3 Préparation des dataframes de réponses (1 point) \n",
    "\n",
    "Vous allez écrire la fonction \"prepare_results_df\" qui crée les dataframes qui vont contenir les résultats de la recherche de documents pertinents pour les affirmations.\n",
    "\n",
    "La fonction \"prepare_results_df\" prend les arguments suivants:\n",
    "\n",
    "- '_df_': le dataframe original nommé '_df_claims_' à partir duquel on crée les autres, \n",
    "- '_columns_to_drop_': les colonnes à supprimer \n",
    "- '_column_to_rename_': le nom de la colonne de référence dans le dataframe original qui sera renommée \"gold standard passage\"\n",
    "\n",
    "et effectue les opérations suivantes:\n",
    "\n",
    "1. Créer un nouveau dataframe à partir de \"_df_claims_\" en supprimant toutes les colonnes sauf \"cited_doc_ids\".\n",
    "2. Renommer la colonne \"cited_doc_ids\" en \"gold standard passage\".\n",
    "3. Ajouter les colonnes \"top_1\", \"top_3\", et \"top_5\" au dataframe, \n",
    "en les initialisant avec des chaînes de zéros séparés par des points-\n",
    "virgules, correspondant respectivement à des configurations de 1, 3, et \n",
    "5 zéros pour toutes les lignes.\n",
    "\n",
    "Vous utiliserez ensuite cette fonction pour créer les dataframes \"results_titles_df\", \"results_abstracts_df\" et \"results_texts_df\", qui seront destinés à contenir les résultats de recherche de documents pour \"title\", \"abstract\" et \"text\" respectivement."
   ]
  },
  {
   "cell_type": "code",
   "execution_count": 86,
   "metadata": {},
   "outputs": [
    {
     "data": {
      "text/plain": [
       "'\\ncolToDrop = list(df_corpus.key())\\ncolToDrop.remove(\\'doc_id\\')\\ncolToDrop.remove(\\'cited_docs_ids\\')\\n\\nretults_titles_df = prepare_results_df(df = df_corpus,\\n                                       columns_to_drop = colToDrop,\\n                                       columns_to_rename = [(\"doc_id\",\"id\"),(\"cited_docs_ids\",\"golden standard passage\")])\\n\\nretults_abstracts_df = prepare_results_df(df = df_corpus,\\n                                       columns_to_drop = colToDrop,\\n                                       columns_to_rename = [(\"doc_id\",\"id\"),(\"cited_docs_ids\",\"golden standard passage\")])\\n\\nretults_texts_df = prepare_results_df(df = df_corpus,\\n                                       columns_to_drop = colToDrop,\\n                                       columns_to_rename = [(\"doc_id\",\"id\"),(\"cited_docs_ids\",\"golden standard passage\")])\\n'"
      ]
     },
     "execution_count": 86,
     "metadata": {},
     "output_type": "execute_result"
    }
   ],
   "source": [
    "def prepare_results_df(df = df_claims,\n",
    "                       columns_to_drop = [],\n",
    "                       columns_to_rename = [('cited_doc_ids','golden_standard_passage')],\n",
    "                       Ns = [1,3,5]):\n",
    "    dfOut = pd.DataFrame()\n",
    "    for key in df.keys():\n",
    "        if key not in columns_to_drop:\n",
    "            dfOut[key] = df[key]\n",
    "    \n",
    "    for (previousName,newName) in columns_to_rename:\n",
    "        try:\n",
    "            dfOut.rename({previousName:newName},axis = 'columns')\n",
    "        except:\n",
    "            pass\n",
    "    \n",
    "    for N in Ns:\n",
    "        dfOut[f'top_{N}'] = ('0;' * N)[:-1]\n",
    "\n",
    "    return dfOut\n",
    "\n",
    "\"\"\"\n",
    "colToDrop = list(df_corpus.key())\n",
    "colToDrop.remove('doc_id')\n",
    "colToDrop.remove('cited_docs_ids')\n",
    "\n",
    "retults_titles_df = prepare_results_df(df = df_corpus,\n",
    "                                       columns_to_drop = colToDrop,\n",
    "                                       columns_to_rename = [(\"doc_id\",\"id\"),(\"cited_docs_ids\",\"golden standard passage\")])\n",
    "\n",
    "retults_abstracts_df = prepare_results_df(df = df_corpus,\n",
    "                                       columns_to_drop = colToDrop,\n",
    "                                       columns_to_rename = [(\"doc_id\",\"id\"),(\"cited_docs_ids\",\"golden standard passage\")])\n",
    "\n",
    "retults_texts_df = prepare_results_df(df = df_corpus,\n",
    "                                       columns_to_drop = colToDrop,\n",
    "                                       columns_to_rename = [(\"doc_id\",\"id\"),(\"cited_docs_ids\",\"golden standard passage\")])\n",
    "\"\"\""
   ]
  },
  {
   "cell_type": "markdown",
   "metadata": {},
   "source": [
    "> Sortie attendue pour chaque dataframe préparé\n",
    "<div>\n",
    "<style scoped>\n",
    "    .dataframe tbody tr th:only-of-type {\n",
    "        vertical-align: middle;\n",
    "    }\n",
    "\n",
    "    .dataframe tbody tr th {\n",
    "        vertical-align: top;\n",
    "    }\n",
    "\n",
    "    .dataframe thead th {\n",
    "        text-align: right;\n",
    "    }\n",
    "</style>\n",
    "<table border=\"1\" class=\"dataframe\">\n",
    "  <thead>\n",
    "    <tr style=\"text-align: right;\">\n",
    "      <th></th>\n",
    "      <th>id</th>\n",
    "      <th>gold standard passage</th>\n",
    "      <th>top_1</th>\n",
    "      <th>top_3</th>\n",
    "      <th>top_5</th>\n",
    "    </tr>\n",
    "  </thead>\n",
    "  <tbody>\n",
    "    <tr>\n",
    "      <th>0</th>\n",
    "      <td>0</td>\n",
    "      <td>[31715818]</td>\n",
    "      <td>0</td>\n",
    "      <td>0;0;0</td>\n",
    "      <td>0;0;0;0;0</td>\n",
    "    </tr>\n",
    "    <tr>\n",
    "      <th>1</th>\n",
    "      <td>2</td>\n",
    "      <td>[13734012]</td>\n",
    "      <td>0</td>\n",
    "      <td>0;0;0</td>\n",
    "      <td>0;0;0;0;0</td>\n",
    "    </tr>\n",
    "    <tr>\n",
    "      <th>2</th>\n",
    "      <td>4</td>\n",
    "      <td>[22942787]</td>\n",
    "      <td>0</td>\n",
    "      <td>0;0;0</td>\n",
    "      <td>0;0;0;0;0</td>\n",
    "    </tr>\n",
    "  </tbody>\n",
    "</table>\n",
    "</div>"
   ]
  },
  {
   "cell_type": "markdown",
   "metadata": {},
   "source": [
    "##### 2.3.4 Implémentation de la fonction \"_fill_results_\" (2 points)\n",
    "\n",
    "Vous devez maintenant implémenter la fonction \"_fill_results_\" qui remplit les dataframes préparés dans l'étape précédente en utilisant les resultats de recherche de document.\n",
    "Cette fonction prend les arguments suivant: \n",
    "- \"_results_\" : matrice contenant les valeurs de similarite des affirmations et des documents\n",
    "- \"_results_texts_df_\" : Dataframe contenant les affirmations ainsi que les colonnes \"top_1\", \"top_3\", \"top_5\" où doivent être mis les top-n documents les plus pertinents.\n",
    "\n",
    "Les deux arguments contiennent le même nombre d'éléments et pour le même indice, font référence à la même affirmation."
   ]
  },
  {
   "cell_type": "code",
   "execution_count": null,
   "metadata": {},
   "outputs": [],
   "source": [
    "\n",
    "def fill_results(results,results_texts_df):\n",
    "    for N in Ns:\n",
    "            res = dfOut['claim'].apply(lambda item : rank_texts(item,df_corpus,N))\n",
    "            dfOut[f'top_{N}'] = str(res).replace(\"[\",\"\").replace(\"]\",\"\").replace(\",\",\";\").replace(\" \",\"\")"
   ]
  },
  {
   "cell_type": "markdown",
   "metadata": {
    "id": "EqRUGA9D9xoI"
   },
   "source": [
    "##### 2.3.5 Exécution des fonctions \"_rank_texts_\" et fill_results(2 points)\n",
    "\n",
    "Exécutez maintenant votre fonction \"_rank_texts_\" sur toutes les affirmations (claims) et toutes les représentations de documents (title, abstract, text) en mettant les résultats dans les variables \"results_texts\", \"results_titles\" et \"results_abstracts\". Ensuite appelez la fonction \"_fill_results_\" qui remplit les dataframes \"_results_titles_df_\", \"_results_abstracts_df_\", et \"_results_texts_df_\" contenant les résultats de recheche de documents."
   ]
  },
  {
   "cell_type": "code",
   "execution_count": null,
   "metadata": {},
   "outputs": [],
   "source": [
    "# TODO\n",
    "# END TODO"
   ]
  },
  {
   "cell_type": "markdown",
   "metadata": {},
   "source": [
    "##### 2.3.6 Enregistrement des dataframes \n",
    "\n",
    "On enregistre les dataframes dans des fichiers .csv."
   ]
  },
  {
   "cell_type": "code",
   "execution_count": null,
   "metadata": {},
   "outputs": [],
   "source": [
    "# TODO\n",
    "# END TODO"
   ]
  },
  {
   "cell_type": "markdown",
   "metadata": {
    "id": "4qWHRy8oZvOt"
   },
   "source": [
    "##### 2.3.7 Implémentation de la fonction \"_show_top_n_passages_\" (3 points)\n",
    "\n",
    "Vous devez maintenant implémenter une fonction \"_show_top_n_passages_\" qui affiche le top-n ainsi que le texte (document) attendu pour une affirmation donnée. Ici on considère que document est representé par \"_text_\" donc la fusion du titre (\"_title_\") et du résumé (\"_abstract_\")"
   ]
  },
  {
   "cell_type": "code",
   "execution_count": null,
   "metadata": {
    "id": "-l9sKrgC-Sq7"
   },
   "outputs": [],
   "source": [
    "# TODO\n",
    "# END TODO"
   ]
  },
  {
   "cell_type": "markdown",
   "metadata": {},
   "source": [
    "##### 2.3.8 Affichage (1 point)\n",
    "\n",
    "Appliquez cette fonction sur l'affirmation ayant pour identifiant 211 et affichez le top-5 des documents les plus pertinents retrouvés."
   ]
  },
  {
   "cell_type": "code",
   "execution_count": null,
   "metadata": {},
   "outputs": [],
   "source": [
    "# TODO\n",
    "# END TODO"
   ]
  },
  {
   "cell_type": "markdown",
   "metadata": {},
   "source": [
    "##### 2.3.9 Évaluation (3 points)\n",
    "\n",
    "Vous devez maintenant implémenter la fonction \"_evaluate_\" qui, à partir des colonnes *Gold standard passage* et de vos top-N respectifs, calcule la précision top-N (N=1,3,5) sur l’ensemble de données en paramètre et l’affiche. \n",
    "\n",
    "Cette précision connue sous le nom \"precision at k (precision@k)\" se calcule de la manière suivante:\n",
    "\n",
    "\n",
    "$$\n",
    "\\text{precision@k} = \\frac{\\text{nombre d'éléments corrects}}{\\text{nombre total d'éléments k retrouvés}}\n",
    "$$\n",
    "\n",
    "\n",
    "Veillez à ce que la fonction soit générique. "
   ]
  },
  {
   "cell_type": "code",
   "execution_count": null,
   "metadata": {},
   "outputs": [],
   "source": [
    "# TODO\n",
    "# END TODO"
   ]
  },
  {
   "cell_type": "markdown",
   "metadata": {},
   "source": [
    "##### 2.3.10 Affichage (1 point)\n",
    "\n",
    "Appliquez cette fonction pour calculer la précision des documents retrouvés en utilisant les titres (\"_title_\"), les résumés (\"_abstract_\") et la fusion des deux (\"_text_\")."
   ]
  },
  {
   "cell_type": "code",
   "execution_count": null,
   "metadata": {},
   "outputs": [],
   "source": [
    "# TODO\n",
    "# END TODO"
   ]
  },
  {
   "cell_type": "markdown",
   "metadata": {},
   "source": [
    "##### 2.3.11 Graphique (2 points)\n",
    "\n",
    "Tracez un graphique des valeurs de précisions des documents retrouvés (\"__title__\", \"__abstract__\", \"__text__\") pour différents N (1,3,5)."
   ]
  },
  {
   "cell_type": "code",
   "execution_count": null,
   "metadata": {},
   "outputs": [],
   "source": [
    "# TODO\n",
    "# END TODO"
   ]
  },
  {
   "cell_type": "markdown",
   "metadata": {
    "id": "vI_2JXRxAygz"
   },
   "source": [
    "### 3 Amélioration avec BM25 (20 points)"
   ]
  },
  {
   "cell_type": "markdown",
   "metadata": {},
   "source": [
    "BM25 (Best Matching 25) est un algorithme de recherche utilisé pour évaluer la pertinence des documents par rapport à une requête. Basé sur le modèle de récupération d'informations probabilistes, BM25 calcule un score de pertinence en tenant compte de la fréquence des termes de la requête dans chaque document et dans le corpus global mais aussi de la longueur des documents. \n",
    "\n",
    "BM25 est pertinent pour la recherche d'information car il offre un bon équilibre entre précision et rappel, il gère efficacement de grandes collections de documents et permet des ajustements pour différents types de corpus. Il est largement utilisé dans les moteurs de recherche et les systèmes de recommandation.\n",
    "\n",
    "Dans cette partie on vous demande de la tester au moyen de la librairie rank_bm25 pour cette tâche de recherche de texte qui justifie ou contredit une affirmation donnée. Vous allez utiliser le corpus et les affirmations et procéder comme indiqué dans la suite."
   ]
  },
  {
   "cell_type": "markdown",
   "metadata": {},
   "source": [
    "##### 3.1 Initialisation du modèle BM25 (3 points)\n",
    "Réutilisez les variables \"claims_preprocessed_joined\", \"texts_preprocessed_joined\", \"titles_preprocessed_joined\" et \"abstract_preprocessed_joined\" définies à la question `2.2.1` pour initialiser les modèles BM25 pour les documents (\"__titles__\", \"__abstracts__\" et \"__text__\"). Il faudra transformer chaque séquence (dont les jetons étaient joints pour former une seule chaîne) en une liste de jetons. Vous utiliserez la classe \"_BM250kapi_\" à ce niveau. "
   ]
  },
  {
   "cell_type": "code",
   "execution_count": null,
   "metadata": {},
   "outputs": [],
   "source": [
    "# TODO\n",
    "# END TODO"
   ]
  },
  {
   "cell_type": "markdown",
   "metadata": {},
   "source": [
    "##### 3.2 Utilisation du modèle BM25 (5 points)\n",
    "\n",
    "Retrouvez les identifiants des documents pour les cinq meilleures correspondances de \"_title_\", de \"_abstract_\" et de \"_text_\" en utilisant le score BM25 pour chaque affirmation (claim) traitée, et mettez à jour les résultats avec les identifiants de documents correspondants."
   ]
  },
  {
   "cell_type": "code",
   "execution_count": null,
   "metadata": {},
   "outputs": [],
   "source": [
    "# TODO\n",
    "# END TODO"
   ]
  },
  {
   "cell_type": "markdown",
   "metadata": {},
   "source": [
    "##### 3.3 Affichage des performances (4 points)\n",
    "\n",
    "Affichez les résultats des performances BM25 pour les configurations Top1, Top3 et Top5 avec \"_title_\", \"_asbtract_\" et \"_text_\"."
   ]
  },
  {
   "cell_type": "code",
   "execution_count": null,
   "metadata": {},
   "outputs": [],
   "source": [
    "# TODO\n",
    "# END TODO"
   ]
  },
  {
   "cell_type": "markdown",
   "metadata": {},
   "source": [
    "##### 3.4 Graphique (4 points)\n",
    "\n",
    "Dans un même graphique, affichez les performances pour les deux modèles (TF-IDF et BM25) dans la recherche des documents (text, title et abstract) pour les affirmations."
   ]
  },
  {
   "cell_type": "code",
   "execution_count": null,
   "metadata": {},
   "outputs": [],
   "source": [
    "# TODO\n",
    "# END TODO"
   ]
  },
  {
   "cell_type": "markdown",
   "metadata": {},
   "source": [
    "##### 3.5 Observation (4 points)\n",
    "\n",
    "Par rapport à vos résultats avec TF-IDF, observez-vous une amélioration ou une détérioration des performances, qu'est ce qui explique cela ? (Donnez au moins trois justifications)"
   ]
  },
  {
   "cell_type": "markdown",
   "metadata": {
    "id": "DVYiuH8aeB8x"
   },
   "source": [
    "## Livrables\n",
    "Vous devez remettre votre notebook sur Moodle et Gradescope en ipynb et pdf. Pour Gradescope vous devez associer les numéros de questions avec vos réponses dans le pdf grâce à l'outil que fournit Gradescope.\n",
    "\n",
    "\n",
    "## Évaluation \n",
    "Votre TP sera évalué selon les critères suivants :\n",
    "1. Exécution correcte du code et obtention des sorties attendues\n",
    "2. Réponses correctes aux questions d'analyse\n",
    "3. Qualité du code (noms significatifs, structure, performance, gestion d’exception, etc.)\n",
    "4. Commentaires clairs et informatifs\n"
   ]
  }
 ],
 "metadata": {
  "colab": {
   "collapsed_sections": [
    "1tMX8go24rB_",
    "4ItqD8yL-utW",
    "0kzLIzqD-vp7",
    "VIRjMFlY-wHL",
    "R41oj9nI-wwi",
    "3FibZKYkHi06"
   ],
   "name": "TP2 solution.ipynb",
   "provenance": []
  },
  "kernelspec": {
   "display_name": "generalEnv",
   "language": "python",
   "name": "python3"
  },
  "language_info": {
   "codemirror_mode": {
    "name": "ipython",
    "version": 3
   },
   "file_extension": ".py",
   "mimetype": "text/x-python",
   "name": "python",
   "nbconvert_exporter": "python",
   "pygments_lexer": "ipython3",
   "version": "3.12.4"
  }
 },
 "nbformat": 4,
 "nbformat_minor": 1
}
