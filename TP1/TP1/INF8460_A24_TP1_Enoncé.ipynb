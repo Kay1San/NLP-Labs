{
 "cells": [
  {
   "cell_type": "markdown",
   "metadata": {
    "id": "znlt8jyJKg-5"
   },
   "source": [
    "##### INF8460 – Traitement automatique de la langue naturelle - Automne 2024\n",
    "### TP1 - Recherche de documents avec une métrique de similarité\n"
   ]
  },
  {
   "cell_type": "markdown",
   "metadata": {},
   "source": [
    "## Identification de l'équipe:\n",
    "\n",
    "### Groupe de laboratoire:\n",
    "\n",
    "### Equipe numéro :\n",
    "\n",
    "### Membres:\n",
    "\n",
    "- membre 1 (% de contribution, nature de la contribution)\n",
    "- membre 2 (% de contribution, nature de la contribution)\n",
    "- membre 3 (% de contribution, nature de la contribution)\n",
    "\n",
    "* nature de la contribution: Décrivez brièvement ce qui a été fait par chaque membre de l’équipe. Tous les membres sont censés contribuer au développement. Bien que chaque membre puisse effectuer différentes tâches, vous devez vous efforcer d’obtenir une répartition égale du travail. Soyez précis ! N'indiquez pas seulement : travail réparti équitablement"
   ]
  },
  {
   "cell_type": "markdown",
   "metadata": {},
   "source": [
    "## Mise en place"
   ]
  },
  {
   "cell_type": "markdown",
   "metadata": {},
   "source": [
    "### Objectif du TP\n",
    "\n",
    "La recherche d'information est le processus d'accès aux données, généralement des documents ou d'autres données non structurées, à partir d'une requête. Dans ce TP, vous aurez en entrée une requête textuelle sous forme d'affirmation. Il faudra retrouver dans un corpus de littérature scientifique les documents pertinents qui justifient ou infirment la véracité de cette affirmation. Vous utiliserez des modèles vectoriels et des métriques de similarité pour cette tâche."
   ]
  },
  {
   "cell_type": "markdown",
   "metadata": {},
   "source": [
    "### Jeux de données\n",
    "\n",
    "Dans ce TP, vous utiliserez le jeu de données dans le répertoire _data_. Il s'agit d'un ensemble de données comprenant 809 affirmations rédigées par des experts et 5183 documents de références pour ces affirmations. Ces documents contiennent des phrases qui confirment ou infirment (contredisent) les affirmations. L'objectif est donc de trouver un document pertinent, c'est-à-dire contenant la ou les phrases qui permettent d'évaluer une affirmation donnée en entrée en utilisant une similarité sémantique. \n",
    "\n",
    "Le jeu de données comprend :\n",
    "\n",
    "1. Un corpus (_corpus.jsonl_) qui contient des documents décrits avec les informations suivantes :\n",
    "    - 'doc_id' : permet d'identifier le document en entrée\n",
    "    - 'title' : donne le titre du document\n",
    "    - 'abstract': est le résumé du document\n",
    "    - 'structured': indique si le document est structuré ou pas\n",
    "\n",
    "2. Un ensemble d'affirmations (_claims.jsonl_) qui contient des documents décrits avec les informations suivantes :\n",
    "    - 'id' : identifie l'affirmation.\n",
    "    - 'claim' : est l'affirmation en tant que telle.\n",
    "    - 'evidence' : précise quelles phrases du document sont pertinentes pour l'affirmation. Chaque phrase est accompagnée d'une étiquette de véracité (confirm/contradict) pour indiquer si la phrase confirme ou contredit l'affirmation.  \n",
    "    - 'cited_doc_ids' : indique les identifiants des documents cités.\n",
    "\n",
    "\n",
    "\n",
    "Dans _claims.jsonl_, seuls les identifiants des documents sont renseignés. Pour avoir les détails d'un document tel que le titre (\"title\") et le résumé (\"abstract\"), il faudra consulter le fichier _corpus.jsonl_. \n",
    "\n",
    "Voici un exemple :\n",
    "\n",
    "- **Affirmation (claim)** : Consumption of whole fruits increases the risk of type 2 diabetes.\n",
    "- **Cited document(s) ID(s)** : 1974176\n",
    "- **Evidence (sentence in the document containing the proof)** : [{'sentences': [11], 'label': 'CONTRADICT'}]\n",
    "\n",
    "  Ici [11] constitue le numéro de la phrase qui contredit l'affirmation.\n",
    "\n",
    "- **Cited document(s) title(s)** : Fruit consumption and risk of type 2 diabetes: results from three prospective longitudinal cohort studies\n",
    "- **Cited document(s) abstract(s) (list of sentences)** : \n",
    "    - [0] 'OBJECTIVE To determine whether individual fruits are differentially associated with risk of type 2 diabetes.\\n'\n",
    "    - [1] 'DESIGN Prospective longitudinal cohort study.'\n",
    "    - ...\n",
    "    - [10] 'CONCLUSION Our findings suggest the presence of heterogeneity in the associations between individual fruit consumption and risk of type 2 diabetes.'\n",
    "    - [11] 'Greater consumption of specific whole fruits, particularly blueberries, grapes, and apples, is significantly associated with a lower risk of type 2 diabetes, whereas greater consumption of fruit juice is associated with a higher risk.'\n",
    "\n",
    "Le champ \"evidence\" indique la phrase au niveau du résumé du document qui confirme ou infirme l'affirmation, d'où le numéro de la phrase et le label qui y sont renseignés. Dans le cas particulier de l'exemple ci-dessus, on voit bien que la onzième phrase du résumé du document est la plus pertinente pour l'affirmation et qu'elle la contredit, ce qui explique le label \"CONTRADICT\" dans \"evidence\". Cependant, dans le cadre de ce TP, on ne s'intéresse qu'à la présence de cette phrase pertinente dans le document, donc on ne considérera pas cette colonne \"evidence\" dans la suite du TP."
   ]
  },
  {
   "cell_type": "markdown",
   "metadata": {
    "id": "26Qe_-7z25EE"
   },
   "source": [
    "### Librairies permises\n",
    "- Jupyter notebook\n",
    "- NLTK\n",
    "- Numpy \n",
    "- Pandas\n",
    "- Sklearn\n",
    "- PowerLaw\n",
    "- Matplotlib\n",
    "- TQDM\n",
    "- BM25\n",
    "- Pour toute autre librairie, demandez à votre chargé de laboratoire"
   ]
  },
  {
   "cell_type": "markdown",
   "metadata": {
    "id": "zupXN9tr3oEa"
   },
   "source": [
    "## Étapes du TP\n",
    "A partir du notebook _INF8460_A24_TP1_ qui est distribué, vous devez réaliser les étapes suivantes. (Notez que les cellules dans le squelette sont là à titre informatif - il est fort probable que vous rajoutiez des sections au fur et à mesure de votre TP)."
   ]
  },
  {
   "cell_type": "code",
   "execution_count": 1,
   "metadata": {},
   "outputs": [],
   "source": [
    "# Lien vers les fichiers à utiliser\n",
    "# Ne pas modifier\n",
    "\n",
    "PATH = 'data/ai2_data/'"
   ]
  },
  {
   "cell_type": "code",
   "execution_count": 2,
   "metadata": {},
   "outputs": [],
   "source": [
    "# !pip install rank_bm25 \n",
    "# !pip install powerlaw"
   ]
  },
  {
   "cell_type": "code",
   "execution_count": 3,
   "metadata": {},
   "outputs": [],
   "source": [
    "# Import des librairies\n",
    "\n",
    "import numpy as np\n",
    "import pandas as pd\n",
    "import powerlaw\n",
    "from collections import defaultdict, Counter\n",
    "from tqdm import tqdm\n",
    "import matplotlib.pyplot as plt\n",
    "from typing import List, Dict\n",
    "\n",
    "import nltk\n",
    "from nltk.tokenize import word_tokenize\n",
    "from nltk.stem.porter import PorterStemmer\n",
    "from nltk.corpus import stopwords\n",
    "from string import punctuation\n",
    "\n",
    "import sklearn\n",
    "from sklearn.feature_extraction.text import TfidfVectorizer\n",
    "from sklearn.metrics.pairwise import cosine_similarity\n",
    "\n",
    "from rank_bm25 import BM25Okapi"
   ]
  },
  {
   "cell_type": "code",
   "execution_count": 4,
   "metadata": {},
   "outputs": [
    {
     "name": "stderr",
     "output_type": "stream",
     "text": [
      "[nltk_data] Downloading package punkt to /Users/axelmorin/nltk_data...\n",
      "[nltk_data]   Package punkt is already up-to-date!\n",
      "[nltk_data] Downloading package punkt_tab to\n",
      "[nltk_data]     /Users/axelmorin/nltk_data...\n",
      "[nltk_data]   Package punkt_tab is already up-to-date!\n",
      "[nltk_data] Downloading package stopwords to\n",
      "[nltk_data]     /Users/axelmorin/nltk_data...\n",
      "[nltk_data]   Package stopwords is already up-to-date!\n"
     ]
    }
   ],
   "source": [
    "nltk.download('punkt')\n",
    "nltk.download('punkt_tab')\n",
    "nltk.download('stopwords')\n",
    "stop_words = stopwords.words('english')"
   ]
  },
  {
   "cell_type": "markdown",
   "metadata": {},
   "source": [
    "### 1. Traitement des données (15 points)\n",
    "Vous allez effectuer une analyse afin d'avoir une idée claire des données que vous aurez à manipuler."
   ]
  },
  {
   "cell_type": "markdown",
   "metadata": {},
   "source": [
    "#### 1.1 Chargement des données (2 points)"
   ]
  },
  {
   "cell_type": "markdown",
   "metadata": {},
   "source": [
    "##### 1.1.1 Chargement et affichage des données (1 point)\n",
    "\n",
    "Chargez les données '_claims.jsonl_' et '_corpus.jsonl_' puis affichez-les dans des dataframes en utilisant panda."
   ]
  },
  {
   "cell_type": "code",
   "execution_count": 5,
   "metadata": {},
   "outputs": [
    {
     "name": "stdout",
     "output_type": "stream",
     "text": [
      "N corpus : 5183 lines\n"
     ]
    },
    {
     "data": {
      "text/html": [
       "<div>\n",
       "<style scoped>\n",
       "    .dataframe tbody tr th:only-of-type {\n",
       "        vertical-align: middle;\n",
       "    }\n",
       "\n",
       "    .dataframe tbody tr th {\n",
       "        vertical-align: top;\n",
       "    }\n",
       "\n",
       "    .dataframe thead th {\n",
       "        text-align: right;\n",
       "    }\n",
       "</style>\n",
       "<table border=\"1\" class=\"dataframe\">\n",
       "  <thead>\n",
       "    <tr style=\"text-align: right;\">\n",
       "      <th></th>\n",
       "      <th>doc_id</th>\n",
       "      <th>title</th>\n",
       "      <th>abstract</th>\n",
       "      <th>structured</th>\n",
       "    </tr>\n",
       "  </thead>\n",
       "  <tbody>\n",
       "    <tr>\n",
       "      <th>0</th>\n",
       "      <td>4983</td>\n",
       "      <td>Microstructural development of human newborn c...</td>\n",
       "      <td>[Alterations of the architecture of cerebral w...</td>\n",
       "      <td>False</td>\n",
       "    </tr>\n",
       "    <tr>\n",
       "      <th>1</th>\n",
       "      <td>5836</td>\n",
       "      <td>Induction of myelodysplasia by myeloid-derived...</td>\n",
       "      <td>[Myelodysplastic syndromes (MDS) are age-depen...</td>\n",
       "      <td>False</td>\n",
       "    </tr>\n",
       "    <tr>\n",
       "      <th>2</th>\n",
       "      <td>7912</td>\n",
       "      <td>BC1 RNA, the transcript from a master gene for...</td>\n",
       "      <td>[ID elements are short interspersed elements (...</td>\n",
       "      <td>False</td>\n",
       "    </tr>\n",
       "    <tr>\n",
       "      <th>3</th>\n",
       "      <td>18670</td>\n",
       "      <td>The DNA Methylome of Human Peripheral Blood Mo...</td>\n",
       "      <td>[DNA methylation plays an important role in bi...</td>\n",
       "      <td>False</td>\n",
       "    </tr>\n",
       "    <tr>\n",
       "      <th>4</th>\n",
       "      <td>19238</td>\n",
       "      <td>The human myelin basic protein gene is include...</td>\n",
       "      <td>[Two human Golli (for gene expressed in the ol...</td>\n",
       "      <td>False</td>\n",
       "    </tr>\n",
       "  </tbody>\n",
       "</table>\n",
       "</div>"
      ],
      "text/plain": [
       "   doc_id                                              title  \\\n",
       "0    4983  Microstructural development of human newborn c...   \n",
       "1    5836  Induction of myelodysplasia by myeloid-derived...   \n",
       "2    7912  BC1 RNA, the transcript from a master gene for...   \n",
       "3   18670  The DNA Methylome of Human Peripheral Blood Mo...   \n",
       "4   19238  The human myelin basic protein gene is include...   \n",
       "\n",
       "                                            abstract  structured  \n",
       "0  [Alterations of the architecture of cerebral w...       False  \n",
       "1  [Myelodysplastic syndromes (MDS) are age-depen...       False  \n",
       "2  [ID elements are short interspersed elements (...       False  \n",
       "3  [DNA methylation plays an important role in bi...       False  \n",
       "4  [Two human Golli (for gene expressed in the ol...       False  "
      ]
     },
     "execution_count": 5,
     "metadata": {},
     "output_type": "execute_result"
    }
   ],
   "source": [
    "# Read JSON File\n",
    "df_corpus = pd.read_json(PATH + \"corpus.jsonl\", lines = True)\n",
    "print(f'N corpus : {len(df_corpus)} lines')\n",
    "df_corpus.head()"
   ]
  },
  {
   "cell_type": "code",
   "execution_count": 6,
   "metadata": {},
   "outputs": [
    {
     "name": "stdout",
     "output_type": "stream",
     "text": [
      "N claims : 809 lines\n"
     ]
    },
    {
     "data": {
      "text/html": [
       "<div>\n",
       "<style scoped>\n",
       "    .dataframe tbody tr th:only-of-type {\n",
       "        vertical-align: middle;\n",
       "    }\n",
       "\n",
       "    .dataframe tbody tr th {\n",
       "        vertical-align: top;\n",
       "    }\n",
       "\n",
       "    .dataframe thead th {\n",
       "        text-align: right;\n",
       "    }\n",
       "</style>\n",
       "<table border=\"1\" class=\"dataframe\">\n",
       "  <thead>\n",
       "    <tr style=\"text-align: right;\">\n",
       "      <th></th>\n",
       "      <th>id</th>\n",
       "      <th>claim</th>\n",
       "      <th>evidence</th>\n",
       "      <th>cited_doc_ids</th>\n",
       "    </tr>\n",
       "  </thead>\n",
       "  <tbody>\n",
       "    <tr>\n",
       "      <th>0</th>\n",
       "      <td>0</td>\n",
       "      <td>0-dimensional biomaterials lack inductive prop...</td>\n",
       "      <td>{}</td>\n",
       "      <td>[31715818]</td>\n",
       "    </tr>\n",
       "    <tr>\n",
       "      <th>1</th>\n",
       "      <td>2</td>\n",
       "      <td>1 in 5 million in UK have abnormal PrP positiv...</td>\n",
       "      <td>{'13734012': [{'sentences': [4], 'label': 'CON...</td>\n",
       "      <td>[13734012]</td>\n",
       "    </tr>\n",
       "    <tr>\n",
       "      <th>2</th>\n",
       "      <td>4</td>\n",
       "      <td>1-1% of colorectal cancer patients are diagnos...</td>\n",
       "      <td>{}</td>\n",
       "      <td>[22942787]</td>\n",
       "    </tr>\n",
       "    <tr>\n",
       "      <th>3</th>\n",
       "      <td>6</td>\n",
       "      <td>10% of sudden infant death syndrome (SIDS) dea...</td>\n",
       "      <td>{}</td>\n",
       "      <td>[2613775]</td>\n",
       "    </tr>\n",
       "    <tr>\n",
       "      <th>4</th>\n",
       "      <td>9</td>\n",
       "      <td>32% of liver transplantation programs required...</td>\n",
       "      <td>{'44265107': [{'sentences': [15], 'label': 'SU...</td>\n",
       "      <td>[44265107]</td>\n",
       "    </tr>\n",
       "  </tbody>\n",
       "</table>\n",
       "</div>"
      ],
      "text/plain": [
       "   id                                              claim  \\\n",
       "0   0  0-dimensional biomaterials lack inductive prop...   \n",
       "1   2  1 in 5 million in UK have abnormal PrP positiv...   \n",
       "2   4  1-1% of colorectal cancer patients are diagnos...   \n",
       "3   6  10% of sudden infant death syndrome (SIDS) dea...   \n",
       "4   9  32% of liver transplantation programs required...   \n",
       "\n",
       "                                            evidence cited_doc_ids  \n",
       "0                                                 {}    [31715818]  \n",
       "1  {'13734012': [{'sentences': [4], 'label': 'CON...    [13734012]  \n",
       "2                                                 {}    [22942787]  \n",
       "3                                                 {}     [2613775]  \n",
       "4  {'44265107': [{'sentences': [15], 'label': 'SU...    [44265107]  "
      ]
     },
     "execution_count": 6,
     "metadata": {},
     "output_type": "execute_result"
    }
   ],
   "source": [
    "df_claims = pd.read_json(PATH + \"claims.jsonl\", lines = True)\n",
    "print(f'N claims : {len(df_claims)} lines')\n",
    "df_claims.head()"
   ]
  },
  {
   "cell_type": "markdown",
   "metadata": {},
   "source": [
    "##### 1.1.2 Statistique sur les évidences (1 point)\n",
    "\n",
    "Calculez les pourcentages d'apparition de chaque label des évidences dans \"_df_claims_\" (CONTRADICT ou SUPPORT). Pour rappel les évidences sont les extraits pertinents des résumés qui supportent ou contredisent les affirmations. "
   ]
  },
  {
   "cell_type": "code",
   "execution_count": 7,
   "metadata": {},
   "outputs": [
    {
     "name": "stdout",
     "output_type": "stream",
     "text": [
      "the support rate in the claims dataframe is : 64.36% whereas the contradict rate is 35.63%\n"
     ]
    }
   ],
   "source": [
    "# Loop through df_claims lines\n",
    "# extract the evidences and count it as SUPPORT or CONTRADICT\n",
    "\n",
    "def appearanceRate(df_claims):\n",
    "    supportCount = 0\n",
    "    contradictCount = 0\n",
    "    for evidence in df_claims[\"evidence\"]:\n",
    "        #The evidence is a dictionnary containing lists so we're gonna loop through the dictionnary and then the lists\n",
    "        for key in evidence:\n",
    "            for element in evidence[key]:\n",
    "                # the elements of the lists are dictionnaries with the given keys: \n",
    "                # sentences : id of the sentence in the corpus\n",
    "                # label : CONTRADICT or SUPPORT\n",
    "                try : \n",
    "                    if element[\"label\"] == 'SUPPORT':\n",
    "                        supportCount+=1\n",
    "                    elif element[\"label\"] == 'CONTRADICT':\n",
    "                        contradictCount += 1\n",
    "                    else:\n",
    "                        print(element[\"label\"])\n",
    "                except:\n",
    "                    print(f'element {element} doesn\"t contain a label key, instead\\nkeys : {element.keys()}')\n",
    "                    pass\n",
    "    supportRate = supportCount / (supportCount + contradictCount)\n",
    "    contradictRate = contradictCount / (supportCount + contradictCount)\n",
    "    \n",
    "    return supportRate,contradictRate\n",
    "\n",
    "sRate,cRate = appearanceRate(df_claims)\n",
    "print(f'the support rate in the claims dataframe is : {int(sRate * 1e4)/1e2}% whereas the contradict rate is {int(cRate * 1e4)/1e2}%')"
   ]
  },
  {
   "cell_type": "markdown",
   "metadata": {},
   "source": [
    "> Réponse attendue:\n",
    "> \n",
    "> CONTRADICT: 35.63%\n",
    "> \n",
    "> SUPPORT: 64.37%"
   ]
  },
  {
   "cell_type": "markdown",
   "metadata": {},
   "source": [
    "#### 1.2 Analyse statistique des données (7 points)\n",
    "\n",
    "Nous allons faire une suite de transformations sur les données pour les rendre plus faciles à manipuler."
   ]
  },
  {
   "cell_type": "markdown",
   "metadata": {},
   "source": [
    "##### 1.2.1 Implémentation de la fonction \"_list_to_string_\" \n",
    "\n",
    "Nous mettons à votre disposition la fonction \"_list_to_string_\" qui transforme une liste de phrases en un texte en les concaténant et enlèvant tous les caractères de nouvelle ligne (`\\n`) pour s'assurer que nous avons un texte complet. "
   ]
  },
  {
   "cell_type": "code",
   "execution_count": 8,
   "metadata": {},
   "outputs": [],
   "source": [
    "# On transforme la liste de phrases en un texte\n",
    "def list_to_string(x):\n",
    "    if isinstance(x, list):\n",
    "        # Enlève les caractère de retour à la ligne et convertit les éléments de la liste en chaînes et les joint\n",
    "        return ' '.join(str(i).replace(\"\\n\",\"\").replace(\"  \",\" \") for i in x)  \n",
    "    return str(x)"
   ]
  },
  {
   "cell_type": "markdown",
   "metadata": {},
   "source": [
    "##### 1.2.2 Utilisation de la fonction \"_list_to_string_\" \n",
    "\n",
    "Appliquons cette fonction \"_list_to_string_\" aux colonnes \"_title_\" et \"abstract\" du dataframe \"_df_corpus_\"."
   ]
  },
  {
   "cell_type": "code",
   "execution_count": 9,
   "metadata": {},
   "outputs": [],
   "source": [
    "# On applique la fonction aux colonnes \"title\" et \"abstract\"\n",
    "df_corpus['title']    = df_corpus['title'].apply(list_to_string)\n",
    "df_corpus['abstract'] = df_corpus['abstract'].apply(list_to_string)"
   ]
  },
  {
   "cell_type": "markdown",
   "metadata": {},
   "source": [
    "##### 1.2.3 Ajout de la colonne \"_text_\" dans \"df_corpus\"\n",
    "\n",
    "\n",
    "Ajoutons maintenant une colonne \"_text_\" qui est la concaténation du titre (\"_title_\") et du résumé (\"_abstract_\") au niveau du dataframe \"df_corpus\"."
   ]
  },
  {
   "cell_type": "code",
   "execution_count": 10,
   "metadata": {},
   "outputs": [],
   "source": [
    "# On concatene les textes dans \"title\" et \"abstract\"\n",
    "df_corpus['text'] = df_corpus['title'] + \" \" + df_corpus['abstract']"
   ]
  },
  {
   "cell_type": "markdown",
   "metadata": {},
   "source": [
    "##### 1.2.4 Ajout de colonnes dans \"_df_claims_\" (1 point)\n",
    "\n",
    "Ajoutez les colonnes \"_claim_length_\" et \"_num_cited_doc_\" qui donnent, pour chaque affirmation, le nombre de mots dans la colonne \"_claim_\" et le nombre de documents cités au niveau de la colonne \"_cited_doc_ids_\" pour le dataframe \"_df_claims_\". Vous pouvez considérer que des mots sont simplement une séquence de caractères séparés par un espace."
   ]
  },
  {
   "cell_type": "code",
   "execution_count": 11,
   "metadata": {},
   "outputs": [],
   "source": [
    "# We assume we do not need any tokenization procedure to count the number instead we are going to count \n",
    "# how many groups of strings are split by a blank\n",
    "def nWordsByHand(input):\n",
    "    # the input is a string \n",
    "    # We split the given string with a blank sep into a list and return the length of the list \n",
    "    l = input.split(sep = \" \")\n",
    "    return len(l)\n",
    "\n",
    "def nCitedDocumentsByHand(input):\n",
    "    # the input is a dictionnary \n",
    "    # the keys of the dictionnary refers to the id of the cited document\n",
    "    # we simply return the length of the dictionnary\n",
    "    return len(input)\n",
    "\n",
    "df_claims['claim_length'] = df_claims['claim'].apply(nWordsByHand)\n",
    "df_claims['num_cited_doc'] = df_claims['cited_doc_ids'].apply(nCitedDocumentsByHand)"
   ]
  },
  {
   "cell_type": "markdown",
   "metadata": {},
   "source": [
    "##### 1.2.5 Ajout des colonnes de mesures de longeurs de textes (documents) (1 point)\n",
    "\n",
    "Ajoutez les colonnes \"_title_length_\", \"_abstract_length_\" et \"_text_length_\" qui donnent le nombre de mots dans les colonnes \"_title_\", \"_abstract_\" et \"_text_\" du dataframe \"_df_corpus_\". Pour le reste du TP, nous définirons la longueur du \"_title_\", \"_abstract_\" et du \"_text_\" comme étant le nombre de mots dans les chaînes de caractères respectives. Encore une fois, vous pouvez considérer que des mots sont simplement une séquence de caractères séparés par un espace."
   ]
  },
  {
   "cell_type": "code",
   "execution_count": 12,
   "metadata": {},
   "outputs": [],
   "source": [
    "# Following the same procedure as the cell above\n",
    "df_corpus['title_length'] = df_corpus['title'].apply(nWordsByHand)\n",
    "df_corpus['abstract_length'] = df_corpus['abstract'].apply(nWordsByHand)\n",
    "df_corpus['text_length'] = df_corpus['text'].apply(nWordsByHand)"
   ]
  },
  {
   "cell_type": "markdown",
   "metadata": {},
   "source": [
    "##### 1.2.6 Analyse statistique (1.5 point)\n",
    "\n",
    "Faites l'analyse statistique des données en affichant le \"_min_\", le \"_max_\" et la \"_moyenne_\" pour les deux colonnes \"_claim_length_\" et \"_num_cited_doc_\" que vous venez de créer."
   ]
  },
  {
   "cell_type": "code",
   "execution_count": 13,
   "metadata": {},
   "outputs": [
    {
     "name": "stdout",
     "output_type": "stream",
     "text": [
      "Claim Length\n",
      "----------\n",
      "Min :        3.0\n",
      "Max :       39.0\n",
      "Mean :    12.3362\n",
      "Var :    21.7781\n",
      "----------\n",
      "\n",
      "\n",
      "\n",
      "Num cited Docs\n",
      "----------\n",
      "Min :        1.0\n",
      "Max :        5.0\n",
      "Mean :     1.1359\n",
      "Var :     0.2237\n",
      "----------\n",
      "\n",
      "\n",
      "\n"
     ]
    }
   ],
   "source": [
    "def basicStats(input,printResult = False):\n",
    "    # the input is a panda.Series object\n",
    "    # We return the min, max, mean and var of the input\n",
    "    input = np.array(input)\n",
    "    min,max,mean,variance = np.min(input), np.max(input), np.mean(input), np.var(input)\n",
    "    \n",
    "    if printResult:\n",
    "        print('-'*10)\n",
    "        print(f'Min : {int(min*1e4)/1e4:>10}\\nMax : {int(max*1e4)/1e4:>10}\\nMean : {int(mean*1e4)/1e4:>10}\\nVar : {int(variance*1e4)/1e4:>10}')\n",
    "        print('-'*10)\n",
    "        print('\\n\\n')\n",
    "print(\"Claim Length\")\n",
    "basicStats(df_claims['claim_length'],True)\n",
    "print(\"Num cited Docs\")\n",
    "basicStats(df_claims['num_cited_doc'],True)"
   ]
  },
  {
   "cell_type": "markdown",
   "metadata": {},
   "source": [
    "##### 1.2.7 Histogrammes (2 points)\n",
    "\n",
    "En considérant le dataframe du corpus de résumés (\"_df_corpus_\"), affichez dans 3 histogrammes les distributions suivantes:\n",
    "\n",
    "- Fréquence des titres ('_title_') en fonction de leur longueur\n",
    "- Fréquence des résumés ('_abstract_') en fonction de leur longueur\n",
    "- Fréquence des textes ('_text_') en fonction de leur longueur\n",
    "\n",
    "Utilisez la valeur de 30 pour le paramètre \"_bins_\""
   ]
  },
  {
   "cell_type": "code",
   "execution_count": 14,
   "metadata": {},
   "outputs": [
    {
     "data": {
      "image/png": "[encoded data removed]",
      "text/plain": [
       "<Figure size 640x480 with 1 Axes>"
      ]
     },
     "metadata": {},
     "output_type": "display_data"
    },
    {
     "data": {
      "image/png": "[encoded data removed]",
      "text/plain": [
       "<Figure size 640x480 with 1 Axes>"
      ]
     },
     "metadata": {},
     "output_type": "display_data"
    },
    {
     "data": {
      "image/png": "[encoded data removed]",
      "text/plain": [
       "<Figure size 640x480 with 1 Axes>"
      ]
     },
     "metadata": {},
     "output_type": "display_data"
    }
   ],
   "source": [
    "def createHist(df,key):\n",
    "    # the input is a dataframe and the key being the column to display\n",
    "    # the output is a histogram\n",
    "    df.hist(column = key,bins=30)\n",
    "\n",
    "createHist(df_corpus,'title_length')\n",
    "createHist(df_corpus,'abstract_length')\n",
    "createHist(df_corpus,'text_length')"
   ]
  },
  {
   "cell_type": "markdown",
   "metadata": {},
   "source": [
    "##### 1.2.8 Quelles remarques faites-vous sur les affirmations (claims) et les documents ? (1.5 points) \n",
    "\n",
    "En observant les maximums, les minimums et les moyennes, que remarquez-vous à propos des affirmations ('_claims_') ? À l'aide des graphiques générés, comparez également les documents."
   ]
  },
  {
   "cell_type": "markdown",
   "metadata": {},
   "source": [
    "**Réponse :**\n",
    "Les claims ont une longueur moyenne 12 mots, ce qui se rapproche de la moyenne des longueur des titres. Cependant la longueur des abstract est en moyenne bien plus grande. "
   ]
  },
  {
   "cell_type": "code",
   "execution_count": 15,
   "metadata": {},
   "outputs": [],
   "source": [
    "# TODO\n",
    "# end TODO"
   ]
  },
  {
   "cell_type": "markdown",
   "metadata": {},
   "source": [
    "#### 1.3 Pré-traitement (6 points)\n",
    "Les affirmations et résumés de texte de votre ensemble de données doivent d’abord être représentés et indexés pour ensuite pouvoir effectuer une recherche de document (pouvant être \"_title_\", \"_abstract_\" ou la fusion des deux représentée par \"_text_\") qui justifie/contredit une affirmation. Vous devez donc implémenter une étape de pré-traitement des données."
   ]
  },
  {
   "cell_type": "markdown",
   "metadata": {},
   "source": [
    "##### 1.3.1 Implémentation de la fonction \"_tokenize_sentence_\" (1 point)\n",
    "\n",
    "Implémentez la fonction \"_tokenize_sentence_\" pour la segmentation d'une phrase en une liste de jetons. Utilisez la librarie `nltk`."
   ]
  },
  {
   "cell_type": "code",
   "execution_count": 16,
   "metadata": {},
   "outputs": [],
   "source": [
    "def tokenize_sentence(sentence):\n",
    "    #nltk.tokenize\n",
    "    return word_tokenize(sentence)"
   ]
  },
  {
   "cell_type": "markdown",
   "metadata": {},
   "source": [
    "##### 1.3.2 Implémentation de la fonction \"_tokenize_text_\" (1 point)\n",
    "Implémentez la fonction \"_tokenize_text_\" qui utilise \"_tokenize_sentence_\" pour faire la segmentation d'un texte (liste de phrases)."
   ]
  },
  {
   "cell_type": "code",
   "execution_count": 17,
   "metadata": {},
   "outputs": [],
   "source": [
    "def tokenize_text(text):\n",
    "    # takes in a string representing a text (multiple sentences)\n",
    "    # break it into sentences :\n",
    "    sentences = nltk.sent_tokenize(text)\n",
    "    tokenizedText = [tokenize_sentence(sentence) for sentence in sentences]\n",
    "    return tokenizedText"
   ]
  },
  {
   "cell_type": "markdown",
   "metadata": {},
   "source": [
    "##### 1.3.3 Implémentation de la fonction \"_stem_tokens_\" (1 point)\n",
    "\n",
    "Implémentez la fonction \"_stem_tokens_\" qui prend une liste de jetons (tokens) en entrée et retourne une liste contenant leur forme racinisée (stems) en utilisant l'algorithme de racinisation PorterStemmer de la bibliothèque nltk."
   ]
  },
  {
   "cell_type": "code",
   "execution_count": 18,
   "metadata": {},
   "outputs": [],
   "source": [
    "def stem_tokens(tokenList):\n",
    "    ps = PorterStemmer()\n",
    "    return [ps.stem(w) for w in tokenList]"
   ]
  },
  {
   "cell_type": "markdown",
   "metadata": {},
   "source": [
    "##### 1.3.4 Pré-traitement (2 points)\n",
    "\n",
    "En utilisant vos précédentes fonctions, faites maintenant le pré-traitement des champs \"_text_\", \"_title_\" et \"_abstract_\" du dataframe \"_df_corpus_\" et \"_claim_\" du dataframe \"_df_claims_\" en suivant les étapes suivantes:\n",
    "- conversion en minuscules\n",
    "- segmentation (tokenization) des passages\n",
    "- suppression des stop-words et ponctuation\n",
    "- racinisation (stemming) des jetons\n",
    "\n",
    "Nommez la liste des affirmations pré-traitées par \"_claims_preprocessed_\". Pour le corpus de documents considérez les ensembles de titres \"_title_\", de résumés \"abstract\" et la fusion des deux \"_text_\" et nommez les listes correspondantes par \"_titles_preprocessed_\", \"_abstracts_preprocessed_\" et \"_texts_preprocessed_\" respectivement."
   ]
  },
  {
   "cell_type": "code",
   "execution_count": 19,
   "metadata": {},
   "outputs": [],
   "source": [
    "\n",
    "def preprocess(text):\n",
    "    # takes in a text to pre-process\n",
    "    # Convert text to lower case caracters\n",
    "    text = text.lower()\n",
    "    # tokenize the text\n",
    "    text = tokenize_text(text)  # text is now a list of sentences, each sentence is a list of tokens\n",
    "    # Looping through sentences :\n",
    "    for i in range(len(text)):\n",
    "        # Remove stop workds and Stem\n",
    "        text[i] = [w for w in text[i] if w not in stop_words]\n",
    "        # Stem\n",
    "        text[i] = stem_tokens(text[i])\n",
    "        # Remove punctuation\n",
    "        text[i] = [w for w in text[i] if w not in punctuation]\n",
    "    return text"
   ]
  },
  {
   "cell_type": "code",
   "execution_count": 20,
   "metadata": {},
   "outputs": [],
   "source": [
    "df_claims['claims_preprocessed'] = df_claims['claim'].apply(preprocess)\n",
    "\n",
    "df_corpus['title_preprocessed'] = df_corpus['title'].apply(preprocess)\n",
    "df_corpus['abstract_preprocessed'] = df_corpus['abstract'].apply(preprocess)\n",
    "df_corpus['texts_preprocessed'] = df_corpus['text'].apply(preprocess)"
   ]
  },
  {
   "cell_type": "markdown",
   "metadata": {},
   "source": [
    "##### 1.3.5 Jetons uniques (types) (1 point)\n",
    "\n",
    "Affichez maintenant le nombre total de jetons dans tous les textes (_text_) et affirmations (_claim_) (en les considérant comme un seul corpus) après le pré-traitement. Puis, affichez le nombre de jetons uniques (types) dans les textes (_text_) et les affirmations (_claim_). "
   ]
  },
  {
   "cell_type": "code",
   "execution_count": 21,
   "metadata": {},
   "outputs": [
    {
     "name": "stdout",
     "output_type": "stream",
     "text": [
      "Taille du vocabulaire : 45194 types\n"
     ]
    }
   ],
   "source": [
    "whole_text = []\n",
    "for text in df_corpus['texts_preprocessed']:\n",
    "    for sentence in text:\n",
    "        # add the list of tokens in the vocabulary\n",
    "        whole_text += sentence\n",
    "\n",
    "for text in df_claims['claims_preprocessed']:\n",
    "    for sentence in text:\n",
    "        whole_text += sentence\n",
    "\n",
    "vocabulary = set(whole_text)\n",
    "print(f'Taille du vocabulaire : {len(vocabulary)} types')"
   ]
  },
  {
   "cell_type": "markdown",
   "metadata": {
    "id": "3qH8-QAw8BEV"
   },
   "source": [
    "### 2. Représentation des affirmations et des documents  (45 points)"
   ]
  },
  {
   "cell_type": "markdown",
   "metadata": {},
   "source": [
    "#### 2.1  Vocabulaire (15 points)"
   ]
  },
  {
   "cell_type": "markdown",
   "metadata": {},
   "source": [
    "##### 2.1.1 Implémentation de la fonction \"_get_vocab_\" (3 points)\n",
    "\n",
    "Implémentez la fonction \"_get_vocab_\" qui prend une liste de textes composés chacun d'une liste de jetons et retourne un dictionnaire dont les clés sont les jetons uniques et les valeurs sont leur fréquence dans l'ensemble des textes."
   ]
  },
  {
   "cell_type": "code",
   "execution_count": 22,
   "metadata": {},
   "outputs": [],
   "source": [
    "def get_vocab(text,printResult = False):\n",
    "    # create a dictionnary\n",
    "    d = {}\n",
    "    # looping through tokens\n",
    "    for el in text:\n",
    "        if el not in d.keys():\n",
    "            d[el] = 0\n",
    "        # count elements\n",
    "        d[el] += 1\n",
    "\n",
    "    if printResult:\n",
    "        for key in d.keys():\n",
    "            print(f'{key:<20} : {d[key]:>5}')\n",
    "    return d\n"
   ]
  },
  {
   "cell_type": "markdown",
   "metadata": {},
   "source": [
    "##### 2.1.2 Implémentez la fonction \"_show_top_N_types_\" (3 points)\n",
    "\n",
    "Implémentez la fonction \"show_top_N_types\" qui affiche les N jetons les plus fréquents à partir d'un dictionnaire comme celui retourné par la fonction \"_get_vocab_\".\n",
    "\n",
    "La fonction prend deux arguments: le dictionnaire \"_dictionary_\" et le paramètre \"_N_\". "
   ]
  },
  {
   "cell_type": "code",
   "execution_count": 23,
   "metadata": {},
   "outputs": [],
   "source": [
    "def sortDictionary(d):\n",
    "    return dict(sorted(d.items(), key=lambda item: -item[1]))\n",
    "\n",
    "def isSorted(d):\n",
    "    values = list(d.values())\n",
    "    lenD = len(values)\n",
    "    i = 0\n",
    "    while i+1 < lenD:\n",
    "        # check if the next item is larger than the current one\n",
    "        if values[i+1]>= values[i]:\n",
    "            # if so, it is not sorted\n",
    "            return False\n",
    "        i += 1\n",
    "    return True\n",
    "\n",
    "def show_top_N_types(d,N = 10, printResult = False):\n",
    "    # takes in a dictionary binding each token with its frequency in the corpus\n",
    "    if not isSorted(d):\n",
    "        d = sortDictionary(d)\n",
    "\n",
    "    dOut = {}\n",
    "\n",
    "    dKeys = d.keys()\n",
    "    NKeys = len(d.keys())\n",
    "    for key in list(dKeys)[:min(N,NKeys)]:\n",
    "        dOut[key] = d[key]\n",
    "        \n",
    "    if printResult:\n",
    "        for key in dOut.keys():\n",
    "             print(f'{key:<20} : {d[key]:>5}')\n",
    "    return dOut\n"
   ]
  },
  {
   "cell_type": "markdown",
   "metadata": {},
   "source": [
    "##### 2.1.3 Construction du vocabulaire (1 point)\n",
    "\n",
    "Construisez maintenant le vocabulaire pour les affirmations et le corpus de documents à partir des listes \"texts_preprocessed\" et \"claims_preprocessed\". \n",
    "\n",
    "Ensuite affichez les 15 jetons les plus fréquents ainsi que leur fréquence."
   ]
  },
  {
   "cell_type": "code",
   "execution_count": 24,
   "metadata": {},
   "outputs": [
    {
     "name": "stdout",
     "output_type": "stream",
     "text": [
      "cell                 : 10464\n",
      "patient              :  4175\n",
      "activ                :  4145\n",
      "studi                :  4014\n",
      "use                  :  3799\n",
      "express              :  3626\n",
      "result               :  3213\n",
      "protein              :  3083\n",
      "gene                 :  3004\n",
      "cancer               :  2945\n",
      "increas              :  2794\n",
      "associ               :  2659\n",
      "effect               :  2567\n",
      "function             :  2515\n",
      "human                :  2464\n",
      "45194\n"
     ]
    }
   ],
   "source": [
    "corpus = []\n",
    "for text in df_corpus[\"texts_preprocessed\"]:\n",
    "    for sentence in text:\n",
    "        # add the list of tokens in the vocabulary\n",
    "        corpus += sentence\n",
    "\n",
    "for text in df_claims[\"claims_preprocessed\"]:\n",
    "    for sentence in text:\n",
    "        # add the list of tokens in the vocabulary\n",
    "        corpus += sentence\n",
    "        \n",
    "vocabularyFrequencies = sortDictionary(get_vocab(corpus))\n",
    "topNTypes = show_top_N_types(vocabularyFrequencies,15,True)\n",
    "print(len(vocabularyFrequencies.keys()))"
   ]
  },
  {
   "cell_type": "markdown",
   "metadata": {},
   "source": [
    "Sortie attendue:\n",
    "\n",
    "```Nombre de types composant le vocabulaire: 45195\n",
    "Les 15 types les plus fréquents:\n",
    "('cell', 10464)\n",
    "('patient', 4175)\n",
    "('activ', 4145)\n",
    "('studi', 4014)\n",
    "('use', 3799)\n",
    "('express', 3626)\n",
    "('result', 3213)\n",
    "('protein', 3083)\n",
    "('gene', 3004)\n",
    "('cancer', 2945)\n",
    "('increas', 2794)\n",
    "('associ', 2659)\n",
    "('effect', 2567)\n",
    "('function', 2515)\n",
    "('human', 2464)"
   ]
  },
  {
   "cell_type": "markdown",
   "metadata": {},
   "source": [
    "##### 2.1.4 Implémentation de la fonction \"_show_distribution_\" (4 points)\n",
    "\n",
    "Implémentez la fonction \"__show_distribution__\" qui permet de visualiser la distribution des fréquences des jetons à partir d'un dictionnaire comme celui retourné par la fonction \"_get_vocab_\", en utilisant un graphique où l'axe des abscisses représente le rang d'un type (après un tri par ordre de fréquence décroissante) et l'axe des ordonnées représente sa fréquence sur une échelle logarithmique.  \n",
    "\n",
    "Par exemple, le point (10000, 10) voudrait dire que le 10000ème mot le plus fréquent a une fréquence à peu prés egale à 10 dans le vocabulaire."
   ]
  },
  {
   "cell_type": "code",
   "execution_count": 25,
   "metadata": {},
   "outputs": [
    {
     "name": "stderr",
     "output_type": "stream",
     "text": [
      "<>:9: SyntaxWarning: invalid escape sequence '\\l'\n",
      "<>:9: SyntaxWarning: invalid escape sequence '\\l'\n",
      "/var/folders/xs/d90v1vkn16db_7z493h6kwt40000gn/T/ipykernel_14567/4049527018.py:9: SyntaxWarning: invalid escape sequence '\\l'\n",
      "  plt.ylabel('$\\log(frequency)$')\n"
     ]
    },
    {
     "data": {
      "image/png": "[encoded data removed]",
      "text/plain": [
       "<Figure size 640x480 with 1 Axes>"
      ]
     },
     "metadata": {},
     "output_type": "display_data"
    }
   ],
   "source": [
    "def showDistribution(vocabFrequencies):\n",
    "    # for two words appearing the same number of times, we consider them the same rank\n",
    "    setVocabValues = set(vocabFrequencies.values())\n",
    "\n",
    "    rankDict = {key : rank for rank,key in enumerate(sorted(setVocabValues,reverse = True),1)}\n",
    "    rankDict = {v: k for k,v in rankDict.items()}\n",
    "\n",
    "    plt.bar(list(rankDict.keys()),np.log10(list(rankDict.values())),width = .4)\n",
    "    plt.ylabel('$\\log(frequency)$')\n",
    "    plt.xlabel('rank')\n",
    "    plt.show()\n",
    "    return rankDict\n",
    "\n",
    "rankDict = showDistribution(vocabularyFrequencies)"
   ]
  },
  {
   "cell_type": "markdown",
   "metadata": {},
   "source": [
    "##### 2.1.5 Vérification de la loi de Zipf (4 points)\n",
    "\n",
    "Afin de vérifier la loi de Zipf, donnez une estimation de la valeur de la constante k de cette loi définie comme suit: \n",
    "\n",
    "$$ f \\approx \\frac{k}{r^\\alpha} $$ \n",
    "\n",
    "où $ f $ est la fréquence d'un mot, $ r $ est le rang de ce mot dans la liste triée par fréquence décroissante, et $ k $ est une constante. Etant données les fluctuations sur les valeurs de fréquence, vous pouvez utiliser la librairie ['powerlaw'](https://pypi.org/project/powerlaw/) conçue pour analyser et ajuster des distributions de loi de puissance aux données et qui peut être utile dans l'estimation de $ \\alpha $.\n",
    "\n",
    "Affichez la constante $ k $ trouvée, les fréquences réelles des mots avec celles qui sont prédites par la loi de Zipf."
   ]
  },
  {
   "cell_type": "code",
   "execution_count": 26,
   "metadata": {},
   "outputs": [
    {
     "name": "stderr",
     "output_type": "stream",
     "text": [
      "Calculating best minimal value for power law fit\n",
      "/opt/miniconda3/envs/generalEnv/lib/python3.12/site-packages/powerlaw.py:699: RuntimeWarning: invalid value encountered in divide\n",
      "  (CDF_diff**2) /\n"
     ]
    },
    {
     "name": "stdout",
     "output_type": "stream",
     "text": [
      "estimated powerlaw : f = 34949.58615746384 / rank ^3.0499370131037176\n"
     ]
    },
    {
     "data": {
      "image/png": "[encoded data removed]",
      "text/plain": [
       "<Figure size 640x480 with 1 Axes>"
      ]
     },
     "metadata": {},
     "output_type": "display_data"
    },
    {
     "data": {
      "text/plain": [
       "34949.58615746384"
      ]
     },
     "execution_count": 26,
     "metadata": {},
     "output_type": "execute_result"
    }
   ],
   "source": [
    "# TODO Make sure were talking about frequency as nomber of appearances and not appearances / N_tot\n",
    "\n",
    "def getZpifK(d,N=20,printResult = False):\n",
    "    \"\"\"\n",
    "    get the dictionnary binding the rank to their frequency\n",
    "    returns the k constant (freq = k / rank) averaged on N words\n",
    "    \"\"\"\n",
    "    k = []\n",
    "    \n",
    "    freq = list(d.values())\n",
    "    freqTot = sum(freq)\n",
    "    freq = [f / freqTot for f in freq]\n",
    "\n",
    "    lenD = len(freq)\n",
    "\n",
    "    alpha = powerlaw.Fit(freq[:min(lenD,N)]).power_law.alpha\n",
    "\n",
    "    for i in range(min(lenD,N)):\n",
    "        k.append(freq[i] * (i**alpha))\n",
    "\n",
    "    kMean = np.mean(k)\n",
    "\n",
    "    if printResult:\n",
    "        print(f'estimated powerlaw : f = {kMean} / rank ^{alpha}')\n",
    "\n",
    "        fig = plt.figure()\n",
    "        ax = fig.add_subplot(2, 1, 1)\n",
    "        ax.plot(freq[:min(lenD,N)],label = \"Effective Frequencies\")\n",
    "        ax.plot(range(1,min(lenD,N)+1),[kMean / (i**alpha) for i in range(1,min(lenD,N)+1)],\n",
    "                 label = \"Estimated frequencies\")\n",
    "        ax.set_yscale('log')\n",
    "        #ax.set_xscale('log')\n",
    "        plt.legend()\n",
    "\n",
    "        plt.title(f'representing Zipf law : {kMean} / rank^{alpha}')\n",
    "        plt.ylabel('frequencies')\n",
    "        plt.xlabel('rank')\n",
    "        plt.show()\n",
    "\n",
    "    return kMean\n",
    "\n",
    "getZpifK(rankDict,N = len(rankDict.values()),printResult = True)"
   ]
  },
  {
   "cell_type": "markdown",
   "metadata": {
    "id": "pdxcQdRJ818T"
   },
   "source": [
    "#### 2.2  Création d’un modèle sac de mots (10 points)"
   ]
  },
  {
   "cell_type": "markdown",
   "metadata": {},
   "source": [
    "##### 2.2.1 Répresentation de texte (5 points)\n",
    "\n",
    "En utilisant sklearn et à partir de vos données pré-traitées (\"_claims_preprocessed_\", \"_titles_preprocessed_\", \"_abstracts_preprocessed_\" et \"_texts_preprocessed_\"), représentez chaque affirmation (_claim_) et document avec le vocabulaire créé 'précédemment dans la variables \"_claims_preprocessed_joined\", \"_titles_preprocessed_joined_\", \"_abstract_preprocessed_joined_\" et \"_texts_preprocessed_joined_\". Cela veut dire que tout jeton qui n'est pas dans le vocabulaire doit être enlevé dans le document et l'affirmation. Faites cela pour les trois possibilités de représentation de document: \"_title_\", \"_abstract_\" et \"_text_\"."
   ]
  },
  {
   "cell_type": "code",
   "execution_count": 27,
   "metadata": {
    "id": "NKJxoJSwBovJ"
   },
   "outputs": [],
   "source": [
    "def join(text,vocab = vocabularyFrequencies):\n",
    "    # Given a vocab, we filter out every token that is not in the vocab\n",
    "    vocab = vocab.keys()\n",
    "    outToken = []\n",
    "    for sentence in text:\n",
    "        for token in sentence:\n",
    "            if token in vocab:\n",
    "                outToken.append(token)\n",
    "    \n",
    "    #then we convert the list into a string with a blank space between every token\n",
    "    outStr = ''\n",
    "    for token in outToken:\n",
    "        outStr+= token + ' '\n",
    "    return outStr[:-1]\n",
    "                \n",
    "\n",
    "# As no token is to be removed\n",
    "df_corpus['title_preprocessed_joined'] = df_corpus['title_preprocessed'].apply(join)\n",
    "df_corpus['abstract_preprocessed_joined'] = df_corpus['abstract_preprocessed'].apply(join)\n",
    "df_corpus['texts_preprocessed_joined'] = df_corpus['texts_preprocessed'].apply(join)\n",
    "df_claims['claims_preprocessed_joined'] = df_claims['claims_preprocessed'].apply(join)"
   ]
  },
  {
   "cell_type": "markdown",
   "metadata": {},
   "source": [
    "##### 2.2.2 Pondération (4 points)\n",
    "\n",
    "En utilisant un modèle sac de mots basé sur des unigrammes et des bigrammes, créez une représentation vectorielle de vos documents (titles, abstracts, texts) et de vos affirmations (claims) avec TF-IDF en utilisant le TfidfVectorizer de sklearn. "
   ]
  },
  {
   "cell_type": "code",
   "execution_count": 28,
   "metadata": {},
   "outputs": [],
   "source": [
    "# Create a Vectorize object\n",
    "VECTORIZER = TfidfVectorizer(ngram_range = (1,2))\n",
    "\n",
    "# Fit on claims and texts\n",
    "tfidf = VECTORIZER.fit(list(df_claims['claims_preprocessed_joined']) +\n",
    "                     list(df_corpus['texts_preprocessed_joined'])   )\n",
    "\n",
    "claimMatrix = tfidf.transform(df_claims['claims_preprocessed_joined'])\n",
    "titleMatrix = tfidf.transform(df_corpus['title_preprocessed_joined'])\n",
    "abstractMatrix = tfidf.transform(df_corpus['abstract_preprocessed_joined'])\n",
    "textMatrix = tfidf.transform(df_corpus['texts_preprocessed_joined'])\n"
   ]
  },
  {
   "cell_type": "markdown",
   "metadata": {},
   "source": [
    "##### 2.2.3 Affichage (1 point)\n",
    "\n",
    "Affichez les dimensions (shape) de vos corpus (claims, text, title, abstract) après vectorisation"
   ]
  },
  {
   "cell_type": "code",
   "execution_count": 29,
   "metadata": {},
   "outputs": [
    {
     "name": "stdout",
     "output_type": "stream",
     "text": [
      "                    , Dimensions          \n",
      "claimMatrix         , (809, 473643)       \n",
      "titleMatrix         , (5183, 473643)      \n",
      "abstractMatrix      , (5183, 473643)      \n",
      "textMatrix          , (5183, 473643)      \n"
     ]
    }
   ],
   "source": [
    "print(f'{'':^20}, {'Dimensions':<20}')\n",
    "print(f'{'claimMatrix':<20}, {str(claimMatrix.shape):<20}')\n",
    "print(f'{'titleMatrix':<20}, {str(titleMatrix.shape):<20}')\n",
    "print(f'{'abstractMatrix':<20}, {str(abstractMatrix.shape):<20}')\n",
    "print(f'{'textMatrix':<20}, {str(textMatrix.shape):<20}')"
   ]
  },
  {
   "cell_type": "markdown",
   "metadata": {},
   "source": [
    "Sortie attendue pour \"_claims_\"\n",
    "```\n",
    "(809, 473643)\n",
    "```"
   ]
  },
  {
   "cell_type": "markdown",
   "metadata": {},
   "source": [
    "Sortie attendue pour \"_texts_\"\n",
    "```\n",
    "(5183, 473643)\n",
    "```"
   ]
  },
  {
   "cell_type": "markdown",
   "metadata": {},
   "source": [
    "Sortie attendue pour \"_titles_\"\n",
    "```\n",
    "(5183, 473643)\n",
    "```"
   ]
  },
  {
   "cell_type": "markdown",
   "metadata": {},
   "source": [
    "Sortie attendue pour abstracts\n",
    "```\n",
    "(5183, 473643)"
   ]
  },
  {
   "cell_type": "markdown",
   "metadata": {
    "id": "sMrNWcxL9QNF"
   },
   "source": [
    "#### 2.3 Pertinence d'un document (20 points)"
   ]
  },
  {
   "cell_type": "markdown",
   "metadata": {},
   "source": [
    "Maintenant que vous avez une représentation de vos affirmations \"_claims_\" et documents (\"_texts_\", \"_titles_\", \"_abstracts_\"), il faut être capable de déterminer quel document sera le plus pertinent pour une affirmation donnée."
   ]
  },
  {
   "cell_type": "markdown",
   "metadata": {
    "id": "3AsiWH2O9XKD"
   },
   "source": [
    "##### 2.3.1 Implémentation de \"_eval_similarity_\" (3 points)\n",
    "\n",
    "Implémentez la fonction \"_eval_similarity_\" pour évaluer la similarité cosinus entre la représentation de l'affirmation et celle de chaque document. La fonction prend une liste d'affirmations et une liste de documents et retourne une matrice où chaque ligne représente une affirmation et chaque colonne représente un document (\"title\", \"abstract\" ou \"text\") et les valeurs sont les similarités cosinus entre une affirmation et un document."
   ]
  },
  {
   "cell_type": "code",
   "execution_count": 30,
   "metadata": {},
   "outputs": [],
   "source": [
    "def eval_similarity(claimList,docList):\n",
    "    return cosine_similarity(claimList,docList)\n",
    "\n",
    "claim_titleSimilarity = eval_similarity(claimMatrix,titleMatrix)\n",
    "claim_abstractSimilarity = eval_similarity(claimMatrix,abstractMatrix)\n",
    "claim_textSimilarity = eval_similarity(claimMatrix,textMatrix)"
   ]
  },
  {
   "cell_type": "markdown",
   "metadata": {
    "id": "5_gDSgTv9fCu"
   },
   "source": [
    "##### 2.3.2 Implémentation de la fonction \"_rank_texts_\" (2 points)\n",
    "\n",
    "Implémentez la fonction \"_rank_texts_\", qui, au moyen de la précédente (_eval_similarity_), retourne le top-N (N=1,3,5) des documents pertinents pour une affirmation donnée (N est un paramètre). Ces documents devront être ordonnés du plus pertinent au moins pertinent. Idéalement, le document à la position 1 sera celui qui contient la preuve (ou justification) de l'affirmation. Il faudra retourner non pas les indices des documents dans le dataframe mais plutôt leur identifiants au niveau de la colonne \"_doc_id_\"."
   ]
  },
  {
   "cell_type": "code",
   "execution_count": 31,
   "metadata": {},
   "outputs": [],
   "source": [
    "def rank_texts(similarityMatrix,claimRow,N = 10):\n",
    "    \"\"\"\n",
    "    Takes in the similarity Matrix (row = claim, column = doc)\n",
    "    returns a vector with the indexes of the N best matches\n",
    "    \"\"\"\n",
    "    indexes = np.argsort(similarityMatrix[claimRow,:])[::-1]\n",
    "    return indexes[:N]"
   ]
  },
  {
   "cell_type": "code",
   "execution_count": 32,
   "metadata": {},
   "outputs": [
    {
     "data": {
      "text/plain": [
       "'\\nclaim_titleSimilarity[0,rank_texts(claim_titleSimilarity,0,10)]\\narray([0.05715677, 0.05669945, 0.05557235, 0.05359618, 0.04819043,\\n       0.04769814, 0.04712101, 0.04404433, 0.04380284, 0.04210753])\\n'"
      ]
     },
     "execution_count": 32,
     "metadata": {},
     "output_type": "execute_result"
    }
   ],
   "source": [
    "\"\"\"\n",
    "claim_titleSimilarity[0,rank_texts(claim_titleSimilarity,0,10)]\n",
    "array([0.05715677, 0.05669945, 0.05557235, 0.05359618, 0.04819043,\n",
    "       0.04769814, 0.04712101, 0.04404433, 0.04380284, 0.04210753])\n",
    "\"\"\""
   ]
  },
  {
   "cell_type": "markdown",
   "metadata": {},
   "source": [
    "##### 2.3.3 Préparation des dataframes de réponses (1 point) \n",
    "\n",
    "Vous allez écrire la fonction \"prepare_results_df\" qui crée les dataframes qui vont contenir les résultats de la recherche de documents pertinents pour les affirmations.\n",
    "\n",
    "La fonction \"prepare_results_df\" prend les arguments suivants:\n",
    "\n",
    "- '_df_': le dataframe original nommé '_df_claims_' à partir duquel on crée les autres, \n",
    "- '_columns_to_drop_': les colonnes à supprimer \n",
    "- '_column_to_rename_': le nom de la colonne de référence dans le dataframe original qui sera renommée \"gold standard passage\"\n",
    "\n",
    "et effectue les opérations suivantes:\n",
    "\n",
    "1. Créer un nouveau dataframe à partir de \"_df_claims_\" en supprimant toutes les colonnes sauf \"cited_doc_ids\".\n",
    "2. Renommer la colonne \"cited_doc_ids\" en \"gold standard passage\".\n",
    "3. Ajouter les colonnes \"top_1\", \"top_3\", et \"top_5\" au dataframe, \n",
    "en les initialisant avec des chaînes de zéros séparés par des points-\n",
    "virgules, correspondant respectivement à des configurations de 1, 3, et \n",
    "5 zéros pour toutes les lignes.\n",
    "\n",
    "Vous utiliserez ensuite cette fonction pour créer les dataframes \"results_titles_df\", \"results_abstracts_df\" et \"results_texts_df\", qui seront destinés à contenir les résultats de recherche de documents pour \"title\", \"abstract\" et \"text\" respectivement."
   ]
  },
  {
   "cell_type": "code",
   "execution_count": 33,
   "metadata": {},
   "outputs": [
    {
     "data": {
      "text/html": [
       "<div>\n",
       "<style scoped>\n",
       "    .dataframe tbody tr th:only-of-type {\n",
       "        vertical-align: middle;\n",
       "    }\n",
       "\n",
       "    .dataframe tbody tr th {\n",
       "        vertical-align: top;\n",
       "    }\n",
       "\n",
       "    .dataframe thead th {\n",
       "        text-align: right;\n",
       "    }\n",
       "</style>\n",
       "<table border=\"1\" class=\"dataframe\">\n",
       "  <thead>\n",
       "    <tr style=\"text-align: right;\">\n",
       "      <th></th>\n",
       "      <th>id</th>\n",
       "      <th>gold standard passage</th>\n",
       "      <th>top_1</th>\n",
       "      <th>top_3</th>\n",
       "      <th>top_5</th>\n",
       "    </tr>\n",
       "  </thead>\n",
       "  <tbody>\n",
       "    <tr>\n",
       "      <th>0</th>\n",
       "      <td>0</td>\n",
       "      <td>[31715818]</td>\n",
       "      <td>0</td>\n",
       "      <td>0;0;0</td>\n",
       "      <td>0;0;0;0;0</td>\n",
       "    </tr>\n",
       "    <tr>\n",
       "      <th>1</th>\n",
       "      <td>2</td>\n",
       "      <td>[13734012]</td>\n",
       "      <td>0</td>\n",
       "      <td>0;0;0</td>\n",
       "      <td>0;0;0;0;0</td>\n",
       "    </tr>\n",
       "    <tr>\n",
       "      <th>2</th>\n",
       "      <td>4</td>\n",
       "      <td>[22942787]</td>\n",
       "      <td>0</td>\n",
       "      <td>0;0;0</td>\n",
       "      <td>0;0;0;0;0</td>\n",
       "    </tr>\n",
       "    <tr>\n",
       "      <th>3</th>\n",
       "      <td>6</td>\n",
       "      <td>[2613775]</td>\n",
       "      <td>0</td>\n",
       "      <td>0;0;0</td>\n",
       "      <td>0;0;0;0;0</td>\n",
       "    </tr>\n",
       "    <tr>\n",
       "      <th>4</th>\n",
       "      <td>9</td>\n",
       "      <td>[44265107]</td>\n",
       "      <td>0</td>\n",
       "      <td>0;0;0</td>\n",
       "      <td>0;0;0;0;0</td>\n",
       "    </tr>\n",
       "  </tbody>\n",
       "</table>\n",
       "</div>"
      ],
      "text/plain": [
       "   id gold standard passage top_1  top_3      top_5\n",
       "0   0            [31715818]     0  0;0;0  0;0;0;0;0\n",
       "1   2            [13734012]     0  0;0;0  0;0;0;0;0\n",
       "2   4            [22942787]     0  0;0;0  0;0;0;0;0\n",
       "3   6             [2613775]     0  0;0;0  0;0;0;0;0\n",
       "4   9            [44265107]     0  0;0;0  0;0;0;0;0"
      ]
     },
     "execution_count": 33,
     "metadata": {},
     "output_type": "execute_result"
    }
   ],
   "source": [
    "def prepare_results_df(df = df_claims,\n",
    "                       columns_to_drop = [],\n",
    "                       columns_to_rename = [('cited_doc_ids','golden_standard_passage')],\n",
    "                       Ns = [1,3,5]):\n",
    "    dfOut = pd.DataFrame()\n",
    "    for key in df.keys():\n",
    "        if key not in columns_to_drop:\n",
    "            dfOut[key] = df[key]\n",
    "    \n",
    "    for (previousName,newName) in columns_to_rename:\n",
    "        try:\n",
    "            dfOut = dfOut.rename(columns={previousName:newName})\n",
    "        except:\n",
    "            pass\n",
    "    \n",
    "    for N in Ns:\n",
    "        dfOut[f'top_{N}'] = ('0;' * N)[:-1]\n",
    "\n",
    "    return dfOut\n",
    "\n",
    "\n",
    "colToDrop = list(df_claims.keys())\n",
    "colToDrop.remove('cited_doc_ids')\n",
    "colToDrop.remove('id')\n",
    "\n",
    "results_titles_df = prepare_results_df(df = df_claims,\n",
    "                                       columns_to_drop = colToDrop,\n",
    "                                       columns_to_rename = [(\"cited_doc_ids\",\"gold standard passage\")])\n",
    "\n",
    "results_abstracts_df = prepare_results_df(df = df_claims,\n",
    "                                       columns_to_drop = colToDrop,\n",
    "                                       columns_to_rename = [(\"cited_doc_ids\",\"gold standard passage\")])\n",
    "\n",
    "results_texts_df = prepare_results_df(df = df_claims,\n",
    "                                       columns_to_drop = colToDrop,\n",
    "                                       columns_to_rename = [(\"cited_doc_ids\",\"gold standard passage\")])\n",
    "results_texts_df.head()"
   ]
  },
  {
   "cell_type": "markdown",
   "metadata": {},
   "source": [
    "> Sortie attendue pour chaque dataframe préparé\n",
    "<div>\n",
    "<style scoped>\n",
    "    .dataframe tbody tr th:only-of-type {\n",
    "        vertical-align: middle;\n",
    "    }\n",
    "\n",
    "    .dataframe tbody tr th {\n",
    "        vertical-align: top;\n",
    "    }\n",
    "\n",
    "    .dataframe thead th {\n",
    "        text-align: right;\n",
    "    }\n",
    "</style>\n",
    "<table border=\"1\" class=\"dataframe\">\n",
    "  <thead>\n",
    "    <tr style=\"text-align: right;\">\n",
    "      <th></th>\n",
    "      <th>id</th>\n",
    "      <th>gold standard passage</th>\n",
    "      <th>top_1</th>\n",
    "      <th>top_3</th>\n",
    "      <th>top_5</th>\n",
    "    </tr>\n",
    "  </thead>\n",
    "  <tbody>\n",
    "    <tr>\n",
    "      <th>0</th>\n",
    "      <td>0</td>\n",
    "      <td>[31715818]</td>\n",
    "      <td>0</td>\n",
    "      <td>0;0;0</td>\n",
    "      <td>0;0;0;0;0</td>\n",
    "    </tr>\n",
    "    <tr>\n",
    "      <th>1</th>\n",
    "      <td>2</td>\n",
    "      <td>[13734012]</td>\n",
    "      <td>0</td>\n",
    "      <td>0;0;0</td>\n",
    "      <td>0;0;0;0;0</td>\n",
    "    </tr>\n",
    "    <tr>\n",
    "      <th>2</th>\n",
    "      <td>4</td>\n",
    "      <td>[22942787]</td>\n",
    "      <td>0</td>\n",
    "      <td>0;0;0</td>\n",
    "      <td>0;0;0;0;0</td>\n",
    "    </tr>\n",
    "  </tbody>\n",
    "</table>\n",
    "</div>"
   ]
  },
  {
   "cell_type": "markdown",
   "metadata": {},
   "source": [
    "##### 2.3.4 Implémentation de la fonction \"_fill_results_\" (2 points)\n",
    "\n",
    "Vous devez maintenant implémenter la fonction \"_fill_results_\" qui remplit les dataframes préparés dans l'étape précédente en utilisant les resultats de recherche de document.\n",
    "Cette fonction prend les arguments suivant: \n",
    "- \"_results_\" : matrice contenant les valeurs de similarite des affirmations et des documents\n",
    "- \"_results_texts_df_\" : Dataframe contenant les affirmations ainsi que les colonnes \"top_1\", \"top_3\", \"top_5\" où doivent être mis les top-n documents les plus pertinents.\n",
    "\n",
    "Les deux arguments contiennent le même nombre d'éléments et pour le même indice, font référence à la même affirmation."
   ]
  },
  {
   "cell_type": "code",
   "execution_count": 34,
   "metadata": {},
   "outputs": [],
   "source": [
    "def fill_results(similarityResultMatrix,resultDataFrame,corpusDataFrame = df_corpus,Ns = [1,3,5]):\n",
    "    # Repeat for all N\n",
    "    for N in Ns:\n",
    "        tempList = []\n",
    "        # Loop through the lines of the dataframe\n",
    "        for iRow in range(len(resultDataFrame)):\n",
    "            # Get the indexes of the most likely document \n",
    "            indexes = rank_texts(similarityResultMatrix,iRow,N)\n",
    "            # Get the id\n",
    "            ids = list(df_corpus.iloc[indexes]['doc_id'])\n",
    "\n",
    "            ch = ''\n",
    "            for id in ids:\n",
    "                ch += str(id)+';'\n",
    "\n",
    "            tempList.append(ch[:-1])\n",
    "        resultDataFrame[f'top_{N}'] = pd.Series(tempList)\n"
   ]
  },
  {
   "cell_type": "markdown",
   "metadata": {
    "id": "EqRUGA9D9xoI"
   },
   "source": [
    "##### 2.3.5 Exécution des fonctions \"_rank_texts_\" et fill_results(2 points)\n",
    "\n",
    "Exécutez maintenant votre fonction \"_rank_texts_\" sur toutes les affirmations (claims) et toutes les représentations de documents (title, abstract, text) en mettant les résultats dans les variables \"results_texts\", \"results_titles\" et \"results_abstracts\". Ensuite appelez la fonction \"_fill_results_\" qui remplit les dataframes \"_results_titles_df_\", \"_results_abstracts_df_\", et \"_results_texts_df_\" contenant les résultats de recheche de documents."
   ]
  },
  {
   "cell_type": "code",
   "execution_count": 35,
   "metadata": {},
   "outputs": [],
   "source": [
    "fill_results(claim_titleSimilarity,results_titles_df)\n",
    "fill_results(claim_abstractSimilarity,results_abstracts_df)\n",
    "fill_results(claim_textSimilarity,results_texts_df)"
   ]
  },
  {
   "cell_type": "code",
   "execution_count": 36,
   "metadata": {},
   "outputs": [
    {
     "data": {
      "text/html": [
       "<div>\n",
       "<style scoped>\n",
       "    .dataframe tbody tr th:only-of-type {\n",
       "        vertical-align: middle;\n",
       "    }\n",
       "\n",
       "    .dataframe tbody tr th {\n",
       "        vertical-align: top;\n",
       "    }\n",
       "\n",
       "    .dataframe thead th {\n",
       "        text-align: right;\n",
       "    }\n",
       "</style>\n",
       "<table border=\"1\" class=\"dataframe\">\n",
       "  <thead>\n",
       "    <tr style=\"text-align: right;\">\n",
       "      <th></th>\n",
       "      <th>id</th>\n",
       "      <th>gold standard passage</th>\n",
       "      <th>top_1</th>\n",
       "      <th>top_3</th>\n",
       "      <th>top_5</th>\n",
       "    </tr>\n",
       "  </thead>\n",
       "  <tbody>\n",
       "    <tr>\n",
       "      <th>0</th>\n",
       "      <td>0</td>\n",
       "      <td>[31715818]</td>\n",
       "      <td>10029970</td>\n",
       "      <td>10029970;42421723;4459491</td>\n",
       "      <td>10029970;42421723;4459491;25950264;31543713</td>\n",
       "    </tr>\n",
       "    <tr>\n",
       "      <th>1</th>\n",
       "      <td>2</td>\n",
       "      <td>[13734012]</td>\n",
       "      <td>4828631</td>\n",
       "      <td>4828631;32481310;103007</td>\n",
       "      <td>4828631;32481310;103007;17415081;7020505</td>\n",
       "    </tr>\n",
       "    <tr>\n",
       "      <th>2</th>\n",
       "      <td>4</td>\n",
       "      <td>[22942787]</td>\n",
       "      <td>10958594</td>\n",
       "      <td>10958594;12074066;24980622</td>\n",
       "      <td>10958594;12074066;24980622;39903312;42731834</td>\n",
       "    </tr>\n",
       "    <tr>\n",
       "      <th>3</th>\n",
       "      <td>6</td>\n",
       "      <td>[2613775]</td>\n",
       "      <td>2613775</td>\n",
       "      <td>2613775;23117378;21050357</td>\n",
       "      <td>2613775;23117378;21050357;20287253;39381118</td>\n",
       "    </tr>\n",
       "    <tr>\n",
       "      <th>4</th>\n",
       "      <td>9</td>\n",
       "      <td>[44265107]</td>\n",
       "      <td>44265107</td>\n",
       "      <td>44265107;24700152;14647747</td>\n",
       "      <td>44265107;24700152;14647747;26105746;29366489</td>\n",
       "    </tr>\n",
       "    <tr>\n",
       "      <th>...</th>\n",
       "      <td>...</td>\n",
       "      <td>...</td>\n",
       "      <td>...</td>\n",
       "      <td>...</td>\n",
       "      <td>...</td>\n",
       "    </tr>\n",
       "    <tr>\n",
       "      <th>804</th>\n",
       "      <td>1403</td>\n",
       "      <td>[33370, 38355793]</td>\n",
       "      <td>6944800</td>\n",
       "      <td>6944800;33370;24282306</td>\n",
       "      <td>6944800;33370;24282306;13329980;38355793</td>\n",
       "    </tr>\n",
       "    <tr>\n",
       "      <th>805</th>\n",
       "      <td>1404</td>\n",
       "      <td>[33370, 38355793]</td>\n",
       "      <td>32852283</td>\n",
       "      <td>32852283;6944800;33370</td>\n",
       "      <td>32852283;6944800;33370;24282306;13329980</td>\n",
       "    </tr>\n",
       "    <tr>\n",
       "      <th>806</th>\n",
       "      <td>1405</td>\n",
       "      <td>[10504681]</td>\n",
       "      <td>10504681</td>\n",
       "      <td>10504681;5849439;26378103</td>\n",
       "      <td>10504681;5849439;26378103;435529;7681810</td>\n",
       "    </tr>\n",
       "    <tr>\n",
       "      <th>807</th>\n",
       "      <td>1406</td>\n",
       "      <td>[2617858]</td>\n",
       "      <td>2617858</td>\n",
       "      <td>2617858;4857085;11419230</td>\n",
       "      <td>2617858;4857085;11419230;27768226;13283919</td>\n",
       "    </tr>\n",
       "    <tr>\n",
       "      <th>808</th>\n",
       "      <td>1407</td>\n",
       "      <td>[8087082, 29863668]</td>\n",
       "      <td>45199834</td>\n",
       "      <td>45199834;16090672;30379039</td>\n",
       "      <td>45199834;16090672;30379039;4820792;38127792</td>\n",
       "    </tr>\n",
       "  </tbody>\n",
       "</table>\n",
       "<p>809 rows × 5 columns</p>\n",
       "</div>"
      ],
      "text/plain": [
       "       id gold standard passage     top_1                       top_3  \\\n",
       "0       0            [31715818]  10029970   10029970;42421723;4459491   \n",
       "1       2            [13734012]   4828631     4828631;32481310;103007   \n",
       "2       4            [22942787]  10958594  10958594;12074066;24980622   \n",
       "3       6             [2613775]   2613775   2613775;23117378;21050357   \n",
       "4       9            [44265107]  44265107  44265107;24700152;14647747   \n",
       "..    ...                   ...       ...                         ...   \n",
       "804  1403     [33370, 38355793]   6944800      6944800;33370;24282306   \n",
       "805  1404     [33370, 38355793]  32852283      32852283;6944800;33370   \n",
       "806  1405            [10504681]  10504681   10504681;5849439;26378103   \n",
       "807  1406             [2617858]   2617858    2617858;4857085;11419230   \n",
       "808  1407   [8087082, 29863668]  45199834  45199834;16090672;30379039   \n",
       "\n",
       "                                            top_5  \n",
       "0     10029970;42421723;4459491;25950264;31543713  \n",
       "1        4828631;32481310;103007;17415081;7020505  \n",
       "2    10958594;12074066;24980622;39903312;42731834  \n",
       "3     2613775;23117378;21050357;20287253;39381118  \n",
       "4    44265107;24700152;14647747;26105746;29366489  \n",
       "..                                            ...  \n",
       "804      6944800;33370;24282306;13329980;38355793  \n",
       "805      32852283;6944800;33370;24282306;13329980  \n",
       "806      10504681;5849439;26378103;435529;7681810  \n",
       "807    2617858;4857085;11419230;27768226;13283919  \n",
       "808   45199834;16090672;30379039;4820792;38127792  \n",
       "\n",
       "[809 rows x 5 columns]"
      ]
     },
     "execution_count": 36,
     "metadata": {},
     "output_type": "execute_result"
    }
   ],
   "source": [
    "results_titles_df"
   ]
  },
  {
   "cell_type": "markdown",
   "metadata": {},
   "source": [
    "##### 2.3.6 Enregistrement des dataframes \n",
    "\n",
    "On enregistre les dataframes dans des fichiers .csv."
   ]
  },
  {
   "cell_type": "code",
   "execution_count": 37,
   "metadata": {},
   "outputs": [],
   "source": [
    "results_titles_df.to_csv('Titles.csv')\n",
    "results_texts_df.to_csv('Text.csv')\n",
    "results_abstracts_df.to_csv('Abstract.csv')"
   ]
  },
  {
   "cell_type": "markdown",
   "metadata": {
    "id": "4qWHRy8oZvOt"
   },
   "source": [
    "##### 2.3.7 Implémentation de la fonction \"_show_top_n_passages_\" (3 points)\n",
    "\n",
    "Vous devez maintenant implémenter une fonction \"_show_top_n_passages_\" qui affiche le top-n ainsi que le texte (document) attendu pour une affirmation donnée. Ici on considère que document est representé par \"_text_\" donc la fusion du titre (\"_title_\") et du résumé (\"_abstract_\")"
   ]
  },
  {
   "cell_type": "code",
   "execution_count": 38,
   "metadata": {
    "id": "-l9sKrgC-Sq7"
   },
   "outputs": [],
   "source": [
    "def show_top_n_passages(resultDataFrame,claimId,df_corpus = df_corpus,N=1):\n",
    "    # List that will gather the documents\n",
    "    document = []\n",
    "\n",
    "    docIds = resultDataFrame[resultDataFrame['id'] == claimId][f'top_{N}'] # string 'Id;Id;Id'\n",
    "    docIds = list(docIds)[0] # exctract the string inside\n",
    "    \n",
    "    listIds = [int(el) for el in docIds.split(sep = ';')]\n",
    "\n",
    "    for id in listIds:\n",
    "        print(f'Id : {id}\\nText : ')\n",
    "        document.append(df_corpus[df_corpus['doc_id']==id]['text'])\n",
    "        print(document[-1])\n",
    "    \n",
    "    return document\n",
    "\n"
   ]
  },
  {
   "cell_type": "markdown",
   "metadata": {},
   "source": [
    "##### 2.3.8 Affichage (1 point)\n",
    "\n",
    "Appliquez cette fonction sur l'affirmation ayant pour identifiant 211 et affichez le top-5 des documents les plus pertinents retrouvés."
   ]
  },
  {
   "cell_type": "code",
   "execution_count": 39,
   "metadata": {},
   "outputs": [
    {
     "name": "stdout",
     "output_type": "stream",
     "text": [
      "Id : 14019636\n",
      "Text : \n",
      "2315    Ribosomal DNA copy number loss and sequence va...\n",
      "Name: text, dtype: object\n",
      "Id : 44737533\n",
      "Text : \n",
      "4935    Simian immunodeficiency viruses replication dy...\n",
      "Name: text, dtype: object\n",
      "Id : 6290112\n",
      "Text : \n",
      "1161    Low copy number of the salivary amylase gene p...\n",
      "Name: text, dtype: object\n",
      "Id : 20261352\n",
      "Text : \n",
      "3024    Decoupling activation and exhaustion of B cell...\n",
      "Name: text, dtype: object\n",
      "Id : 5137019\n",
      "Text : \n",
      "974    Suppressor of cytokine signaling 3 inhibits an...\n",
      "Name: text, dtype: object\n"
     ]
    },
    {
     "data": {
      "text/plain": [
       "[2315    Ribosomal DNA copy number loss and sequence va...\n",
       " Name: text, dtype: object,\n",
       " 4935    Simian immunodeficiency viruses replication dy...\n",
       " Name: text, dtype: object,\n",
       " 1161    Low copy number of the salivary amylase gene p...\n",
       " Name: text, dtype: object,\n",
       " 3024    Decoupling activation and exhaustion of B cell...\n",
       " Name: text, dtype: object,\n",
       " 974    Suppressor of cytokine signaling 3 inhibits an...\n",
       " Name: text, dtype: object]"
      ]
     },
     "execution_count": 39,
     "metadata": {},
     "output_type": "execute_result"
    }
   ],
   "source": [
    "show_top_n_passages(results_texts_df,211,N = 5)"
   ]
  },
  {
   "cell_type": "markdown",
   "metadata": {},
   "source": [
    "##### 2.3.9 Évaluation (3 points)\n",
    "\n",
    "Vous devez maintenant implémenter la fonction \"_evaluate_\" qui, à partir des colonnes *Gold standard passage* et de vos top-N respectifs, calcule la précision top-N (N=1,3,5) sur l’ensemble de données en paramètre et l’affiche. \n",
    "\n",
    "Cette précision connue sous le nom \"precision at k (precision@k)\" se calcule de la manière suivante:\n",
    "\n",
    "\n",
    "$$\n",
    "\\text{precision@k} = \\frac{\\text{nombre d'éléments corrects}}{\\text{nombre total d'éléments k retrouvés}}\n",
    "$$\n",
    "\n",
    "\n",
    "Veillez à ce que la fonction soit générique. "
   ]
  },
  {
   "cell_type": "code",
   "execution_count": 40,
   "metadata": {},
   "outputs": [],
   "source": [
    "def evaluate(k,resultDataFrame,claimId):\n",
    "    # Get the gold Standard passage\n",
    "    GSP = resultDataFrame[resultDataFrame['id'] == claimId]['gold standard passage'] # pd.Series\n",
    "    GSP = list(GSP)[0] # list of indexes\n",
    "    \n",
    "    # Get the top_k\n",
    "    topK = resultDataFrame[resultDataFrame['id'] == claimId][f'top_{k}'] # pd.Series\n",
    "    topK = list(topK)[0] # Str\n",
    "    topK = [int(id) for id in topK.split(';')]\n",
    "    \n",
    "    # Evaluate the accuracy \n",
    "    nCorrectElement = 0\n",
    "    for id in topK:\n",
    "        if id in GSP:\n",
    "            nCorrectElement += 1\n",
    "\n",
    "    return nCorrectElement / k"
   ]
  },
  {
   "cell_type": "markdown",
   "metadata": {},
   "source": [
    "##### 2.3.10 Affichage (1 point)\n",
    "\n",
    "Appliquez cette fonction pour calculer la précision des documents retrouvés en utilisant les titres (\"_title_\"), les résumés (\"_abstract_\") et la fusion des deux (\"_text_\")."
   ]
  },
  {
   "cell_type": "code",
   "execution_count": 41,
   "metadata": {},
   "outputs": [],
   "source": [
    "def evaluateAll(resultDataFrame):\n",
    "    nClaims = len(resultDataFrame)\n",
    "    kAccuracy = pd.DataFrame({\"idClaim\": list(resultDataFrame['id']),\n",
    "                               '1' : np.zeros(nClaims),\n",
    "                               '3' : np.zeros(nClaims),\n",
    "                               '5' : np.zeros(nClaims)})\n",
    "    for k in [1,3,5]:\n",
    "        lEvaluate = []\n",
    "        for i in range(nClaims):\n",
    "            lEvaluate.append(evaluate(k,resultDataFrame,kAccuracy['idClaim'][i]))\n",
    "        kAccuracy[str(k)] = pd.Series(lEvaluate)\n",
    "    return kAccuracy\n",
    "\n",
    "kAccuracyTitle = evaluateAll(results_titles_df)\n",
    "kAccuracyAbstract = evaluateAll(results_abstracts_df)\n",
    "kAccuracyText = evaluateAll(results_texts_df)"
   ]
  },
  {
   "cell_type": "markdown",
   "metadata": {},
   "source": [
    "##### 2.3.11 Graphique (2 points)\n",
    "\n",
    "Tracez un graphique des valeurs de précisions des documents retrouvés (\"__title__\", \"__abstract__\", \"__text__\") pour différents N (1,3,5)."
   ]
  },
  {
   "cell_type": "code",
   "execution_count": 42,
   "metadata": {},
   "outputs": [
    {
     "data": {
      "image/png": "[encoded data removed]",
      "text/plain": [
       "<Figure size 640x480 with 1 Axes>"
      ]
     },
     "metadata": {},
     "output_type": "display_data"
    },
    {
     "data": {
      "image/png": "[encoded data removed]",
      "text/plain": [
       "<Figure size 640x480 with 1 Axes>"
      ]
     },
     "metadata": {},
     "output_type": "display_data"
    },
    {
     "data": {
      "image/png": "[encoded data removed]",
      "text/plain": [
       "<Figure size 640x480 with 1 Axes>"
      ]
     },
     "metadata": {},
     "output_type": "display_data"
    }
   ],
   "source": [
    "plt.figure()\n",
    "plt.hist([list(kAccuracyTitle['1']),\n",
    "          list(kAccuracyAbstract['1']),\n",
    "          list(kAccuracyText['1'])], density=True, histtype='bar', label=['Title','Abstract','Text'])\n",
    "plt.legend()\n",
    "plt.title(\"k = 1\")\n",
    "plt.show()\n",
    "\n",
    "plt.figure()\n",
    "plt.hist([list(kAccuracyTitle['3']),\n",
    "          list(kAccuracyAbstract['3']),\n",
    "          list(kAccuracyText['3'])], density=True, histtype='bar', label=['Title','Abstract','Text'])\n",
    "plt.legend()\n",
    "plt.title(\"k = 3\")\n",
    "plt.show()\n",
    "\n",
    "plt.figure()\n",
    "plt.hist([list(kAccuracyTitle['5']),\n",
    "          list(kAccuracyAbstract['5']),\n",
    "          list(kAccuracyText['5'])], density=True, histtype='bar', label=['Title','Abstract','Text'])\n",
    "plt.legend()\n",
    "plt.title(\"k = 5\")\n",
    "plt.show()"
   ]
  },
  {
   "cell_type": "markdown",
   "metadata": {
    "id": "vI_2JXRxAygz"
   },
   "source": [
    "### 3 Amélioration avec BM25 (20 points)"
   ]
  },
  {
   "cell_type": "markdown",
   "metadata": {},
   "source": [
    "BM25 (Best Matching 25) est un algorithme de recherche utilisé pour évaluer la pertinence des documents par rapport à une requête. Basé sur le modèle de récupération d'informations probabilistes, BM25 calcule un score de pertinence en tenant compte de la fréquence des termes de la requête dans chaque document et dans le corpus global mais aussi de la longueur des documents. \n",
    "\n",
    "BM25 est pertinent pour la recherche d'information car il offre un bon équilibre entre précision et rappel, il gère efficacement de grandes collections de documents et permet des ajustements pour différents types de corpus. Il est largement utilisé dans les moteurs de recherche et les systèmes de recommandation.\n",
    "\n",
    "Dans cette partie on vous demande de la tester au moyen de la librairie rank_bm25 pour cette tâche de recherche de texte qui justifie ou contredit une affirmation donnée. Vous allez utiliser le corpus et les affirmations et procéder comme indiqué dans la suite."
   ]
  },
  {
   "cell_type": "markdown",
   "metadata": {},
   "source": [
    "##### 3.1 Initialisation du modèle BM25 (3 points)\n",
    "Réutilisez les variables \"claims_preprocessed_joined\", \"texts_preprocessed_joined\", \"titles_preprocessed_joined\" et \"abstract_preprocessed_joined\" définies à la question `2.2.1` pour initialiser les modèles BM25 pour les documents (\"__titles__\", \"__abstracts__\" et \"__text__\"). Il faudra transformer chaque séquence (dont les jetons étaient joints pour former une seule chaîne) en une liste de jetons. Vous utiliserez la classe \"_BM250kapi_\" à ce niveau. "
   ]
  },
  {
   "cell_type": "code",
   "execution_count": 43,
   "metadata": {},
   "outputs": [],
   "source": [
    "claims = [sentence.split(\" \") for sentence in df_claims['claims_preprocessed_joined']]\n",
    "texts = [sentence.split(\" \") for sentence in df_corpus['texts_preprocessed_joined']]\n",
    "abstracts = [sentence.split(\" \") for sentence in df_corpus['abstract_preprocessed_joined']]\n",
    "titles = [sentence.split(\" \") for sentence in df_corpus['title_preprocessed_joined']]"
   ]
  },
  {
   "cell_type": "code",
   "execution_count": 44,
   "metadata": {},
   "outputs": [],
   "source": [
    "texts_bm = BM25Okapi(texts)\n",
    "abstract_bm = BM25Okapi(texts)\n",
    "titles_bm = BM25Okapi(titles)"
   ]
  },
  {
   "cell_type": "markdown",
   "metadata": {},
   "source": [
    "##### 3.2 Utilisation du modèle BM25 (5 points)\n",
    "\n",
    "Retrouvez les identifiants des documents pour les cinq meilleures correspondances de \"_title_\", de \"_abstract_\" et de \"_text_\" en utilisant le score BM25 pour chaque affirmation (claim) traitée, et mettez à jour les résultats avec les identifiants de documents correspondants."
   ]
  },
  {
   "cell_type": "code",
   "execution_count": 45,
   "metadata": {},
   "outputs": [],
   "source": [
    "results_titles_df_BM = prepare_results_df(df = df_claims,\n",
    "                                       columns_to_drop = colToDrop,\n",
    "                                       columns_to_rename = [(\"cited_doc_ids\",\"gold standard passage\")])\n",
    "\n",
    "results_abstracts_df_BM = prepare_results_df(df = df_claims,\n",
    "                                       columns_to_drop = colToDrop,\n",
    "                                       columns_to_rename = [(\"cited_doc_ids\",\"gold standard passage\")])\n",
    "\n",
    "results_texts_df_BM = prepare_results_df(df = df_claims,\n",
    "                                       columns_to_drop = colToDrop,\n",
    "                                       columns_to_rename = [(\"cited_doc_ids\",\"gold standard passage\")])"
   ]
  },
  {
   "cell_type": "code",
   "execution_count": 69,
   "metadata": {},
   "outputs": [],
   "source": [
    "def evaluateBM(bmObject,resultDataFrame,df_claims = df_claims,df_corpus = df_corpus,Ns = [1,3,5]):\n",
    "    for k in Ns:\n",
    "        lEvaluate = []\n",
    "        for i in range(len(resultDataFrame)):\n",
    "\n",
    "            bmEvaluation = bmObject.get_scores(df_claims['claims_preprocessed_joined'][i]) # np.array\n",
    "            idx = np.argsort(bmEvaluation)[::-1][:k]\n",
    "\n",
    "            ch = ''\n",
    "            for i in idx : \n",
    "                ch += str(df_corpus.iloc[i]['doc_id']) + ';'\n",
    "            lEvaluate.append(ch[:-1])\n",
    "\n",
    "        resultDataFrame[f'top_{k}'] = pd.Series(lEvaluate)\n",
    "    \n",
    "\n",
    "evaluateBM(texts_bm,results_texts_df_BM)\n",
    "evaluateBM(titles_bm,results_titles_df_BM)\n",
    "evaluateBM(abstract_bm,results_abstracts_df_BM)\n"
   ]
  },
  {
   "cell_type": "code",
   "execution_count": 70,
   "metadata": {},
   "outputs": [
    {
     "data": {
      "text/html": [
       "<div>\n",
       "<style scoped>\n",
       "    .dataframe tbody tr th:only-of-type {\n",
       "        vertical-align: middle;\n",
       "    }\n",
       "\n",
       "    .dataframe tbody tr th {\n",
       "        vertical-align: top;\n",
       "    }\n",
       "\n",
       "    .dataframe thead th {\n",
       "        text-align: right;\n",
       "    }\n",
       "</style>\n",
       "<table border=\"1\" class=\"dataframe\">\n",
       "  <thead>\n",
       "    <tr style=\"text-align: right;\">\n",
       "      <th></th>\n",
       "      <th>id</th>\n",
       "      <th>gold standard passage</th>\n",
       "      <th>top_1</th>\n",
       "      <th>top_3</th>\n",
       "      <th>top_5</th>\n",
       "    </tr>\n",
       "  </thead>\n",
       "  <tbody>\n",
       "    <tr>\n",
       "      <th>0</th>\n",
       "      <td>0</td>\n",
       "      <td>[31715818]</td>\n",
       "      <td>24443043</td>\n",
       "      <td>24443043;12009265;4442799</td>\n",
       "      <td>24443043;12009265;4442799;6718824;25300664</td>\n",
       "    </tr>\n",
       "    <tr>\n",
       "      <th>1</th>\n",
       "      <td>2</td>\n",
       "      <td>[13734012]</td>\n",
       "      <td>7227763</td>\n",
       "      <td>7227763;24443043;4442799</td>\n",
       "      <td>7227763;24443043;4442799;21063817;25300664</td>\n",
       "    </tr>\n",
       "    <tr>\n",
       "      <th>2</th>\n",
       "      <td>4</td>\n",
       "      <td>[22942787]</td>\n",
       "      <td>12009265</td>\n",
       "      <td>12009265;24443043;39174007</td>\n",
       "      <td>12009265;24443043;39174007;6718824;12443371</td>\n",
       "    </tr>\n",
       "    <tr>\n",
       "      <th>3</th>\n",
       "      <td>6</td>\n",
       "      <td>[2613775]</td>\n",
       "      <td>24443043</td>\n",
       "      <td>24443043;12443371;341324</td>\n",
       "      <td>24443043;12443371;341324;12009265;4442799</td>\n",
       "    </tr>\n",
       "    <tr>\n",
       "      <th>4</th>\n",
       "      <td>9</td>\n",
       "      <td>[44265107]</td>\n",
       "      <td>24443043</td>\n",
       "      <td>24443043;341324;4442799</td>\n",
       "      <td>24443043;341324;4442799;25300664;6718824</td>\n",
       "    </tr>\n",
       "    <tr>\n",
       "      <th>...</th>\n",
       "      <td>...</td>\n",
       "      <td>...</td>\n",
       "      <td>...</td>\n",
       "      <td>...</td>\n",
       "      <td>...</td>\n",
       "    </tr>\n",
       "    <tr>\n",
       "      <th>804</th>\n",
       "      <td>1403</td>\n",
       "      <td>[33370, 38355793]</td>\n",
       "      <td>24443043</td>\n",
       "      <td>24443043;6718824;341324</td>\n",
       "      <td>24443043;6718824;341324;21063817;4442799</td>\n",
       "    </tr>\n",
       "    <tr>\n",
       "      <th>805</th>\n",
       "      <td>1404</td>\n",
       "      <td>[33370, 38355793]</td>\n",
       "      <td>21063817</td>\n",
       "      <td>21063817;24443043;4442799</td>\n",
       "      <td>21063817;24443043;4442799;25300664;6718824</td>\n",
       "    </tr>\n",
       "    <tr>\n",
       "      <th>806</th>\n",
       "      <td>1405</td>\n",
       "      <td>[10504681]</td>\n",
       "      <td>24443043</td>\n",
       "      <td>24443043;341324;6718824</td>\n",
       "      <td>24443043;341324;6718824;2575938;24660385</td>\n",
       "    </tr>\n",
       "    <tr>\n",
       "      <th>807</th>\n",
       "      <td>1406</td>\n",
       "      <td>[2617858]</td>\n",
       "      <td>24443043</td>\n",
       "      <td>24443043;21063817;12009265</td>\n",
       "      <td>24443043;21063817;12009265;341324;6718824</td>\n",
       "    </tr>\n",
       "    <tr>\n",
       "      <th>808</th>\n",
       "      <td>1407</td>\n",
       "      <td>[8087082, 29863668]</td>\n",
       "      <td>6061927</td>\n",
       "      <td>6061927;1967017;7227763</td>\n",
       "      <td>6061927;1967017;7227763;23848916;25737507</td>\n",
       "    </tr>\n",
       "  </tbody>\n",
       "</table>\n",
       "<p>809 rows × 5 columns</p>\n",
       "</div>"
      ],
      "text/plain": [
       "       id gold standard passage     top_1                       top_3  \\\n",
       "0       0            [31715818]  24443043   24443043;12009265;4442799   \n",
       "1       2            [13734012]   7227763    7227763;24443043;4442799   \n",
       "2       4            [22942787]  12009265  12009265;24443043;39174007   \n",
       "3       6             [2613775]  24443043    24443043;12443371;341324   \n",
       "4       9            [44265107]  24443043     24443043;341324;4442799   \n",
       "..    ...                   ...       ...                         ...   \n",
       "804  1403     [33370, 38355793]  24443043     24443043;6718824;341324   \n",
       "805  1404     [33370, 38355793]  21063817   21063817;24443043;4442799   \n",
       "806  1405            [10504681]  24443043     24443043;341324;6718824   \n",
       "807  1406             [2617858]  24443043  24443043;21063817;12009265   \n",
       "808  1407   [8087082, 29863668]   6061927     6061927;1967017;7227763   \n",
       "\n",
       "                                           top_5  \n",
       "0     24443043;12009265;4442799;6718824;25300664  \n",
       "1     7227763;24443043;4442799;21063817;25300664  \n",
       "2    12009265;24443043;39174007;6718824;12443371  \n",
       "3      24443043;12443371;341324;12009265;4442799  \n",
       "4       24443043;341324;4442799;25300664;6718824  \n",
       "..                                           ...  \n",
       "804     24443043;6718824;341324;21063817;4442799  \n",
       "805   21063817;24443043;4442799;25300664;6718824  \n",
       "806     24443043;341324;6718824;2575938;24660385  \n",
       "807    24443043;21063817;12009265;341324;6718824  \n",
       "808    6061927;1967017;7227763;23848916;25737507  \n",
       "\n",
       "[809 rows x 5 columns]"
      ]
     },
     "execution_count": 70,
     "metadata": {},
     "output_type": "execute_result"
    }
   ],
   "source": [
    "results_texts_df_BM"
   ]
  },
  {
   "cell_type": "markdown",
   "metadata": {},
   "source": [
    "##### 3.3 Affichage des performances (4 points)\n",
    "\n",
    "Affichez les résultats des performances BM25 pour les configurations Top1, Top3 et Top5 avec \"_title_\", \"_asbtract_\" et \"_text_\"."
   ]
  },
  {
   "cell_type": "code",
   "execution_count": 71,
   "metadata": {},
   "outputs": [],
   "source": [
    "kAccuracyTitleBM = evaluateAll(results_titles_df_BM)\n",
    "kAccuracyAbstractBM = evaluateAll(results_abstracts_df_BM)\n",
    "kAccuracyTextBM = evaluateAll(results_texts_df_BM)"
   ]
  },
  {
   "cell_type": "code",
   "execution_count": 72,
   "metadata": {},
   "outputs": [
    {
     "data": {
      "text/html": [
       "<div>\n",
       "<style scoped>\n",
       "    .dataframe tbody tr th:only-of-type {\n",
       "        vertical-align: middle;\n",
       "    }\n",
       "\n",
       "    .dataframe tbody tr th {\n",
       "        vertical-align: top;\n",
       "    }\n",
       "\n",
       "    .dataframe thead th {\n",
       "        text-align: right;\n",
       "    }\n",
       "</style>\n",
       "<table border=\"1\" class=\"dataframe\">\n",
       "  <thead>\n",
       "    <tr style=\"text-align: right;\">\n",
       "      <th></th>\n",
       "      <th>idClaim</th>\n",
       "      <th>1</th>\n",
       "      <th>3</th>\n",
       "      <th>5</th>\n",
       "    </tr>\n",
       "  </thead>\n",
       "  <tbody>\n",
       "    <tr>\n",
       "      <th>0</th>\n",
       "      <td>0</td>\n",
       "      <td>0.0</td>\n",
       "      <td>0.0</td>\n",
       "      <td>0.0</td>\n",
       "    </tr>\n",
       "    <tr>\n",
       "      <th>1</th>\n",
       "      <td>2</td>\n",
       "      <td>0.0</td>\n",
       "      <td>0.0</td>\n",
       "      <td>0.0</td>\n",
       "    </tr>\n",
       "    <tr>\n",
       "      <th>2</th>\n",
       "      <td>4</td>\n",
       "      <td>0.0</td>\n",
       "      <td>0.0</td>\n",
       "      <td>0.0</td>\n",
       "    </tr>\n",
       "    <tr>\n",
       "      <th>3</th>\n",
       "      <td>6</td>\n",
       "      <td>0.0</td>\n",
       "      <td>0.0</td>\n",
       "      <td>0.0</td>\n",
       "    </tr>\n",
       "    <tr>\n",
       "      <th>4</th>\n",
       "      <td>9</td>\n",
       "      <td>0.0</td>\n",
       "      <td>0.0</td>\n",
       "      <td>0.0</td>\n",
       "    </tr>\n",
       "    <tr>\n",
       "      <th>...</th>\n",
       "      <td>...</td>\n",
       "      <td>...</td>\n",
       "      <td>...</td>\n",
       "      <td>...</td>\n",
       "    </tr>\n",
       "    <tr>\n",
       "      <th>804</th>\n",
       "      <td>1403</td>\n",
       "      <td>0.0</td>\n",
       "      <td>0.0</td>\n",
       "      <td>0.0</td>\n",
       "    </tr>\n",
       "    <tr>\n",
       "      <th>805</th>\n",
       "      <td>1404</td>\n",
       "      <td>0.0</td>\n",
       "      <td>0.0</td>\n",
       "      <td>0.0</td>\n",
       "    </tr>\n",
       "    <tr>\n",
       "      <th>806</th>\n",
       "      <td>1405</td>\n",
       "      <td>0.0</td>\n",
       "      <td>0.0</td>\n",
       "      <td>0.0</td>\n",
       "    </tr>\n",
       "    <tr>\n",
       "      <th>807</th>\n",
       "      <td>1406</td>\n",
       "      <td>0.0</td>\n",
       "      <td>0.0</td>\n",
       "      <td>0.0</td>\n",
       "    </tr>\n",
       "    <tr>\n",
       "      <th>808</th>\n",
       "      <td>1407</td>\n",
       "      <td>0.0</td>\n",
       "      <td>0.0</td>\n",
       "      <td>0.0</td>\n",
       "    </tr>\n",
       "  </tbody>\n",
       "</table>\n",
       "<p>809 rows × 4 columns</p>\n",
       "</div>"
      ],
      "text/plain": [
       "     idClaim    1    3    5\n",
       "0          0  0.0  0.0  0.0\n",
       "1          2  0.0  0.0  0.0\n",
       "2          4  0.0  0.0  0.0\n",
       "3          6  0.0  0.0  0.0\n",
       "4          9  0.0  0.0  0.0\n",
       "..       ...  ...  ...  ...\n",
       "804     1403  0.0  0.0  0.0\n",
       "805     1404  0.0  0.0  0.0\n",
       "806     1405  0.0  0.0  0.0\n",
       "807     1406  0.0  0.0  0.0\n",
       "808     1407  0.0  0.0  0.0\n",
       "\n",
       "[809 rows x 4 columns]"
      ]
     },
     "execution_count": 72,
     "metadata": {},
     "output_type": "execute_result"
    }
   ],
   "source": [
    "kAccuracyTitleBM"
   ]
  },
  {
   "cell_type": "markdown",
   "metadata": {},
   "source": [
    "##### 3.4 Graphique (4 points)\n",
    "\n",
    "Dans un même graphique, affichez les performances pour les deux modèles (TF-IDF et BM25) dans la recherche des documents (text, title et abstract) pour les affirmations."
   ]
  },
  {
   "cell_type": "code",
   "execution_count": 73,
   "metadata": {},
   "outputs": [
    {
     "data": {
      "image/png": "[encoded data removed]",
      "text/plain": [
       "<Figure size 640x480 with 1 Axes>"
      ]
     },
     "metadata": {},
     "output_type": "display_data"
    }
   ],
   "source": [
    "kAccuracy = [kAccuracyTitle['5'],kAccuracyTitleBM['5'],\n",
    "             kAccuracyAbstract['5'],kAccuracyAbstractBM['5'],\n",
    "             kAccuracyText['5'],kAccuracyTextBM['5']]\n",
    "labels = ['TF title','BM Title',\n",
    "         'TF Abstract','BM Abstract',\n",
    "         'TF Text','BM Text']\n",
    "\n",
    "fig, ax = plt.subplots()\n",
    "ax.set_ylabel('fruit weight (g)')\n",
    "\n",
    "bplot = ax.boxplot(kAccuracy,\n",
    "                   patch_artist=True)  # will be used to label x-ticks\n",
    "\n",
    "\n",
    "plt.show()"
   ]
  },
  {
   "cell_type": "markdown",
   "metadata": {},
   "source": [
    "##### 3.5 Observation (4 points)\n",
    "\n",
    "Par rapport à vos résultats avec TF-IDF, observez-vous une amélioration ou une détérioration des performances, qu'est ce qui explique cela ? (Donnez au moins trois justifications)"
   ]
  },
  {
   "cell_type": "markdown",
   "metadata": {
    "id": "DVYiuH8aeB8x"
   },
   "source": [
    "## Livrables\n",
    "Vous devez remettre votre notebook sur Moodle et Gradescope en ipynb et pdf. Pour Gradescope vous devez associer les numéros de questions avec vos réponses dans le pdf grâce à l'outil que fournit Gradescope.\n",
    "\n",
    "\n",
    "## Évaluation \n",
    "Votre TP sera évalué selon les critères suivants :\n",
    "1. Exécution correcte du code et obtention des sorties attendues\n",
    "2. Réponses correctes aux questions d'analyse\n",
    "3. Qualité du code (noms significatifs, structure, performance, gestion d’exception, etc.)\n",
    "4. Commentaires clairs et informatifs\n"
   ]
  }
 ],
 "metadata": {
  "colab": {
   "collapsed_sections": [
    "1tMX8go24rB_",
    "4ItqD8yL-utW",
    "0kzLIzqD-vp7",
    "VIRjMFlY-wHL",
    "R41oj9nI-wwi",
    "3FibZKYkHi06"
   ],
   "name": "TP2 solution.ipynb",
   "provenance": []
  },
  "kernelspec": {
   "display_name": "generalEnv",
   "language": "python",
   "name": "python3"
  },
  "language_info": {
   "codemirror_mode": {
    "name": "ipython",
    "version": 3
   },
   "file_extension": ".py",
   "mimetype": "text/x-python",
   "name": "python",
   "nbconvert_exporter": "python",
   "pygments_lexer": "ipython3",
   "version": "3.12.4"
  }
 },
 "nbformat": 4,
 "nbformat_minor": 1
}
