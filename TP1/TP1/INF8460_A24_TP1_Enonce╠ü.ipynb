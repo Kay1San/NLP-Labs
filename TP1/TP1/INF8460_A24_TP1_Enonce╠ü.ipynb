{
 "cells": [
  {
   "cell_type": "markdown",
   "metadata": {
    "id": "znlt8jyJKg-5"
   },
   "source": [
    "##### INF8460 – Traitement automatique de la langue naturelle - Automne 2024\n",
    "### TP1 - Recherche de documents avec une métrique de similarité\n"
   ]
  },
  {
   "cell_type": "markdown",
   "metadata": {},
   "source": [
    "## Identification de l'équipe:\n",
    "\n",
    "### Groupe de laboratoire:\n",
    "\n",
    "### Equipe numéro :\n",
    "\n",
    "### Membres:\n",
    "\n",
    "- membre 1 (% de contribution, nature de la contribution)\n",
    "- membre 2 (% de contribution, nature de la contribution)\n",
    "- membre 3 (% de contribution, nature de la contribution)\n",
    "\n",
    "* nature de la contribution: Décrivez brièvement ce qui a été fait par chaque membre de l’équipe. Tous les membres sont censés contribuer au développement. Bien que chaque membre puisse effectuer différentes tâches, vous devez vous efforcer d’obtenir une répartition égale du travail. Soyez précis ! N'indiquez pas seulement : travail réparti équitablement"
   ]
  },
  {
   "cell_type": "markdown",
   "metadata": {},
   "source": [
    "## Mise en place"
   ]
  },
  {
   "cell_type": "markdown",
   "metadata": {},
   "source": [
    "### Objectif du TP\n",
    "\n",
    "La recherche d'information est le processus d'accès aux données, généralement des documents ou d'autres données non structurées, à partir d'une requête. Dans ce TP, vous aurez en entrée une requête textuelle sous forme d'affirmation. Il faudra retrouver dans un corpus de littérature scientifique les documents pertinents qui justifient ou infirment la véracité de cette affirmation. Vous utiliserez des modèles vectoriels et des métriques de similarité pour cette tâche."
   ]
  },
  {
   "cell_type": "markdown",
   "metadata": {},
   "source": [
    "### Jeux de données\n",
    "\n",
    "Dans ce TP, vous utiliserez le jeu de données dans le répertoire _data_. Il s'agit d'un ensemble de données comprenant 809 affirmations rédigées par des experts et 5183 documents de références pour ces affirmations. Ces documents contiennent des phrases qui confirment ou infirment (contredisent) les affirmations. L'objectif est donc de trouver un document pertinent, c'est-à-dire contenant la ou les phrases qui permettent d'évaluer une affirmation donnée en entrée en utilisant une similarité sémantique. \n",
    "\n",
    "Le jeu de données comprend :\n",
    "\n",
    "1. Un corpus (_corpus.jsonl_) qui contient des documents décrits avec les informations suivantes :\n",
    "    - 'doc_id' : permet d'identifier le document en entrée\n",
    "    - 'title' : donne le titre du document\n",
    "    - 'abstract': est le résumé du document\n",
    "    - 'structured': indique si le document est structuré ou pas\n",
    "\n",
    "2. Un ensemble d'affirmations (_claims.jsonl_) qui contient des documents décrits avec les informations suivantes :\n",
    "    - 'id' : identifie l'affirmation.\n",
    "    - 'claim' : est l'affirmation en tant que telle.\n",
    "    - 'evidence' : précise quelles phrases du document sont pertinentes pour l'affirmation. Chaque phrase est accompagnée d'une étiquette de véracité (confirm/contradict) pour indiquer si la phrase confirme ou contredit l'affirmation.  \n",
    "    - 'cited_doc_ids' : indique les identifiants des documents cités.\n",
    "\n",
    "\n",
    "\n",
    "Dans _claims.jsonl_, seuls les identifiants des documents sont renseignés. Pour avoir les détails d'un document tel que le titre (\"title\") et le résumé (\"abstract\"), il faudra consulter le fichier _corpus.jsonl_. \n",
    "\n",
    "Voici un exemple :\n",
    "\n",
    "- **Affirmation (claim)** : Consumption of whole fruits increases the risk of type 2 diabetes.\n",
    "- **Cited document(s) ID(s)** : 1974176\n",
    "- **Evidence (sentence in the document containing the proof)** : [{'sentences': [11], 'label': 'CONTRADICT'}]\n",
    "\n",
    "  Ici [11] constitue le numéro de la phrase qui contredit l'affirmation.\n",
    "\n",
    "- **Cited document(s) title(s)** : Fruit consumption and risk of type 2 diabetes: results from three prospective longitudinal cohort studies\n",
    "- **Cited document(s) abstract(s) (list of sentences)** : \n",
    "    - [0] 'OBJECTIVE To determine whether individual fruits are differentially associated with risk of type 2 diabetes.\\n'\n",
    "    - [1] 'DESIGN Prospective longitudinal cohort study.'\n",
    "    - ...\n",
    "    - [10] 'CONCLUSION Our findings suggest the presence of heterogeneity in the associations between individual fruit consumption and risk of type 2 diabetes.'\n",
    "    - [11] 'Greater consumption of specific whole fruits, particularly blueberries, grapes, and apples, is significantly associated with a lower risk of type 2 diabetes, whereas greater consumption of fruit juice is associated with a higher risk.'\n",
    "\n",
    "Le champ \"evidence\" indique la phrase au niveau du résumé du document qui confirme ou infirme l'affirmation, d'où le numéro de la phrase et le label qui y sont renseignés. Dans le cas particulier de l'exemple ci-dessus, on voit bien que la onzième phrase du résumé du document est la plus pertinente pour l'affirmation et qu'elle la contredit, ce qui explique le label \"CONTRADICT\" dans \"evidence\". Cependant, dans le cadre de ce TP, on ne s'intéresse qu'à la présence de cette phrase pertinente dans le document, donc on ne considérera pas cette colonne \"evidence\" dans la suite du TP."
   ]
  },
  {
   "cell_type": "markdown",
   "metadata": {
    "id": "26Qe_-7z25EE"
   },
   "source": [
    "### Librairies permises\n",
    "- Jupyter notebook\n",
    "- NLTK\n",
    "- Numpy \n",
    "- Pandas\n",
    "- Sklearn\n",
    "- PowerLaw\n",
    "- Matplotlib\n",
    "- TQDM\n",
    "- BM25\n",
    "- Pour toute autre librairie, demandez à votre chargé de laboratoire"
   ]
  },
  {
   "cell_type": "markdown",
   "metadata": {
    "id": "zupXN9tr3oEa"
   },
   "source": [
    "## Étapes du TP\n",
    "A partir du notebook _INF8460_A24_TP1_ qui est distribué, vous devez réaliser les étapes suivantes. (Notez que les cellules dans le squelette sont là à titre informatif - il est fort probable que vous rajoutiez des sections au fur et à mesure de votre TP)."
   ]
  },
  {
   "cell_type": "code",
   "execution_count": 1,
   "metadata": {},
   "outputs": [],
   "source": [
    "# Lien vers les fichiers à utiliser\n",
    "# Ne pas modifier\n",
    "\n",
    "PATH = 'data/ai2_data/'"
   ]
  },
  {
   "cell_type": "code",
   "execution_count": 2,
   "metadata": {},
   "outputs": [],
   "source": [
    "# !pip install rank_bm25 \n",
    "# !pip install powerlaw"
   ]
  },
  {
   "cell_type": "code",
   "execution_count": 3,
   "metadata": {},
   "outputs": [],
   "source": [
    "# Import des librairies\n",
    "\n",
    "import numpy as np\n",
    "import pandas as pd\n",
    "import json\n",
    "import powerlaw\n",
    "from collections import defaultdict, Counter\n",
    "from tqdm import tqdm\n",
    "import matplotlib.pyplot as plt\n",
    "from typing import List, Dict\n",
    "\n",
    "import nltk\n",
    "from nltk.tokenize import word_tokenize\n",
    "from nltk.stem.porter import PorterStemmer\n",
    "from nltk.corpus import stopwords\n",
    "from string import punctuation\n",
    "\n",
    "import sklearn\n",
    "from sklearn.feature_extraction.text import TfidfVectorizer\n",
    "from sklearn.metrics.pairwise import cosine_similarity\n",
    "\n",
    "from rank_bm25 import BM25Okapi"
   ]
  },
  {
   "cell_type": "code",
   "execution_count": 4,
   "metadata": {},
   "outputs": [
    {
     "name": "stderr",
     "output_type": "stream",
     "text": [
      "[nltk_data] Downloading package punkt to\n",
      "[nltk_data]     C:\\Users\\Étienne\\AppData\\Roaming\\nltk_data...\n",
      "[nltk_data]   Package punkt is already up-to-date!\n",
      "[nltk_data] Downloading package punkt_tab to\n",
      "[nltk_data]     C:\\Users\\Étienne\\AppData\\Roaming\\nltk_data...\n",
      "[nltk_data]   Package punkt_tab is already up-to-date!\n",
      "[nltk_data] Downloading package stopwords to\n",
      "[nltk_data]     C:\\Users\\Étienne\\AppData\\Roaming\\nltk_data...\n",
      "[nltk_data]   Package stopwords is already up-to-date!\n"
     ]
    }
   ],
   "source": [
    "nltk.download('punkt')\n",
    "nltk.download('punkt_tab')\n",
    "nltk.download('stopwords')\n",
    "stop_words = stopwords.words('english')"
   ]
  },
  {
   "cell_type": "markdown",
   "metadata": {},
   "source": [
    "### 1. Traitement des données (15 points)\n",
    "Vous allez effectuer une analyse afin d'avoir une idée claire des données que vous aurez à manipuler."
   ]
  },
  {
   "cell_type": "markdown",
   "metadata": {},
   "source": [
    "#### 1.1 Chargement des données (2 points)"
   ]
  },
  {
   "cell_type": "markdown",
   "metadata": {},
   "source": [
    "##### 1.1.1 Chargement et affichage des données (1 point)\n",
    "\n",
    "Chargez les données '_claims.jsonl_' et '_corpus.jsonl_' puis affichez-les dans des dataframes en utilisant panda."
   ]
  },
  {
   "cell_type": "code",
   "execution_count": 5,
   "metadata": {},
   "outputs": [],
   "source": [
    "# TODO\n",
    "\n",
    "df_corpus = pd.read_json('data/ai2_data/corpus.jsonl', lines=True)\n",
    "df_claims = pd.read_json('data/ai2_data/claims.jsonl', lines=True)\n",
    "# END TODO"
   ]
  },
  {
   "cell_type": "markdown",
   "metadata": {},
   "source": [
    "##### 1.1.2 Statistique sur les évidences (1 point)\n",
    "\n",
    "Calculez les pourcentages d'apparition de chaque label des évidences dans \"_df_claims_\" (CONTRADICT ou SUPPORT). Pour rappel les évidences sont les extraits pertinents des résumés qui supportent ou contredisent les affirmations. "
   ]
  },
  {
   "cell_type": "code",
   "execution_count": 6,
   "metadata": {},
   "outputs": [
    {
     "name": "stdout",
     "output_type": "stream",
     "text": [
      "35.63218390804598\n",
      "64.36781609195403\n"
     ]
    }
   ],
   "source": [
    "# On calcule les pourcentages des labels present dans evidence\n",
    "# TODO\n",
    "evidences = df_claims[\"evidence\"]\n",
    "contradict_count = 0\n",
    "support_count = 0\n",
    "total_sentences = 0\n",
    "for evidence in evidences:\n",
    "    for id in evidence:\n",
    "        for sentence in evidence.get(id):\n",
    "            total_sentences += 1\n",
    "            if sentence.get(\"label\") == \"CONTRADICT\":\n",
    "                contradict_count += 1\n",
    "            else: support_count += 1\n",
    "contradict_percent = contradict_count / total_sentences * 100\n",
    "support_percent = support_count / total_sentences * 100\n",
    "print(contradict_percent)\n",
    "print(support_percent)\n",
    "# END TODO"
   ]
  },
  {
   "cell_type": "markdown",
   "metadata": {},
   "source": [
    "> Réponse attendue:\n",
    "> \n",
    "> CONTRADICT: 35.63%\n",
    "> \n",
    "> SUPPORT: 64.37%"
   ]
  },
  {
   "cell_type": "markdown",
   "metadata": {},
   "source": [
    "#### 1.2 Analyse statistique des données (7 points)\n",
    "\n",
    "Nous allons faire une suite de transformations sur les données pour les rendre plus faciles à manipuler."
   ]
  },
  {
   "cell_type": "markdown",
   "metadata": {},
   "source": [
    "##### 1.2.1 Implémentation de la fonction \"_list_to_string_\" \n",
    "\n",
    "Nous mettons à votre disposition la fonction \"_list_to_string_\" qui transforme une liste de phrases en un texte en les concaténant et enlèvant tous les caractères de nouvelle ligne (`\\n`) pour s'assurer que nous avons un texte complet. "
   ]
  },
  {
   "cell_type": "code",
   "execution_count": 7,
   "metadata": {},
   "outputs": [],
   "source": [
    "# On transforme la liste de phrases en un texte\n",
    "def list_to_string(x):\n",
    "    if isinstance(x, list):\n",
    "        return ' '.join(str(i).replace(\"\\n\",\"\").replace(\"  \",\" \") for i in x)  # Enlève les caractère de retour à la ligne et convertit les éléments de la liste en chaînes et les joint\n",
    "    return str(x)"
   ]
  },
  {
   "cell_type": "markdown",
   "metadata": {},
   "source": [
    "##### 1.2.2 Utilisation de la fonction \"_list_to_string_\" \n",
    "\n",
    "Appliquons cette fonction \"_list_to_string_\" aux colonnes \"_title_\" et \"abstract\" du dataframe \"_df_corpus_\"."
   ]
  },
  {
   "cell_type": "code",
   "execution_count": 8,
   "metadata": {},
   "outputs": [],
   "source": [
    "# On applique la fonction aux colonnes \"title\" et \"abstract\"\n",
    "df_corpus['title']    = df_corpus['title'].apply(list_to_string)\n",
    "df_corpus['abstract'] = df_corpus['abstract'].apply(list_to_string)"
   ]
  },
  {
   "cell_type": "markdown",
   "metadata": {},
   "source": [
    "##### 1.2.3 Ajout de la colonne \"_text_\" dans \"df_corpus\"\n",
    "\n",
    "\n",
    "Ajoutons maintenant une colonne \"_text_\" qui est la concaténation du titre (\"_title_\") et du résumé (\"_abstract_\") au niveau du dataframe \"df_corpus\"."
   ]
  },
  {
   "cell_type": "code",
   "execution_count": 9,
   "metadata": {},
   "outputs": [],
   "source": [
    "# On concatene les textes dans \"title\" et \"abstract\"\n",
    "df_corpus['text'] = df_corpus['title'] + \" \" + df_corpus['abstract']"
   ]
  },
  {
   "cell_type": "markdown",
   "metadata": {},
   "source": [
    "##### 1.2.4 Ajout de colonnes dans \"_df_claims_\" (1 point)\n",
    "\n",
    "Ajoutez les colonnes \"_claim_length_\" et \"_num_cited_doc_\" qui donnent, pour chaque affirmation, le nombre de mots dans la colonne \"_claim_\" et le nombre de documents cités au niveau de la colonne \"_cited_doc_ids_\" pour le dataframe \"_df_claims_\". Vous pouvez considérer que des mots sont simplement une séquence de caractères séparés par un espace."
   ]
  },
  {
   "cell_type": "code",
   "execution_count": 10,
   "metadata": {},
   "outputs": [],
   "source": [
    "# TODO\n",
    "word_count = []\n",
    "for claim in df_claims[\"claim\"]:\n",
    "    word_count.append(len(claim.split()))\n",
    "df_claims[\"claim_length\"] = word_count\n",
    "\n",
    "cited_docs_count = []\n",
    "for cited_docs in df_claims[\"cited_doc_ids\"]:\n",
    "    cited_docs_count.append(len(cited_docs))\n",
    "df_claims[\"num_cited_doc\"] = cited_docs_count\n",
    "# END TODO"
   ]
  },
  {
   "cell_type": "markdown",
   "metadata": {},
   "source": [
    "##### 1.2.5 Ajout des colonnes de mesures de longeurs de textes (documents) (1 point)\n",
    "\n",
    "Ajoutez les colonnes \"_title_length_\", \"_abstract_length_\" et \"_text_length_\" qui donnent le nombre de mots dans les colonnes \"_title_\", \"_abstract_\" et \"_text_\" du dataframe \"_df_corpus_\". Pour le reste du TP, nous définirons la longueur du \"_title_\", \"_abstract_\" et du \"_text_\" comme étant le nombre de mots dans les chaînes de caractères respectives. Encore une fois, vous pouvez considérer que des mots sont simplement une séquence de caractères séparés par un espace."
   ]
  },
  {
   "cell_type": "code",
   "execution_count": 11,
   "metadata": {},
   "outputs": [
    {
     "data": {
      "text/html": [
       "<div>\n",
       "<style scoped>\n",
       "    .dataframe tbody tr th:only-of-type {\n",
       "        vertical-align: middle;\n",
       "    }\n",
       "\n",
       "    .dataframe tbody tr th {\n",
       "        vertical-align: top;\n",
       "    }\n",
       "\n",
       "    .dataframe thead th {\n",
       "        text-align: right;\n",
       "    }\n",
       "</style>\n",
       "<table border=\"1\" class=\"dataframe\">\n",
       "  <thead>\n",
       "    <tr style=\"text-align: right;\">\n",
       "      <th></th>\n",
       "      <th>doc_id</th>\n",
       "      <th>title</th>\n",
       "      <th>abstract</th>\n",
       "      <th>structured</th>\n",
       "      <th>text</th>\n",
       "      <th>title_length</th>\n",
       "      <th>abstract_length</th>\n",
       "      <th>text_length</th>\n",
       "    </tr>\n",
       "  </thead>\n",
       "  <tbody>\n",
       "    <tr>\n",
       "      <th>0</th>\n",
       "      <td>4983</td>\n",
       "      <td>Microstructural development of human newborn c...</td>\n",
       "      <td>Alterations of the architecture of cerebral wh...</td>\n",
       "      <td>False</td>\n",
       "      <td>Microstructural development of human newborn c...</td>\n",
       "      <td>17</td>\n",
       "      <td>1532</td>\n",
       "      <td>295</td>\n",
       "    </tr>\n",
       "    <tr>\n",
       "      <th>1</th>\n",
       "      <td>5836</td>\n",
       "      <td>Induction of myelodysplasia by myeloid-derived...</td>\n",
       "      <td>Myelodysplastic syndromes (MDS) are age-depend...</td>\n",
       "      <td>False</td>\n",
       "      <td>Induction of myelodysplasia by myeloid-derived...</td>\n",
       "      <td>7</td>\n",
       "      <td>1389</td>\n",
       "      <td>208</td>\n",
       "    </tr>\n",
       "    <tr>\n",
       "      <th>2</th>\n",
       "      <td>7912</td>\n",
       "      <td>BC1 RNA, the transcript from a master gene for...</td>\n",
       "      <td>ID elements are short interspersed elements (S...</td>\n",
       "      <td>False</td>\n",
       "      <td>BC1 RNA, the transcript from a master gene for...</td>\n",
       "      <td>20</td>\n",
       "      <td>1017</td>\n",
       "      <td>200</td>\n",
       "    </tr>\n",
       "    <tr>\n",
       "      <th>3</th>\n",
       "      <td>18670</td>\n",
       "      <td>The DNA Methylome of Human Peripheral Blood Mo...</td>\n",
       "      <td>DNA methylation plays an important role in bio...</td>\n",
       "      <td>False</td>\n",
       "      <td>The DNA Methylome of Human Peripheral Blood Mo...</td>\n",
       "      <td>9</td>\n",
       "      <td>1448</td>\n",
       "      <td>247</td>\n",
       "    </tr>\n",
       "    <tr>\n",
       "      <th>4</th>\n",
       "      <td>19238</td>\n",
       "      <td>The human myelin basic protein gene is include...</td>\n",
       "      <td>Two human Golli (for gene expressed in the oli...</td>\n",
       "      <td>False</td>\n",
       "      <td>The human myelin basic protein gene is include...</td>\n",
       "      <td>21</td>\n",
       "      <td>1317</td>\n",
       "      <td>262</td>\n",
       "    </tr>\n",
       "    <tr>\n",
       "      <th>...</th>\n",
       "      <td>...</td>\n",
       "      <td>...</td>\n",
       "      <td>...</td>\n",
       "      <td>...</td>\n",
       "      <td>...</td>\n",
       "      <td>...</td>\n",
       "      <td>...</td>\n",
       "      <td>...</td>\n",
       "    </tr>\n",
       "    <tr>\n",
       "      <th>5178</th>\n",
       "      <td>195689316</td>\n",
       "      <td>Body-mass index and cause-specific mortality i...</td>\n",
       "      <td>BACKGROUND The main associations of body-mass ...</td>\n",
       "      <td>True</td>\n",
       "      <td>Body-mass index and cause-specific mortality i...</td>\n",
       "      <td>15</td>\n",
       "      <td>2320</td>\n",
       "      <td>428</td>\n",
       "    </tr>\n",
       "    <tr>\n",
       "      <th>5179</th>\n",
       "      <td>195689757</td>\n",
       "      <td>Targeting metabolic remodeling in glioblastoma...</td>\n",
       "      <td>A key aberrant biological difference between t...</td>\n",
       "      <td>False</td>\n",
       "      <td>Targeting metabolic remodeling in glioblastoma...</td>\n",
       "      <td>6</td>\n",
       "      <td>1017</td>\n",
       "      <td>165</td>\n",
       "    </tr>\n",
       "    <tr>\n",
       "      <th>5180</th>\n",
       "      <td>196664003</td>\n",
       "      <td>Signaling architectures that transmit unidirec...</td>\n",
       "      <td>A signaling pathway transmits information from...</td>\n",
       "      <td>False</td>\n",
       "      <td>Signaling architectures that transmit unidirec...</td>\n",
       "      <td>8</td>\n",
       "      <td>1559</td>\n",
       "      <td>254</td>\n",
       "    </tr>\n",
       "    <tr>\n",
       "      <th>5181</th>\n",
       "      <td>198133135</td>\n",
       "      <td>Association between pre-diabetes, type 2 diabe...</td>\n",
       "      <td>AIMS Trabecular bone score (TBS) is a surrogat...</td>\n",
       "      <td>True</td>\n",
       "      <td>Association between pre-diabetes, type 2 diabe...</td>\n",
       "      <td>14</td>\n",
       "      <td>1280</td>\n",
       "      <td>247</td>\n",
       "    </tr>\n",
       "    <tr>\n",
       "      <th>5182</th>\n",
       "      <td>198309074</td>\n",
       "      <td>Adhesion molecules and chemokines: relation to...</td>\n",
       "      <td>Introduction: Among the inflammatory mediators...</td>\n",
       "      <td>False</td>\n",
       "      <td>Adhesion molecules and chemokines: relation to...</td>\n",
       "      <td>13</td>\n",
       "      <td>1449</td>\n",
       "      <td>246</td>\n",
       "    </tr>\n",
       "  </tbody>\n",
       "</table>\n",
       "<p>5183 rows × 8 columns</p>\n",
       "</div>"
      ],
      "text/plain": [
       "         doc_id                                              title  \\\n",
       "0          4983  Microstructural development of human newborn c...   \n",
       "1          5836  Induction of myelodysplasia by myeloid-derived...   \n",
       "2          7912  BC1 RNA, the transcript from a master gene for...   \n",
       "3         18670  The DNA Methylome of Human Peripheral Blood Mo...   \n",
       "4         19238  The human myelin basic protein gene is include...   \n",
       "...         ...                                                ...   \n",
       "5178  195689316  Body-mass index and cause-specific mortality i...   \n",
       "5179  195689757  Targeting metabolic remodeling in glioblastoma...   \n",
       "5180  196664003  Signaling architectures that transmit unidirec...   \n",
       "5181  198133135  Association between pre-diabetes, type 2 diabe...   \n",
       "5182  198309074  Adhesion molecules and chemokines: relation to...   \n",
       "\n",
       "                                               abstract  structured  \\\n",
       "0     Alterations of the architecture of cerebral wh...       False   \n",
       "1     Myelodysplastic syndromes (MDS) are age-depend...       False   \n",
       "2     ID elements are short interspersed elements (S...       False   \n",
       "3     DNA methylation plays an important role in bio...       False   \n",
       "4     Two human Golli (for gene expressed in the oli...       False   \n",
       "...                                                 ...         ...   \n",
       "5178  BACKGROUND The main associations of body-mass ...        True   \n",
       "5179  A key aberrant biological difference between t...       False   \n",
       "5180  A signaling pathway transmits information from...       False   \n",
       "5181  AIMS Trabecular bone score (TBS) is a surrogat...        True   \n",
       "5182  Introduction: Among the inflammatory mediators...       False   \n",
       "\n",
       "                                                   text  title_length  \\\n",
       "0     Microstructural development of human newborn c...            17   \n",
       "1     Induction of myelodysplasia by myeloid-derived...             7   \n",
       "2     BC1 RNA, the transcript from a master gene for...            20   \n",
       "3     The DNA Methylome of Human Peripheral Blood Mo...             9   \n",
       "4     The human myelin basic protein gene is include...            21   \n",
       "...                                                 ...           ...   \n",
       "5178  Body-mass index and cause-specific mortality i...            15   \n",
       "5179  Targeting metabolic remodeling in glioblastoma...             6   \n",
       "5180  Signaling architectures that transmit unidirec...             8   \n",
       "5181  Association between pre-diabetes, type 2 diabe...            14   \n",
       "5182  Adhesion molecules and chemokines: relation to...            13   \n",
       "\n",
       "      abstract_length  text_length  \n",
       "0                1532          295  \n",
       "1                1389          208  \n",
       "2                1017          200  \n",
       "3                1448          247  \n",
       "4                1317          262  \n",
       "...               ...          ...  \n",
       "5178             2320          428  \n",
       "5179             1017          165  \n",
       "5180             1559          254  \n",
       "5181             1280          247  \n",
       "5182             1449          246  \n",
       "\n",
       "[5183 rows x 8 columns]"
      ]
     },
     "execution_count": 11,
     "metadata": {},
     "output_type": "execute_result"
    }
   ],
   "source": [
    "# TODO\n",
    "title_count = []\n",
    "abstract_count = []\n",
    "text_count = []\n",
    "\n",
    "for title in df_corpus[\"title\"]:\n",
    "    title_count.append(len(title.split()))\n",
    "for abstract in df_corpus[\"abstract\"]:\n",
    "    sentence_count = 0\n",
    "    for sentence in abstract:\n",
    "        sentence_count += (len(sentence.split()))\n",
    "    abstract_count.append(sentence_count)\n",
    "for text in df_corpus[\"text\"]:\n",
    "    text_count.append(len(text.split()))\n",
    "df_corpus[\"title_length\"] = title_count\n",
    "df_corpus[\"abstract_length\"] = abstract_count\n",
    "df_corpus[\"text_length\"] = text_count\n",
    "df_corpus\n",
    "# END TODO"
   ]
  },
  {
   "cell_type": "markdown",
   "metadata": {},
   "source": [
    "##### 1.2.6 Analyse statistique (1.5 point)\n",
    "\n",
    "Faites l'analyse statistique des données en affichant le \"_min_\", le \"_max_\" et la \"_moyenne_\" pour les deux colonnes \"_claim_length_\" et \"_num_cited_doc_\" que vous venez de créer."
   ]
  },
  {
   "cell_type": "code",
   "execution_count": 12,
   "metadata": {},
   "outputs": [
    {
     "name": "stdout",
     "output_type": "stream",
     "text": [
      "Analyse de claims_length : \n",
      "Min:  3\n",
      "Max:  39\n",
      "Avergage:  12.332509270704573\n",
      "--------------------\n",
      "Analyse de num_cited_doc : \n",
      "Min:  1\n",
      "Max:  5\n",
      "Avergage:  1.1359703337453646\n"
     ]
    }
   ],
   "source": [
    "# TODO\n",
    "claims_min = df_claims['claim_length'].min()\n",
    "claims_max = df_claims['claim_length'].max()\n",
    "claims_avg = df_claims['claim_length'].mean()\n",
    "\n",
    "num_doc_min = df_claims['num_cited_doc'].min()\n",
    "num_doc_max = df_claims['num_cited_doc'].max()\n",
    "num_doc_avg = df_claims['num_cited_doc'].mean()\n",
    "\n",
    "print('Analyse de claims_length : ')\n",
    "print('Min: ', claims_min)\n",
    "print('Max: ', claims_max)\n",
    "print('Avergage: ', claims_avg)\n",
    "print('--------------------')\n",
    "print('Analyse de num_cited_doc : ')\n",
    "print('Min: ', num_doc_min)\n",
    "print('Max: ', num_doc_max)\n",
    "print('Avergage: ', num_doc_avg)\n",
    "# END TODO"
   ]
  },
  {
   "cell_type": "markdown",
   "metadata": {},
   "source": [
    "##### 1.2.7 Histogrammes (2 points)\n",
    "\n",
    "En considérant le dataframe du corpus de résumés (\"_df_corpus_\"), affichez dans 3 histogrammes les distributions suivantes:\n",
    "\n",
    "- Fréquence des titres ('_title_') en fonction de leur longueur\n",
    "- Fréquence des résumés ('_abstract_') en fonction de leur longueur\n",
    "- Fréquence des textes ('_text_') en fonction de leur longueur\n",
    "\n",
    "Utilisez la valeur de 30 pour le paramètre \"_bins_\""
   ]
  },
  {
   "cell_type": "code",
   "execution_count": 13,
   "metadata": {},
   "outputs": [
    {
     "data": {
      "text/plain": [
       "(array([[<Axes: title={'center': 'title_length'}>]], dtype=object),\n",
       " array([[<Axes: title={'center': 'abstract_length'}>]], dtype=object),\n",
       " array([[<Axes: title={'center': 'text_length'}>]], dtype=object))"
      ]
     },
     "execution_count": 13,
     "metadata": {},
     "output_type": "execute_result"
    },
    {
     "data": {
      "image/png": "[encoded data removed]",
      "text/plain": [
       "<Figure size 640x480 with 1 Axes>"
      ]
     },
     "metadata": {},
     "output_type": "display_data"
    },
    {
     "data": {
      "image/png": "[encoded data removed]",
      "text/plain": [
       "<Figure size 640x480 with 1 Axes>"
      ]
     },
     "metadata": {},
     "output_type": "display_data"
    },
    {
     "data": {
      "image/png": "[encoded data removed]",
      "text/plain": [
       "<Figure size 640x480 with 1 Axes>"
      ]
     },
     "metadata": {},
     "output_type": "display_data"
    }
   ],
   "source": [
    "# TODO\n",
    "title_hist = df_corpus.hist(column='title_length', bins=30)\n",
    "abstract_hist = df_corpus.hist(column='abstract_length', bins=30)\n",
    "text_hist = df_corpus.hist(column='text_length', bins=30)\n",
    "title_hist, abstract_hist, text_hist\n",
    "# END TODO"
   ]
  },
  {
   "cell_type": "markdown",
   "metadata": {},
   "source": [
    "##### 1.2.8 Quelles remarques faites-vous sur les affirmations (claims) et les documents ? (1.5 points) \n",
    "\n",
    "En observant les maximums, les minimums et les moyennes, que remarquez-vous à propos des affirmations ('_claims_') ? À l'aide des graphiques générés, comparez également les documents."
   ]
  },
  {
   "cell_type": "code",
   "execution_count": 14,
   "metadata": {},
   "outputs": [],
   "source": [
    "# TODO\n",
    "# END TODO"
   ]
  },
  {
   "cell_type": "markdown",
   "metadata": {},
   "source": [
    "#### 1.3 Pré-traitement (6 points)\n",
    "Les affirmations et résumés de texte de votre ensemble de données doivent d’abord être représentés et indexés pour ensuite pouvoir effectuer une recherche de document (pouvant être \"_title_\", \"_abstract_\" ou la fusion des deux représentée par \"_text_\") qui justifie/contredit une affirmation. Vous devez donc implémenter une étape de pré-traitement des données."
   ]
  },
  {
   "cell_type": "markdown",
   "metadata": {},
   "source": [
    "##### 1.3.1 Implémentation de la fonction \"_tokenize_sentence_\" (1 point)\n",
    "\n",
    "Implémentez la fonction \"_tokenize_sentence_\" pour la segmentation d'une phrase en une liste de jetons. Utilisez la librarie `nltk`."
   ]
  },
  {
   "cell_type": "code",
   "execution_count": 15,
   "metadata": {},
   "outputs": [
    {
     "data": {
      "text/plain": [
       "['Thing', 'to', 'test']"
      ]
     },
     "execution_count": 15,
     "metadata": {},
     "output_type": "execute_result"
    }
   ],
   "source": [
    "# TODO\n",
    "def tokenize_sentence(sentence):\n",
    "    tokens = word_tokenize(sentence)\n",
    "    return tokens\n",
    "test = \"Thing to test\"\n",
    "tokenize_sentence(test)\n",
    "# END TODO"
   ]
  },
  {
   "cell_type": "markdown",
   "metadata": {},
   "source": [
    "##### 1.3.2 Implémentation de la fonction \"_tokenize_text_\" (1 point)\n",
    "Implémentez la fonction \"_tokenize_text_\" qui utilise \"_tokenize_sentence_\" pour faire la segmentation d'un texte (liste de phrases)."
   ]
  },
  {
   "cell_type": "code",
   "execution_count": 16,
   "metadata": {},
   "outputs": [
    {
     "name": "stdout",
     "output_type": "stream",
     "text": [
      "[['first', 'thing', 'to', 'test'], ['second', 'thing', 'to', 'test']]\n"
     ]
    }
   ],
   "source": [
    "# TODO\n",
    "def tokenize_text(text):\n",
    "    tokens = []\n",
    "    for sentence in text:\n",
    "        tokens.append(tokenize_sentence(sentence)) \n",
    "    return tokens\n",
    "\n",
    "test = [\"first thing to test\", \"second thing to test\"]\n",
    "test_tokens = tokenize_text(test)\n",
    "print(test_tokens)\n",
    "# END TODO"
   ]
  },
  {
   "cell_type": "markdown",
   "metadata": {},
   "source": [
    "##### 1.3.3 Implémentation de la fonction \"_stem_tokens_\" (1 point)\n",
    "\n",
    "Implémentez la fonction \"_stem_tokens_\" qui prend une liste de jetons (tokens) en entrée et retourne une liste contenant leur forme racinisée (stems) en utilisant l'algorithme de racinisation PorterStemmer de la bibliothèque nltk."
   ]
  },
  {
   "cell_type": "code",
   "execution_count": 17,
   "metadata": {},
   "outputs": [
    {
     "name": "stdout",
     "output_type": "stream",
     "text": [
      "[['first', 'thing', 'to', 'test'], ['second', 'thing', 'to', 'test']]\n"
     ]
    }
   ],
   "source": [
    "# TODO\n",
    "def stem_tokens(tokens):\n",
    "    stemmer = PorterStemmer()\n",
    "    stemmed_tokens = [[stemmer.stem(token) for token in sentence] for sentence in tokens]\n",
    "    return stemmed_tokens\n",
    "\n",
    "stemmmer_tokens = stem_tokens(test_tokens)\n",
    "print(stemmmer_tokens)\n",
    "# END TODO"
   ]
  },
  {
   "cell_type": "markdown",
   "metadata": {},
   "source": [
    "##### 1.3.4 Pré-traitement (2 points)\n",
    "\n",
    "En utilisant vos précédentes fonctions, faites maintenant le pré-traitement des champs \"_text_\", \"_title_\" et \"_abstract_\" du dataframe \"_df_corpus_\" et \"_claim_\" du dataframe \"_df_claims_\" en suivant les étapes suivantes:\n",
    "- conversion en minuscules\n",
    "- segmentation (tokenization) des passages\n",
    "- suppression des stop-words et ponctuation\n",
    "- racinisation (stemming) des jetons\n",
    "\n",
    "Nommez la liste des affirmations pré-traitées par \"_claims_preprocessed_\". Pour le corpus de documents considérez les ensembles de titres \"_title_\", de résumés \"abstract\" et la fusion des deux \"_text_\" et nommez les listes correspondantes par \"_titles_preprocessed_\", \"_abstracts_preprocessed_\" et \"_texts_preprocessed_\" respectivement."
   ]
  },
  {
   "cell_type": "code",
   "execution_count": 18,
   "metadata": {},
   "outputs": [
    {
     "data": {
      "text/html": [
       "<div>\n",
       "<style scoped>\n",
       "    .dataframe tbody tr th:only-of-type {\n",
       "        vertical-align: middle;\n",
       "    }\n",
       "\n",
       "    .dataframe tbody tr th {\n",
       "        vertical-align: top;\n",
       "    }\n",
       "\n",
       "    .dataframe thead th {\n",
       "        text-align: right;\n",
       "    }\n",
       "</style>\n",
       "<table border=\"1\" class=\"dataframe\">\n",
       "  <thead>\n",
       "    <tr style=\"text-align: right;\">\n",
       "      <th></th>\n",
       "      <th>doc_id</th>\n",
       "      <th>title</th>\n",
       "      <th>abstract</th>\n",
       "      <th>structured</th>\n",
       "      <th>text</th>\n",
       "      <th>title_length</th>\n",
       "      <th>abstract_length</th>\n",
       "      <th>text_length</th>\n",
       "      <th>titles_preprocessed</th>\n",
       "      <th>texts_preprocessed</th>\n",
       "      <th>abstracts_preprocessed</th>\n",
       "    </tr>\n",
       "  </thead>\n",
       "  <tbody>\n",
       "    <tr>\n",
       "      <th>0</th>\n",
       "      <td>4983</td>\n",
       "      <td>Microstructural development of human newborn c...</td>\n",
       "      <td>Alterations of the architecture of cerebral wh...</td>\n",
       "      <td>False</td>\n",
       "      <td>Microstructural development of human newborn c...</td>\n",
       "      <td>17</td>\n",
       "      <td>1532</td>\n",
       "      <td>295</td>\n",
       "      <td>[microstructur, develop, human, newborn, cereb...</td>\n",
       "      <td>[microstructur, develop, human, newborn, cereb...</td>\n",
       "      <td>[alter, architectur, cerebr, white, matter, de...</td>\n",
       "    </tr>\n",
       "    <tr>\n",
       "      <th>1</th>\n",
       "      <td>5836</td>\n",
       "      <td>Induction of myelodysplasia by myeloid-derived...</td>\n",
       "      <td>Myelodysplastic syndromes (MDS) are age-depend...</td>\n",
       "      <td>False</td>\n",
       "      <td>Induction of myelodysplasia by myeloid-derived...</td>\n",
       "      <td>7</td>\n",
       "      <td>1389</td>\n",
       "      <td>208</td>\n",
       "      <td>[induct, myelodysplasia, myeloid-deriv, suppre...</td>\n",
       "      <td>[induct, myelodysplasia, myeloid-deriv, suppre...</td>\n",
       "      <td>[myelodysplast, syndrom, md, age-depend, stem,...</td>\n",
       "    </tr>\n",
       "    <tr>\n",
       "      <th>2</th>\n",
       "      <td>7912</td>\n",
       "      <td>BC1 RNA, the transcript from a master gene for...</td>\n",
       "      <td>ID elements are short interspersed elements (S...</td>\n",
       "      <td>False</td>\n",
       "      <td>BC1 RNA, the transcript from a master gene for...</td>\n",
       "      <td>20</td>\n",
       "      <td>1017</td>\n",
       "      <td>200</td>\n",
       "      <td>[bc1, rna, transcript, master, gene, id, eleme...</td>\n",
       "      <td>[bc1, rna, transcript, master, gene, id, eleme...</td>\n",
       "      <td>[id, element, short, interspers, element, sine...</td>\n",
       "    </tr>\n",
       "    <tr>\n",
       "      <th>3</th>\n",
       "      <td>18670</td>\n",
       "      <td>The DNA Methylome of Human Peripheral Blood Mo...</td>\n",
       "      <td>DNA methylation plays an important role in bio...</td>\n",
       "      <td>False</td>\n",
       "      <td>The DNA Methylome of Human Peripheral Blood Mo...</td>\n",
       "      <td>9</td>\n",
       "      <td>1448</td>\n",
       "      <td>247</td>\n",
       "      <td>[dna, methylom, human, peripher, blood, mononu...</td>\n",
       "      <td>[dna, methylom, human, peripher, blood, mononu...</td>\n",
       "      <td>[dna, methyl, play, import, role, biolog, proc...</td>\n",
       "    </tr>\n",
       "    <tr>\n",
       "      <th>4</th>\n",
       "      <td>19238</td>\n",
       "      <td>The human myelin basic protein gene is include...</td>\n",
       "      <td>Two human Golli (for gene expressed in the oli...</td>\n",
       "      <td>False</td>\n",
       "      <td>The human myelin basic protein gene is include...</td>\n",
       "      <td>21</td>\n",
       "      <td>1317</td>\n",
       "      <td>262</td>\n",
       "      <td>[human, myelin, basic, protein, gene, includ, ...</td>\n",
       "      <td>[human, myelin, basic, protein, gene, includ, ...</td>\n",
       "      <td>[two, human, golli, gene, express, oligodendro...</td>\n",
       "    </tr>\n",
       "  </tbody>\n",
       "</table>\n",
       "</div>"
      ],
      "text/plain": [
       "   doc_id                                              title  \\\n",
       "0    4983  Microstructural development of human newborn c...   \n",
       "1    5836  Induction of myelodysplasia by myeloid-derived...   \n",
       "2    7912  BC1 RNA, the transcript from a master gene for...   \n",
       "3   18670  The DNA Methylome of Human Peripheral Blood Mo...   \n",
       "4   19238  The human myelin basic protein gene is include...   \n",
       "\n",
       "                                            abstract  structured  \\\n",
       "0  Alterations of the architecture of cerebral wh...       False   \n",
       "1  Myelodysplastic syndromes (MDS) are age-depend...       False   \n",
       "2  ID elements are short interspersed elements (S...       False   \n",
       "3  DNA methylation plays an important role in bio...       False   \n",
       "4  Two human Golli (for gene expressed in the oli...       False   \n",
       "\n",
       "                                                text  title_length  \\\n",
       "0  Microstructural development of human newborn c...            17   \n",
       "1  Induction of myelodysplasia by myeloid-derived...             7   \n",
       "2  BC1 RNA, the transcript from a master gene for...            20   \n",
       "3  The DNA Methylome of Human Peripheral Blood Mo...             9   \n",
       "4  The human myelin basic protein gene is include...            21   \n",
       "\n",
       "   abstract_length  text_length  \\\n",
       "0             1532          295   \n",
       "1             1389          208   \n",
       "2             1017          200   \n",
       "3             1448          247   \n",
       "4             1317          262   \n",
       "\n",
       "                                 titles_preprocessed  \\\n",
       "0  [microstructur, develop, human, newborn, cereb...   \n",
       "1  [induct, myelodysplasia, myeloid-deriv, suppre...   \n",
       "2  [bc1, rna, transcript, master, gene, id, eleme...   \n",
       "3  [dna, methylom, human, peripher, blood, mononu...   \n",
       "4  [human, myelin, basic, protein, gene, includ, ...   \n",
       "\n",
       "                                  texts_preprocessed  \\\n",
       "0  [microstructur, develop, human, newborn, cereb...   \n",
       "1  [induct, myelodysplasia, myeloid-deriv, suppre...   \n",
       "2  [bc1, rna, transcript, master, gene, id, eleme...   \n",
       "3  [dna, methylom, human, peripher, blood, mononu...   \n",
       "4  [human, myelin, basic, protein, gene, includ, ...   \n",
       "\n",
       "                              abstracts_preprocessed  \n",
       "0  [alter, architectur, cerebr, white, matter, de...  \n",
       "1  [myelodysplast, syndrom, md, age-depend, stem,...  \n",
       "2  [id, element, short, interspers, element, sine...  \n",
       "3  [dna, methyl, play, import, role, biolog, proc...  \n",
       "4  [two, human, golli, gene, express, oligodendro...  "
      ]
     },
     "execution_count": 18,
     "metadata": {},
     "output_type": "execute_result"
    }
   ],
   "source": [
    "# TODO\n",
    "def remove_stopwords(text):\n",
    "    preprocessed_tokens = [[token for token in sentence if token not in stop_words] for sentence in text]\n",
    "    preprocessed_tokens = [[token for token in sentence if token not in punctuation] for sentence in preprocessed_tokens]\n",
    "    return preprocessed_tokens\n",
    "\n",
    "def preprocess_text(text):\n",
    "    text_lower = [sentence.lower() for sentence in text]\n",
    "    tokenized_text = tokenize_text(text_lower)\n",
    "    preprocessed_tokens = remove_stopwords(tokenized_text)\n",
    "    stemmed_tokens = stem_tokens(preprocessed_tokens)\n",
    "    return stemmed_tokens\n",
    "\n",
    "titles_preprocessed = preprocess_text(df_corpus['title'])\n",
    "texts_preprocessed = preprocess_text(df_corpus['text'])\n",
    "abstracts_preprocessed = preprocess_text(df_corpus['abstract'])\n",
    "claims_preprocessed = preprocess_text(df_claims['claim'])\n",
    "\n",
    "df_corpus['titles_preprocessed'] = titles_preprocessed\n",
    "df_corpus['texts_preprocessed'] = texts_preprocessed\n",
    "df_corpus['abstracts_preprocessed'] = abstracts_preprocessed\n",
    "df_claims['claims_preprocessed'] = claims_preprocessed\n",
    "\n",
    "df_corpus.head(5)\n",
    "# END TODO"
   ]
  },
  {
   "cell_type": "markdown",
   "metadata": {},
   "source": [
    "##### 1.3.5 Jetons uniques (types) (1 point)\n",
    "\n",
    "Affichez maintenant le nombre total de jetons dans tous les textes (_text_) et affirmations (_claim_) (en les considérant comme un seul corpus) après le pré-traitement. Puis, affichez le nombre de jetons uniques (types) dans les textes (_text_) et les affirmations (_claim_). "
   ]
  },
  {
   "cell_type": "code",
   "execution_count": 19,
   "metadata": {},
   "outputs": [
    {
     "name": "stdout",
     "output_type": "stream",
     "text": [
      "Nombre total de jetons des textes et affirmations :  742202\n",
      "Nombre de jetons uniques des textes et affirmations :  45195\n"
     ]
    }
   ],
   "source": [
    "# TODO\n",
    "whole_text = []\n",
    "\n",
    "for text in df_corpus['texts_preprocessed']:\n",
    "    for token in text:\n",
    "        whole_text.append(token)\n",
    "for claim in df_claims['claims_preprocessed']:\n",
    "    for token in claim:\n",
    "        whole_text.append(token)\n",
    "\n",
    "print('Nombre total de jetons des textes et affirmations : ', len(whole_text))\n",
    "unique_tokens = set([token for token in whole_text])\n",
    "print('Nombre de jetons uniques des textes et affirmations : ', len(unique_tokens))\n",
    "# END TODO"
   ]
  },
  {
   "cell_type": "markdown",
   "metadata": {
    "id": "3qH8-QAw8BEV"
   },
   "source": [
    "### 2. Représentation des affirmations et des documents  (45 points)"
   ]
  },
  {
   "cell_type": "markdown",
   "metadata": {},
   "source": [
    "#### 2.1  Vocabulaire (15 points)"
   ]
  },
  {
   "cell_type": "markdown",
   "metadata": {},
   "source": [
    "##### 2.1.1 Implémentation de la fonction \"_get_vocab_\" (3 points)\n",
    "\n",
    "Implémentez la fonction \"_get_vocab_\" qui prend une liste de textes composés chacun d'une liste de jetons et retourne un dictionnaire dont les clés sont les jetons uniques et les valeurs sont leur fréquence dans l'ensemble des textes."
   ]
  },
  {
   "cell_type": "code",
   "execution_count": 20,
   "metadata": {},
   "outputs": [],
   "source": [
    "# TODO\n",
    "def get_vocab(texts):\n",
    "    vocab = defaultdict(int)\n",
    "\n",
    "    for tokens in texts:\n",
    "        for token in tokens:\n",
    "            vocab[token] += 1\n",
    "    return dict(vocab)\n",
    "# END TODO"
   ]
  },
  {
   "cell_type": "markdown",
   "metadata": {},
   "source": [
    "##### 2.1.2 Implémentez la fonction \"_show_top_N_types_\" (3 points)\n",
    "\n",
    "Implémentez la fonction \"show_top_N_types\" qui affiche les N jetons les plus fréquents à partir d'un dictionnaire comme celui retourné par la fonction \"_get_vocab_\".\n",
    "\n",
    "La fonction prend deux arguments: le dictionnaire \"_dictionary_\" et le paramètre \"_N_\". "
   ]
  },
  {
   "cell_type": "code",
   "execution_count": 21,
   "metadata": {},
   "outputs": [
    {
     "name": "stdout",
     "output_type": "stream",
     "text": [
      "0  Token:  test  | Frequency:  4\n",
      "1  Token:  this  | Frequency:  2\n",
      "2  Token:  is  | Frequency:  2\n"
     ]
    }
   ],
   "source": [
    "# TODO\n",
    "def show_top_N_types(dictionary, N):\n",
    "    # Sort dictionary\n",
    "    sorted_tokens = sorted(dictionary.items(), key=lambda item: item[1], reverse=True)\n",
    "    \n",
    "    # Afficher les N jetons les plus fréquents\n",
    "    N_tokens = sorted_tokens[:N]\n",
    "    for i, (token, frequency) in enumerate(N_tokens):\n",
    "        print(i, ' Token: ', token, ' | Frequency: ', frequency)\n",
    "# END TODO\n",
    "vocab_test = {\n",
    "    'this': 2,\n",
    "    'is': 2,\n",
    "    'a': 2,\n",
    "    'test': 4,\n",
    "    'only': 1,\n",
    "    'another': 1,\n",
    "    'here': 1\n",
    "}\n",
    "show_top_N_types(vocab_test, 3)"
   ]
  },
  {
   "cell_type": "markdown",
   "metadata": {},
   "source": [
    "##### 2.1.3 Construction du vocabulaire (1 point)\n",
    "\n",
    "Construisez maintenant le vocabulaire pour les affirmations et le corpus de documents à partir des listes \"texts_preprocessed\" et \"claims_preprocessed\". \n",
    "\n",
    "Ensuite affichez les 15 jetons les plus fréquents ainsi que leur fréquence."
   ]
  },
  {
   "cell_type": "code",
   "execution_count": 22,
   "metadata": {},
   "outputs": [
    {
     "name": "stdout",
     "output_type": "stream",
     "text": [
      "0  Token:  cell  | Frequency:  10464\n",
      "1  Token:  patient  | Frequency:  4175\n",
      "2  Token:  activ  | Frequency:  4145\n",
      "3  Token:  studi  | Frequency:  4014\n",
      "4  Token:  use  | Frequency:  3799\n",
      "5  Token:  express  | Frequency:  3626\n",
      "6  Token:  result  | Frequency:  3213\n",
      "7  Token:  protein  | Frequency:  3083\n",
      "8  Token:  gene  | Frequency:  3004\n",
      "9  Token:  cancer  | Frequency:  2945\n",
      "10  Token:  increas  | Frequency:  2794\n",
      "11  Token:  associ  | Frequency:  2659\n",
      "12  Token:  effect  | Frequency:  2567\n",
      "13  Token:  function  | Frequency:  2515\n",
      "14  Token:  human  | Frequency:  2464\n"
     ]
    }
   ],
   "source": [
    "# TODO\n",
    "vocab = []\n",
    "for text in df_corpus['texts_preprocessed']:\n",
    "    vocab.append(text)\n",
    "for text in df_claims['claims_preprocessed']:\n",
    "    vocab.append(text)\n",
    "vocab_dict = get_vocab(vocab)\n",
    "show_top_N_types(vocab_dict, 15)\n",
    "\n",
    "# END TODO"
   ]
  },
  {
   "cell_type": "markdown",
   "metadata": {},
   "source": [
    "Sortie attendue:\n",
    "\n",
    "```Nombre de types composant le vocabulaire: 45195\n",
    "Les 15 types les plus fréquents:\n",
    "('cell', 10464)\n",
    "('patient', 4175)\n",
    "('activ', 4145)\n",
    "('studi', 4014)\n",
    "('use', 3799)\n",
    "('express', 3626)\n",
    "('result', 3213)\n",
    "('protein', 3083)\n",
    "('gene', 3004)\n",
    "('cancer', 2945)\n",
    "('increas', 2794)\n",
    "('associ', 2659)\n",
    "('effect', 2567)\n",
    "('function', 2515)\n",
    "('human', 2464)"
   ]
  },
  {
   "cell_type": "markdown",
   "metadata": {},
   "source": [
    "##### 2.1.4 Implémentation de la fonction \"_show_distribution_\" (4 points)\n",
    "\n",
    "Implémentez la fonction \"__show_distribution__\" qui permet de visualiser la distribution des fréquences des jetons à partir d'un dictionnaire comme celui retourné par la fonction \"_get_vocab_\", en utilisant un graphique où l'axe des abscisses représente le rang d'un type (après un tri par ordre de fréquence décroissante) et l'axe des ordonnées représente sa fréquence sur une échelle logarithmique.  \n",
    "\n",
    "Par exemple, le point (10000, 10) voudrait dire que le 10000ème mot le plus fréquent a une fréquence à peu prés egale à 10 dans le vocabulaire."
   ]
  },
  {
   "cell_type": "code",
   "execution_count": 23,
   "metadata": {},
   "outputs": [
    {
     "name": "stdout",
     "output_type": "stream",
     "text": [
      "45195\n"
     ]
    },
    {
     "data": {
      "image/png": "[encoded data removed]",
      "text/plain": [
       "<Figure size 1000x600 with 1 Axes>"
      ]
     },
     "metadata": {},
     "output_type": "display_data"
    }
   ],
   "source": [
    "# TODO\n",
    "def show_distribution(vocab):\n",
    "    print(len(vocab.values()))\n",
    "    vocab_unique = set(vocab.values())\n",
    "    sorted_tokens = sorted(vocab_unique, reverse=True)\n",
    "    frequencies = [frequency for frequency in sorted_tokens]\n",
    "    ranks = np.arange(1, len(frequencies) + 1)\n",
    "    \n",
    "    #graphique\n",
    "    plt.figure(figsize=(10, 6))\n",
    "    plt.plot(ranks, frequencies, marker='o', linestyle='-', color='b')\n",
    "    plt.yscale('log')\n",
    "    plt.xlabel(\"Rang de type\")\n",
    "    plt.ylabel(\"Fréquence (log)\")\n",
    "    plt.title(\"Distribution des fréquences des jetons\")\n",
    "    plt.show()\n",
    "    rank_freq = dict(zip(ranks, frequencies))\n",
    "    return rank_freq\n",
    "# END TODO\n",
    "rank_freq_dict = show_distribution(vocab_dict)"
   ]
  },
  {
   "cell_type": "markdown",
   "metadata": {},
   "source": [
    "##### 2.1.5 Vérification de la loi de Zipf (4 points)\n",
    "\n",
    "Afin de vérifier la loi de Zipf, donnez une estimation de la valeur de la constante k de cette loi définie comme suit: \n",
    "\n",
    "$$ f \\approx \\frac{k}{r^\\alpha} $$ \n",
    "\n",
    "où $ f $ est la fréquence d'un mot, $ r $ est le rang de ce mot dans la liste triée par fréquence décroissante, et $ k $ est une constante. Etant données les fluctuations sur les valeurs de fréquence, vous pouvez utiliser la librairie ['powerlaw'](https://pypi.org/project/powerlaw/) conçue pour analyser et ajuster des distributions de loi de puissance aux données et qui peut être utile dans l'estimation de $ \\alpha $.\n",
    "\n",
    "Affichez la constante $ k $ trouvée, les fréquences réelles des mots avec celles qui sont prédites par la loi de Zipf."
   ]
  },
  {
   "cell_type": "code",
   "execution_count": 24,
   "metadata": {},
   "outputs": [
    {
     "name": "stdout",
     "output_type": "stream",
     "text": [
      "Calculating best minimal value for power law fit\n",
      "Alpha estimé: 3.0499370131037176\n",
      "Constante k estimée: 12264155807.185125\n"
     ]
    },
    {
     "data": {
      "image/png": "[encoded data removed]",
      "text/plain": [
       "<Figure size 1000x600 with 1 Axes>"
      ]
     },
     "metadata": {},
     "output_type": "display_data"
    }
   ],
   "source": [
    "# TODO\n",
    "ranks = list(rank_freq_dict.keys())\n",
    "frequencies = list(rank_freq_dict.values())\n",
    "fit = powerlaw.Fit(frequencies)\n",
    "alpha = fit.power_law.alpha\n",
    "\n",
    "k_list = []\n",
    "for i in range(len(ranks)):\n",
    "    k_list.append(frequencies[i]*(ranks[i]**alpha))\n",
    "k = sum(k_list)/len(k_list)\n",
    "\n",
    "print(f\"Alpha estimé: {alpha}\")\n",
    "print(f\"Constante k estimée: {k}\")\n",
    "\n",
    "predicted_freqs = []\n",
    "for r in ranks:\n",
    "    f = k/(r**alpha)\n",
    "    predicted_freqs.append(f)\n",
    "\n",
    "plt.figure(figsize=(10, 6))\n",
    "plt.plot(ranks, np.log10(frequencies), label=\"Fréquences réelles\", marker='o', linestyle='-', color='b')\n",
    "plt.plot(ranks, np.log10(predicted_freqs), label=\"Fréquences prédites (Zipf)\", marker='x', linestyle='--', color='r')\n",
    "plt.xlabel(\"Rang du type (jeton)\")\n",
    "plt.ylabel(\"Fréquence (échelle logarithmique)\")\n",
    "plt.title(\"Comparaison des fréquences réelles et celles prédites par la loi de Zipf\")\n",
    "plt.show()\n",
    "# END TODO"
   ]
  },
  {
   "cell_type": "markdown",
   "metadata": {
    "id": "pdxcQdRJ818T"
   },
   "source": [
    "#### 2.2  Création d’un modèle sac de mots (10 points)"
   ]
  },
  {
   "cell_type": "markdown",
   "metadata": {},
   "source": [
    "##### 2.2.1 Répresentation de texte (5 points)\n",
    "\n",
    "En utilisant sklearn et à partir de vos données pré-traitées (\"_claims_preprocessed_\", \"_titles_preprocessed_\", \"_abstracts_preprocessed_\" et \"_texts_preprocessed_\"), représentez chaque affirmation (_claim_) et document avec le vocabulaire créé 'précédemment dans la variables \"_claims_preprocessed_joined\", \"_titles_preprocessed_joined_\", \"_abstract_preprocessed_joined_\" et \"_texts_preprocessed_joined_\". Cela veut dire que tout jeton qui n'est pas dans le vocabulaire doit être enlevé dans le document et l'affirmation. Faites cela pour les trois possibilités de représentation de document: \"_title_\", \"_abstract_\" et \"_text_\"."
   ]
  },
  {
   "cell_type": "code",
   "execution_count": 25,
   "metadata": {
    "id": "NKJxoJSwBovJ"
   },
   "outputs": [],
   "source": [
    "# TODO\n",
    "claims_preprocessed_joined, titles_preprocessed_joined, abstract_preprocessed_joined, texts_preprocessed_joined = [], [], [], []\n",
    "def filter_and_join(preprocessed_data, vocab):\n",
    "    return [' '.join([token for token in text if token in vocab]) for text in preprocessed_data]\n",
    "\n",
    "claims_preprocessed_joined = filter_and_join(claims_preprocessed, vocab_dict)\n",
    "titles_preprocessed_joined = filter_and_join(titles_preprocessed, vocab_dict)\n",
    "abstracts_preprocessed_joined = filter_and_join(abstracts_preprocessed, vocab_dict)\n",
    "texts_preprocessed_joined = filter_and_join(texts_preprocessed, vocab_dict)\n",
    "# END TODO"
   ]
  },
  {
   "cell_type": "markdown",
   "metadata": {},
   "source": [
    "##### 2.2.2 Pondération (4 points)\n",
    "\n",
    "En utilisant un modèle sac de mots basé sur des unigrammes et des bigrammes, créez une représentation vectorielle de vos documents (titles, abstracts, texts) et de vos affirmations (claims) avec TF-IDF en utilisant le TfidfVectorizer de sklearn. "
   ]
  },
  {
   "cell_type": "code",
   "execution_count": 26,
   "metadata": {},
   "outputs": [],
   "source": [
    "# TODO\n",
    "vectorizer = TfidfVectorizer(ngram_range=(1, 2))\n",
    "tfidf = vectorizer.fit(claims_preprocessed_joined + texts_preprocessed_joined)\n",
    "\n",
    "claims_tfidf = tfidf.transform(claims_preprocessed_joined)\n",
    "titles_tfidf = tfidf.transform(titles_preprocessed_joined)\n",
    "abstracts_tfidf = tfidf.transform(abstracts_preprocessed_joined)\n",
    "texts_tfidf = tfidf.transform(texts_preprocessed_joined)\n",
    "# END TODO"
   ]
  },
  {
   "cell_type": "markdown",
   "metadata": {},
   "source": [
    "##### 2.2.3 Affichage (1 point)\n",
    "\n",
    "Affichez les dimensions (shape) de vos corpus (claims, text, title, abstract) après vectorisation"
   ]
  },
  {
   "cell_type": "code",
   "execution_count": 27,
   "metadata": {},
   "outputs": [
    {
     "name": "stdout",
     "output_type": "stream",
     "text": [
      "TF-IDF claims shape: (809, 473643)\n"
     ]
    }
   ],
   "source": [
    "# TODO\n",
    "print(f\"TF-IDF claims shape: {claims_tfidf.shape}\")\n",
    "# END TODO"
   ]
  },
  {
   "cell_type": "markdown",
   "metadata": {},
   "source": [
    "Sortie attendue pour \"_claims_\"\n",
    "```\n",
    "(809, 473643)\n",
    "```"
   ]
  },
  {
   "cell_type": "code",
   "execution_count": 28,
   "metadata": {},
   "outputs": [
    {
     "name": "stdout",
     "output_type": "stream",
     "text": [
      "TF-IDF texts shape: (5183, 473643)\n"
     ]
    }
   ],
   "source": [
    "# TODO\n",
    "print(f\"TF-IDF texts shape: {texts_tfidf.shape}\")\n",
    "# END TODO"
   ]
  },
  {
   "cell_type": "markdown",
   "metadata": {},
   "source": [
    "Sortie attendue pour \"_texts_\"\n",
    "```\n",
    "(5183, 473643)\n",
    "```"
   ]
  },
  {
   "cell_type": "code",
   "execution_count": 29,
   "metadata": {},
   "outputs": [
    {
     "name": "stdout",
     "output_type": "stream",
     "text": [
      "TF-IDF titles shape: (5183, 473643)\n"
     ]
    }
   ],
   "source": [
    "# TODO\n",
    "print(f\"TF-IDF titles shape: {titles_tfidf.shape}\")\n",
    "# END TODO"
   ]
  },
  {
   "cell_type": "markdown",
   "metadata": {},
   "source": [
    "Sortie attendue pour \"_titles_\"\n",
    "```\n",
    "(5183, 473643)\n",
    "```"
   ]
  },
  {
   "cell_type": "code",
   "execution_count": 30,
   "metadata": {},
   "outputs": [
    {
     "name": "stdout",
     "output_type": "stream",
     "text": [
      "TF-IDF abstracts shape: (5183, 473643)\n"
     ]
    }
   ],
   "source": [
    "# TODO\n",
    "print(f\"TF-IDF abstracts shape: {abstracts_tfidf.shape}\")\n",
    "# END TODO"
   ]
  },
  {
   "cell_type": "markdown",
   "metadata": {},
   "source": [
    "Sortie attendue pour abstracts\n",
    "```\n",
    "(5183, 473643)"
   ]
  },
  {
   "cell_type": "markdown",
   "metadata": {
    "id": "sMrNWcxL9QNF"
   },
   "source": [
    "#### 2.3 Pertinence d'un document (20 points)"
   ]
  },
  {
   "cell_type": "markdown",
   "metadata": {},
   "source": [
    "Maintenant que vous avez une représentation de vos affirmations \"_claims_\" et documents (\"_texts_\", \"_titles_\", \"_abstracts_\"), il faut être capable de déterminer quel document sera le plus pertinent pour une affirmation donnée."
   ]
  },
  {
   "cell_type": "markdown",
   "metadata": {
    "id": "3AsiWH2O9XKD"
   },
   "source": [
    "##### 2.3.1 Implémentation de \"_eval_similarity_\" (3 points)\n",
    "\n",
    "Implémentez la fonction \"_eval_similarity_\" pour évaluer la similarité cosinus entre la représentation de l'affirmation et celle de chaque document. La fonction prend une liste d'affirmations et une liste de documents et retourne une matrice où chaque ligne représente une affirmation et chaque colonne représente un document (\"title\", \"abstract\" ou \"text\") et les valeurs sont les similarités cosinus entre une affirmation et un document."
   ]
  },
  {
   "cell_type": "code",
   "execution_count": 31,
   "metadata": {},
   "outputs": [],
   "source": [
    "# TODO\n",
    "def eval_similarity(claims_tfidf, documents_tfidf):\n",
    "    similarity_matrix = cosine_similarity(claims_tfidf, documents_tfidf)\n",
    "    return similarity_matrix\n",
    "# END TODO\n",
    "similarity_titles = eval_similarity(claims_tfidf, titles_tfidf)\n",
    "similarity_abstracts = eval_similarity(claims_tfidf, abstracts_tfidf)\n",
    "similarity_texts = eval_similarity(claims_tfidf, texts_tfidf)"
   ]
  },
  {
   "cell_type": "markdown",
   "metadata": {
    "id": "5_gDSgTv9fCu"
   },
   "source": [
    "##### 2.3.2 Implémentation de la fonction \"_rank_texts_\" (2 points)\n",
    "\n",
    "Implémentez la fonction \"_rank_texts_\", qui, au moyen de la précédente (_eval_similarity_), retourne le top-N (N=1,3,5) des documents pertinents pour une affirmation donnée (N est un paramètre). Ces documents devront être ordonnés du plus pertinent au moins pertinent. Idéalement, le document à la position 1 sera celui qui contient la preuve (ou justification) de l'affirmation. Il faudra retourner non pas les indices des documents dans le dataframe mais plutôt leur identifiants au niveau de la colonne \"_doc_id_\"."
   ]
  },
  {
   "cell_type": "code",
   "execution_count": 32,
   "metadata": {},
   "outputs": [
    {
     "name": "stdout",
     "output_type": "stream",
     "text": [
      "[10608397, 42421723, 10607877]\n"
     ]
    }
   ],
   "source": [
    "# TODO\n",
    "def rank_texts(claim, similarity_doc, N=3):\n",
    "    top_n_texts = np.argsort(similarity_doc[claim])[::-1][:N]\n",
    "    top_n_doc_ids = [df_corpus[\"doc_id\"][position] for position in top_n_texts]\n",
    "    return top_n_doc_ids\n",
    "# END TODO\n",
    "print(rank_texts(0, similarity_texts, 3))"
   ]
  },
  {
   "cell_type": "markdown",
   "metadata": {},
   "source": [
    "##### 2.3.3 Préparation des dataframes de réponses (1 point) \n",
    "\n",
    "Vous allez écrire la fonction \"prepare_results_df\" qui crée les dataframes qui vont contenir les résultats de la recherche de documents pertinents pour les affirmations.\n",
    "\n",
    "La fonction \"prepare_results_df\" prend les arguments suivants:\n",
    "\n",
    "- '_df_': le dataframe original nommé '_df_claims_' à partir duquel on crée les autres, \n",
    "- '_columns_to_drop_': les colonnes à supprimer \n",
    "- '_column_to_rename_': le nom de la colonne de référence dans le dataframe original qui sera renommée \"gold standard passage\"\n",
    "\n",
    "et effectue les opérations suivantes:\n",
    "\n",
    "1. Créer un nouveau dataframe à partir de \"_df_claims_\" en supprimant toutes les colonnes sauf \"cited_doc_ids\".\n",
    "2. Renommer la colonne \"cited_doc_ids\" en \"gold standard passage\".\n",
    "3. Ajouter les colonnes \"top_1\", \"top_3\", et \"top_5\" au dataframe, \n",
    "en les initialisant avec des chaînes de zéros séparés par des points-\n",
    "virgules, correspondant respectivement à des configurations de 1, 3, et \n",
    "5 zéros pour toutes les lignes.\n",
    "\n",
    "Vous utiliserez ensuite cette fonction pour créer les dataframes \"results_titles_df\", \"results_abstracts_df\" et \"results_texts_df\", qui seront destinés à contenir les résultats de recherche de documents pour \"title\", \"abstract\" et \"text\" respectivement."
   ]
  },
  {
   "cell_type": "code",
   "execution_count": 33,
   "metadata": {},
   "outputs": [
    {
     "name": "stdout",
     "output_type": "stream",
     "text": [
      "   id gold standard passage top_1  top_3      top_5\n",
      "0   0            [31715818]     0  0;0;0  0;0;0;0;0\n",
      "1   2            [13734012]     0  0;0;0  0;0;0;0;0\n",
      "2   4            [22942787]     0  0;0;0  0;0;0;0;0\n",
      "3   6             [2613775]     0  0;0;0  0;0;0;0;0\n",
      "4   9            [44265107]     0  0;0;0  0;0;0;0;0\n"
     ]
    }
   ],
   "source": [
    "# TODO\n",
    "def prepare_results_df(df, columns_to_drop, column_to_rename):\n",
    "    results_df = df.drop(columns=columns_to_drop).copy()\n",
    "    results_df.rename(columns={column_to_rename: 'gold standard passage'}, inplace=True)\n",
    "    results_df['top_1'] = '0'\n",
    "    results_df['top_3'] = '0;0;0'\n",
    "    results_df['top_5'] = '0;0;0;0;0'\n",
    "    return results_df\n",
    "\n",
    "columns_to_drop = ['claim', 'evidence', 'claim_length', 'num_cited_doc', 'claims_preprocessed']\n",
    "column_to_rename = 'cited_doc_ids'\n",
    "results_titles_df = prepare_results_df(df_claims, columns_to_drop, column_to_rename)\n",
    "results_abstracts_df = prepare_results_df(df_claims, columns_to_drop, column_to_rename)\n",
    "results_texts_df = prepare_results_df(df_claims, columns_to_drop, column_to_rename)\n",
    "# END TODO\n",
    "print(results_titles_df.head())"
   ]
  },
  {
   "cell_type": "markdown",
   "metadata": {},
   "source": [
    "> Sortie attendue pour chaque dataframe préparé\n",
    "<div>\n",
    "<style scoped>\n",
    "    .dataframe tbody tr th:only-of-type {\n",
    "        vertical-align: middle;\n",
    "    }\n",
    "\n",
    "    .dataframe tbody tr th {\n",
    "        vertical-align: top;\n",
    "    }\n",
    "\n",
    "    .dataframe thead th {\n",
    "        text-align: right;\n",
    "    }\n",
    "</style>\n",
    "<table border=\"1\" class=\"dataframe\">\n",
    "  <thead>\n",
    "    <tr style=\"text-align: right;\">\n",
    "      <th></th>\n",
    "      <th>id</th>\n",
    "      <th>gold standard passage</th>\n",
    "      <th>top_1</th>\n",
    "      <th>top_3</th>\n",
    "      <th>top_5</th>\n",
    "    </tr>\n",
    "  </thead>\n",
    "  <tbody>\n",
    "    <tr>\n",
    "      <th>0</th>\n",
    "      <td>0</td>\n",
    "      <td>[31715818]</td>\n",
    "      <td>0</td>\n",
    "      <td>0;0;0</td>\n",
    "      <td>0;0;0;0;0</td>\n",
    "    </tr>\n",
    "    <tr>\n",
    "      <th>1</th>\n",
    "      <td>2</td>\n",
    "      <td>[13734012]</td>\n",
    "      <td>0</td>\n",
    "      <td>0;0;0</td>\n",
    "      <td>0;0;0;0;0</td>\n",
    "    </tr>\n",
    "    <tr>\n",
    "      <th>2</th>\n",
    "      <td>4</td>\n",
    "      <td>[22942787]</td>\n",
    "      <td>0</td>\n",
    "      <td>0;0;0</td>\n",
    "      <td>0;0;0;0;0</td>\n",
    "    </tr>\n",
    "  </tbody>\n",
    "</table>\n",
    "</div>"
   ]
  },
  {
   "cell_type": "markdown",
   "metadata": {},
   "source": [
    "##### 2.3.4 Implémentation de la fonction \"_fill_results_\" (2 points)\n",
    "\n",
    "Vous devez maintenant implémenter la fonction \"_fill_results_\" qui remplit les dataframes préparés dans l'étape précédente en utilisant les resultats de recherche de document.\n",
    "Cette fonction prend les arguments suivant: \n",
    "- \"_results_\" : matrice contenant les valeurs de similarite des affirmations et des documents\n",
    "- \"_results_texts_df_\" : Dataframe contenant les affirmations ainsi que les colonnes \"top_1\", \"top_3\", \"top_5\" où doivent être mis les top-n documents les plus pertinents.\n",
    "\n",
    "Les deux arguments contiennent le même nombre d'éléments et pour le même indice, font référence à la même affirmation."
   ]
  },
  {
   "cell_type": "code",
   "execution_count": 34,
   "metadata": {},
   "outputs": [],
   "source": [
    "# TODO\n",
    "def fill_results(results, results_texts_df):\n",
    "    for i in range(len(results)):\n",
    "        top_1 = rank_texts(i, results, 1)\n",
    "        top_3 = rank_texts(i, results, 3)\n",
    "        top_5 = rank_texts(i, results, 5)\n",
    "        results_texts_df.loc[i, \"top_1\"] = ';'.join([str(doc_id) for doc_id in top_1])\n",
    "        results_texts_df.loc[i, \"top_3\"] = ';'.join([str(doc_id) for doc_id in top_3])\n",
    "        results_texts_df.loc[i, \"top_5\"] = ';'.join([str(doc_id) for doc_id in top_5])\n",
    "    return results_texts_df\n",
    "\n",
    "# END TODO"
   ]
  },
  {
   "cell_type": "markdown",
   "metadata": {
    "id": "EqRUGA9D9xoI"
   },
   "source": [
    "##### 2.3.5 Exécution des fonctions \"_rank_texts_\" et fill_results(2 points)\n",
    "\n",
    "Exécutez maintenant votre fonction \"_rank_texts_\" sur toutes les affirmations (claims) et toutes les représentations de documents (title, abstract, text) en mettant les résultats dans les variables \"results_texts\", \"results_titles\" et \"results_abstracts\". Ensuite appelez la fonction \"_fill_results_\" qui remplit les dataframes \"_results_titles_df_\", \"_results_abstracts_df_\", et \"_results_texts_df_\" contenant les résultats de recheche de documents."
   ]
  },
  {
   "cell_type": "code",
   "execution_count": 35,
   "metadata": {},
   "outputs": [],
   "source": [
    "# TODO\n",
    "results_texts_df = fill_results(similarity_texts, results_texts_df)\n",
    "results_abstracts_df = fill_results(similarity_abstracts, results_abstracts_df)\n",
    "results_titles_df = fill_results(similarity_titles, results_titles_df)\n",
    "# END TODO"
   ]
  },
  {
   "cell_type": "markdown",
   "metadata": {},
   "source": [
    "##### 2.3.6 Enregistrement des dataframes \n",
    "\n",
    "On enregistre les dataframes dans des fichiers .csv."
   ]
  },
  {
   "cell_type": "code",
   "execution_count": 36,
   "metadata": {},
   "outputs": [],
   "source": [
    "# TODO\n",
    "results_texts_df.to_csv(\"texts.csv\")\n",
    "results_abstracts_df.to_csv(\"abstracts.csv\")\n",
    "results_titles_df.to_csv(\"titles.csv\")\n",
    "# END TODO"
   ]
  },
  {
   "cell_type": "markdown",
   "metadata": {
    "id": "4qWHRy8oZvOt"
   },
   "source": [
    "##### 2.3.7 Implémentation de la fonction \"_show_top_n_passages_\" (3 points)\n",
    "\n",
    "Vous devez maintenant implémenter une fonction \"_show_top_n_passages_\" qui affiche le top-n ainsi que le texte (document) attendu pour une affirmation donnée. Ici on considère que document est representé par \"_text_\" donc la fusion du titre (\"_title_\") et du résumé (\"_abstract_\")"
   ]
  },
  {
   "cell_type": "code",
   "execution_count": 37,
   "metadata": {
    "id": "-l9sKrgC-Sq7"
   },
   "outputs": [],
   "source": [
    "# TODO\n",
    "def show_top_n_passages(claim_index, results_df, df_corpus, N):\n",
    "    top_n_column = f\"top_{N}\"\n",
    "    top_n_doc_ids = results_df.loc[claim_index, top_n_column].split(';')\n",
    "\n",
    "    for i, doc_id in enumerate(top_n_doc_ids):\n",
    "        text_to_print = []\n",
    "        for j, doc in enumerate(df_corpus['doc_id']):\n",
    "            if str(doc) == doc_id:\n",
    "                text_to_print = df_corpus.loc[j, \"text\"]\n",
    "        print(f\"Top-{i + 1} Document (ID: {doc_id}):\")\n",
    "        print(text_to_print)\n",
    "# END TODO"
   ]
  },
  {
   "cell_type": "markdown",
   "metadata": {},
   "source": [
    "##### 2.3.8 Affichage (1 point)\n",
    "\n",
    "Appliquez cette fonction sur l'affirmation ayant pour identifiant 211 et affichez le top-5 des documents les plus pertinents retrouvés."
   ]
  },
  {
   "cell_type": "code",
   "execution_count": 38,
   "metadata": {},
   "outputs": [
    {
     "name": "stdout",
     "output_type": "stream",
     "text": [
      "Top-1 Document (ID: 2601324):\n",
      "Glycolytic oligodendrocytes maintain myelin and long-term axonal integrity Oligodendrocytes, the myelin-forming glial cells of the central nervous system, maintain long-term axonal integrity. However, the underlying support mechanisms are not understood. Here we identify a metabolic component of axon–glia interactions by generating conditional Cox10 (protoheme IX farnesyltransferase) mutant mice, in which oligodendrocytes and Schwann cells fail to assemble stable mitochondrial cytochrome c oxidase (COX, also known as mitochondrial complex IV). In the peripheral nervous system, Cox10 conditional mutants exhibit severe neuropathy with dysmyelination, abnormal Remak bundles, muscle atrophy and paralysis. Notably, perturbing mitochondrial respiration did not cause glial cell death. In the adult central nervous system, we found no signs of demyelination, axonal degeneration or secondary inflammation. Unlike cultured oligodendrocytes, which are sensitive to COX inhibitors, post-myelination oligodendrocytes survive well in the absence of COX activity. More importantly, by in vivo magnetic resonance spectroscopy, brain lactate concentrations in mutants were increased compared with controls, but were detectable only in mice exposed to volatile anaesthetics. This indicates that aerobic glycolysis products derived from oligodendrocytes are rapidly metabolized within white matter tracts. Because myelinated axons can use lactate when energy-deprived, our findings suggest a model in which axon–glia metabolic coupling serves a physiological function.\n",
      "Top-2 Document (ID: 1550937):\n",
      "The Transcription Factors Egr2 and Egr3 Are Essential for the Control of Inflammation and Antigen-Induced Proliferation of B and T Cells Lymphocytes provide optimal responses against pathogens with minimal inflammatory pathology. However, the intrinsic mechanisms regulating these responses are unknown. Here, we report that deletion of both transcription factors Egr2 and Egr3 in lymphocytes resulted in a lethal autoimmune syndrome with excessive serum proinflammatory cytokines but also impaired antigen receptor-induced proliferation of B and T cells. Egr2- and Egr3-defective B and T cells had hyperactive signal transducer and activator of transcription-1 (STAT1) and STAT3 while antigen receptor-induced activation of transcription factor AP-1 was severely impaired. We discovered that Egr2 and/or Egr3 directly induced expression of suppressor of cytokine signaling-1 (SOCS1) and SOCS3, inhibitors of STAT1 and STAT3, and also blocked the function of Batf, an AP-1 inhibitor, in B and T cells. Thus, Egr2 and Egr3 regulate B and T cell function in adaptive immune responses and homeostasis by promoting antigen receptor signaling and controlling inflammation.\n",
      "Top-3 Document (ID: 17814815):\n",
      "Label-free in vivo imaging of myelinated axons in health and disease with spectral confocal reflectance microscopy We report a newly developed technique for high-resolution in vivo imaging of myelinated axons in the brain, spinal cord and peripheral nerve that requires no fluorescent labeling. This method, based on spectral confocal reflectance microscopy (SCoRe), uses a conventional laser-scanning confocal system to generate images by merging the simultaneously reflected signals from multiple lasers of different wavelengths. Striking color patterns unique to individual myelinated fibers are generated that facilitate their tracing in dense axonal areas. These patterns highlight nodes of Ranvier and Schmidt-Lanterman incisures and can be used to detect various myelin pathologies. Using SCoRe we carried out chronic brain imaging up to 400 μm deep, capturing de novo myelination of mouse cortical axons in vivo. We also established the feasibility of imaging myelinated axons in the human cerebral cortex. SCoRe adds a powerful component to the evolving toolbox for imaging myelination in living animals and potentially in humans.\n",
      "Top-4 Document (ID: 14893428):\n",
      "In vivo electroporation in the embryonic mouse central nervous system This protocol describes a basic method for in vivo electroporation in the nervous system of embryonic mice. Delivery of electric pulses following microinjection of DNA into the brain ventricle or the spinal cord central canal enables efficient transfection of genes into the nervous system. Transfection is facilitated by forceps-type electrodes, which hold the uterus and/or the yolk sac containing the embryo. More than ten embryos in a single pregnant mouse can be operated on within 30 min. More than 90% of operated embryos survive and more than 90% of these survivors express the transfected genes appropriately. Gene expression in neurons persists for a long time, even at postnatal stages, after electroporation. Thus, this method could be used to analyze roles of genes not only in embryonic development but also in higher order function of the nervous system, such as learning.\n",
      "Top-5 Document (ID: 25789730):\n",
      "Diffusion tensor imaging detects and differentiates axon and myelin degeneration in mouse optic nerve after retinal ischemia. Both axon and myelin degeneration have significant impact on the long-term disability of patients with white matter disorder. However, the clinical manifestations of the neurological dysfunction caused by white matter disorders are not sufficient to determine the origin of neurological deficits. A noninvasive biological marker capable of detecting and differentiating axon and myelin degeneration would be a significant addition to currently available tools. Directional diffusivities derived from diffusion tensor imaging (DTI) have been previously proposed by this group as potential biological markers to detect and differentiate axon and myelin degeneration. To further test the hypothesis that axial (lambdaparallel) and radial (lambdaperpendicular) diffusivities reflect axon and myelin pathologies, respectively, the optic nerve was examined serially using DTI in a mouse model of retinal ischemia. A significant decrease of lambdaparallel, the putative DTI axonal marker, was observed 3 days after ischemia without concurrently detectable changes in lambdaperpendicular, the putative myelin marker. This result is consistent with histological findings of significant axonal degeneration with no detectable demyelination at 3 days after ischemia. The elevation of lambdaperpendicular observed 5 days after ischemia is consistent with histological findings of myelin degeneration at this time. These results support the hypothesis that lambdaparallel and lambdaperpendicular hold promise as specific markers of axonal and myelin injury, respectively, and, further, that the coexistence of axonal and myelin degeneration does not confound this utility.\n"
     ]
    }
   ],
   "source": [
    "# TODO\n",
    "show_top_n_passages(211, results_texts_df, df_corpus, 5)\n",
    "# END TODO"
   ]
  },
  {
   "cell_type": "markdown",
   "metadata": {},
   "source": [
    "##### 2.3.9 Évaluation (3 points)\n",
    "\n",
    "Vous devez maintenant implémenter la fonction \"_evaluate_\" qui, à partir des colonnes *Gold standard passage* et de vos top-N respectifs, calcule la précision top-N (N=1,3,5) sur l’ensemble de données en paramètre et l’affiche. \n",
    "\n",
    "Cette précision connue sous le nom \"precision at k (precision@k)\" se calcule de la manière suivante:\n",
    "\n",
    "\n",
    "$$\n",
    "\\text{precision@k} = \\frac{\\text{nombre d'éléments corrects}}{\\text{nombre total d'éléments k retrouvés}}\n",
    "$$\n",
    "\n",
    "\n",
    "Veillez à ce que la fonction soit générique. "
   ]
  },
  {
   "cell_type": "code",
   "execution_count": 39,
   "metadata": {},
   "outputs": [],
   "source": [
    "# TODO\n",
    "def evaluate(results_df):\n",
    "    precisions = {}\n",
    "    \n",
    "    # Pour chaque N (1, 3, 5)\n",
    "    for n in [1, 3, 5]:\n",
    "        correct_count = 0\n",
    "        total_count = 0\n",
    "        for i in range(len(results_df)):\n",
    "            gold_passages = results_df.loc[i, 'gold standard passage']\n",
    "            top_n_passages = results_df.loc[i, f\"top_{n}\"].split(';')\n",
    "            \n",
    "            for passage in top_n_passages:\n",
    "                if int(passage) in gold_passages:\n",
    "                    correct_count += 1\n",
    "                total_count += 1\n",
    "        precision = correct_count / total_count if total_count > 0 else 0\n",
    "        precisions[n] = precision\n",
    "\n",
    "    for n, precision in precisions.items():\n",
    "        print(f\"Précision {n} : {precision:.4f}\")\n",
    "    return precisions\n",
    "# END TODO"
   ]
  },
  {
   "cell_type": "markdown",
   "metadata": {},
   "source": [
    "##### 2.3.10 Affichage (1 point)\n",
    "\n",
    "Appliquez cette fonction pour calculer la précision des documents retrouvés en utilisant les titres (\"_title_\"), les résumés (\"_abstract_\") et la fusion des deux (\"_text_\")."
   ]
  },
  {
   "cell_type": "code",
   "execution_count": 40,
   "metadata": {},
   "outputs": [
    {
     "name": "stdout",
     "output_type": "stream",
     "text": [
      "texts precisions\n",
      "Précision 1 : 0.4870\n",
      "Précision 3 : 0.2254\n",
      "Précision 5 : 0.1520\n",
      "titles precisions\n",
      "Précision 1 : 0.3226\n",
      "Précision 3 : 0.1636\n",
      "Précision 5 : 0.1117\n",
      "abstracts precisions\n",
      "Précision 1 : 0.4660\n",
      "Précision 3 : 0.2167\n",
      "Précision 5 : 0.1439\n"
     ]
    }
   ],
   "source": [
    "# TODO\n",
    "print(\"texts precisions\")\n",
    "texts_precisions = evaluate(results_texts_df)\n",
    "print(\"titles precisions\")\n",
    "titles_precisions = evaluate(results_titles_df)\n",
    "print(\"abstracts precisions\")\n",
    "abstracts_precisions = evaluate(results_abstracts_df)\n",
    "# END TODO"
   ]
  },
  {
   "cell_type": "markdown",
   "metadata": {},
   "source": [
    "##### 2.3.11 Graphique (2 points)\n",
    "\n",
    "Tracez un graphique des valeurs de précisions des documents retrouvés (\"__title__\", \"__abstract__\", \"__text__\") pour différents N (1,3,5)."
   ]
  },
  {
   "cell_type": "code",
   "execution_count": 41,
   "metadata": {},
   "outputs": [
    {
     "data": {
      "image/png": "[encoded data removed]",
      "text/plain": [
       "<Figure size 1000x600 with 1 Axes>"
      ]
     },
     "metadata": {},
     "output_type": "display_data"
    }
   ],
   "source": [
    "# TODO\n",
    "n_values = [1, 3, 5]\n",
    "plt.figure(figsize=(10, 6))\n",
    "plt.plot(n_values, titles_precisions.values(), label='Titles', marker='o')\n",
    "plt.plot(n_values, abstracts_precisions.values(), label='Abstracts', marker='o')\n",
    "plt.plot(n_values, texts_precisions.values(), label='Texts', marker='o')\n",
    "\n",
    "plt.xlabel('Top-N')\n",
    "plt.ylabel('Précision')\n",
    "plt.title('Précision des documents (title, abstract, text) pour différents N (1,3,5)')\n",
    "plt.xticks(n_values)\n",
    "plt.grid(True)\n",
    "plt.legend()\n",
    "plt.show()\n",
    "# END TODO"
   ]
  },
  {
   "cell_type": "markdown",
   "metadata": {
    "id": "vI_2JXRxAygz"
   },
   "source": [
    "### 3 Amélioration avec BM25 (20 points)"
   ]
  },
  {
   "cell_type": "markdown",
   "metadata": {},
   "source": [
    "BM25 (Best Matching 25) est un algorithme de recherche utilisé pour évaluer la pertinence des documents par rapport à une requête. Basé sur le modèle de récupération d'informations probabilistes, BM25 calcule un score de pertinence en tenant compte de la fréquence des termes de la requête dans chaque document et dans le corpus global mais aussi de la longueur des documents. \n",
    "\n",
    "BM25 est pertinent pour la recherche d'information car il offre un bon équilibre entre précision et rappel, il gère efficacement de grandes collections de documents et permet des ajustements pour différents types de corpus. Il est largement utilisé dans les moteurs de recherche et les systèmes de recommandation.\n",
    "\n",
    "Dans cette partie on vous demande de la tester au moyen de la librairie rank_bm25 pour cette tâche de recherche de texte qui justifie ou contredit une affirmation donnée. Vous allez utiliser le corpus et les affirmations et procéder comme indiqué dans la suite."
   ]
  },
  {
   "cell_type": "markdown",
   "metadata": {},
   "source": [
    "##### 3.1 Initialisation du modèle BM25 (3 points)\n",
    "Réutilisez les variables \"claims_preprocessed_joined\", \"texts_preprocessed_joined\", \"titles_preprocessed_joined\" et \"abstract_preprocessed_joined\" définies à la question `2.2.1` pour initialiser les modèles BM25 pour les documents (\"__titles__\", \"__abstracts__\" et \"__text__\"). Il faudra transformer chaque séquence (dont les jetons étaient joints pour former une seule chaîne) en une liste de jetons. Vous utiliserez la classe \"_BM250kapi_\" à ce niveau. "
   ]
  },
  {
   "cell_type": "code",
   "execution_count": 42,
   "metadata": {},
   "outputs": [],
   "source": [
    "# TODO\n",
    "texts_split = [doc.split(\" \") for doc in texts_preprocessed_joined]\n",
    "titles_split = [doc.split(\" \") for doc in titles_preprocessed_joined]\n",
    "abstract_split = [doc.split(\" \") for doc in abstracts_preprocessed_joined]\n",
    "\n",
    "texts_bm = BM25Okapi(texts_split)\n",
    "titles_bm = BM25Okapi(titles_split)\n",
    "abstract_split = BM25Okapi(abstract_split)\n",
    "# END TODO"
   ]
  },
  {
   "cell_type": "markdown",
   "metadata": {},
   "source": [
    "##### 3.2 Utilisation du modèle BM25 (5 points)\n",
    "\n",
    "Retrouvez les identifiants des documents pour les cinq meilleures correspondances de \"_title_\", de \"_abstract_\" et de \"_text_\" en utilisant le score BM25 pour chaque affirmation (claim) traitée, et mettez à jour les résultats avec les identifiants de documents correspondants."
   ]
  },
  {
   "cell_type": "code",
   "execution_count": 43,
   "metadata": {},
   "outputs": [],
   "source": [
    "# TODO\n",
    "def top_bm25_scores(claims_preprocessed_joined, bm25, df_corpus, n):\n",
    "    top_doc_ids = []\n",
    "    for claim in claims_preprocessed_joined:\n",
    "        temp_doc_ids = []\n",
    "        claim = claim.split(\" \")\n",
    "        bm25_scores = bm25.get_scores(claim)\n",
    "\n",
    "        top_n_idx = np.argsort(bm25_scores)[-n:]\n",
    "\n",
    "        for index in top_n_idx:\n",
    "            temp_doc_ids.append(df_corpus.iloc[index][\"doc_id\"])\n",
    "\n",
    "        top_doc_ids.append(temp_doc_ids)\n",
    "        \n",
    "    return top_doc_ids\n",
    "# END TODO"
   ]
  },
  {
   "cell_type": "markdown",
   "metadata": {},
   "source": [
    "##### 3.3 Affichage des performances (4 points)\n",
    "\n",
    "Affichez les résultats des performances BM25 pour les configurations Top1, Top3 et Top5 avec \"_title_\", \"_asbtract_\" et \"_text_\"."
   ]
  },
  {
   "cell_type": "code",
   "execution_count": 44,
   "metadata": {},
   "outputs": [
    {
     "data": {
      "text/plain": [
       "[0.5673671199011124, 0.23939019365471775, 0.15822002472187885]"
      ]
     },
     "execution_count": 44,
     "metadata": {},
     "output_type": "execute_result"
    }
   ],
   "source": [
    "# TODO\n",
    "N = [1,3,5]\n",
    "top_text_ids = {}\n",
    "top_titles_ids = {}\n",
    "top_abstract_ids = {}\n",
    "for n in N:\n",
    "    top_text_ids[f'top_{str(n)}'] = top_bm25_scores(claims_preprocessed_joined, texts_bm, df_corpus, n)\n",
    "    top_titles_ids[f'top_{str(n)}'] = top_bm25_scores(claims_preprocessed_joined, titles_bm, df_corpus, n)\n",
    "    top_abstract_ids[f'top_{str(n)}'] = top_bm25_scores(claims_preprocessed_joined, abstract_split, df_corpus, n)\n",
    "\n",
    "def BM25_precision(top_doc, df_claims):\n",
    "    \n",
    "    bm25_precisions=[]\n",
    "    \n",
    "    for key, val in top_doc.items():\n",
    "        count_element = 0\n",
    "        total = 0\n",
    "        index_claim = 0\n",
    "        if key == 'top_1':\n",
    "            for doc_id in val:\n",
    "                if doc_id[0] in df_claims.iloc[index_claim]['cited_doc_ids']:\n",
    "                    count_element+=1\n",
    "                total += 1\n",
    "                index_claim += 1\n",
    "                \n",
    "        else:\n",
    "            for doc_ids in val:\n",
    "                for doc_id in doc_ids:\n",
    "                    if doc_id in df_claims.iloc[index_claim]['cited_doc_ids']:\n",
    "                        count_element+=1\n",
    "                    total += 1\n",
    "                index_claim += 1\n",
    "                    \n",
    "        \n",
    "        precision = count_element/total        \n",
    "        bm25_precisions.append(precision)\n",
    "        \n",
    "    return bm25_precisions\n",
    "\n",
    "\n",
    "texts_bm25_precision = BM25_precision(top_text_ids, df_claims)\n",
    "titles_bm25_precision = BM25_precision(top_titles_ids, df_claims)\n",
    "abstracts_bm25_precision = BM25_precision(top_abstract_ids, df_claims)\n",
    "                \n",
    "    \n",
    "texts_bm25_precision  \n",
    "# END TODO"
   ]
  },
  {
   "cell_type": "markdown",
   "metadata": {},
   "source": [
    "##### 3.4 Graphique (4 points)\n",
    "\n",
    "Dans un même graphique, affichez les performances pour les deux modèles (TF-IDF et BM25) dans la recherche des documents (text, title et abstract) pour les affirmations."
   ]
  },
  {
   "cell_type": "code",
   "execution_count": 47,
   "metadata": {},
   "outputs": [
    {
     "data": {
      "image/png": "[encoded data removed]",
      "text/plain": [
       "<Figure size 1000x600 with 1 Axes>"
      ]
     },
     "metadata": {},
     "output_type": "display_data"
    }
   ],
   "source": [
    "# TODO\n",
    "n_values = [1, 3, 5]\n",
    "plt.figure(figsize=(10, 6))\n",
    "plt.plot(n_values, titles_precisions.values(), label='Titles TF-IDF', marker='o', linestyle='--', color='blue')\n",
    "plt.plot(n_values, titles_bm25_precision, label='Titles BM25', marker='o', linestyle='-', color='blue')\n",
    "plt.plot(n_values, abstracts_precisions.values(), label='Abstracts TF-IDF', marker='o', linestyle='--', color='red')\n",
    "plt.plot(n_values, abstracts_bm25_precision, label='Abstracts BM25', marker='o', linestyle='-', color='red')\n",
    "plt.plot(n_values, texts_precisions.values(), label='Texts TF-IDF', marker='o', linestyle='--', color='green')\n",
    "plt.plot(n_values, texts_bm25_precision, label='Texts BM25', marker='o', linestyle='-', color='green')\n",
    "\n",
    "plt.xlabel('Top-N')\n",
    "plt.ylabel('Précision')\n",
    "plt.title('Précision des documents (title, abstract, text) pour différents N (1,3,5)')\n",
    "plt.xticks(n_values)\n",
    "plt.grid(True)\n",
    "plt.legend()\n",
    "plt.show()\n",
    "# END TODO"
   ]
  },
  {
   "cell_type": "markdown",
   "metadata": {},
   "source": [
    "##### 3.5 Observation (4 points)\n",
    "\n",
    "Par rapport à vos résultats avec TF-IDF, observez-vous une amélioration ou une détérioration des performances, qu'est ce qui explique cela ? (Donnez au moins trois justifications)"
   ]
  },
  {
   "cell_type": "markdown",
   "metadata": {
    "id": "DVYiuH8aeB8x"
   },
   "source": [
    "## Livrables\n",
    "Vous devez remettre votre notebook sur Moodle et Gradescope en ipynb et pdf. Pour Gradescope vous devez associer les numéros de questions avec vos réponses dans le pdf grâce à l'outil que fournit Gradescope.\n",
    "\n",
    "\n",
    "## Évaluation \n",
    "Votre TP sera évalué selon les critères suivants :\n",
    "1. Exécution correcte du code et obtention des sorties attendues\n",
    "2. Réponses correctes aux questions d'analyse\n",
    "3. Qualité du code (noms significatifs, structure, performance, gestion d’exception, etc.)\n",
    "4. Commentaires clairs et informatifs\n"
   ]
  }
 ],
 "metadata": {
  "colab": {
   "collapsed_sections": [
    "1tMX8go24rB_",
    "4ItqD8yL-utW",
    "0kzLIzqD-vp7",
    "VIRjMFlY-wHL",
    "R41oj9nI-wwi",
    "3FibZKYkHi06"
   ],
   "name": "TP2 solution.ipynb",
   "provenance": []
  },
  "kernelspec": {
   "display_name": "Python 3",
   "language": "python",
   "name": "python3"
  },
  "language_info": {
   "codemirror_mode": {
    "name": "ipython",
    "version": 3
   },
   "file_extension": ".py",
   "mimetype": "text/x-python",
   "name": "python",
   "nbconvert_exporter": "python",
   "pygments_lexer": "ipython3",
   "version": "3.12.3"
  }
 },
 "nbformat": 4,
 "nbformat_minor": 1
}
