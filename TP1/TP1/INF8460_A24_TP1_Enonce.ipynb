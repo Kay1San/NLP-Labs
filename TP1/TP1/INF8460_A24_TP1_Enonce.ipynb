{
 "cells": [
  {
   "cell_type": "markdown",
   "metadata": {
    "id": "znlt8jyJKg-5"
   },
   "source": [
    "##### INF8460 – Traitement automatique de la langue naturelle - Automne 2024\n",
    "### TP1 - Recherche de documents avec une métrique de similarité\n"
   ]
  },
  {
   "cell_type": "markdown",
   "metadata": {},
   "source": [
    "## Identification de l'équipe:\n",
    "\n",
    "### Groupe de laboratoire:\n",
    "\n",
    "### Equipe numéro :\n",
    "\n",
    "### Membres:\n",
    "\n",
    "- membre 1 (% de contribution, nature de la contribution)\n",
    "- membre 2 (% de contribution, nature de la contribution)\n",
    "- membre 3 (% de contribution, nature de la contribution)\n",
    "\n",
    "* nature de la contribution: Décrivez brièvement ce qui a été fait par chaque membre de l’équipe. Tous les membres sont censés contribuer au développement. Bien que chaque membre puisse effectuer différentes tâches, vous devez vous efforcer d’obtenir une répartition égale du travail. Soyez précis ! N'indiquez pas seulement : travail réparti équitablement"
   ]
  },
  {
   "cell_type": "markdown",
   "metadata": {},
   "source": [
    "## Mise en place"
   ]
  },
  {
   "cell_type": "markdown",
   "metadata": {},
   "source": [
    "### Objectif du TP\n",
    "\n",
    "La recherche d'information est le processus d'accès aux données, généralement des documents ou d'autres données non structurées, à partir d'une requête. Dans ce TP, vous aurez en entrée une requête textuelle sous forme d'affirmation. Il faudra retrouver dans un corpus de littérature scientifique les documents pertinents qui justifient ou infirment la véracité de cette affirmation. Vous utiliserez des modèles vectoriels et des métriques de similarité pour cette tâche."
   ]
  },
  {
   "cell_type": "markdown",
   "metadata": {},
   "source": [
    "### Jeux de données\n",
    "\n",
    "Dans ce TP, vous utiliserez le jeu de données dans le répertoire _data_. Il s'agit d'un ensemble de données comprenant 809 affirmations rédigées par des experts et 5183 documents de références pour ces affirmations. Ces documents contiennent des phrases qui confirment ou infirment (contredisent) les affirmations. L'objectif est donc de trouver un document pertinent, c'est-à-dire contenant la ou les phrases qui permettent d'évaluer une affirmation donnée en entrée en utilisant une similarité sémantique. \n",
    "\n",
    "Le jeu de données comprend :\n",
    "\n",
    "1. Un corpus (_corpus.jsonl_) qui contient des documents décrits avec les informations suivantes :\n",
    "    - 'doc_id' : permet d'identifier le document en entrée\n",
    "    - 'title' : donne le titre du document\n",
    "    - 'abstract': est le résumé du document\n",
    "    - 'structured': indique si le document est structuré ou pas\n",
    "\n",
    "2. Un ensemble d'affirmations (_claims.jsonl_) qui contient des documents décrits avec les informations suivantes :\n",
    "    - 'id' : identifie l'affirmation.\n",
    "    - 'claim' : est l'affirmation en tant que telle.\n",
    "    - 'evidence' : précise quelles phrases du document sont pertinentes pour l'affirmation. Chaque phrase est accompagnée d'une étiquette de véracité (confirm/contradict) pour indiquer si la phrase confirme ou contredit l'affirmation.  \n",
    "    - 'cited_doc_ids' : indique les identifiants des documents cités.\n",
    "\n",
    "\n",
    "\n",
    "Dans _claims.jsonl_, seuls les identifiants des documents sont renseignés. Pour avoir les détails d'un document tel que le titre (\"title\") et le résumé (\"abstract\"), il faudra consulter le fichier _corpus.jsonl_. \n",
    "\n",
    "Voici un exemple :\n",
    "\n",
    "- **Affirmation (claim)** : Consumption of whole fruits increases the risk of type 2 diabetes.\n",
    "- **Cited document(s) ID(s)** : 1974176\n",
    "- **Evidence (sentence in the document containing the proof)** : [{'sentences': [11], 'label': 'CONTRADICT'}]\n",
    "\n",
    "  Ici [11] constitue le numéro de la phrase qui contredit l'affirmation.\n",
    "\n",
    "- **Cited document(s) title(s)** : Fruit consumption and risk of type 2 diabetes: results from three prospective longitudinal cohort studies\n",
    "- **Cited document(s) abstract(s) (list of sentences)** : \n",
    "    - [0] 'OBJECTIVE To determine whether individual fruits are differentially associated with risk of type 2 diabetes.\\n'\n",
    "    - [1] 'DESIGN Prospective longitudinal cohort study.'\n",
    "    - ...\n",
    "    - [10] 'CONCLUSION Our findings suggest the presence of heterogeneity in the associations between individual fruit consumption and risk of type 2 diabetes.'\n",
    "    - [11] 'Greater consumption of specific whole fruits, particularly blueberries, grapes, and apples, is significantly associated with a lower risk of type 2 diabetes, whereas greater consumption of fruit juice is associated with a higher risk.'\n",
    "\n",
    "Le champ \"evidence\" indique la phrase au niveau du résumé du document qui confirme ou infirme l'affirmation, d'où le numéro de la phrase et le label qui y sont renseignés. Dans le cas particulier de l'exemple ci-dessus, on voit bien que la onzième phrase du résumé du document est la plus pertinente pour l'affirmation et qu'elle la contredit, ce qui explique le label \"CONTRADICT\" dans \"evidence\". Cependant, dans le cadre de ce TP, on ne s'intéresse qu'à la présence de cette phrase pertinente dans le document, donc on ne considérera pas cette colonne \"evidence\" dans la suite du TP."
   ]
  },
  {
   "cell_type": "markdown",
   "metadata": {
    "id": "26Qe_-7z25EE"
   },
   "source": [
    "### Librairies permises\n",
    "- Jupyter notebook\n",
    "- NLTK\n",
    "- Numpy \n",
    "- Pandas\n",
    "- Sklearn\n",
    "- PowerLaw\n",
    "- Matplotlib\n",
    "- TQDM\n",
    "- BM25\n",
    "- Pour toute autre librairie, demandez à votre chargé de laboratoire"
   ]
  },
  {
   "cell_type": "markdown",
   "metadata": {
    "id": "zupXN9tr3oEa"
   },
   "source": [
    "## Étapes du TP\n",
    "A partir du notebook _INF8460_A24_TP1_ qui est distribué, vous devez réaliser les étapes suivantes. (Notez que les cellules dans le squelette sont là à titre informatif - il est fort probable que vous rajoutiez des sections au fur et à mesure de votre TP)."
   ]
  },
  {
   "cell_type": "code",
   "execution_count": 1,
   "metadata": {},
   "outputs": [],
   "source": [
    "# Lien vers les fichiers à utiliser\n",
    "# Ne pas modifier\n",
    "\n",
    "PATH = 'data/ai2_data/'"
   ]
  },
  {
   "cell_type": "code",
   "execution_count": 2,
   "metadata": {},
   "outputs": [],
   "source": [
    "#!pip install rank_bm25 \n",
    "#!pip install powerlaw"
   ]
  },
  {
   "cell_type": "code",
   "execution_count": 41,
   "metadata": {},
   "outputs": [],
   "source": [
    "# Import des librairies\n",
    "\n",
    "import numpy as np\n",
    "import pandas as pd\n",
    "import powerlaw\n",
    "from collections import defaultdict, Counter\n",
    "from tqdm import tqdm\n",
    "import matplotlib.pyplot as plt\n",
    "from typing import List, Dict\n",
    "\n",
    "import nltk\n",
    "from nltk.tokenize import word_tokenize\n",
    "from nltk.stem.porter import PorterStemmer\n",
    "from nltk.corpus import stopwords\n",
    "from string import punctuation\n",
    "\n",
    "import sklearn\n",
    "from sklearn.feature_extraction.text import TfidfVectorizer\n",
    "from sklearn.metrics.pairwise import cosine_similarity\n",
    "\n",
    "from rank_bm25 import BM25Okapi"
   ]
  },
  {
   "cell_type": "code",
   "execution_count": 3,
   "metadata": {},
   "outputs": [
    {
     "name": "stderr",
     "output_type": "stream",
     "text": [
      "[nltk_data] Downloading package punkt to\n",
      "[nltk_data]     C:\\Users\\K-1\\AppData\\Roaming\\nltk_data...\n",
      "[nltk_data]   Package punkt is already up-to-date!\n",
      "[nltk_data] Downloading package stopwords to\n",
      "[nltk_data]     C:\\Users\\K-1\\AppData\\Roaming\\nltk_data...\n",
      "[nltk_data]   Package stopwords is already up-to-date!\n"
     ]
    }
   ],
   "source": [
    "nltk.download('punkt')\n",
    "nltk.download('stopwords')\n",
    "stop_words = stopwords.words('english')"
   ]
  },
  {
   "cell_type": "markdown",
   "metadata": {},
   "source": [
    "### 1. Traitement des données (15 points)\n",
    "Vous allez effectuer une analyse afin d'avoir une idée claire des données que vous aurez à manipuler."
   ]
  },
  {
   "cell_type": "markdown",
   "metadata": {},
   "source": [
    "#### 1.1 Chargement des données (2 points)"
   ]
  },
  {
   "cell_type": "markdown",
   "metadata": {},
   "source": [
    "##### 1.1.1 Chargement et affichage des données (1 point)\n",
    "\n",
    "Chargez les données '_claims.jsonl_' et '_corpus.jsonl_' puis affichez-les dans des dataframes en utilisant panda."
   ]
  },
  {
   "cell_type": "code",
   "execution_count": 4,
   "metadata": {},
   "outputs": [
    {
     "data": {
      "text/html": [
       "<div>\n",
       "<style scoped>\n",
       "    .dataframe tbody tr th:only-of-type {\n",
       "        vertical-align: middle;\n",
       "    }\n",
       "\n",
       "    .dataframe tbody tr th {\n",
       "        vertical-align: top;\n",
       "    }\n",
       "\n",
       "    .dataframe thead th {\n",
       "        text-align: right;\n",
       "    }\n",
       "</style>\n",
       "<table border=\"1\" class=\"dataframe\">\n",
       "  <thead>\n",
       "    <tr style=\"text-align: right;\">\n",
       "      <th></th>\n",
       "      <th>id</th>\n",
       "      <th>claim</th>\n",
       "      <th>evidence</th>\n",
       "      <th>cited_doc_ids</th>\n",
       "    </tr>\n",
       "  </thead>\n",
       "  <tbody>\n",
       "    <tr>\n",
       "      <th>0</th>\n",
       "      <td>0</td>\n",
       "      <td>0-dimensional biomaterials lack inductive prop...</td>\n",
       "      <td>{}</td>\n",
       "      <td>[31715818]</td>\n",
       "    </tr>\n",
       "    <tr>\n",
       "      <th>1</th>\n",
       "      <td>2</td>\n",
       "      <td>1 in 5 million in UK have abnormal PrP positiv...</td>\n",
       "      <td>{'13734012': [{'sentences': [4], 'label': 'CON...</td>\n",
       "      <td>[13734012]</td>\n",
       "    </tr>\n",
       "    <tr>\n",
       "      <th>2</th>\n",
       "      <td>4</td>\n",
       "      <td>1-1% of colorectal cancer patients are diagnos...</td>\n",
       "      <td>{}</td>\n",
       "      <td>[22942787]</td>\n",
       "    </tr>\n",
       "    <tr>\n",
       "      <th>3</th>\n",
       "      <td>6</td>\n",
       "      <td>10% of sudden infant death syndrome (SIDS) dea...</td>\n",
       "      <td>{}</td>\n",
       "      <td>[2613775]</td>\n",
       "    </tr>\n",
       "    <tr>\n",
       "      <th>4</th>\n",
       "      <td>9</td>\n",
       "      <td>32% of liver transplantation programs required...</td>\n",
       "      <td>{'44265107': [{'sentences': [15], 'label': 'SU...</td>\n",
       "      <td>[44265107]</td>\n",
       "    </tr>\n",
       "    <tr>\n",
       "      <th>...</th>\n",
       "      <td>...</td>\n",
       "      <td>...</td>\n",
       "      <td>...</td>\n",
       "      <td>...</td>\n",
       "    </tr>\n",
       "    <tr>\n",
       "      <th>804</th>\n",
       "      <td>1403</td>\n",
       "      <td>siRNA knockdown of A20 accelerates tumor progr...</td>\n",
       "      <td>{'33370': [{'sentences': [6], 'label': 'CONTRA...</td>\n",
       "      <td>[33370, 38355793]</td>\n",
       "    </tr>\n",
       "    <tr>\n",
       "      <th>805</th>\n",
       "      <td>1404</td>\n",
       "      <td>siRNA knockdown of A20 slows tumor progression...</td>\n",
       "      <td>{'33370': [{'sentences': [6], 'label': 'SUPPOR...</td>\n",
       "      <td>[33370, 38355793]</td>\n",
       "    </tr>\n",
       "    <tr>\n",
       "      <th>806</th>\n",
       "      <td>1405</td>\n",
       "      <td>taa1 tar1 tar2 triple mutants in Arabidopsis d...</td>\n",
       "      <td>{}</td>\n",
       "      <td>[10504681]</td>\n",
       "    </tr>\n",
       "    <tr>\n",
       "      <th>807</th>\n",
       "      <td>1406</td>\n",
       "      <td>β-sheet opening occurs during pleurotolysin po...</td>\n",
       "      <td>{'2617858': [{'sentences': [4], 'label': 'SUPP...</td>\n",
       "      <td>[2617858]</td>\n",
       "    </tr>\n",
       "    <tr>\n",
       "      <th>808</th>\n",
       "      <td>1407</td>\n",
       "      <td>β1/Ketel is able to bind microtubules.</td>\n",
       "      <td>{}</td>\n",
       "      <td>[8087082, 29863668]</td>\n",
       "    </tr>\n",
       "  </tbody>\n",
       "</table>\n",
       "<p>809 rows × 4 columns</p>\n",
       "</div>"
      ],
      "text/plain": [
       "       id                                              claim  \\\n",
       "0       0  0-dimensional biomaterials lack inductive prop...   \n",
       "1       2  1 in 5 million in UK have abnormal PrP positiv...   \n",
       "2       4  1-1% of colorectal cancer patients are diagnos...   \n",
       "3       6  10% of sudden infant death syndrome (SIDS) dea...   \n",
       "4       9  32% of liver transplantation programs required...   \n",
       "..    ...                                                ...   \n",
       "804  1403  siRNA knockdown of A20 accelerates tumor progr...   \n",
       "805  1404  siRNA knockdown of A20 slows tumor progression...   \n",
       "806  1405  taa1 tar1 tar2 triple mutants in Arabidopsis d...   \n",
       "807  1406  β-sheet opening occurs during pleurotolysin po...   \n",
       "808  1407             β1/Ketel is able to bind microtubules.   \n",
       "\n",
       "                                              evidence        cited_doc_ids  \n",
       "0                                                   {}           [31715818]  \n",
       "1    {'13734012': [{'sentences': [4], 'label': 'CON...           [13734012]  \n",
       "2                                                   {}           [22942787]  \n",
       "3                                                   {}            [2613775]  \n",
       "4    {'44265107': [{'sentences': [15], 'label': 'SU...           [44265107]  \n",
       "..                                                 ...                  ...  \n",
       "804  {'33370': [{'sentences': [6], 'label': 'CONTRA...    [33370, 38355793]  \n",
       "805  {'33370': [{'sentences': [6], 'label': 'SUPPOR...    [33370, 38355793]  \n",
       "806                                                 {}           [10504681]  \n",
       "807  {'2617858': [{'sentences': [4], 'label': 'SUPP...            [2617858]  \n",
       "808                                                 {}  [8087082, 29863668]  \n",
       "\n",
       "[809 rows x 4 columns]"
      ]
     },
     "execution_count": 4,
     "metadata": {},
     "output_type": "execute_result"
    }
   ],
   "source": [
    "# TODO\n",
    "df_claims = pd.read_json(f'{PATH}/claims.jsonl', lines = True)\n",
    "df_corpus = pd.read_json(f'{PATH}/corpus.jsonl', lines = True)\n",
    "df_claims\n",
    "# END TODO"
   ]
  },
  {
   "cell_type": "markdown",
   "metadata": {},
   "source": [
    "##### 1.1.2 Statistique sur les évidences (1 point)\n",
    "\n",
    "Calculez les pourcentages d'apparition de chaque label des évidences dans \"_df_claims_\" (CONTRADICT ou SUPPORT). Pour rappel les évidences sont les extraits pertinents des résumés qui supportent ou contredisent les affirmations. "
   ]
  },
  {
   "cell_type": "code",
   "execution_count": 5,
   "metadata": {},
   "outputs": [
    {
     "data": {
      "text/plain": [
       "(34.39716312056738, 65.60283687943263)"
      ]
     },
     "execution_count": 5,
     "metadata": {},
     "output_type": "execute_result"
    }
   ],
   "source": [
    "# On calcule les pourcentages des labels present dans evidence\n",
    "# TODO\n",
    "\n",
    "sum_contradict = 0\n",
    "sum_support = 0\n",
    "total = 0\n",
    "for index, row in df_claims.iterrows():\n",
    "    #print(row['evidence'].keys())\n",
    "    #print('-----------------------')\n",
    "    cite_doc_id = row['cited_doc_ids']\n",
    "    if row['evidence']:\n",
    "        for doc_id in cite_doc_id:\n",
    "            #print(doc_id)\n",
    "            if str(doc_id) in row['evidence'].keys():\n",
    "                label = row['evidence'][f'{doc_id}'][0]['label']\n",
    "                #print(label)\n",
    "                total += 1\n",
    "                if label == 'CONTRADICT':\n",
    "                    sum_contradict += 1\n",
    "                else:\n",
    "                    sum_support += 1\n",
    "                \n",
    "\n",
    "\n",
    "prob_contradict = (sum_contradict/total)*100\n",
    "prob_support = (sum_support/total)*100\n",
    "\n",
    "prob_contradict, prob_support\n",
    "# END TODO"
   ]
  },
  {
   "cell_type": "markdown",
   "metadata": {},
   "source": [
    "> Réponse attendue:\n",
    "> \n",
    "> CONTRADICT: 35.63%\n",
    "> \n",
    "> SUPPORT: 64.37%"
   ]
  },
  {
   "cell_type": "markdown",
   "metadata": {},
   "source": [
    "#### 1.2 Analyse statistique des données (7 points)\n",
    "\n",
    "Nous allons faire une suite de transformations sur les données pour les rendre plus faciles à manipuler."
   ]
  },
  {
   "cell_type": "markdown",
   "metadata": {},
   "source": [
    "##### 1.2.1 Implémentation de la fonction \"_list_to_string_\" \n",
    "\n",
    "Nous mettons à votre disposition la fonction \"_list_to_string_\" qui transforme une liste de phrases en un texte en les concaténant et enlèvant tous les caractères de nouvelle ligne (`\\n`) pour s'assurer que nous avons un texte complet. "
   ]
  },
  {
   "cell_type": "code",
   "execution_count": 6,
   "metadata": {},
   "outputs": [],
   "source": [
    "# On transforme la liste de phrases en un texte\n",
    "def list_to_string(x):\n",
    "    if isinstance(x, list):\n",
    "        return ' '.join(str(i).replace(\"\\n\",\"\").replace(\"  \",\" \") for i in x)  # Enlève les caractère de retour à la ligne et convertit les éléments de la liste en chaînes et les joint\n",
    "    return str(x)"
   ]
  },
  {
   "cell_type": "markdown",
   "metadata": {},
   "source": [
    "##### 1.2.2 Utilisation de la fonction \"_list_to_string_\" \n",
    "\n",
    "Appliquons cette fonction \"_list_to_string_\" aux colonnes \"_title_\" et \"abstract\" du dataframe \"_df_corpus_\"."
   ]
  },
  {
   "cell_type": "code",
   "execution_count": 7,
   "metadata": {},
   "outputs": [],
   "source": [
    "# On applique la fonction aux colonnes \"title\" et \"abstract\"\n",
    "df_corpus['title']    = df_corpus['title'].apply(list_to_string)\n",
    "df_corpus['abstract'] = df_corpus['abstract'].apply(list_to_string)"
   ]
  },
  {
   "cell_type": "code",
   "execution_count": 8,
   "metadata": {},
   "outputs": [
    {
     "data": {
      "text/plain": [
       "0       Microstructural development of human newborn c...\n",
       "1       Induction of myelodysplasia by myeloid-derived...\n",
       "2       BC1 RNA, the transcript from a master gene for...\n",
       "3       The DNA Methylome of Human Peripheral Blood Mo...\n",
       "4       The human myelin basic protein gene is include...\n",
       "                              ...                        \n",
       "5178    Body-mass index and cause-specific mortality i...\n",
       "5179    Targeting metabolic remodeling in glioblastoma...\n",
       "5180    Signaling architectures that transmit unidirec...\n",
       "5181    Association between pre-diabetes, type 2 diabe...\n",
       "5182    Adhesion molecules and chemokines: relation to...\n",
       "Name: title, Length: 5183, dtype: object"
      ]
     },
     "execution_count": 8,
     "metadata": {},
     "output_type": "execute_result"
    }
   ],
   "source": [
    "df_corpus['title']"
   ]
  },
  {
   "cell_type": "markdown",
   "metadata": {},
   "source": [
    "##### 1.2.3 Ajout de la colonne \"_text_\" dans \"df_corpus\"\n",
    "\n",
    "\n",
    "Ajoutons maintenant une colonne \"_text_\" qui est la concaténation du titre (\"_title_\") et du résumé (\"_abstract_\") au niveau du dataframe \"df_corpus\"."
   ]
  },
  {
   "cell_type": "code",
   "execution_count": 9,
   "metadata": {},
   "outputs": [
    {
     "data": {
      "text/plain": [
       "0       Microstructural development of human newborn c...\n",
       "1       Induction of myelodysplasia by myeloid-derived...\n",
       "2       BC1 RNA, the transcript from a master gene for...\n",
       "3       The DNA Methylome of Human Peripheral Blood Mo...\n",
       "4       The human myelin basic protein gene is include...\n",
       "                              ...                        \n",
       "5178    Body-mass index and cause-specific mortality i...\n",
       "5179    Targeting metabolic remodeling in glioblastoma...\n",
       "5180    Signaling architectures that transmit unidirec...\n",
       "5181    Association between pre-diabetes, type 2 diabe...\n",
       "5182    Adhesion molecules and chemokines: relation to...\n",
       "Name: text, Length: 5183, dtype: object"
      ]
     },
     "execution_count": 9,
     "metadata": {},
     "output_type": "execute_result"
    }
   ],
   "source": [
    "# On concatene les textes dans \"title\" et \"abstract\"\n",
    "df_corpus['text'] = df_corpus['title'] + \" \" + df_corpus['abstract']\n",
    "df_corpus['text']"
   ]
  },
  {
   "cell_type": "markdown",
   "metadata": {},
   "source": [
    "##### 1.2.4 Ajout de colonnes dans \"_df_claims_\" (1 point)\n",
    "\n",
    "Ajoutez les colonnes \"_claim_length_\" et \"_num_cited_doc_\" qui donnent, pour chaque affirmation, le nombre de mots dans la colonne \"_claim_\" et le nombre de documents cités au niveau de la colonne \"_cited_doc_ids_\" pour le dataframe \"_df_claims_\". Vous pouvez considérer que des mots sont simplement une séquence de caractères séparés par un espace."
   ]
  },
  {
   "cell_type": "code",
   "execution_count": 10,
   "metadata": {},
   "outputs": [
    {
     "data": {
      "text/html": [
       "<div>\n",
       "<style scoped>\n",
       "    .dataframe tbody tr th:only-of-type {\n",
       "        vertical-align: middle;\n",
       "    }\n",
       "\n",
       "    .dataframe tbody tr th {\n",
       "        vertical-align: top;\n",
       "    }\n",
       "\n",
       "    .dataframe thead th {\n",
       "        text-align: right;\n",
       "    }\n",
       "</style>\n",
       "<table border=\"1\" class=\"dataframe\">\n",
       "  <thead>\n",
       "    <tr style=\"text-align: right;\">\n",
       "      <th></th>\n",
       "      <th>id</th>\n",
       "      <th>claim</th>\n",
       "      <th>evidence</th>\n",
       "      <th>cited_doc_ids</th>\n",
       "      <th>num_cited_doc</th>\n",
       "      <th>claim_length</th>\n",
       "    </tr>\n",
       "  </thead>\n",
       "  <tbody>\n",
       "    <tr>\n",
       "      <th>0</th>\n",
       "      <td>0</td>\n",
       "      <td>0-dimensional biomaterials lack inductive prop...</td>\n",
       "      <td>{}</td>\n",
       "      <td>[31715818]</td>\n",
       "      <td>1</td>\n",
       "      <td>5</td>\n",
       "    </tr>\n",
       "    <tr>\n",
       "      <th>1</th>\n",
       "      <td>2</td>\n",
       "      <td>1 in 5 million in UK have abnormal PrP positiv...</td>\n",
       "      <td>{'13734012': [{'sentences': [4], 'label': 'CON...</td>\n",
       "      <td>[13734012]</td>\n",
       "      <td>1</td>\n",
       "      <td>10</td>\n",
       "    </tr>\n",
       "    <tr>\n",
       "      <th>2</th>\n",
       "      <td>4</td>\n",
       "      <td>1-1% of colorectal cancer patients are diagnos...</td>\n",
       "      <td>{}</td>\n",
       "      <td>[22942787]</td>\n",
       "      <td>1</td>\n",
       "      <td>12</td>\n",
       "    </tr>\n",
       "    <tr>\n",
       "      <th>3</th>\n",
       "      <td>6</td>\n",
       "      <td>10% of sudden infant death syndrome (SIDS) dea...</td>\n",
       "      <td>{}</td>\n",
       "      <td>[2613775]</td>\n",
       "      <td>1</td>\n",
       "      <td>16</td>\n",
       "    </tr>\n",
       "    <tr>\n",
       "      <th>4</th>\n",
       "      <td>9</td>\n",
       "      <td>32% of liver transplantation programs required...</td>\n",
       "      <td>{'44265107': [{'sentences': [15], 'label': 'SU...</td>\n",
       "      <td>[44265107]</td>\n",
       "      <td>1</td>\n",
       "      <td>13</td>\n",
       "    </tr>\n",
       "    <tr>\n",
       "      <th>...</th>\n",
       "      <td>...</td>\n",
       "      <td>...</td>\n",
       "      <td>...</td>\n",
       "      <td>...</td>\n",
       "      <td>...</td>\n",
       "      <td>...</td>\n",
       "    </tr>\n",
       "    <tr>\n",
       "      <th>804</th>\n",
       "      <td>1403</td>\n",
       "      <td>siRNA knockdown of A20 accelerates tumor progr...</td>\n",
       "      <td>{'33370': [{'sentences': [6], 'label': 'CONTRA...</td>\n",
       "      <td>[33370, 38355793]</td>\n",
       "      <td>2</td>\n",
       "      <td>14</td>\n",
       "    </tr>\n",
       "    <tr>\n",
       "      <th>805</th>\n",
       "      <td>1404</td>\n",
       "      <td>siRNA knockdown of A20 slows tumor progression...</td>\n",
       "      <td>{'33370': [{'sentences': [6], 'label': 'SUPPOR...</td>\n",
       "      <td>[33370, 38355793]</td>\n",
       "      <td>2</td>\n",
       "      <td>14</td>\n",
       "    </tr>\n",
       "    <tr>\n",
       "      <th>806</th>\n",
       "      <td>1405</td>\n",
       "      <td>taa1 tar1 tar2 triple mutants in Arabidopsis d...</td>\n",
       "      <td>{}</td>\n",
       "      <td>[10504681]</td>\n",
       "      <td>1</td>\n",
       "      <td>14</td>\n",
       "    </tr>\n",
       "    <tr>\n",
       "      <th>807</th>\n",
       "      <td>1406</td>\n",
       "      <td>β-sheet opening occurs during pleurotolysin po...</td>\n",
       "      <td>{'2617858': [{'sentences': [4], 'label': 'SUPP...</td>\n",
       "      <td>[2617858]</td>\n",
       "      <td>1</td>\n",
       "      <td>7</td>\n",
       "    </tr>\n",
       "    <tr>\n",
       "      <th>808</th>\n",
       "      <td>1407</td>\n",
       "      <td>β1/Ketel is able to bind microtubules.</td>\n",
       "      <td>{}</td>\n",
       "      <td>[8087082, 29863668]</td>\n",
       "      <td>2</td>\n",
       "      <td>6</td>\n",
       "    </tr>\n",
       "  </tbody>\n",
       "</table>\n",
       "<p>809 rows × 6 columns</p>\n",
       "</div>"
      ],
      "text/plain": [
       "       id                                              claim  \\\n",
       "0       0  0-dimensional biomaterials lack inductive prop...   \n",
       "1       2  1 in 5 million in UK have abnormal PrP positiv...   \n",
       "2       4  1-1% of colorectal cancer patients are diagnos...   \n",
       "3       6  10% of sudden infant death syndrome (SIDS) dea...   \n",
       "4       9  32% of liver transplantation programs required...   \n",
       "..    ...                                                ...   \n",
       "804  1403  siRNA knockdown of A20 accelerates tumor progr...   \n",
       "805  1404  siRNA knockdown of A20 slows tumor progression...   \n",
       "806  1405  taa1 tar1 tar2 triple mutants in Arabidopsis d...   \n",
       "807  1406  β-sheet opening occurs during pleurotolysin po...   \n",
       "808  1407             β1/Ketel is able to bind microtubules.   \n",
       "\n",
       "                                              evidence        cited_doc_ids  \\\n",
       "0                                                   {}           [31715818]   \n",
       "1    {'13734012': [{'sentences': [4], 'label': 'CON...           [13734012]   \n",
       "2                                                   {}           [22942787]   \n",
       "3                                                   {}            [2613775]   \n",
       "4    {'44265107': [{'sentences': [15], 'label': 'SU...           [44265107]   \n",
       "..                                                 ...                  ...   \n",
       "804  {'33370': [{'sentences': [6], 'label': 'CONTRA...    [33370, 38355793]   \n",
       "805  {'33370': [{'sentences': [6], 'label': 'SUPPOR...    [33370, 38355793]   \n",
       "806                                                 {}           [10504681]   \n",
       "807  {'2617858': [{'sentences': [4], 'label': 'SUPP...            [2617858]   \n",
       "808                                                 {}  [8087082, 29863668]   \n",
       "\n",
       "     num_cited_doc  claim_length  \n",
       "0                1             5  \n",
       "1                1            10  \n",
       "2                1            12  \n",
       "3                1            16  \n",
       "4                1            13  \n",
       "..             ...           ...  \n",
       "804              2            14  \n",
       "805              2            14  \n",
       "806              1            14  \n",
       "807              1             7  \n",
       "808              2             6  \n",
       "\n",
       "[809 rows x 6 columns]"
      ]
     },
     "execution_count": 10,
     "metadata": {},
     "output_type": "execute_result"
    }
   ],
   "source": [
    "# TODO\n",
    "def total_ref(x):\n",
    "    return len(x)\n",
    "\n",
    "def total_words(x):\n",
    "    return len(x.split())\n",
    "    \n",
    "df_claims['num_cited_doc'] = df_claims['cited_doc_ids'].apply(total_ref)\n",
    "df_claims['claim_length'] = df_claims['claim'].apply(total_words)\n",
    "df_claims\n",
    "# END TODO"
   ]
  },
  {
   "cell_type": "markdown",
   "metadata": {},
   "source": [
    "##### 1.2.5 Ajout des colonnes de mesures de longeurs de textes (documents) (1 point)\n",
    "\n",
    "Ajoutez les colonnes \"_title_length_\", \"_abstract_length_\" et \"_text_length_\" qui donnent le nombre de mots dans les colonnes \"_title_\", \"_abstract_\" et \"_text_\" du dataframe \"_df_corpus_\". Pour le reste du TP, nous définirons la longueur du \"_title_\", \"_abstract_\" et du \"_text_\" comme étant le nombre de mots dans les chaînes de caractères respectives. Encore une fois, vous pouvez considérer que des mots sont simplement une séquence de caractères séparés par un espace."
   ]
  },
  {
   "cell_type": "code",
   "execution_count": 11,
   "metadata": {},
   "outputs": [
    {
     "data": {
      "text/html": [
       "<div>\n",
       "<style scoped>\n",
       "    .dataframe tbody tr th:only-of-type {\n",
       "        vertical-align: middle;\n",
       "    }\n",
       "\n",
       "    .dataframe tbody tr th {\n",
       "        vertical-align: top;\n",
       "    }\n",
       "\n",
       "    .dataframe thead th {\n",
       "        text-align: right;\n",
       "    }\n",
       "</style>\n",
       "<table border=\"1\" class=\"dataframe\">\n",
       "  <thead>\n",
       "    <tr style=\"text-align: right;\">\n",
       "      <th></th>\n",
       "      <th>doc_id</th>\n",
       "      <th>title</th>\n",
       "      <th>abstract</th>\n",
       "      <th>structured</th>\n",
       "      <th>text</th>\n",
       "    </tr>\n",
       "  </thead>\n",
       "  <tbody>\n",
       "    <tr>\n",
       "      <th>0</th>\n",
       "      <td>4983</td>\n",
       "      <td>Microstructural development of human newborn c...</td>\n",
       "      <td>Alterations of the architecture of cerebral wh...</td>\n",
       "      <td>False</td>\n",
       "      <td>Microstructural development of human newborn c...</td>\n",
       "    </tr>\n",
       "    <tr>\n",
       "      <th>1</th>\n",
       "      <td>5836</td>\n",
       "      <td>Induction of myelodysplasia by myeloid-derived...</td>\n",
       "      <td>Myelodysplastic syndromes (MDS) are age-depend...</td>\n",
       "      <td>False</td>\n",
       "      <td>Induction of myelodysplasia by myeloid-derived...</td>\n",
       "    </tr>\n",
       "    <tr>\n",
       "      <th>2</th>\n",
       "      <td>7912</td>\n",
       "      <td>BC1 RNA, the transcript from a master gene for...</td>\n",
       "      <td>ID elements are short interspersed elements (S...</td>\n",
       "      <td>False</td>\n",
       "      <td>BC1 RNA, the transcript from a master gene for...</td>\n",
       "    </tr>\n",
       "    <tr>\n",
       "      <th>3</th>\n",
       "      <td>18670</td>\n",
       "      <td>The DNA Methylome of Human Peripheral Blood Mo...</td>\n",
       "      <td>DNA methylation plays an important role in bio...</td>\n",
       "      <td>False</td>\n",
       "      <td>The DNA Methylome of Human Peripheral Blood Mo...</td>\n",
       "    </tr>\n",
       "    <tr>\n",
       "      <th>4</th>\n",
       "      <td>19238</td>\n",
       "      <td>The human myelin basic protein gene is include...</td>\n",
       "      <td>Two human Golli (for gene expressed in the oli...</td>\n",
       "      <td>False</td>\n",
       "      <td>The human myelin basic protein gene is include...</td>\n",
       "    </tr>\n",
       "    <tr>\n",
       "      <th>...</th>\n",
       "      <td>...</td>\n",
       "      <td>...</td>\n",
       "      <td>...</td>\n",
       "      <td>...</td>\n",
       "      <td>...</td>\n",
       "    </tr>\n",
       "    <tr>\n",
       "      <th>5178</th>\n",
       "      <td>195689316</td>\n",
       "      <td>Body-mass index and cause-specific mortality i...</td>\n",
       "      <td>BACKGROUND The main associations of body-mass ...</td>\n",
       "      <td>True</td>\n",
       "      <td>Body-mass index and cause-specific mortality i...</td>\n",
       "    </tr>\n",
       "    <tr>\n",
       "      <th>5179</th>\n",
       "      <td>195689757</td>\n",
       "      <td>Targeting metabolic remodeling in glioblastoma...</td>\n",
       "      <td>A key aberrant biological difference between t...</td>\n",
       "      <td>False</td>\n",
       "      <td>Targeting metabolic remodeling in glioblastoma...</td>\n",
       "    </tr>\n",
       "    <tr>\n",
       "      <th>5180</th>\n",
       "      <td>196664003</td>\n",
       "      <td>Signaling architectures that transmit unidirec...</td>\n",
       "      <td>A signaling pathway transmits information from...</td>\n",
       "      <td>False</td>\n",
       "      <td>Signaling architectures that transmit unidirec...</td>\n",
       "    </tr>\n",
       "    <tr>\n",
       "      <th>5181</th>\n",
       "      <td>198133135</td>\n",
       "      <td>Association between pre-diabetes, type 2 diabe...</td>\n",
       "      <td>AIMS Trabecular bone score (TBS) is a surrogat...</td>\n",
       "      <td>True</td>\n",
       "      <td>Association between pre-diabetes, type 2 diabe...</td>\n",
       "    </tr>\n",
       "    <tr>\n",
       "      <th>5182</th>\n",
       "      <td>198309074</td>\n",
       "      <td>Adhesion molecules and chemokines: relation to...</td>\n",
       "      <td>Introduction: Among the inflammatory mediators...</td>\n",
       "      <td>False</td>\n",
       "      <td>Adhesion molecules and chemokines: relation to...</td>\n",
       "    </tr>\n",
       "  </tbody>\n",
       "</table>\n",
       "<p>5183 rows × 5 columns</p>\n",
       "</div>"
      ],
      "text/plain": [
       "         doc_id                                              title  \\\n",
       "0          4983  Microstructural development of human newborn c...   \n",
       "1          5836  Induction of myelodysplasia by myeloid-derived...   \n",
       "2          7912  BC1 RNA, the transcript from a master gene for...   \n",
       "3         18670  The DNA Methylome of Human Peripheral Blood Mo...   \n",
       "4         19238  The human myelin basic protein gene is include...   \n",
       "...         ...                                                ...   \n",
       "5178  195689316  Body-mass index and cause-specific mortality i...   \n",
       "5179  195689757  Targeting metabolic remodeling in glioblastoma...   \n",
       "5180  196664003  Signaling architectures that transmit unidirec...   \n",
       "5181  198133135  Association between pre-diabetes, type 2 diabe...   \n",
       "5182  198309074  Adhesion molecules and chemokines: relation to...   \n",
       "\n",
       "                                               abstract  structured  \\\n",
       "0     Alterations of the architecture of cerebral wh...       False   \n",
       "1     Myelodysplastic syndromes (MDS) are age-depend...       False   \n",
       "2     ID elements are short interspersed elements (S...       False   \n",
       "3     DNA methylation plays an important role in bio...       False   \n",
       "4     Two human Golli (for gene expressed in the oli...       False   \n",
       "...                                                 ...         ...   \n",
       "5178  BACKGROUND The main associations of body-mass ...        True   \n",
       "5179  A key aberrant biological difference between t...       False   \n",
       "5180  A signaling pathway transmits information from...       False   \n",
       "5181  AIMS Trabecular bone score (TBS) is a surrogat...        True   \n",
       "5182  Introduction: Among the inflammatory mediators...       False   \n",
       "\n",
       "                                                   text  \n",
       "0     Microstructural development of human newborn c...  \n",
       "1     Induction of myelodysplasia by myeloid-derived...  \n",
       "2     BC1 RNA, the transcript from a master gene for...  \n",
       "3     The DNA Methylome of Human Peripheral Blood Mo...  \n",
       "4     The human myelin basic protein gene is include...  \n",
       "...                                                 ...  \n",
       "5178  Body-mass index and cause-specific mortality i...  \n",
       "5179  Targeting metabolic remodeling in glioblastoma...  \n",
       "5180  Signaling architectures that transmit unidirec...  \n",
       "5181  Association between pre-diabetes, type 2 diabe...  \n",
       "5182  Adhesion molecules and chemokines: relation to...  \n",
       "\n",
       "[5183 rows x 5 columns]"
      ]
     },
     "execution_count": 11,
     "metadata": {},
     "output_type": "execute_result"
    }
   ],
   "source": [
    "df_corpus"
   ]
  },
  {
   "cell_type": "code",
   "execution_count": 12,
   "metadata": {},
   "outputs": [
    {
     "data": {
      "text/html": [
       "<div>\n",
       "<style scoped>\n",
       "    .dataframe tbody tr th:only-of-type {\n",
       "        vertical-align: middle;\n",
       "    }\n",
       "\n",
       "    .dataframe tbody tr th {\n",
       "        vertical-align: top;\n",
       "    }\n",
       "\n",
       "    .dataframe thead th {\n",
       "        text-align: right;\n",
       "    }\n",
       "</style>\n",
       "<table border=\"1\" class=\"dataframe\">\n",
       "  <thead>\n",
       "    <tr style=\"text-align: right;\">\n",
       "      <th></th>\n",
       "      <th>doc_id</th>\n",
       "      <th>title</th>\n",
       "      <th>abstract</th>\n",
       "      <th>structured</th>\n",
       "      <th>text</th>\n",
       "      <th>title_length</th>\n",
       "      <th>abstract_length</th>\n",
       "      <th>text_length</th>\n",
       "    </tr>\n",
       "  </thead>\n",
       "  <tbody>\n",
       "    <tr>\n",
       "      <th>0</th>\n",
       "      <td>4983</td>\n",
       "      <td>Microstructural development of human newborn c...</td>\n",
       "      <td>Alterations of the architecture of cerebral wh...</td>\n",
       "      <td>False</td>\n",
       "      <td>Microstructural development of human newborn c...</td>\n",
       "      <td>17</td>\n",
       "      <td>278</td>\n",
       "      <td>295</td>\n",
       "    </tr>\n",
       "    <tr>\n",
       "      <th>1</th>\n",
       "      <td>5836</td>\n",
       "      <td>Induction of myelodysplasia by myeloid-derived...</td>\n",
       "      <td>Myelodysplastic syndromes (MDS) are age-depend...</td>\n",
       "      <td>False</td>\n",
       "      <td>Induction of myelodysplasia by myeloid-derived...</td>\n",
       "      <td>7</td>\n",
       "      <td>201</td>\n",
       "      <td>208</td>\n",
       "    </tr>\n",
       "    <tr>\n",
       "      <th>2</th>\n",
       "      <td>7912</td>\n",
       "      <td>BC1 RNA, the transcript from a master gene for...</td>\n",
       "      <td>ID elements are short interspersed elements (S...</td>\n",
       "      <td>False</td>\n",
       "      <td>BC1 RNA, the transcript from a master gene for...</td>\n",
       "      <td>20</td>\n",
       "      <td>180</td>\n",
       "      <td>200</td>\n",
       "    </tr>\n",
       "    <tr>\n",
       "      <th>3</th>\n",
       "      <td>18670</td>\n",
       "      <td>The DNA Methylome of Human Peripheral Blood Mo...</td>\n",
       "      <td>DNA methylation plays an important role in bio...</td>\n",
       "      <td>False</td>\n",
       "      <td>The DNA Methylome of Human Peripheral Blood Mo...</td>\n",
       "      <td>9</td>\n",
       "      <td>238</td>\n",
       "      <td>247</td>\n",
       "    </tr>\n",
       "    <tr>\n",
       "      <th>4</th>\n",
       "      <td>19238</td>\n",
       "      <td>The human myelin basic protein gene is include...</td>\n",
       "      <td>Two human Golli (for gene expressed in the oli...</td>\n",
       "      <td>False</td>\n",
       "      <td>The human myelin basic protein gene is include...</td>\n",
       "      <td>21</td>\n",
       "      <td>241</td>\n",
       "      <td>262</td>\n",
       "    </tr>\n",
       "    <tr>\n",
       "      <th>...</th>\n",
       "      <td>...</td>\n",
       "      <td>...</td>\n",
       "      <td>...</td>\n",
       "      <td>...</td>\n",
       "      <td>...</td>\n",
       "      <td>...</td>\n",
       "      <td>...</td>\n",
       "      <td>...</td>\n",
       "    </tr>\n",
       "    <tr>\n",
       "      <th>5178</th>\n",
       "      <td>195689316</td>\n",
       "      <td>Body-mass index and cause-specific mortality i...</td>\n",
       "      <td>BACKGROUND The main associations of body-mass ...</td>\n",
       "      <td>True</td>\n",
       "      <td>Body-mass index and cause-specific mortality i...</td>\n",
       "      <td>15</td>\n",
       "      <td>413</td>\n",
       "      <td>428</td>\n",
       "    </tr>\n",
       "    <tr>\n",
       "      <th>5179</th>\n",
       "      <td>195689757</td>\n",
       "      <td>Targeting metabolic remodeling in glioblastoma...</td>\n",
       "      <td>A key aberrant biological difference between t...</td>\n",
       "      <td>False</td>\n",
       "      <td>Targeting metabolic remodeling in glioblastoma...</td>\n",
       "      <td>6</td>\n",
       "      <td>159</td>\n",
       "      <td>165</td>\n",
       "    </tr>\n",
       "    <tr>\n",
       "      <th>5180</th>\n",
       "      <td>196664003</td>\n",
       "      <td>Signaling architectures that transmit unidirec...</td>\n",
       "      <td>A signaling pathway transmits information from...</td>\n",
       "      <td>False</td>\n",
       "      <td>Signaling architectures that transmit unidirec...</td>\n",
       "      <td>8</td>\n",
       "      <td>246</td>\n",
       "      <td>254</td>\n",
       "    </tr>\n",
       "    <tr>\n",
       "      <th>5181</th>\n",
       "      <td>198133135</td>\n",
       "      <td>Association between pre-diabetes, type 2 diabe...</td>\n",
       "      <td>AIMS Trabecular bone score (TBS) is a surrogat...</td>\n",
       "      <td>True</td>\n",
       "      <td>Association between pre-diabetes, type 2 diabe...</td>\n",
       "      <td>14</td>\n",
       "      <td>233</td>\n",
       "      <td>247</td>\n",
       "    </tr>\n",
       "    <tr>\n",
       "      <th>5182</th>\n",
       "      <td>198309074</td>\n",
       "      <td>Adhesion molecules and chemokines: relation to...</td>\n",
       "      <td>Introduction: Among the inflammatory mediators...</td>\n",
       "      <td>False</td>\n",
       "      <td>Adhesion molecules and chemokines: relation to...</td>\n",
       "      <td>13</td>\n",
       "      <td>233</td>\n",
       "      <td>246</td>\n",
       "    </tr>\n",
       "  </tbody>\n",
       "</table>\n",
       "<p>5183 rows × 8 columns</p>\n",
       "</div>"
      ],
      "text/plain": [
       "         doc_id                                              title  \\\n",
       "0          4983  Microstructural development of human newborn c...   \n",
       "1          5836  Induction of myelodysplasia by myeloid-derived...   \n",
       "2          7912  BC1 RNA, the transcript from a master gene for...   \n",
       "3         18670  The DNA Methylome of Human Peripheral Blood Mo...   \n",
       "4         19238  The human myelin basic protein gene is include...   \n",
       "...         ...                                                ...   \n",
       "5178  195689316  Body-mass index and cause-specific mortality i...   \n",
       "5179  195689757  Targeting metabolic remodeling in glioblastoma...   \n",
       "5180  196664003  Signaling architectures that transmit unidirec...   \n",
       "5181  198133135  Association between pre-diabetes, type 2 diabe...   \n",
       "5182  198309074  Adhesion molecules and chemokines: relation to...   \n",
       "\n",
       "                                               abstract  structured  \\\n",
       "0     Alterations of the architecture of cerebral wh...       False   \n",
       "1     Myelodysplastic syndromes (MDS) are age-depend...       False   \n",
       "2     ID elements are short interspersed elements (S...       False   \n",
       "3     DNA methylation plays an important role in bio...       False   \n",
       "4     Two human Golli (for gene expressed in the oli...       False   \n",
       "...                                                 ...         ...   \n",
       "5178  BACKGROUND The main associations of body-mass ...        True   \n",
       "5179  A key aberrant biological difference between t...       False   \n",
       "5180  A signaling pathway transmits information from...       False   \n",
       "5181  AIMS Trabecular bone score (TBS) is a surrogat...        True   \n",
       "5182  Introduction: Among the inflammatory mediators...       False   \n",
       "\n",
       "                                                   text  title_length  \\\n",
       "0     Microstructural development of human newborn c...            17   \n",
       "1     Induction of myelodysplasia by myeloid-derived...             7   \n",
       "2     BC1 RNA, the transcript from a master gene for...            20   \n",
       "3     The DNA Methylome of Human Peripheral Blood Mo...             9   \n",
       "4     The human myelin basic protein gene is include...            21   \n",
       "...                                                 ...           ...   \n",
       "5178  Body-mass index and cause-specific mortality i...            15   \n",
       "5179  Targeting metabolic remodeling in glioblastoma...             6   \n",
       "5180  Signaling architectures that transmit unidirec...             8   \n",
       "5181  Association between pre-diabetes, type 2 diabe...            14   \n",
       "5182  Adhesion molecules and chemokines: relation to...            13   \n",
       "\n",
       "      abstract_length  text_length  \n",
       "0                 278          295  \n",
       "1                 201          208  \n",
       "2                 180          200  \n",
       "3                 238          247  \n",
       "4                 241          262  \n",
       "...               ...          ...  \n",
       "5178              413          428  \n",
       "5179              159          165  \n",
       "5180              246          254  \n",
       "5181              233          247  \n",
       "5182              233          246  \n",
       "\n",
       "[5183 rows x 8 columns]"
      ]
     },
     "execution_count": 12,
     "metadata": {},
     "output_type": "execute_result"
    }
   ],
   "source": [
    "# TODO\n",
    "\n",
    "df_corpus['title_length'] = df_corpus['title'].apply(total_words)\n",
    "df_corpus['abstract_length'] = df_corpus['abstract'].apply(total_words)\n",
    "df_corpus['text_length'] = df_corpus['text'].apply(total_words)\n",
    "df_corpus\n",
    "# END TODO"
   ]
  },
  {
   "cell_type": "markdown",
   "metadata": {},
   "source": [
    "##### 1.2.6 Analyse statistique (1.5 point)\n",
    "\n",
    "Faites l'analyse statistique des données en affichant le \"_min_\", le \"_max_\" et la \"_moyenne_\" pour les deux colonnes \"_claim_length_\" et \"_num_cited_doc_\" que vous venez de créer."
   ]
  },
  {
   "cell_type": "code",
   "execution_count": 13,
   "metadata": {},
   "outputs": [
    {
     "name": "stdout",
     "output_type": "stream",
     "text": [
      "Analyse Statisque de claims_length : \n",
      "Min :  3\n",
      "Max :  39\n",
      "Avergage :  12.332509270704573\n",
      "--------------------\n",
      "Analyse Statisque de num_cited_doc : \n",
      "Min :  1\n",
      "Max :  5\n",
      "Avergage :  1.1359703337453646\n"
     ]
    }
   ],
   "source": [
    "# TODO\n",
    "claims_min = df_claims['claim_length'].min()\n",
    "claims_max = df_claims['claim_length'].max()\n",
    "claims_avg = df_claims['claim_length'].mean()\n",
    "\n",
    "num_doc_min = df_claims['num_cited_doc'].min()\n",
    "num_doc_max = df_claims['num_cited_doc'].max()\n",
    "num_doc_avg = df_claims['num_cited_doc'].mean()\n",
    "\n",
    "print('Analyse Statisque de claims_length : ')\n",
    "print('Min : ', claims_min)\n",
    "print('Max : ', claims_max)\n",
    "print('Avergage : ', claims_avg)\n",
    "print('--------------------')\n",
    "print('Analyse Statisque de num_cited_doc : ')\n",
    "print('Min : ', num_doc_min)\n",
    "print('Max : ', num_doc_max)\n",
    "print('Avergage : ', num_doc_avg)\n",
    "# END TODO"
   ]
  },
  {
   "cell_type": "markdown",
   "metadata": {},
   "source": [
    "##### 1.2.7 Histogrammes (2 points)\n",
    "\n",
    "En considérant le dataframe du corpus de résumés (\"_df_corpus_\"), affichez dans 3 histogrammes les distributions suivantes:\n",
    "\n",
    "- Fréquence des titres ('_title_') en fonction de leur longueur\n",
    "- Fréquence des résumés ('_abstract_') en fonction de leur longueur\n",
    "- Fréquence des textes ('_text_') en fonction de leur longueur\n",
    "\n",
    "Utilisez la valeur de 30 pour le paramètre \"_bins_\""
   ]
  },
  {
   "cell_type": "code",
   "execution_count": 14,
   "metadata": {},
   "outputs": [
    {
     "data": {
      "text/plain": [
       "(array([[<Axes: title={'center': 'title_length'}>]], dtype=object),\n",
       " array([[<Axes: title={'center': 'abstract_length'}>]], dtype=object),\n",
       " array([[<Axes: title={'center': 'text_length'}>]], dtype=object))"
      ]
     },
     "execution_count": 14,
     "metadata": {},
     "output_type": "execute_result"
    },
    {
     "data": {
      "image/png": "[encoded data removed]",
      "text/plain": [
       "<Figure size 640x480 with 1 Axes>"
      ]
     },
     "metadata": {},
     "output_type": "display_data"
    },
    {
     "data": {
      "image/png": "[encoded data removed]",
      "text/plain": [
       "<Figure size 640x480 with 1 Axes>"
      ]
     },
     "metadata": {},
     "output_type": "display_data"
    },
    {
     "data": {
      "image/png": "[encoded data removed]",
      "text/plain": [
       "<Figure size 640x480 with 1 Axes>"
      ]
     },
     "metadata": {},
     "output_type": "display_data"
    }
   ],
   "source": [
    "# TODO\n",
    "title_hist = df_corpus.hist(column='title_length', bins=30)\n",
    "abstract_hist = df_corpus.hist(column='abstract_length', bins=30)\n",
    "text_hist = df_corpus.hist(column='text_length', bins=30)\n",
    "title_hist, abstract_hist, text_hist\n",
    "# END TODO"
   ]
  },
  {
   "cell_type": "markdown",
   "metadata": {},
   "source": [
    "##### 1.2.8 Quelles remarques faites-vous sur les affirmations (claims) et les documents ? (1.5 points) \n",
    "\n",
    "En observant les maximums, les minimums et les moyennes, que remarquez-vous à propos des affirmations ('_claims_') ? À l'aide des graphiques générés, comparez également les documents."
   ]
  },
  {
   "cell_type": "code",
   "execution_count": 16,
   "metadata": {},
   "outputs": [],
   "source": [
    "# TODO\n",
    "# END TODO"
   ]
  },
  {
   "cell_type": "markdown",
   "metadata": {},
   "source": [
    "#### 1.3 Pré-traitement (6 points)\n",
    "Les affirmations et résumés de texte de votre ensemble de données doivent d’abord être représentés et indexés pour ensuite pouvoir effectuer une recherche de document (pouvant être \"_title_\", \"_abstract_\" ou la fusion des deux représentée par \"_text_\") qui justifie/contredit une affirmation. Vous devez donc implémenter une étape de pré-traitement des données."
   ]
  },
  {
   "cell_type": "markdown",
   "metadata": {},
   "source": [
    "##### 1.3.1 Implémentation de la fonction \"_tokenize_sentence_\" (1 point)\n",
    "\n",
    "Implémentez la fonction \"_tokenize_sentence_\" pour la segmentation d'une phrase en une liste de jetons. Utilisez la librarie `nltk`."
   ]
  },
  {
   "cell_type": "code",
   "execution_count": 61,
   "metadata": {},
   "outputs": [
    {
     "name": "stdout",
     "output_type": "stream",
     "text": [
      "['this', 'is', 'a', 'test', 'to', 'tokenkenize', 'the', 'sentence', '.']\n"
     ]
    }
   ],
   "source": [
    "#from nltk.tokenize import RegexpTokenizer\n",
    "# TODO\n",
    "def tokenize_sentence(sentence):\n",
    "    #tokenizer = RegexpTokenizer(r'\\w+')\n",
    "    #return tokenizer.tokenize(sentence.lower())\n",
    "    return nltk.tokenize.word_tokenize(sentence.lower())\n",
    "# END TODO\n",
    "test_sentence = \"This is a test to tokenkenize the sentence.\"\n",
    "print(tokenize_sentence(test_sentence))"
   ]
  },
  {
   "cell_type": "markdown",
   "metadata": {},
   "source": [
    "##### 1.3.2 Implémentation de la fonction \"_tokenize_text_\" (1 point)\n",
    "Implémentez la fonction \"_tokenize_text_\" qui utilise \"_tokenize_sentence_\" pour faire la segmentation d'un texte (liste de phrases)."
   ]
  },
  {
   "cell_type": "code",
   "execution_count": 62,
   "metadata": {},
   "outputs": [
    {
     "name": "stdout",
     "output_type": "stream",
     "text": [
      "[['it', \"'s\", 'my', 'first', 'test', 'tokens', 'sentence', '.'], ['for', 'the', 'second', 'sentence', ',', 'this', 'is', 'a', 'new', 'sentence', '.']]\n"
     ]
    }
   ],
   "source": [
    "# TODO\n",
    "def tokenize_text(text):\n",
    "    tokens = []\n",
    "    for sentence in text:\n",
    "        #temp_tokens = tokenize_sentence(sentence)\n",
    "        #tokens.extend(temp_tokens)\n",
    "        #if we want [['First', 'test', 'tokens'], ['second', 'test, 'tokens]] instead\n",
    "        tokens.append(tokenize_sentence(sentence)) \n",
    "    return tokens\n",
    "\n",
    "text = [\"It's my first test tokens sentence.\", \"For the second sentence, this is a new sentence.\"]\n",
    "tokens = tokenize_text(text)\n",
    "print(tokens)\n",
    "# END TODO"
   ]
  },
  {
   "cell_type": "code",
   "execution_count": 63,
   "metadata": {},
   "outputs": [
    {
     "data": {
      "text/plain": [
       "\"It's my first test tokens sentence.\""
      ]
     },
     "execution_count": 63,
     "metadata": {},
     "output_type": "execute_result"
    }
   ],
   "source": [
    "text[0]"
   ]
  },
  {
   "cell_type": "markdown",
   "metadata": {},
   "source": [
    "##### 1.3.3 Implémentation de la fonction \"_stem_tokens_\" (1 point)\n",
    "\n",
    "Implémentez la fonction \"_stem_tokens_\" qui prend une liste de jetons (tokens) en entrée et retourne une liste contenant leur forme racinisée (stems) en utilisant l'algorithme de racinisation PorterStemmer de la bibliothèque nltk."
   ]
  },
  {
   "cell_type": "code",
   "execution_count": 64,
   "metadata": {},
   "outputs": [
    {
     "name": "stdout",
     "output_type": "stream",
     "text": [
      "[['it', \"'s\", 'my', 'first', 'test', 'token', 'sentenc', '.'], ['for', 'the', 'second', 'sentenc', ',', 'thi', 'is', 'a', 'new', 'sentenc', '.']]\n"
     ]
    }
   ],
   "source": [
    "# TODO\n",
    "def stem_tokens(tokens):\n",
    "    stemmer = PorterStemmer()\n",
    "    stem_tokens = []\n",
    "    \n",
    "    for sentence in tokens:\n",
    "        temp_stem_tokens = []\n",
    "        for token in sentence:\n",
    "            temp_stem_tokens.append(stemmer.stem(token))\n",
    "        stem_tokens.append(temp_stem_tokens)\n",
    "    \n",
    "    return stem_tokens\n",
    "\n",
    "stemmmer_tokens = stem_tokens(tokens)\n",
    "print(stemmmer_tokens)\n",
    "# END TODO"
   ]
  },
  {
   "cell_type": "markdown",
   "metadata": {},
   "source": [
    "##### 1.3.4 Pré-traitement (2 points)\n",
    "\n",
    "En utilisant vos précédentes fonctions, faites maintenant le pré-traitement des champs \"_text_\", \"_title_\" et \"_abstract_\" du dataframe \"_df_corpus_\" et \"_claim_\" du dataframe \"_df_claims_\" en suivant les étapes suivantes:\n",
    "- conversion en minuscules\n",
    "- segmentation (tokenization) des passages\n",
    "- suppression des stop-words et ponctuation\n",
    "- racinisation (stemming) des jetons\n",
    "\n",
    "Nommez la liste des affirmations pré-traitées par \"_claims_preprocessed_\". Pour le corpus de documents considérez les ensembles de titres \"_title_\", de résumés \"abstract\" et la fusion des deux \"_text_\" et nommez les listes correspondantes par \"_titles_preprocessed_\", \"_abstracts_preprocessed_\" et \"_texts_preprocessed_\" respectivement."
   ]
  },
  {
   "cell_type": "code",
   "execution_count": 66,
   "metadata": {},
   "outputs": [],
   "source": [
    "# TODO\n",
    "\n",
    "def remove_punctuation_from_tokens(tokens):\n",
    "    return [token for token in tokens if token not in punctuation]\n",
    "\n",
    "def preprocess(text, stop_words):\n",
    "    tokens_list = tokenize_text(text)\n",
    "    preprocessed_tokens = []\n",
    "    \n",
    "    for tokens in tokens_list:\n",
    "        temp_tokens = []\n",
    "        tokens = remove_punctuation_from_tokens(tokens)\n",
    "        for token in tokens:\n",
    "            if token not in stop_words:\n",
    "                temp_tokens.append(token)\n",
    "                \n",
    "        preprocessed_tokens.append(temp_tokens)\n",
    "    \n",
    "    \n",
    "    stemmed_tokens = stem_tokens(preprocessed_tokens)\n",
    "    \n",
    "    return stemmed_tokens\n",
    "        \n",
    "\n",
    "preprocessed_title = preprocess(df_corpus['title'].tolist(), stop_words)\n",
    "\n",
    "preprocessed_text = preprocess(df_corpus['text'].tolist(), stop_words)\n",
    "\n",
    "preprocessed_abstract = preprocess(df_corpus['abstract'].tolist(), stop_words)\n",
    "\n",
    "preprocessed_claim = preprocess(df_claims['claim'].tolist(), stop_words)\n",
    "\n"
   ]
  },
  {
   "cell_type": "code",
   "execution_count": 67,
   "metadata": {},
   "outputs": [
    {
     "data": {
      "text/html": [
       "<div>\n",
       "<style scoped>\n",
       "    .dataframe tbody tr th:only-of-type {\n",
       "        vertical-align: middle;\n",
       "    }\n",
       "\n",
       "    .dataframe tbody tr th {\n",
       "        vertical-align: top;\n",
       "    }\n",
       "\n",
       "    .dataframe thead th {\n",
       "        text-align: right;\n",
       "    }\n",
       "</style>\n",
       "<table border=\"1\" class=\"dataframe\">\n",
       "  <thead>\n",
       "    <tr style=\"text-align: right;\">\n",
       "      <th></th>\n",
       "      <th>doc_id</th>\n",
       "      <th>title</th>\n",
       "      <th>abstract</th>\n",
       "      <th>structured</th>\n",
       "      <th>text</th>\n",
       "      <th>title_length</th>\n",
       "      <th>abstract_length</th>\n",
       "      <th>text_length</th>\n",
       "      <th>titles_preprocessed</th>\n",
       "      <th>abstracts_preprocessed</th>\n",
       "      <th>texts_preprocessed</th>\n",
       "    </tr>\n",
       "  </thead>\n",
       "  <tbody>\n",
       "    <tr>\n",
       "      <th>0</th>\n",
       "      <td>4983</td>\n",
       "      <td>Microstructural development of human newborn c...</td>\n",
       "      <td>Alterations of the architecture of cerebral wh...</td>\n",
       "      <td>False</td>\n",
       "      <td>Microstructural development of human newborn c...</td>\n",
       "      <td>17</td>\n",
       "      <td>278</td>\n",
       "      <td>295</td>\n",
       "      <td>[microstructur, develop, human, newborn, cereb...</td>\n",
       "      <td>[alter, architectur, cerebr, white, matter, de...</td>\n",
       "      <td>[microstructur, develop, human, newborn, cereb...</td>\n",
       "    </tr>\n",
       "    <tr>\n",
       "      <th>1</th>\n",
       "      <td>5836</td>\n",
       "      <td>Induction of myelodysplasia by myeloid-derived...</td>\n",
       "      <td>Myelodysplastic syndromes (MDS) are age-depend...</td>\n",
       "      <td>False</td>\n",
       "      <td>Induction of myelodysplasia by myeloid-derived...</td>\n",
       "      <td>7</td>\n",
       "      <td>201</td>\n",
       "      <td>208</td>\n",
       "      <td>[induct, myelodysplasia, myeloid-deriv, suppre...</td>\n",
       "      <td>[myelodysplast, syndrom, md, age-depend, stem,...</td>\n",
       "      <td>[induct, myelodysplasia, myeloid-deriv, suppre...</td>\n",
       "    </tr>\n",
       "    <tr>\n",
       "      <th>2</th>\n",
       "      <td>7912</td>\n",
       "      <td>BC1 RNA, the transcript from a master gene for...</td>\n",
       "      <td>ID elements are short interspersed elements (S...</td>\n",
       "      <td>False</td>\n",
       "      <td>BC1 RNA, the transcript from a master gene for...</td>\n",
       "      <td>20</td>\n",
       "      <td>180</td>\n",
       "      <td>200</td>\n",
       "      <td>[bc1, rna, transcript, master, gene, id, eleme...</td>\n",
       "      <td>[id, element, short, interspers, element, sine...</td>\n",
       "      <td>[bc1, rna, transcript, master, gene, id, eleme...</td>\n",
       "    </tr>\n",
       "    <tr>\n",
       "      <th>3</th>\n",
       "      <td>18670</td>\n",
       "      <td>The DNA Methylome of Human Peripheral Blood Mo...</td>\n",
       "      <td>DNA methylation plays an important role in bio...</td>\n",
       "      <td>False</td>\n",
       "      <td>The DNA Methylome of Human Peripheral Blood Mo...</td>\n",
       "      <td>9</td>\n",
       "      <td>238</td>\n",
       "      <td>247</td>\n",
       "      <td>[dna, methylom, human, peripher, blood, mononu...</td>\n",
       "      <td>[dna, methyl, play, import, role, biolog, proc...</td>\n",
       "      <td>[dna, methylom, human, peripher, blood, mononu...</td>\n",
       "    </tr>\n",
       "    <tr>\n",
       "      <th>4</th>\n",
       "      <td>19238</td>\n",
       "      <td>The human myelin basic protein gene is include...</td>\n",
       "      <td>Two human Golli (for gene expressed in the oli...</td>\n",
       "      <td>False</td>\n",
       "      <td>The human myelin basic protein gene is include...</td>\n",
       "      <td>21</td>\n",
       "      <td>241</td>\n",
       "      <td>262</td>\n",
       "      <td>[human, myelin, basic, protein, gene, includ, ...</td>\n",
       "      <td>[two, human, golli, gene, express, oligodendro...</td>\n",
       "      <td>[human, myelin, basic, protein, gene, includ, ...</td>\n",
       "    </tr>\n",
       "  </tbody>\n",
       "</table>\n",
       "</div>"
      ],
      "text/plain": [
       "   doc_id                                              title  \\\n",
       "0    4983  Microstructural development of human newborn c...   \n",
       "1    5836  Induction of myelodysplasia by myeloid-derived...   \n",
       "2    7912  BC1 RNA, the transcript from a master gene for...   \n",
       "3   18670  The DNA Methylome of Human Peripheral Blood Mo...   \n",
       "4   19238  The human myelin basic protein gene is include...   \n",
       "\n",
       "                                            abstract  structured  \\\n",
       "0  Alterations of the architecture of cerebral wh...       False   \n",
       "1  Myelodysplastic syndromes (MDS) are age-depend...       False   \n",
       "2  ID elements are short interspersed elements (S...       False   \n",
       "3  DNA methylation plays an important role in bio...       False   \n",
       "4  Two human Golli (for gene expressed in the oli...       False   \n",
       "\n",
       "                                                text  title_length  \\\n",
       "0  Microstructural development of human newborn c...            17   \n",
       "1  Induction of myelodysplasia by myeloid-derived...             7   \n",
       "2  BC1 RNA, the transcript from a master gene for...            20   \n",
       "3  The DNA Methylome of Human Peripheral Blood Mo...             9   \n",
       "4  The human myelin basic protein gene is include...            21   \n",
       "\n",
       "   abstract_length  text_length  \\\n",
       "0              278          295   \n",
       "1              201          208   \n",
       "2              180          200   \n",
       "3              238          247   \n",
       "4              241          262   \n",
       "\n",
       "                                 titles_preprocessed  \\\n",
       "0  [microstructur, develop, human, newborn, cereb...   \n",
       "1  [induct, myelodysplasia, myeloid-deriv, suppre...   \n",
       "2  [bc1, rna, transcript, master, gene, id, eleme...   \n",
       "3  [dna, methylom, human, peripher, blood, mononu...   \n",
       "4  [human, myelin, basic, protein, gene, includ, ...   \n",
       "\n",
       "                              abstracts_preprocessed  \\\n",
       "0  [alter, architectur, cerebr, white, matter, de...   \n",
       "1  [myelodysplast, syndrom, md, age-depend, stem,...   \n",
       "2  [id, element, short, interspers, element, sine...   \n",
       "3  [dna, methyl, play, import, role, biolog, proc...   \n",
       "4  [two, human, golli, gene, express, oligodendro...   \n",
       "\n",
       "                                  texts_preprocessed  \n",
       "0  [microstructur, develop, human, newborn, cereb...  \n",
       "1  [induct, myelodysplasia, myeloid-deriv, suppre...  \n",
       "2  [bc1, rna, transcript, master, gene, id, eleme...  \n",
       "3  [dna, methylom, human, peripher, blood, mononu...  \n",
       "4  [human, myelin, basic, protein, gene, includ, ...  "
      ]
     },
     "execution_count": 67,
     "metadata": {},
     "output_type": "execute_result"
    }
   ],
   "source": [
    "df_corpus['titles_preprocessed'] = preprocessed_title\n",
    "df_corpus['abstracts_preprocessed'] = preprocessed_abstract\n",
    "df_corpus['texts_preprocessed'] = preprocessed_text\n",
    "\n",
    "df_claims['claims_preprocessed'] = preprocessed_claim\n",
    "\n",
    "df_corpus.head(5)"
   ]
  },
  {
   "cell_type": "code",
   "execution_count": 68,
   "metadata": {},
   "outputs": [
    {
     "data": {
      "text/html": [
       "<div>\n",
       "<style scoped>\n",
       "    .dataframe tbody tr th:only-of-type {\n",
       "        vertical-align: middle;\n",
       "    }\n",
       "\n",
       "    .dataframe tbody tr th {\n",
       "        vertical-align: top;\n",
       "    }\n",
       "\n",
       "    .dataframe thead th {\n",
       "        text-align: right;\n",
       "    }\n",
       "</style>\n",
       "<table border=\"1\" class=\"dataframe\">\n",
       "  <thead>\n",
       "    <tr style=\"text-align: right;\">\n",
       "      <th></th>\n",
       "      <th>id</th>\n",
       "      <th>claim</th>\n",
       "      <th>evidence</th>\n",
       "      <th>cited_doc_ids</th>\n",
       "      <th>num_cited_doc</th>\n",
       "      <th>claim_length</th>\n",
       "      <th>claims_preprocessed</th>\n",
       "    </tr>\n",
       "  </thead>\n",
       "  <tbody>\n",
       "    <tr>\n",
       "      <th>0</th>\n",
       "      <td>0</td>\n",
       "      <td>0-dimensional biomaterials lack inductive prop...</td>\n",
       "      <td>{}</td>\n",
       "      <td>[31715818]</td>\n",
       "      <td>1</td>\n",
       "      <td>5</td>\n",
       "      <td>[0-dimension, biomateri, lack, induct, properti]</td>\n",
       "    </tr>\n",
       "    <tr>\n",
       "      <th>1</th>\n",
       "      <td>2</td>\n",
       "      <td>1 in 5 million in UK have abnormal PrP positiv...</td>\n",
       "      <td>{'13734012': [{'sentences': [4], 'label': 'CON...</td>\n",
       "      <td>[13734012]</td>\n",
       "      <td>1</td>\n",
       "      <td>10</td>\n",
       "      <td>[1, 5, million, uk, abnorm, prp, posit]</td>\n",
       "    </tr>\n",
       "    <tr>\n",
       "      <th>2</th>\n",
       "      <td>4</td>\n",
       "      <td>1-1% of colorectal cancer patients are diagnos...</td>\n",
       "      <td>{}</td>\n",
       "      <td>[22942787]</td>\n",
       "      <td>1</td>\n",
       "      <td>12</td>\n",
       "      <td>[1-1, colorect, cancer, patient, diagnos, regi...</td>\n",
       "    </tr>\n",
       "    <tr>\n",
       "      <th>3</th>\n",
       "      <td>6</td>\n",
       "      <td>10% of sudden infant death syndrome (SIDS) dea...</td>\n",
       "      <td>{}</td>\n",
       "      <td>[2613775]</td>\n",
       "      <td>1</td>\n",
       "      <td>16</td>\n",
       "      <td>[10, sudden, infant, death, syndrom, sid, deat...</td>\n",
       "    </tr>\n",
       "    <tr>\n",
       "      <th>4</th>\n",
       "      <td>9</td>\n",
       "      <td>32% of liver transplantation programs required...</td>\n",
       "      <td>{'44265107': [{'sentences': [15], 'label': 'SU...</td>\n",
       "      <td>[44265107]</td>\n",
       "      <td>1</td>\n",
       "      <td>13</td>\n",
       "      <td>[32, liver, transplant, program, requir, patie...</td>\n",
       "    </tr>\n",
       "  </tbody>\n",
       "</table>\n",
       "</div>"
      ],
      "text/plain": [
       "   id                                              claim  \\\n",
       "0   0  0-dimensional biomaterials lack inductive prop...   \n",
       "1   2  1 in 5 million in UK have abnormal PrP positiv...   \n",
       "2   4  1-1% of colorectal cancer patients are diagnos...   \n",
       "3   6  10% of sudden infant death syndrome (SIDS) dea...   \n",
       "4   9  32% of liver transplantation programs required...   \n",
       "\n",
       "                                            evidence cited_doc_ids  \\\n",
       "0                                                 {}    [31715818]   \n",
       "1  {'13734012': [{'sentences': [4], 'label': 'CON...    [13734012]   \n",
       "2                                                 {}    [22942787]   \n",
       "3                                                 {}     [2613775]   \n",
       "4  {'44265107': [{'sentences': [15], 'label': 'SU...    [44265107]   \n",
       "\n",
       "   num_cited_doc  claim_length  \\\n",
       "0              1             5   \n",
       "1              1            10   \n",
       "2              1            12   \n",
       "3              1            16   \n",
       "4              1            13   \n",
       "\n",
       "                                 claims_preprocessed  \n",
       "0   [0-dimension, biomateri, lack, induct, properti]  \n",
       "1            [1, 5, million, uk, abnorm, prp, posit]  \n",
       "2  [1-1, colorect, cancer, patient, diagnos, regi...  \n",
       "3  [10, sudden, infant, death, syndrom, sid, deat...  \n",
       "4  [32, liver, transplant, program, requir, patie...  "
      ]
     },
     "execution_count": 68,
     "metadata": {},
     "output_type": "execute_result"
    }
   ],
   "source": [
    "df_claims.head(5)"
   ]
  },
  {
   "cell_type": "code",
   "execution_count": 69,
   "metadata": {},
   "outputs": [
    {
     "data": {
      "text/plain": [
       "doc_id                                                            195689316\n",
       "title                     Body-mass index and cause-specific mortality i...\n",
       "abstract                  BACKGROUND The main associations of body-mass ...\n",
       "structured                                                             True\n",
       "text                      Body-mass index and cause-specific mortality i...\n",
       "title_length                                                             15\n",
       "abstract_length                                                         413\n",
       "text_length                                                             428\n",
       "titles_preprocessed       [body-mass, index, cause-specif, mortal, 900, ...\n",
       "abstracts_preprocessed    [background, main, associ, body-mass, index, b...\n",
       "texts_preprocessed        [body-mass, index, cause-specif, mortal, 900, ...\n",
       "Name: 5178, dtype: object"
      ]
     },
     "execution_count": 69,
     "metadata": {},
     "output_type": "execute_result"
    }
   ],
   "source": [
    "df_corpus.iloc[5178]"
   ]
  },
  {
   "cell_type": "markdown",
   "metadata": {},
   "source": [
    "##### 1.3.5 Jetons uniques (types) (1 point)\n",
    "\n",
    "Affichez maintenant le nombre total de jetons dans tous les textes (_text_) et affirmations (_claim_) (en les considérant comme un seul corpus) après le pré-traitement. Puis, affichez le nombre de jetons uniques (types) dans les textes (_text_) et les affirmations (_claim_). "
   ]
  },
  {
   "cell_type": "code",
   "execution_count": 70,
   "metadata": {},
   "outputs": [
    {
     "name": "stdout",
     "output_type": "stream",
     "text": [
      "7150\n"
     ]
    }
   ],
   "source": [
    "# TODO\n",
    "def count_total_tokens(tokens):\n",
    "    total_tokens = 0\n",
    "    for token in tokens:\n",
    "        if isinstance(token, list):\n",
    "            total_tokens += count_total_tokens(token)\n",
    "        else:\n",
    "            total_tokens += 1\n",
    "            \n",
    "    return total_tokens\n",
    "\n",
    "\n",
    "#Question incomplete\n",
    "total_text_tokens = count_total_tokens(df_corpus['texts_preprocessed'].tolist())\n",
    "total_claim_tokens = count_total_tokens(df_claims['claims_preprocessed'].tolist())\n",
    "\n",
    "print(total_claim_tokens)\n",
    "# END TODO"
   ]
  },
  {
   "cell_type": "markdown",
   "metadata": {
    "id": "3qH8-QAw8BEV"
   },
   "source": [
    "### 2. Représentation des affirmations et des documents  (45 points)"
   ]
  },
  {
   "cell_type": "markdown",
   "metadata": {},
   "source": [
    "#### 2.1  Vocabulaire (15 points)"
   ]
  },
  {
   "cell_type": "markdown",
   "metadata": {},
   "source": [
    "##### 2.1.1 Implémentation de la fonction \"_get_vocab_\" (3 points)\n",
    "\n",
    "Implémentez la fonction \"_get_vocab_\" qui prend une liste de textes composés chacun d'une liste de jetons et retourne un dictionnaire dont les clés sont les jetons uniques et les valeurs sont leur fréquence dans l'ensemble des textes."
   ]
  },
  {
   "cell_type": "code",
   "execution_count": 71,
   "metadata": {},
   "outputs": [
    {
     "name": "stdout",
     "output_type": "stream",
     "text": [
      "{'world': 4, 'the': 2, 'is': 2, 'sports': 2, 'cup': 2, 'football': 1, 'a': 1, 'nhl': 1, 'games': 1, 'school': 1, 'work': 1, 'activities': 1, 'club': 1}\n"
     ]
    }
   ],
   "source": [
    "# TODO\n",
    "def get_vocab(text_list):\n",
    "    text_dict = {}\n",
    "    for text in text_list:\n",
    "        for token in text:\n",
    "            if token not in text_dict:\n",
    "                text_dict[token] = 1\n",
    "            else:\n",
    "                text_dict[token] += 1\n",
    "    text_dict = dict(sorted(text_dict.items(), key = lambda item: item[1], reverse=True))\n",
    "    return text_dict\n",
    "\n",
    "\n",
    "example_list = [['the', 'football', 'is', 'sports', 'a', 'world', 'cup'], ['the', 'cup', 'nhl', 'games', 'is'],\n",
    "               ['school', 'work', 'activities', 'club', 'sports', 'world', 'world', 'world']]\n",
    "\n",
    "example_dict = get_vocab(example_list)\n",
    "print(example_dict)\n",
    "# END TODO"
   ]
  },
  {
   "cell_type": "markdown",
   "metadata": {},
   "source": [
    "##### 2.1.2 Implémentez la fonction \"_show_top_N_types_\" (3 points)\n",
    "\n",
    "Implémentez la fonction \"show_top_N_types\" qui affiche les N jetons les plus fréquents à partir d'un dictionnaire comme celui retourné par la fonction \"_get_vocab_\".\n",
    "\n",
    "La fonction prend deux arguments: le dictionnaire \"_dictionary_\" et le paramètre \"_N_\". "
   ]
  },
  {
   "cell_type": "code",
   "execution_count": 72,
   "metadata": {},
   "outputs": [
    {
     "data": {
      "text/plain": [
       "{'world': 4, 'the': 2}"
      ]
     },
     "execution_count": 72,
     "metadata": {},
     "output_type": "execute_result"
    }
   ],
   "source": [
    "# TODO\n",
    "def show_top_N_types(text_dict, N):\n",
    "    \n",
    "    n_dict = dict(list(text_dict.items())[0:N]) \n",
    "    return n_dict\n",
    "\n",
    "n_example = show_top_N_types(example_dict, 2)\n",
    "n_example\n",
    "# END TODO"
   ]
  },
  {
   "cell_type": "markdown",
   "metadata": {},
   "source": [
    "##### 2.1.3 Construction du vocabulaire (1 point)\n",
    "\n",
    "Construisez maintenant le vocabulaire pour les affirmations et le corpus de documents à partir des listes \"texts_preprocessed\" et \"claims_preprocessed\". \n",
    "\n",
    "Ensuite affichez les 15 jetons les plus fréquents ainsi que leur fréquence."
   ]
  },
  {
   "cell_type": "code",
   "execution_count": 73,
   "metadata": {},
   "outputs": [
    {
     "name": "stdout",
     "output_type": "stream",
     "text": [
      "{'cell': 10464, 'patient': 4175, 'activ': 4145, 'studi': 4014, 'use': 3799, 'express': 3626, 'result': 3213, 'protein': 3083, 'gene': 3004, 'cancer': 2945, 'increas': 2794, 'associ': 2659, 'effect': 2567, 'function': 2515, 'human': 2464}\n"
     ]
    }
   ],
   "source": [
    "# TODO\n",
    "texts_preprocessed = df_corpus['texts_preprocessed'].tolist()\n",
    "claims_preprocessed = df_claims['claims_preprocessed'].tolist()\n",
    "\n",
    "corpus_vocab = texts_preprocessed + claims_preprocessed\n",
    "vocab_dict = get_vocab(corpus_vocab)\n",
    "vocab_15 = show_top_N_types(vocab_dict, 15)\n",
    "print(vocab_15)\n",
    "# END TODO"
   ]
  },
  {
   "cell_type": "markdown",
   "metadata": {},
   "source": [
    "Sortie attendue:\n",
    "\n",
    "```Nombre de types composant le vocabulaire: 45195\n",
    "Les 15 types les plus fréquents:\n",
    "('cell', 10464)\n",
    "('patient', 4175)\n",
    "('activ', 4145)\n",
    "('studi', 4014)\n",
    "('use', 3799)\n",
    "('express', 3626)\n",
    "('result', 3213)\n",
    "('protein', 3083)\n",
    "('gene', 3004)\n",
    "('cancer', 2945)\n",
    "('increas', 2794)\n",
    "('associ', 2659)\n",
    "('effect', 2567)\n",
    "('function', 2515)\n",
    "('human', 2464)"
   ]
  },
  {
   "cell_type": "markdown",
   "metadata": {},
   "source": [
    "##### 2.1.4 Implémentation de la fonction \"_show_distribution_\" (4 points)\n",
    "\n",
    "Implémentez la fonction \"__show_distribution__\" qui permet de visualiser la distribution des fréquences des jetons à partir d'un dictionnaire comme celui retourné par la fonction \"_get_vocab_\", en utilisant un graphique où l'axe des abscisses représente le rang d'un type (après un tri par ordre de fréquence décroissante) et l'axe des ordonnées représente sa fréquence sur une échelle logarithmique.  \n",
    "\n",
    "Par exemple, le point (10000, 10) voudrait dire que le 10000ème mot le plus fréquent a une fréquence à peu prés egale à 10 dans le vocabulaire."
   ]
  },
  {
   "cell_type": "code",
   "execution_count": 105,
   "metadata": {},
   "outputs": [
    {
     "data": {
      "image/png": "[encoded data removed]",
      "text/plain": [
       "<Figure size 640x480 with 1 Axes>"
      ]
     },
     "metadata": {},
     "output_type": "display_data"
    },
    {
     "name": "stdout",
     "output_type": "stream",
     "text": [
      "{1: 11594, 2: 6096, 3: 5656, 4: 4582, 5: 4414, 6: 4277, 7: 4250, 8: 4038, 9: 4003, 10: 3811, 11: 3796, 12: 3354, 13: 3217, 14: 3093, 15: 3087, 16: 3062, 17: 2801, 18: 2688, 19: 2659, 20: 2567, 21: 2513, 22: 2476, 23: 2380, 24: 2293, 25: 2236, 26: 2235, 27: 2217, 28: 2159, 29: 2143, 30: 2108, 31: 2085, 32: 2044, 33: 2030, 34: 1987, 35: 1935, 36: 1915, 37: 1858, 38: 1853, 39: 1852, 40: 1847, 41: 1832, 42: 1813, 43: 1772, 44: 1723, 45: 1692, 46: 1682, 47: 1667, 48: 1666, 49: 1652, 50: 1635, 51: 1634, 52: 1633, 53: 1619, 54: 1613, 55: 1610, 56: 1588, 57: 1524, 58: 1518, 59: 1509, 60: 1500, 61: 1449, 62: 1446, 63: 1421, 64: 1363, 65: 1358, 66: 1343, 67: 1314, 68: 1294, 69: 1288, 70: 1260, 71: 1249, 72: 1246, 73: 1233, 74: 1228, 75: 1227, 76: 1226, 77: 1217, 78: 1192, 79: 1186, 80: 1177, 81: 1174, 82: 1160, 83: 1152, 84: 1136, 85: 1130, 86: 1121, 87: 1116, 88: 1106, 89: 1103, 90: 1101, 91: 1088, 92: 1083, 93: 1082, 94: 1081, 95: 1079, 96: 1076, 97: 1074, 98: 1061, 99: 1057, 100: 1045, 101: 1040, 102: 1038, 103: 1030, 104: 1028, 105: 1007, 106: 1002, 107: 996, 108: 994, 109: 992, 110: 988, 111: 982, 112: 981, 113: 961, 114: 960, 115: 951, 116: 945, 117: 939, 118: 936, 119: 934, 120: 929, 121: 921, 122: 912, 123: 910, 124: 906, 125: 879, 126: 865, 127: 863, 128: 860, 129: 851, 130: 850, 131: 846, 132: 845, 133: 844, 134: 842, 135: 838, 136: 834, 137: 826, 138: 822, 139: 821, 140: 819, 141: 815, 142: 814, 143: 812, 144: 810, 145: 805, 146: 801, 147: 800, 148: 799, 149: 795, 150: 791, 151: 786, 152: 785, 153: 782, 154: 781, 155: 776, 156: 774, 157: 772, 158: 770, 159: 769, 160: 766, 161: 761, 162: 758, 163: 756, 164: 748, 165: 747, 166: 742, 167: 735, 168: 734, 169: 733, 170: 728, 171: 726, 172: 723, 173: 719, 174: 711, 175: 704, 176: 697, 177: 690, 178: 685, 179: 676, 180: 675, 181: 674, 182: 673, 183: 672, 184: 665, 185: 664, 186: 661, 187: 659, 188: 656, 189: 655, 190: 654, 191: 651, 192: 647, 193: 641, 194: 637, 195: 635, 196: 633, 197: 631, 198: 630, 199: 628, 200: 624, 201: 623, 202: 621, 203: 620, 204: 619, 205: 617, 206: 610, 207: 609, 208: 606, 209: 604, 210: 603, 211: 599, 212: 595, 213: 592, 214: 591, 215: 589, 216: 583, 217: 582, 218: 581, 219: 579, 220: 577, 221: 575, 222: 568, 223: 566, 224: 565, 225: 562, 226: 561, 227: 560, 228: 557, 229: 556, 230: 555, 231: 554, 232: 553, 233: 549, 234: 546, 235: 545, 236: 542, 237: 539, 238: 535, 239: 534, 240: 533, 241: 532, 242: 531, 243: 529, 244: 525, 245: 524, 246: 523, 247: 522, 248: 518, 249: 516, 250: 515, 251: 514, 252: 513, 253: 511, 254: 510, 255: 509, 256: 508, 257: 506, 258: 505, 259: 504, 260: 503, 261: 500, 262: 499, 263: 495, 264: 487, 265: 484, 266: 483, 267: 482, 268: 478, 269: 475, 270: 474, 271: 472, 272: 471, 273: 470, 274: 467, 275: 463, 276: 460, 277: 459, 278: 458, 279: 456, 280: 455, 281: 453, 282: 450, 283: 449, 284: 448, 285: 446, 286: 445, 287: 444, 288: 442, 289: 441, 290: 437, 291: 436, 292: 435, 293: 433, 294: 431, 295: 430, 296: 429, 297: 428, 298: 427, 299: 426, 300: 425, 301: 424, 302: 423, 303: 422, 304: 419, 305: 417, 306: 416, 307: 415, 308: 414, 309: 413, 310: 412, 311: 411, 312: 410, 313: 409, 314: 407, 315: 404, 316: 403, 317: 402, 318: 401, 319: 399, 320: 397, 321: 396, 322: 395, 323: 394, 324: 393, 325: 390, 326: 389, 327: 387, 328: 386, 329: 385, 330: 383, 331: 380, 332: 379, 333: 378, 334: 377, 335: 375, 336: 374, 337: 373, 338: 372, 339: 371, 340: 370, 341: 364, 342: 363, 343: 362, 344: 361, 345: 359, 346: 358, 347: 357, 348: 356, 349: 355, 350: 354, 351: 353, 352: 352, 353: 351, 354: 350, 355: 349, 356: 348, 357: 347, 358: 346, 359: 345, 360: 343, 361: 342, 362: 341, 363: 339, 364: 338, 365: 337, 366: 336, 367: 335, 368: 334, 369: 333, 370: 332, 371: 331, 372: 330, 373: 329, 374: 328, 375: 327, 376: 326, 377: 325, 378: 323, 379: 321, 380: 320, 381: 318, 382: 317, 383: 315, 384: 313, 385: 312, 386: 311, 387: 310, 388: 309, 389: 307, 390: 306, 391: 305, 392: 304, 393: 303, 394: 302, 395: 301, 396: 300, 397: 299, 398: 296, 399: 295, 400: 294, 401: 293, 402: 292, 403: 291, 404: 290, 405: 289, 406: 288, 407: 287, 408: 286, 409: 285, 410: 284, 411: 283, 412: 282, 413: 280, 414: 279, 415: 278, 416: 277, 417: 276, 418: 275, 419: 274, 420: 273, 421: 272, 422: 271, 423: 270, 424: 269, 425: 268, 426: 267, 427: 265, 428: 264, 429: 263, 430: 262, 431: 261, 432: 258, 433: 257, 434: 256, 435: 255, 436: 254, 437: 253, 438: 252, 439: 251, 440: 250, 441: 248, 442: 247, 443: 246, 444: 245, 445: 244, 446: 243, 447: 242, 448: 241, 449: 240, 450: 239, 451: 238, 452: 237, 453: 236, 454: 234, 455: 233, 456: 232, 457: 231, 458: 230, 459: 229, 460: 228, 461: 227, 462: 226, 463: 225, 464: 223, 465: 222, 466: 221, 467: 220, 468: 219, 469: 218, 470: 217, 471: 216, 472: 215, 473: 214, 474: 213, 475: 212, 476: 211, 477: 210, 478: 209, 479: 208, 480: 207, 481: 206, 482: 205, 483: 204, 484: 203, 485: 202, 486: 201, 487: 200, 488: 199, 489: 198, 490: 197, 491: 196, 492: 195, 493: 194, 494: 193, 495: 192, 496: 191, 497: 190, 498: 189, 499: 188, 500: 187, 501: 186, 502: 185, 503: 184, 504: 183, 505: 182, 506: 181, 507: 180, 508: 179, 509: 178, 510: 177, 511: 176, 512: 175, 513: 174, 514: 173, 515: 172, 516: 171, 517: 170, 518: 169, 519: 168, 520: 167, 521: 166, 522: 165, 523: 164, 524: 163, 525: 162, 526: 161, 527: 160, 528: 159, 529: 158, 530: 157, 531: 156, 532: 155, 533: 154, 534: 153, 535: 152, 536: 151, 537: 150, 538: 149, 539: 148, 540: 147, 541: 146, 542: 145, 543: 144, 544: 143, 545: 142, 546: 141, 547: 140, 548: 139, 549: 138, 550: 137, 551: 136, 552: 135, 553: 134, 554: 133, 555: 132, 556: 131, 557: 130, 558: 129, 559: 128, 560: 127, 561: 126, 562: 125, 563: 124, 564: 123, 565: 122, 566: 121, 567: 120, 568: 119, 569: 118, 570: 117, 571: 116, 572: 115, 573: 114, 574: 113, 575: 112, 576: 111, 577: 110, 578: 109, 579: 108, 580: 107, 581: 106, 582: 105, 583: 104, 584: 103, 585: 102, 586: 101, 587: 100, 588: 99, 589: 98, 590: 97, 591: 96, 592: 95, 593: 94, 594: 93, 595: 92, 596: 91, 597: 90, 598: 89, 599: 88, 600: 87, 601: 86, 602: 85, 603: 84, 604: 83, 605: 82, 606: 81, 607: 80, 608: 79, 609: 78, 610: 77, 611: 76, 612: 75, 613: 74, 614: 73, 615: 72, 616: 71, 617: 70, 618: 69, 619: 68, 620: 67, 621: 66, 622: 65, 623: 64, 624: 63, 625: 62, 626: 61, 627: 60, 628: 59, 629: 58, 630: 57, 631: 56, 632: 55, 633: 54, 634: 53, 635: 52, 636: 51, 637: 50, 638: 49, 639: 48, 640: 47, 641: 46, 642: 45, 643: 44, 644: 43, 645: 42, 646: 41, 647: 40, 648: 39, 649: 38, 650: 37, 651: 36, 652: 35, 653: 34, 654: 33, 655: 32, 656: 31, 657: 30, 658: 29, 659: 28, 660: 27, 661: 26, 662: 25, 663: 24, 664: 23, 665: 22, 666: 21, 667: 20, 668: 19, 669: 18, 670: 17, 671: 16, 672: 15, 673: 14, 674: 13, 675: 12, 676: 11, 677: 10, 678: 9, 679: 8, 680: 7, 681: 6, 682: 5, 683: 4, 684: 3, 685: 2, 686: 1}\n"
     ]
    }
   ],
   "source": [
    "# TODO\n",
    "def show_distribution(vocab_dict):\n",
    "    \n",
    "    rank_dict = {key: rank for rank, key in enumerate(sorted(set(vocab_dict.values()),reverse=True), 1)}\n",
    "    rank_dict = {v: k for k, v in rank_dict.items()}\n",
    "    \n",
    "    plt.bar(list(rank_dict.keys()), np.log10(list(rank_dict.values())), color='maroon', width=0.4)\n",
    "    plt.show()\n",
    "    \n",
    "    return rank_dict\n",
    "    \n",
    "rank_dict = show_distribution(vocab_dict)\n",
    "print(rank_dict)\n",
    "\n",
    "# END TODO"
   ]
  },
  {
   "cell_type": "markdown",
   "metadata": {},
   "source": [
    "##### 2.1.5 Vérification de la loi de Zipf (4 points)\n",
    "\n",
    "Afin de vérifier la loi de Zipf, donnez une estimation de la valeur de la constante k de cette loi définie comme suit: \n",
    "\n",
    "$$ f \\approx \\frac{k}{r^\\alpha} $$ \n",
    "\n",
    "où $ f $ est la fréquence d'un mot, $ r $ est le rang de ce mot dans la liste triée par fréquence décroissante, et $ k $ est une constante. Etant données les fluctuations sur les valeurs de fréquence, vous pouvez utiliser la librairie ['powerlaw'](https://pypi.org/project/powerlaw/) conçue pour analyser et ajuster des distributions de loi de puissance aux données et qui peut être utile dans l'estimation de $ \\alpha $.\n",
    "\n",
    "Affichez la constante $ k $ trouvée, les fréquences réelles des mots avec celles qui sont prédites par la loi de Zipf."
   ]
  },
  {
   "cell_type": "code",
   "execution_count": 29,
   "metadata": {},
   "outputs": [],
   "source": [
    "# TODO\n",
    "# END TODO"
   ]
  },
  {
   "cell_type": "markdown",
   "metadata": {
    "id": "pdxcQdRJ818T"
   },
   "source": [
    "#### 2.2  Création d’un modèle sac de mots (10 points)"
   ]
  },
  {
   "cell_type": "markdown",
   "metadata": {},
   "source": [
    "##### 2.2.1 Répresentation de texte (5 points)\n",
    "\n",
    "En utilisant sklearn et à partir de vos données pré-traitées (\"_claims_preprocessed_\", \"_titles_preprocessed_\", \"_abstracts_preprocessed_\" et \"_texts_preprocessed_\"), représentez chaque affirmation (_claim_) et document avec le vocabulaire créé 'précédemment dans la variables \"_claims_preprocessed_joined\", \"_titles_preprocessed_joined_\", \"_abstract_preprocessed_joined_\" et \"_texts_preprocessed_joined_\". Cela veut dire que tout jeton qui n'est pas dans le vocabulaire doit être enlevé dans le document et l'affirmation. Faites cela pour les trois possibilités de représentation de document: \"_title_\", \"_abstract_\" et \"_text_\"."
   ]
  },
  {
   "cell_type": "code",
   "execution_count": 30,
   "metadata": {
    "id": "NKJxoJSwBovJ"
   },
   "outputs": [],
   "source": [
    "# TODO\n",
    "# END TODO"
   ]
  },
  {
   "cell_type": "markdown",
   "metadata": {},
   "source": [
    "##### 2.2.2 Pondération (4 points)\n",
    "\n",
    "En utilisant un modèle sac de mots basé sur des unigrammes et des bigrammes, créez une représentation vectorielle de vos documents (titles, abstracts, texts) et de vos affirmations (claims) avec TF-IDF en utilisant le TfidfVectorizer de sklearn. "
   ]
  },
  {
   "cell_type": "code",
   "execution_count": 31,
   "metadata": {},
   "outputs": [],
   "source": [
    "# TODO\n",
    "# END TODO"
   ]
  },
  {
   "cell_type": "markdown",
   "metadata": {},
   "source": [
    "##### 2.2.3 Affichage (1 point)\n",
    "\n",
    "Affichez les dimensions (shape) de vos corpus (claims, text, title, abstract) après vectorisation"
   ]
  },
  {
   "cell_type": "code",
   "execution_count": 32,
   "metadata": {},
   "outputs": [],
   "source": [
    "# TODO\n",
    "# END TODO"
   ]
  },
  {
   "cell_type": "markdown",
   "metadata": {},
   "source": [
    "Sortie attendue pour \"_claims_\"\n",
    "```\n",
    "(809, 473643)\n",
    "```"
   ]
  },
  {
   "cell_type": "code",
   "execution_count": 33,
   "metadata": {},
   "outputs": [],
   "source": [
    "# TODO\n",
    "# END TODO"
   ]
  },
  {
   "cell_type": "markdown",
   "metadata": {},
   "source": [
    "Sortie attendue pour \"_texts_\"\n",
    "```\n",
    "(5183, 473643)\n",
    "```"
   ]
  },
  {
   "cell_type": "code",
   "execution_count": 34,
   "metadata": {},
   "outputs": [],
   "source": [
    "# TODO\n",
    "# END TODO"
   ]
  },
  {
   "cell_type": "markdown",
   "metadata": {},
   "source": [
    "Sortie attendue pour \"_titles_\"\n",
    "```\n",
    "(5183, 473643)\n",
    "```"
   ]
  },
  {
   "cell_type": "code",
   "execution_count": 35,
   "metadata": {},
   "outputs": [],
   "source": [
    "# TODO\n",
    "# END TODO"
   ]
  },
  {
   "cell_type": "markdown",
   "metadata": {},
   "source": [
    "Sortie attendue pour abstracts\n",
    "```\n",
    "(5183, 473643)"
   ]
  },
  {
   "cell_type": "markdown",
   "metadata": {
    "id": "sMrNWcxL9QNF"
   },
   "source": [
    "#### 2.3 Pertinence d'un document (20 points)"
   ]
  },
  {
   "cell_type": "markdown",
   "metadata": {},
   "source": [
    "Maintenant que vous avez une représentation de vos affirmations \"_claims_\" et documents (\"_texts_\", \"_titles_\", \"_abstracts_\"), il faut être capable de déterminer quel document sera le plus pertinent pour une affirmation donnée."
   ]
  },
  {
   "cell_type": "markdown",
   "metadata": {
    "id": "3AsiWH2O9XKD"
   },
   "source": [
    "##### 2.3.1 Implémentation de \"_eval_similarity_\" (3 points)\n",
    "\n",
    "Implémentez la fonction \"_eval_similarity_\" pour évaluer la similarité cosinus entre la représentation de l'affirmation et celle de chaque document. La fonction prend une liste d'affirmations et une liste de documents et retourne une matrice où chaque ligne représente une affirmation et chaque colonne représente un document (\"title\", \"abstract\" ou \"text\") et les valeurs sont les similarités cosinus entre une affirmation et un document."
   ]
  },
  {
   "cell_type": "code",
   "execution_count": 36,
   "metadata": {},
   "outputs": [],
   "source": [
    "# TODO\n",
    "# END TODO"
   ]
  },
  {
   "cell_type": "markdown",
   "metadata": {
    "id": "5_gDSgTv9fCu"
   },
   "source": [
    "##### 2.3.2 Implémentation de la fonction \"_rank_texts_\" (2 points)\n",
    "\n",
    "Implémentez la fonction \"_rank_texts_\", qui, au moyen de la précédente (_eval_similarity_), retourne le top-N (N=1,3,5) des documents pertinents pour une affirmation donnée (N est un paramètre). Ces documents devront être ordonnés du plus pertinent au moins pertinent. Idéalement, le document à la position 1 sera celui qui contient la preuve (ou justification) de l'affirmation. Il faudra retourner non pas les indices des documents dans le dataframe mais plutôt leur identifiants au niveau de la colonne \"_doc_id_\"."
   ]
  },
  {
   "cell_type": "code",
   "execution_count": 37,
   "metadata": {},
   "outputs": [],
   "source": [
    "# TODO\n",
    "# END TODO"
   ]
  },
  {
   "cell_type": "markdown",
   "metadata": {},
   "source": [
    "##### 2.3.3 Préparation des dataframes de réponses (1 point) \n",
    "\n",
    "Vous allez écrire la fonction \"prepare_results_df\" qui crée les dataframes qui vont contenir les résultats de la recherche de documents pertinents pour les affirmations.\n",
    "\n",
    "La fonction \"prepare_results_df\" prend les arguments suivants:\n",
    "\n",
    "- '_df_': le dataframe original nommé '_df_claims_' à partir duquel on crée les autres, \n",
    "- '_columns_to_drop_': les colonnes à supprimer \n",
    "- '_column_to_rename_': le nom de la colonne de référence dans le dataframe original qui sera renommée \"gold standard passage\"\n",
    "\n",
    "et effectue les opérations suivantes:\n",
    "\n",
    "1. Créer un nouveau dataframe à partir de \"_df_claims_\" en supprimant toutes les colonnes sauf \"cited_doc_ids\".\n",
    "2. Renommer la colonne \"cited_doc_ids\" en \"gold standard passage\".\n",
    "3. Ajouter les colonnes \"top_1\", \"top_3\", et \"top_5\" au dataframe, \n",
    "en les initialisant avec des chaînes de zéros séparés par des points-\n",
    "virgules, correspondant respectivement à des configurations de 1, 3, et \n",
    "5 zéros pour toutes les lignes.\n",
    "\n",
    "Vous utiliserez ensuite cette fonction pour créer les dataframes \"results_titles_df\", \"results_abstracts_df\" et \"results_texts_df\", qui seront destinés à contenir les résultats de recherche de documents pour \"title\", \"abstract\" et \"text\" respectivement."
   ]
  },
  {
   "cell_type": "code",
   "execution_count": 38,
   "metadata": {},
   "outputs": [],
   "source": [
    "# TODO\n",
    "# END TODO"
   ]
  },
  {
   "cell_type": "markdown",
   "metadata": {},
   "source": [
    "> Sortie attendue pour chaque dataframe préparé\n",
    "<div>\n",
    "<style scoped>\n",
    "    .dataframe tbody tr th:only-of-type {\n",
    "        vertical-align: middle;\n",
    "    }\n",
    "\n",
    "    .dataframe tbody tr th {\n",
    "        vertical-align: top;\n",
    "    }\n",
    "\n",
    "    .dataframe thead th {\n",
    "        text-align: right;\n",
    "    }\n",
    "</style>\n",
    "<table border=\"1\" class=\"dataframe\">\n",
    "  <thead>\n",
    "    <tr style=\"text-align: right;\">\n",
    "      <th></th>\n",
    "      <th>id</th>\n",
    "      <th>gold standard passage</th>\n",
    "      <th>top_1</th>\n",
    "      <th>top_3</th>\n",
    "      <th>top_5</th>\n",
    "    </tr>\n",
    "  </thead>\n",
    "  <tbody>\n",
    "    <tr>\n",
    "      <th>0</th>\n",
    "      <td>0</td>\n",
    "      <td>[31715818]</td>\n",
    "      <td>0</td>\n",
    "      <td>0;0;0</td>\n",
    "      <td>0;0;0;0;0</td>\n",
    "    </tr>\n",
    "    <tr>\n",
    "      <th>1</th>\n",
    "      <td>2</td>\n",
    "      <td>[13734012]</td>\n",
    "      <td>0</td>\n",
    "      <td>0;0;0</td>\n",
    "      <td>0;0;0;0;0</td>\n",
    "    </tr>\n",
    "    <tr>\n",
    "      <th>2</th>\n",
    "      <td>4</td>\n",
    "      <td>[22942787]</td>\n",
    "      <td>0</td>\n",
    "      <td>0;0;0</td>\n",
    "      <td>0;0;0;0;0</td>\n",
    "    </tr>\n",
    "  </tbody>\n",
    "</table>\n",
    "</div>"
   ]
  },
  {
   "cell_type": "markdown",
   "metadata": {},
   "source": [
    "##### 2.3.4 Implémentation de la fonction \"_fill_results_\" (2 points)\n",
    "\n",
    "Vous devez maintenant implémenter la fonction \"_fill_results_\" qui remplit les dataframes préparés dans l'étape précédente en utilisant les resultats de recherche de document.\n",
    "Cette fonction prend les arguments suivant: \n",
    "- \"_results_\" : matrice contenant les valeurs de similarite des affirmations et des documents\n",
    "- \"_results_texts_df_\" : Dataframe contenant les affirmations ainsi que les colonnes \"top_1\", \"top_3\", \"top_5\" où doivent être mis les top-n documents les plus pertinents.\n",
    "\n",
    "Les deux arguments contiennent le même nombre d'éléments et pour le même indice, font référence à la même affirmation."
   ]
  },
  {
   "cell_type": "code",
   "execution_count": 39,
   "metadata": {},
   "outputs": [],
   "source": [
    "# TODO\n",
    "# END TODO"
   ]
  },
  {
   "cell_type": "markdown",
   "metadata": {
    "id": "EqRUGA9D9xoI"
   },
   "source": [
    "##### 2.3.5 Exécution des fonctions \"_rank_texts_\" et fill_results(2 points)\n",
    "\n",
    "Exécutez maintenant votre fonction \"_rank_texts_\" sur toutes les affirmations (claims) et toutes les représentations de documents (title, abstract, text) en mettant les résultats dans les variables \"results_texts\", \"results_titles\" et \"results_abstracts\". Ensuite appelez la fonction \"_fill_results_\" qui remplit les dataframes \"_results_titles_df_\", \"_results_abstracts_df_\", et \"_results_texts_df_\" contenant les résultats de recheche de documents."
   ]
  },
  {
   "cell_type": "code",
   "execution_count": 40,
   "metadata": {},
   "outputs": [],
   "source": [
    "# TODO\n",
    "# END TODO"
   ]
  },
  {
   "cell_type": "markdown",
   "metadata": {},
   "source": [
    "##### 2.3.6 Enregistrement des dataframes \n",
    "\n",
    "On enregistre les dataframes dans des fichiers .csv."
   ]
  },
  {
   "cell_type": "code",
   "execution_count": 41,
   "metadata": {},
   "outputs": [],
   "source": [
    "# TODO\n",
    "# END TODO"
   ]
  },
  {
   "cell_type": "markdown",
   "metadata": {
    "id": "4qWHRy8oZvOt"
   },
   "source": [
    "##### 2.3.7 Implémentation de la fonction \"_show_top_n_passages_\" (3 points)\n",
    "\n",
    "Vous devez maintenant implémenter une fonction \"_show_top_n_passages_\" qui affiche le top-n ainsi que le texte (document) attendu pour une affirmation donnée. Ici on considère que document est representé par \"_text_\" donc la fusion du titre (\"_title_\") et du résumé (\"_abstract_\")"
   ]
  },
  {
   "cell_type": "code",
   "execution_count": 42,
   "metadata": {
    "id": "-l9sKrgC-Sq7"
   },
   "outputs": [],
   "source": [
    "# TODO\n",
    "# END TODO"
   ]
  },
  {
   "cell_type": "markdown",
   "metadata": {},
   "source": [
    "##### 2.3.8 Affichage (1 point)\n",
    "\n",
    "Appliquez cette fonction sur l'affirmation ayant pour identifiant 211 et affichez le top-5 des documents les plus pertinents retrouvés."
   ]
  },
  {
   "cell_type": "code",
   "execution_count": 43,
   "metadata": {},
   "outputs": [],
   "source": [
    "# TODO\n",
    "# END TODO"
   ]
  },
  {
   "cell_type": "markdown",
   "metadata": {},
   "source": [
    "##### 2.3.9 Évaluation (3 points)\n",
    "\n",
    "Vous devez maintenant implémenter la fonction \"_evaluate_\" qui, à partir des colonnes *Gold standard passage* et de vos top-N respectifs, calcule la précision top-N (N=1,3,5) sur l’ensemble de données en paramètre et l’affiche. \n",
    "\n",
    "Cette précision connue sous le nom \"precision at k (precision@k)\" se calcule de la manière suivante:\n",
    "\n",
    "\n",
    "$$\n",
    "\\text{precision@k} = \\frac{\\text{nombre d'éléments corrects}}{\\text{nombre total d'éléments k retrouvés}}\n",
    "$$\n",
    "\n",
    "\n",
    "Veillez à ce que la fonction soit générique. "
   ]
  },
  {
   "cell_type": "code",
   "execution_count": 44,
   "metadata": {},
   "outputs": [],
   "source": [
    "# TODO\n",
    "# END TODO"
   ]
  },
  {
   "cell_type": "markdown",
   "metadata": {},
   "source": [
    "##### 2.3.10 Affichage (1 point)\n",
    "\n",
    "Appliquez cette fonction pour calculer la précision des documents retrouvés en utilisant les titres (\"_title_\"), les résumés (\"_abstract_\") et la fusion des deux (\"_text_\")."
   ]
  },
  {
   "cell_type": "code",
   "execution_count": 45,
   "metadata": {},
   "outputs": [],
   "source": [
    "# TODO\n",
    "# END TODO"
   ]
  },
  {
   "cell_type": "markdown",
   "metadata": {},
   "source": [
    "##### 2.3.11 Graphique (2 points)\n",
    "\n",
    "Tracez un graphique des valeurs de précisions des documents retrouvés (\"__title__\", \"__abstract__\", \"__text__\") pour différents N (1,3,5)."
   ]
  },
  {
   "cell_type": "code",
   "execution_count": 46,
   "metadata": {},
   "outputs": [],
   "source": [
    "# TODO\n",
    "# END TODO"
   ]
  },
  {
   "cell_type": "markdown",
   "metadata": {
    "id": "vI_2JXRxAygz"
   },
   "source": [
    "### 3 Amélioration avec BM25 (20 points)"
   ]
  },
  {
   "cell_type": "markdown",
   "metadata": {},
   "source": [
    "BM25 (Best Matching 25) est un algorithme de recherche utilisé pour évaluer la pertinence des documents par rapport à une requête. Basé sur le modèle de récupération d'informations probabilistes, BM25 calcule un score de pertinence en tenant compte de la fréquence des termes de la requête dans chaque document et dans le corpus global mais aussi de la longueur des documents. \n",
    "\n",
    "BM25 est pertinent pour la recherche d'information car il offre un bon équilibre entre précision et rappel, il gère efficacement de grandes collections de documents et permet des ajustements pour différents types de corpus. Il est largement utilisé dans les moteurs de recherche et les systèmes de recommandation.\n",
    "\n",
    "Dans cette partie on vous demande de la tester au moyen de la librairie rank_bm25 pour cette tâche de recherche de texte qui justifie ou contredit une affirmation donnée. Vous allez utiliser le corpus et les affirmations et procéder comme indiqué dans la suite."
   ]
  },
  {
   "cell_type": "markdown",
   "metadata": {},
   "source": [
    "##### 3.1 Initialisation du modèle BM25 (3 points)\n",
    "Réutilisez les variables \"claims_preprocessed_joined\", \"texts_preprocessed_joined\", \"titles_preprocessed_joined\" et \"abstract_preprocessed_joined\" définies à la question `2.2.1` pour initialiser les modèles BM25 pour les documents (\"__titles__\", \"__abstracts__\" et \"__text__\"). Il faudra transformer chaque séquence (dont les jetons étaient joints pour former une seule chaîne) en une liste de jetons. Vous utiliserez la classe \"_BM250kapi_\" à ce niveau. "
   ]
  },
  {
   "cell_type": "code",
   "execution_count": 47,
   "metadata": {},
   "outputs": [],
   "source": [
    "# TODO\n",
    "# END TODO"
   ]
  },
  {
   "cell_type": "markdown",
   "metadata": {},
   "source": [
    "##### 3.2 Utilisation du modèle BM25 (5 points)\n",
    "\n",
    "Retrouvez les identifiants des documents pour les cinq meilleures correspondances de \"_title_\", de \"_abstract_\" et de \"_text_\" en utilisant le score BM25 pour chaque affirmation (claim) traitée, et mettez à jour les résultats avec les identifiants de documents correspondants."
   ]
  },
  {
   "cell_type": "code",
   "execution_count": 48,
   "metadata": {},
   "outputs": [],
   "source": [
    "# TODO\n",
    "# END TODO"
   ]
  },
  {
   "cell_type": "markdown",
   "metadata": {},
   "source": [
    "##### 3.3 Affichage des performances (4 points)\n",
    "\n",
    "Affichez les résultats des performances BM25 pour les configurations Top1, Top3 et Top5 avec \"_title_\", \"_asbtract_\" et \"_text_\"."
   ]
  },
  {
   "cell_type": "code",
   "execution_count": 49,
   "metadata": {},
   "outputs": [],
   "source": [
    "# TODO\n",
    "# END TODO"
   ]
  },
  {
   "cell_type": "markdown",
   "metadata": {},
   "source": [
    "##### 3.4 Graphique (4 points)\n",
    "\n",
    "Dans un même graphique, affichez les performances pour les deux modèles (TF-IDF et BM25) dans la recherche des documents (text, title et abstract) pour les affirmations."
   ]
  },
  {
   "cell_type": "code",
   "execution_count": 50,
   "metadata": {},
   "outputs": [],
   "source": [
    "# TODO\n",
    "# END TODO"
   ]
  },
  {
   "cell_type": "markdown",
   "metadata": {},
   "source": [
    "##### 3.5 Observation (4 points)\n",
    "\n",
    "Par rapport à vos résultats avec TF-IDF, observez-vous une amélioration ou une détérioration des performances, qu'est ce qui explique cela ? (Donnez au moins trois justifications)"
   ]
  },
  {
   "cell_type": "markdown",
   "metadata": {
    "id": "DVYiuH8aeB8x"
   },
   "source": [
    "## Livrables\n",
    "Vous devez remettre votre notebook sur Moodle et Gradescope en ipynb et pdf. Pour Gradescope vous devez associer les numéros de questions avec vos réponses dans le pdf grâce à l'outil que fournit Gradescope.\n",
    "\n",
    "\n",
    "## Évaluation \n",
    "Votre TP sera évalué selon les critères suivants :\n",
    "1. Exécution correcte du code et obtention des sorties attendues\n",
    "2. Réponses correctes aux questions d'analyse\n",
    "3. Qualité du code (noms significatifs, structure, performance, gestion d’exception, etc.)\n",
    "4. Commentaires clairs et informatifs\n"
   ]
  }
 ],
 "metadata": {
  "colab": {
   "collapsed_sections": [
    "1tMX8go24rB_",
    "4ItqD8yL-utW",
    "0kzLIzqD-vp7",
    "VIRjMFlY-wHL",
    "R41oj9nI-wwi",
    "3FibZKYkHi06"
   ],
   "name": "TP2 solution.ipynb",
   "provenance": []
  },
  "kernelspec": {
   "display_name": "Python 3 (ipykernel)",
   "language": "python",
   "name": "python3"
  },
  "language_info": {
   "codemirror_mode": {
    "name": "ipython",
    "version": 3
   },
   "file_extension": ".py",
   "mimetype": "text/x-python",
   "name": "python",
   "nbconvert_exporter": "python",
   "pygments_lexer": "ipython3",
   "version": "3.11.5"
  }
 },
 "nbformat": 4,
 "nbformat_minor": 4
}
